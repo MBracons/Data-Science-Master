{
  "cells": [
    {
      "cell_type": "markdown",
      "metadata": {
        "id": "1da0e2c7"
      },
      "source": [
        "Programació per a la ciència de dades - PAC1\n",
        "============================\n",
        "\n",
        "En aquest Notebook trobareu un conjunt d'exercicis que es corresponen a la primera activitat d'evaluació contínua (PAC) de l'assignatura.\n",
        "\n",
        "Per a cada exercici, heu de tenir en consideració que:\n",
        "\n",
        "* **És necessari incloure comentaris** del vostre codi, que expliquin com s'ha implementat la solució del problema plantejat.\n",
        "* **És imprescindible** citar les referències consultades per a realitzar l'activitat. Es valorará que el codi proporcionat solucioni el problema proposat i que també la qualitat del codi (comentaris, legibilitat, claretat, ús de les estructures de dades adequades, bona nomenclatura de les variables i funcions, seguiment del PEP8, etc.).\n",
        "\n",
        "Veureu que cada una de les activitats té associada una puntuació, que indica el pes que té aquesta activitat sobre la nota final de la PAC.\n",
        "\n",
        "A més, totes les activitats tenen una etiqueta, que indica els recursos necessaris per a dur-la a terme. Hi ha 3 etiquetes:\n",
        "\n",
        "* <span style=\"font-family: Courier New; background-color: #82b74b; color: #000000; padding: 3px; \">SM</span>   **Només materials**: les eines necessàries per a realitzar l'activitat es poden trobar en els materials de l'assignatura (considerem també els materials de l'assignatura de Fonaments de programació, així com les lectures obligatòries de material extern que s'indiquen en els notebooks).  \n",
        "* <span style=\"font-family: Courier New; background-color: #ffcc5c; color: #000000; padding: 3px; \">EG</span>**Consulta Externa Guiada**: l'activitat pot requerir de l'ús d'eines que no es troben en els materials de l'assignatura, però l'enunciat conté indicacions d'on, o com, trobar la informació addicional necessària per a resoldre l'activitat.\n",
        "* <span style=\"font-family: Courier New; background-color: #f2ae72; color: #000000; padding: 3px; \">EI</span>**Consulta externa independient**: l'activitat pot requerir de fer ús d'eines que no es troben en els materials de l'assignatura, i que l'enunciat pot no incloure la descripció d'on o com trobar aquesta informació addicional. Serà necessari que l'estudiant busqui informació utilizant els recursos que s'han explicat a l'assignatura.\n",
        "\n",
        "És important tenir en compte que aquestes etiquetes no indiquen el nivell de dificultat de l'exercici, sinó que únicament la necessitat de consulta de documentació externa per a la seva resolució. A més, s'ha de recordar que les **etiquetes són informatives**, però es poden consultar referències externes sempre que es cregui necessari (encara que no s'indiqui explícitament) o que es pugui realitzar una activitat sense consultar cap tipus de documentació. Per exemple, per a resoldre una activitat que només requereix de materials de l'assignatura, es poden consultar referències externes si així es desitja, ja que tant pot ajudar per a la resolució del problema, com també per a ampliar-ne els coneixements.\n",
        "\n",
        "---\n",
        "\n",
        "## Abans de començar\n",
        "\n",
        "\n",
        "Llegiu atentament els paràgrafs que segueixen, relacionats amb l'originalitat en les activitats, abans de començar la PAC. Si us sorgeix qualsevol dubte us podeu dirigir al professor col·laborador de l'assignatura abans de continuar amb l'activitat.\n",
        "\n",
        "<div class=\"alert alert-block alert-success\"> La manca d'originalitat es produeix quan en una activitat apareix el contingut que no ha estat elaborat de forma individual per l'estudiant i no es referencia adequadament el seu origen. O bé quan, encara que el contingut extern estigui referenciat, aquest és tant extens que no és possible considerar a l'estudiant l'autor o autora de l'activitat.\n",
        "\n",
        "<br /><br />\n",
        "Així, alguns exemples de comportaments inadequats degut a la manca d'originalitat són:\n",
        "<ol>\n",
        "    <li> Crear la solució d'un exercici de la PAC en col·laboració entre diferents estudiants.</li>\n",
        "    <li> Incloure un exercici de la PAC que utiliza codi trobat a Internet sense citar-ne la font.</li>\n",
        "    <li> Compartir la vostra solució de la PAC amb altres estudiants de l'assignatura,</li>\n",
        "    </ol>\n",
        "</div>\n",
        "\n",
        "## Instruccions d'entrega\n",
        "\n",
        "Per a procedir a l'entrega de l'activitat és necessari realitzar els següents passos:\n",
        "\n",
        "1. Comprobeu que el notebook s'executa correctament a Google Colaboratory. És important que abans d'entregar la vostra PAC us assegureu que la versió final del codi s'executa correctament en la seva totalitat. Per tant, es recomana fer una execució complerta des de 0 del notebook, fent click a\n",
        "<i>\"Entorn d'execució i executar totes\",</i> i comprobant que totes les cel·les del notebook s'executen correctament.\n",
        "2. Confirmeu que sou els autors únics de la PAC i que aquesta inclou totes les cites a recursos externs que s'hagin utilizat per a el·laborar-la. Amb la finalitat de confirmar que sous els autors únics de l'activitat, afegiu el vostre nom complert a la cel·la següent.\n",
        "3. Entregeu el notebook corresponent a la resolució de la PAC a través del Llibre de qualificacions de l'aula. Podeu descarregar el notebook mitjançant\n",
        " <i> \"Arxiu, descarregar i descargar .ipynb\" </i>\n",
        "\n",
        "\n"
      ],
      "id": "1da0e2c7"
    },
    {
      "cell_type": "markdown",
      "metadata": {
        "id": "a9afaddc"
      },
      "source": [
        "<div class=\"alert alert-block alert-warning\">Jo, Marc Bracons Cucó, confirmo que he el·laborat de forma individual totes les activitats resoltes d'aquesta PAC, i que he inclòs les cites a totes les fonts externes que he utilizat per a resoldre les activitats.\n",
        "</div>"
      ],
      "id": "a9afaddc"
    },
    {
      "cell_type": "markdown",
      "metadata": {
        "id": "42367960"
      },
      "source": [
        "\n",
        "## Type hint\n",
        "\n",
        "Us recomanem resoldre aquesta PAC utilitzant type hints. Podeu entendre què són els type hints de Python com una solució formal per a indicar estèticament el tipus de valor dins el codi Python. Us recomanem la visualització del següent\n",
        "[vídeo](https://www.youtube.com/watch?v=j0dy8Q9VIPk) per a una introducció als type hints de Python, i per a entendre per què són interessants.\n",
        "\n",
        "**L'ús dels type hints a la resolució de la PAC es bonificarà amb 0.25 punts addicionals (per a obtenir tota la puntuació addicional, s'ha d'implementar els type hints de totes les funciones creades a la PAC). No és necessari que utilizeu els type hints en totes les variables, sinó només en les capçaleres de les funcions.**\n"
      ],
      "id": "42367960"
    },
    {
      "cell_type": "markdown",
      "metadata": {
        "id": "ab2db40d"
      },
      "source": [
        "##  Enunciat\n",
        "Els següents exercicis es realizaran utilitzant el dataset \"people.csv\" proporcionat conjuntament amb la PAC, i que contenen informació sobre diferents persones. Cada fila representa a una persona.\n",
        "\n",
        "Els camps del dataset són els següents:\n",
        "\n",
        "   - Index: identificador de registre ordenat ascendentement.\n",
        "   - User Id: Codi que identifica de forma unívoca a la persona.\n",
        "   - First Name: Nom de la persona.\n",
        "   - Last Name: Cognom de la persona.\n",
        "   - Sex: Sexe de la persona.\n",
        "   - Email: Correu electrònic de la persona.\n",
        "   - Phone: Telèfon de la persona.\n",
        "   - Date of Birth: Data de naixement de la persona.\n",
        "   - Job Title: Descripció curta de l'ofici de la persona.\n",
        "\n",
        "\n",
        "**IMPORTANT:** La càrrega del dataset s'ha de fer utilizant **rutes relatives**,\n",
        "heu de carregar el fitxer tenint en compte que treballeu en una màquina remota i que podeu pujar els fitxers a la mateixa ruta que aquest notebook.\n",
        "\n",
        "Per tant, heu de tenir en compte de pujar el fitxer .csv al vostre drive, juntament amb la còpia d'aquest fitxer de notebook que utilizareu per a resoldre els problemes.\n"
      ],
      "id": "ab2db40d"
    },
    {
      "cell_type": "markdown",
      "metadata": {
        "id": "dbc2d435"
      },
      "source": [
        "## Exercici 1\n",
        "\n",
        "Carregueu el dataset de manera que obtingueu un objecte de tipus dataframe.\n",
        "\n",
        "Un cop carregat el dataset aplicarem les següents modificacions.\n",
        "\n",
        "1. Consulteu el número de noms diferents.\n",
        "2. Convertir la columna data de naixement al format Dia/Mes/Any (dd/mm/aaaa)\n",
        "3. Les files que continguin el mateix Email, deixeu-ne només una. Elimineu totes les files que continguin aquest mateix Email, mantenint només el primer registre.\n",
        "4. Una vegada el·liminades les files, comprobeu que el nombre de registres totals coincideix amb el nombre de Emails diferents (realitza la casella de codi posterior a l'utilitzada per a implementar la solució, utilizant asserts)\n",
        "5. Alguns oficis estan escrits entre \". Elimineu el símbol \" de la columna ofici (Job Title) de tots els registres.\n",
        "6. Visualitza els 20 primers elements del dataset.\n",
        "\n",
        "Pista 1: Recordeu que podeu utilizar llibreries com 'pandas' per a carregar el conjunt de dades de manera senzilla i obtenir un dataframe.\n",
        "\n",
        "Pista 2: El type hint d'un dataframe és pd.DataFrame.\n",
        "\n",
        "**Al finalitzar aquest exercici, obtindrem un dataset amb les modificacions realizades. Aquest dataset l'utilizarem per als següents exercicis.**\n",
        "\n",
        "<span style=\"font-family: Courier New; background-color: #82b74b; color: #000000; padding: 3px; \">SM</span> **(2 punts)**"
      ],
      "id": "dbc2d435"
    },
    {
      "cell_type": "markdown",
      "metadata": {
        "id": "nwSGZUMNl7EP"
      },
      "source": [
        "<div style=\"background-color: #fcf2f2; border-color: #dfb5b4; border-left: 5px solid #dfb5b4; padding: 0.5em;\">\n",
        "<strong>Solució</strong>\n",
        "</div>"
      ],
      "id": "nwSGZUMNl7EP"
    },
    {
      "cell_type": "code",
      "execution_count": 1,
      "metadata": {
        "colab": {
          "base_uri": "https://localhost:8080/"
        },
        "id": "8cae893f",
        "outputId": "10095753-cf30-4408-f041-d9ca8bad5162"
      },
      "outputs": [
        {
          "output_type": "stream",
          "name": "stdout",
          "text": [
            "Mounted at /content/drive\n",
            "/content/drive/MyDrive/Colab_Notebooks/activity_1\n",
            "\u001b[0m\u001b[01;34mdata\u001b[0m/  ESP_PAC1.ipynb  PAC1_MarcBraconsCuco.ipynb  \u001b[01;34mpdf\u001b[0m/\n"
          ]
        }
      ],
      "source": [
        "#Muntem el google drive, fem un canvi de directori a la carpeta on hi ha l'activitat 1 i mirem si hi ha els arxius que toca\n",
        "from google.colab import drive\n",
        "drive.mount('/content/drive')\n",
        "\n",
        "%cd /content/drive/MyDrive/Colab_Notebooks/activity_1/\n",
        "%ls"
      ],
      "id": "8cae893f"
    },
    {
      "cell_type": "code",
      "execution_count": 2,
      "metadata": {
        "id": "WpB7NCfodmAB"
      },
      "outputs": [],
      "source": [
        "#llibreries\n",
        "import pandas as pd\n",
        "\n",
        "people = \"data/people.csv\"\n",
        "\n",
        "#obrim l'arxiu a partir de la ruta on s'executa el script\n",
        "df = pd.read_csv(people, header=0)"
      ],
      "id": "WpB7NCfodmAB"
    },
    {
      "cell_type": "code",
      "source": [
        "#Fem un vector amb els noms únics de la columna First Name\n",
        "vector_noms_unics = df['First Name'].unique()\n",
        "\n",
        "#Mirem la longitud del vector\n",
        "num_noms_unics = len(vector_noms_unics)\n",
        "print(f\"Hi ha {num_noms_unics} noms diferents.\")"
      ],
      "metadata": {
        "colab": {
          "base_uri": "https://localhost:8080/"
        },
        "id": "ZpSI8USehOda",
        "outputId": "cfb8f9d5-a885-4099-a580-d9faaf63f162"
      },
      "id": "ZpSI8USehOda",
      "execution_count": 3,
      "outputs": [
        {
          "output_type": "stream",
          "name": "stdout",
          "text": [
            "Hi ha 690 noms diferents.\n"
          ]
        }
      ]
    },
    {
      "cell_type": "code",
      "source": [
        "# Mirem la documentació oficial del mòdul datetime a la que es fa referència en la unitat 1, pàgina 50.\n",
        "df['Date of birth'] = pd.to_datetime(df['Date of birth'])\n",
        "df['Date of birth'] = df['Date of birth'].dt.strftime('%d/%m/%Y')\n",
        "\n",
        "print(df.iloc[0])"
      ],
      "metadata": {
        "colab": {
          "base_uri": "https://localhost:8080/"
        },
        "id": "x4tGdGSNi6Gl",
        "outputId": "01898440-5e1f-42ae-fb27-3433ecb7c917"
      },
      "id": "x4tGdGSNi6Gl",
      "execution_count": 4,
      "outputs": [
        {
          "output_type": "stream",
          "name": "stdout",
          "text": [
            "Index                                1\n",
            "User Id                5f10e9D33fC5f2b\n",
            "First Name                        Sara\n",
            "Last Name                      Mcguire\n",
            "Sex                             Female\n",
            "Email               tsharp@example.net\n",
            "Phone               (971)643-6089x9160\n",
            "Date of birth               17/08/1921\n",
            "Job Title        Editor, commissioning\n",
            "Name: 0, dtype: object\n"
          ]
        }
      ]
    },
    {
      "cell_type": "code",
      "source": [
        "# Fem servir drop de pandas, explicat a l'assignatura de 'Laboratori de Python i R'\n",
        "# activitat 3, Python for Data Science - Pandas Basics.pdf\n",
        "df = df.drop_duplicates(subset='Email', keep='first')"
      ],
      "metadata": {
        "id": "jHkkGX-kklU0"
      },
      "id": "jHkkGX-kklU0",
      "execution_count": 5,
      "outputs": []
    },
    {
      "cell_type": "code",
      "execution_count": 6,
      "metadata": {
        "id": "-Xl9G4UQuB0X",
        "colab": {
          "base_uri": "https://localhost:8080/"
        },
        "outputId": "3b47f796-bbe4-40ed-83d2-ba7e1df778a0"
      },
      "outputs": [
        {
          "output_type": "stream",
          "name": "stdout",
          "text": [
            "La comprovació ha estat exitosa: El nombre total de correus electrònics únics coincideix amb el nombre total de registres.\n"
          ]
        }
      ],
      "source": [
        "vector_emails_unics = df['Email']\n",
        "assert len(vector_emails_unics) == len(df) , \"The list and the total amount of Emails are not equal.\"\n",
        "print(\"La comprovació ha estat exitosa: El nombre total de correus electrònics únics coincideix amb el nombre total de registres.\")"
      ],
      "id": "-Xl9G4UQuB0X"
    },
    {
      "cell_type": "code",
      "source": [
        "# Per eliminar el simbol (\") farem servir la funció replace de la Unitat 1, pàgina 45\n",
        "df['Job Title'] = df['Job Title'].str.replace('\"', '')"
      ],
      "metadata": {
        "id": "6IzW3NmQHnKy"
      },
      "id": "6IzW3NmQHnKy",
      "execution_count": 7,
      "outputs": []
    },
    {
      "cell_type": "code",
      "source": [
        "# Visualització de les 20 primeres files del dataset\n",
        "print(df.head(20))"
      ],
      "metadata": {
        "colab": {
          "base_uri": "https://localhost:8080/"
        },
        "id": "iVDWRU2arTJH",
        "outputId": "2c93b7d7-51d8-4a48-9951-2a0c17e3d337"
      },
      "id": "iVDWRU2arTJH",
      "execution_count": 8,
      "outputs": [
        {
          "output_type": "stream",
          "name": "stdout",
          "text": [
            "    Index          User Id First Name   Last Name     Sex  \\\n",
            "0       1  5f10e9D33fC5f2b       Sara     Mcguire  Female   \n",
            "1       2  751cD1cbF77e005     Alisha      Hebert    Male   \n",
            "2       3  DcEFDB2D2e62bF9  Gwendolyn    Sheppard    Male   \n",
            "3       4  C88661E02EEDA9e   Kristine      Mccann  Female   \n",
            "4       5  fafF1aBDebaB2a6      Bobby     Pittman  Female   \n",
            "5       6  BdDb6C8Af309202     Calvin      Ramsey  Female   \n",
            "6       7  FCdfFf08196f633     Collin     Allison    Male   \n",
            "7       8  356279dAa0F7CbD   Nicholas      Branch    Male   \n",
            "8       9  F563CcbFBfEcf5a       Emma    Robinson  Female   \n",
            "9      10  f2dceFc00F62542      Pedro     Cordova    Male   \n",
            "10     11  FEf0Cc496EB4bC0       Jean     Aguilar    Male   \n",
            "11     12  Af087410aB0c186     Dwayne  Hutchinson  Female   \n",
            "12     13  057EE455E68fe9E    Bradley   Velazquez    Male   \n",
            "13     14  BEA2b99B1efBFAA   Samantha        Moon    Male   \n",
            "14     15  33730caFF13Ff4F    Clayton    Erickson    Male   \n",
            "15     16  Fec6b46586ad5ab    Bradley      Bright  Female   \n",
            "16     17  d8CF9ED8c6E5b0b     Ernest     Maynard    Male   \n",
            "17     18  b82C14f184d0cf6        Joe      Larsen  Female   \n",
            "18     19  F8E52fAaA87Cb2D     Alfred     Barrera  Female   \n",
            "19     20  aaB0b03cFED1CeE        Jon      Wagner  Female   \n",
            "\n",
            "                          Email                  Phone Date of birth  \\\n",
            "0            tsharp@example.net     (971)643-6089x9160    17/08/1921   \n",
            "1    vincentgarrett@example.net  +1-114-355-1841x78347    28/06/1969   \n",
            "2   mercadojonathan@example.com             9017807728    25/09/1915   \n",
            "3         lindsay55@example.com  +1-607-333-9911x59088    27/07/1978   \n",
            "4     blevinsmorgan@example.com             3739847538    17/11/1989   \n",
            "5         loretta85@example.com  001-314-829-5014x1792    31/08/2017   \n",
            "6           yvaughn@example.net          (314)591-7413    21/11/1979   \n",
            "7        greerjimmy@example.net        +1-667-666-5867    21/01/2006   \n",
            "8    charleshiggins@example.org      166-234-6882x7457    19/03/2009   \n",
            "9          leslie08@example.com     (389)824-3204x8287    17/06/2008   \n",
            "10        raymond24@example.org     (285)029-1604x5466    28/10/1978   \n",
            "11        preston28@example.net      (233)811-1749x417    22/06/1914   \n",
            "12         joycejay@example.net          (831)049-2030    23/12/1906   \n",
            "13    wesleymullins@example.net             7788378816    21/06/1978   \n",
            "14           nterry@example.net     990-374-0521x33156    07/02/1959   \n",
            "15      devinherman@example.net             2534420151    27/01/1992   \n",
            "16     tommywoodard@example.com      355-863-2311x6315    23/11/2017   \n",
            "17        brianna43@example.org      (566)667-8566x109    18/06/2009   \n",
            "18       kristina40@example.net             4735530004    13/11/1924   \n",
            "19         meagan99@example.org   001-940-671-0693x345    06/01/1934   \n",
            "\n",
            "                                           Job Title  \n",
            "0                              Editor, commissioning  \n",
            "1                                 Broadcast engineer  \n",
            "2                                   Industrial buyer  \n",
            "3                              Multimedia specialist  \n",
            "4                  Planning and development surveyor  \n",
            "5                           Therapeutic radiographer  \n",
            "6                                      Administrator  \n",
            "7                                  Fisheries officer  \n",
            "8                                      Haematologist  \n",
            "9                                     Phytotherapist  \n",
            "10             Engineer, control and instrumentation  \n",
            "11                          Teacher, early years/pre  \n",
            "12                                     Airline pilot  \n",
            "13                              Intelligence analyst  \n",
            "14                                  Paediatric nurse  \n",
            "15                            Fitness centre manager  \n",
            "16                   Accountant, chartered certified  \n",
            "17          Geographical information systems officer  \n",
            "18  Administrator, charities/voluntary organisations  \n",
            "19                            Engineer, aeronautical  \n"
          ]
        }
      ]
    },
    {
      "cell_type": "markdown",
      "metadata": {
        "id": "d6718043"
      },
      "source": [
        "## Exercici 2"
      ],
      "id": "d6718043"
    },
    {
      "cell_type": "markdown",
      "metadata": {
        "id": "9c65f05b"
      },
      "source": [
        "2.1 Creeu un diccionari utilizant Dictionary Comprehensions tal que:\n",
        "\n",
        "   * Les seves claus corresponguin al nom de persona (**First Name**).  \n",
        "   * Els seus valors corresponguin a quants registres contenen aquest nom.\n",
        "\n",
        "2.2 Mostreu les 15 primeres entrades del diccionari (clau i valor), una vegada l'hem ordenat (de major a menor) segons el nombre de files del dataframe que contenen cada valor.\n",
        "\n",
        "<span style=\"font-family: Courier New; background-color: #82b74b; color: #000000; padding: 3px; \">SM</span> **(1 punt)**"
      ],
      "id": "9c65f05b"
    },
    {
      "cell_type": "markdown",
      "metadata": {
        "id": "9e7891a2"
      },
      "source": [
        "<div style=\"background-color: #fcf2f2; border-color: #dfb5b4; border-left: 5px solid #dfb5b4; padding: 0.5em;\">\n",
        "<strong>Solució</strong>\n",
        "</div>"
      ],
      "id": "9e7891a2"
    },
    {
      "cell_type": "code",
      "execution_count": 9,
      "metadata": {
        "id": "70c81549"
      },
      "outputs": [],
      "source": [
        "# Necessitem saber el nombre de cops que es repeteix cada nom\n",
        "noms_counts = df['First Name'].value_counts()\n",
        "\n",
        "# Fem el diccionari\n",
        "diccionari_noms = {nom: count for nom, count in noms_counts.items()}"
      ],
      "id": "70c81549"
    },
    {
      "cell_type": "code",
      "source": [
        "# Ordenem els noms de major a menor:\n",
        "# - diccionari_noms.items retorna parells (nom, freq)\n",
        "# - sorted retorna la llista ordenada dels parells\n",
        "# - key=lambda item: item[1] indica com es fa la comparació, ordena els parells en funció de freq dels noms\n",
        "# - reverse = True es fa servir per a ordenar de major a menor\n",
        "diccionari_noms_ordenat = dict(sorted(diccionari_noms.items(), key=lambda item: item[1], reverse=True))\n",
        "\n",
        "# Visualitzem les 15 primeres entrades\n",
        "primeres_entrades = list(diccionari_noms_ordenat.items())[:15] #obtenció\n",
        "for nom, freq in primeres_entrades:\n",
        "  print(f\"{nom}: {freq}\")"
      ],
      "metadata": {
        "colab": {
          "base_uri": "https://localhost:8080/"
        },
        "id": "YgFXAiVLNBQH",
        "outputId": "f0e073d3-6395-45e7-a97a-4573f560fe11"
      },
      "id": "YgFXAiVLNBQH",
      "execution_count": 10,
      "outputs": [
        {
          "output_type": "stream",
          "name": "stdout",
          "text": [
            "Chris: 28\n",
            "Martin: 28\n",
            "Brenda: 26\n",
            "Tonya: 26\n",
            "Sherri: 25\n",
            "Toni: 25\n",
            "Mary: 24\n",
            "Jasmine: 24\n",
            "Madison: 24\n",
            "Ariel: 24\n",
            "Janice: 24\n",
            "Casey: 23\n",
            "Brendan: 23\n",
            "Paula: 23\n",
            "Marisa: 23\n"
          ]
        }
      ]
    },
    {
      "cell_type": "markdown",
      "metadata": {
        "id": "171c50a9"
      },
      "source": [
        "## Exercici 3\n",
        "Utilitzant el dataframe obtingut a l'Exercici 1\n",
        "\n",
        "3.1 creeu una funció tal que obtingui com a paràmetres d'entrada:\n",
        "* L'estructura de dades (dataframe obtingut a l'Ejercicio 1)\n",
        "* User Id\n",
        "* Sexe\n",
        "\n",
        "La funció ens retornarà un **booleà** que indicarà si la persona (User I) coincideix amb el sexe especificat en el paràmetre d'entrada.\n",
        "\n",
        "3.2. Probeu la vostra funció per la persona ***33730caFF13Ff4F*** i mostreu el resultat per pantalla visualitzant el nom de la persona i especificant si el paràmetre d'entrada coincideix o no amb el sexe. Per exemple: \"El sexe especificat en el paràmetre d'entrada per a Kirsten és correcte\".\n",
        "\n",
        "A la cel·la posterior a la solució plantejada, realitzeu la prova de funcionament mitjançant un assert.\n",
        "\n",
        "<span style=\"font-family: Courier New; background-color: #82b74b; color: #000000; padding: 3px; \">SM</span> **(1 punt)**"
      ],
      "id": "171c50a9"
    },
    {
      "cell_type": "markdown",
      "metadata": {
        "id": "b75227e2"
      },
      "source": [
        "<div style=\"background-color: #fcf2f2; border-color: #dfb5b4; border-left: 5px solid #dfb5b4; padding: 0.5em;\">\n",
        "<strong>Solució</strong>\n",
        "</div>"
      ],
      "id": "b75227e2"
    },
    {
      "cell_type": "code",
      "execution_count": 11,
      "metadata": {
        "id": "d7410381"
      },
      "outputs": [],
      "source": [
        "def comprovacio_sexe(dataFrame: pd.DataFrame, id: str, sexe: str) -> bool:\n",
        "  \"\"\"\n",
        "  Funció que retornarà True si la persona (User I) coincideix amb el sexe especificat en el paràmetre d'entrada.\n",
        "  False si no coincideix o no existeis el User Id a dataFrame\n",
        "  \"\"\"\n",
        "  # buscar fila del id\n",
        "  fila_usuari = dataFrame[dataFrame['User Id'] == id]\n",
        "\n",
        "  # si no hi ha fila -> False\n",
        "  if fila_usuari.empty:\n",
        "    return False\n",
        "\n",
        "  # mirem si 'Sex' conicideix amb 'sexe'\n",
        "  return (fila_usuari['Sex'].values[0] == sexe)"
      ],
      "id": "d7410381"
    },
    {
      "cell_type": "code",
      "execution_count": 12,
      "metadata": {
        "id": "XqMMAcGHuO5n"
      },
      "outputs": [],
      "source": [
        "# Test\n",
        "dataFrame = df\n",
        "id = '5f10e9D33fC5f2b'\n",
        "sexe = 'Female'\n",
        "assert comprovacio_sexe(dataFrame, id, sexe) == True, \"No coincideix\"\n"
      ],
      "id": "XqMMAcGHuO5n"
    },
    {
      "cell_type": "markdown",
      "metadata": {
        "id": "lEz1Yx4oK0Pm"
      },
      "source": [
        "## Exercici 4\n",
        "Utilitzant el dataframe obtingut a l'Exercici 1\n",
        "\n",
        "4.1 Creeu una funció tal que obtingui com a paràmetre d'entrada:\n",
        "* Nom del camp (columna) a tractar dins el dataframe.\n",
        "* Valor de repetició.\n",
        "\n",
        "La funció imprimirà el **First name** dels registres trobats i retornarà un valor **enter** que indicarà el nombre de repeticions del \"valor de repetició\" del paràmetre d'entrada.\n",
        "\n",
        "Imprimiu el resultat amb el format: \"La paraula X de la columna Y, apareix N vegades\".\n",
        "Realitzeu la prova per a la columna \"Date of birth\" i el valor \"1921-08-17\".\n",
        "\n",
        "<span style=\"font-family: Courier New; background-color: #82b74b; color: #000000; padding: 3px; \">SM</span> **(1.5 punts)**"
      ],
      "id": "lEz1Yx4oK0Pm"
    },
    {
      "cell_type": "markdown",
      "metadata": {
        "id": "OYgRt8E_nMAq"
      },
      "source": [
        "<div style=\"background-color: #fcf2f2; border-color: #dfb5b4; border-left: 5px solid #dfb5b4; padding: 0.5em;\">\n",
        "<strong>Solució</strong>\n",
        "</div>"
      ],
      "id": "OYgRt8E_nMAq"
    },
    {
      "cell_type": "code",
      "execution_count": 14,
      "metadata": {
        "id": "f8e97TGiKyL1",
        "colab": {
          "base_uri": "https://localhost:8080/"
        },
        "outputId": "0bd50a1d-6ab4-4b1b-bd8d-98e1a640f6ae"
      },
      "outputs": [
        {
          "output_type": "stream",
          "name": "stdout",
          "text": [
            "First Names amb valor repetit:\n",
            "Sara\n",
            "Sheri\n",
            "La paraula 17/08/1921 de la columna Date of birth, apareix 2 vegades\n",
            "No hi ha repeticions per aquest valor\n",
            "La paraula 1921-08-17 de la columna Date of birth, apareix 0 vegades\n"
          ]
        }
      ],
      "source": [
        "def buscar_repeticions(columna: str, valor_repetit: str) -> int:\n",
        "  # filtra dataframe per files que tenen valor_repetit en la columna\n",
        "  df_funcio = df[df[columna] == valor_repetit]\n",
        "\n",
        "  # si df_funcio no és buit imprimeix els noms, si és buit imprimeix un missatge\n",
        "  if not df_funcio.empty:\n",
        "    print(\"First Names amb valor repetit:\")\n",
        "    for nom in df_funcio['First Name']:\n",
        "      print(nom)\n",
        "  else:\n",
        "    print(\"No hi ha repeticions per aquest valor\")\n",
        "\n",
        "  # retorna el nombre de repeticions\n",
        "  repeticions = len(df_funcio)\n",
        "\n",
        "  # imprimeix el resultat en el format demanat\n",
        "  print(f\"La paraula {valor_repetit} de la columna {columna}, apareix {repeticions} vegades\")\n",
        "\n",
        "  return repeticions\n",
        "\n",
        "#test\n",
        "test1 = buscar_repeticions('Date of birth', '17/08/1921')\n",
        "test2 = buscar_repeticions('Date of birth', '1921-08-17')"
      ],
      "id": "f8e97TGiKyL1"
    },
    {
      "cell_type": "markdown",
      "metadata": {
        "id": "5b89f592"
      },
      "source": [
        "## Exercici 5\n",
        "\n",
        "Utilitzant el Dataset obtingut a l'exercici 1, us demanem el següent:\n",
        "\n",
        "5.1. Creeu una llista amb tots els oficis (Job Title) de les persones sense repeticions.\n",
        "\n",
        "5.2. Ordeneu la llista (alfabèticament, l'ordre establert per Python ja és suficient) i mostreu els 10 primers valors.\n",
        "\n",
        "5.3. Creeu un diccionari (es valorarà l'ús de Dict Comprehension) tal que:\n",
        "\n",
        "   * Les claus corresponguin a First Name.\n",
        "    \n",
        "   * Els valors corresponguin al nombre de coneixements que conté el (Job Title). Considerem que una persona té varis coneixements a (Job Title), separats per comes.   \n",
        "\n",
        "\n",
        "5.4 De l'apartat anterior, mostreu degudament formatat quin és el nom de la persona (First Name) que conté un nombre major de coneixements i quants coneixements té.\n",
        "\n",
        "Utilitzeu Dictionary Comprehensions.\n",
        "\n",
        "<span style=\"font-family: Courier New; background-color: #82b74b; color: #000000; padding: 3px; \">SM</span> **(1.5 punts)**"
      ],
      "id": "5b89f592"
    },
    {
      "cell_type": "markdown",
      "metadata": {
        "id": "737d6295"
      },
      "source": [
        "<div style=\"background-color: #fcf2f2; border-color: #dfb5b4; border-left: 5px solid #dfb5b4; padding: 0.5em;\">\n",
        "<strong>Solució</strong>\n",
        "</div>"
      ],
      "id": "737d6295"
    },
    {
      "cell_type": "code",
      "execution_count": 15,
      "metadata": {
        "id": "491f72f2",
        "colab": {
          "base_uri": "https://localhost:8080/"
        },
        "outputId": "90fa71b0-fd85-40b7-e5cf-ee7a2abfe5b8"
      },
      "outputs": [
        {
          "output_type": "stream",
          "name": "stdout",
          "text": [
            "Academic librarian\n",
            "Accommodation manager\n",
            "Accountant, chartered\n",
            "Accountant, chartered certified\n",
            "Accountant, chartered management\n",
            "Accountant, chartered public finance\n",
            "Accounting technician\n",
            "Actor\n",
            "Actuary\n",
            "Acupuncturist\n"
          ]
        }
      ],
      "source": [
        "# llista amb els oficis sense repeticions\n",
        "oficis_unics = df['Job Title'].unique() # obtenció\n",
        "oficis_unics = list(oficis_unics) # llista\n",
        "oficis_unics.sort() # ordena alfabeticament\n",
        "\n",
        "# mostrar primers 10 oficis\n",
        "primers_deu_oficis = oficis_unics[:10] # agafem 10 primers elements (comença per 0)\n",
        "for ofici in primers_deu_oficis:\n",
        "  print(ofici)"
      ],
      "id": "491f72f2"
    },
    {
      "cell_type": "code",
      "source": [
        "#creació del diccionari\n",
        "\n",
        "# amb split separem els oficis entre comes (,) i fem len per saber el nombre d'oficis\n",
        "diccionari_noms_oficis = {}\n",
        "for idx, fila in df.iterrows():\n",
        "  # nombre d'oficis per la fila\n",
        "  num_oficis = len([ofici.strip() for ofici in fila['Job Title'].split(',')])\n",
        "\n",
        "  # com First Name no és únic, si n'hi ha més d'un es crea una nova entrada del diccionari\n",
        "  if fila['First Name'] in diccionari_noms_oficis:\n",
        "    diccionari_noms_oficis[fila['First Name']].append(num_oficis)\n",
        "  else:\n",
        "    diccionari_noms_oficis[fila['First Name']] = [num_oficis]\n",
        "\n",
        "# test\n",
        "print(diccionari_noms_oficis.get(\"Marc\"))"
      ],
      "metadata": {
        "colab": {
          "base_uri": "https://localhost:8080/"
        },
        "id": "wVdhU5yjxfF-",
        "outputId": "fd7d5c68-05d7-4ed8-e73b-c695b27ed3dc"
      },
      "id": "wVdhU5yjxfF-",
      "execution_count": 16,
      "outputs": [
        {
          "output_type": "stream",
          "name": "stdout",
          "text": [
            "[1, 1, 1, 1, 1, 2, 1, 1, 1, 1, 2]\n"
          ]
        }
      ]
    },
    {
      "cell_type": "code",
      "source": [
        "# busequem el valor màxim del diccionari\n",
        "max_coneixements = max(diccionari_noms_oficis.values())\n",
        "\n",
        "# obtenim el First Name\n",
        "nom_max_oficis = [nom for nom, count in diccionari_noms_oficis.items() if count == max_coneixements]\n",
        "\n",
        "# imprimim els resultats\n",
        "for nom in nom_max_oficis:\n",
        "  # busquem els coneixements de l'usuari\n",
        "  coneixements = df[df['First Name'] == nom]['Job Title'].iloc[0]\n",
        "  print(f\"{nom} té el major nombre de coneixements: {max(max_coneixements)}. Els coneixements son: {coneixements}\")"
      ],
      "metadata": {
        "colab": {
          "base_uri": "https://localhost:8080/"
        },
        "id": "Jxm7mpYRywDh",
        "outputId": "b2868d23-c85e-4689-ed86-0831e87271ec"
      },
      "id": "Jxm7mpYRywDh",
      "execution_count": 17,
      "outputs": [
        {
          "output_type": "stream",
          "name": "stdout",
          "text": [
            "Kerry té el major nombre de coneixements: 3. Els coneixements son: Psychotherapist, dance movement, physioterapist\n"
          ]
        }
      ]
    },
    {
      "cell_type": "markdown",
      "metadata": {
        "id": "a6e23dff"
      },
      "source": [
        "## Exercici 6\n",
        "\n",
        "En aquest exercici practicareu expressions regulars, per a fer-ho:\n",
        "\n",
        "6.1. Trobeu tots els registres tals que dins del seu número de telèfon contingui un prefix de país entrat. Els prefixos estan dividits per els símbols '()'. Interpretem que si apareix el símbol '(' ja es pressuposa un prefix sense esperar que es tanqui el parèntesis.\n",
        "\n",
        "   * Mostreu per pantalla quants registres amb prefix al telèfon s'han trobat.   \n",
        "    \n",
        "   * Mostreu per pantalla el nombre d'usuari i el telèfon dels registres trobats.   \n",
        "   \n",
        "6.2. Trobeu totes les persones que a la columna del nom (First Name) sigui un nom compost. És a dir, que el seu nom contingui més d'una paraula.\n",
        "\n",
        "   * Mostra per pantalla quantes persones hem trobat.\n",
        "   \n",
        "   * Visualitza els noms comportos de totes les persones.\n",
        "   \n",
        "   \n",
        "<span style=\"font-family: Courier New; background-color: #82b74b; color: #000000; padding: 3px; \">SM</span> **(1 punt)**"
      ],
      "id": "a6e23dff"
    },
    {
      "cell_type": "markdown",
      "metadata": {
        "id": "c0be00e7"
      },
      "source": [
        "<div style=\"background-color: #fcf2f2; border-color: #dfb5b4; border-left: 5px solid #dfb5b4; padding: 0.5em;\">\n",
        "<strong>Solució</strong>\n",
        "</div>"
      ],
      "id": "c0be00e7"
    },
    {
      "cell_type": "code",
      "execution_count": 18,
      "metadata": {
        "id": "97656326",
        "colab": {
          "base_uri": "https://localhost:8080/"
        },
        "outputId": "27f0a234-d3a6-4d87-8630-0a2eff1615ac"
      },
      "outputs": [
        {
          "output_type": "stream",
          "name": "stdout",
          "text": [
            "Hi ha 1977 registres amb prefix\n",
            "              User Id                Phone\n",
            "0     5f10e9D33fC5f2b   (971)643-6089x9160\n",
            "6     FCdfFf08196f633        (314)591-7413\n",
            "9     f2dceFc00F62542   (389)824-3204x8287\n",
            "10    FEf0Cc496EB4bC0   (285)029-1604x5466\n",
            "11    Af087410aB0c186    (233)811-1749x417\n",
            "...               ...                  ...\n",
            "9973  6eCECaBdb3FD4FC        (162)191-6599\n",
            "9980  9bbA7743D80C2D9        (834)912-4100\n",
            "9986  49C0BCd75Beff63    (608)901-2046x966\n",
            "9988  bAcc5aC4AEeF920  (954)536-6270x85960\n",
            "9995  D66F0e4EdFc35e6   (455)476-4044x5755\n",
            "\n",
            "[1977 rows x 2 columns]\n"
          ]
        }
      ],
      "source": [
        "# fem una màscara que ens donarà True si l'usuari té prefix i False en cas contrari\n",
        "# explicació: r'\\(\\d+'\n",
        "# - r indica que és una cadena \"raw\"\n",
        "# - \\( es fa servir per indicar que el que \"(\" és un carcàcter literal\n",
        "# - \\d indica que després de \"(\" hi ha un número\n",
        "mascara_registres = df['Phone'].str.contains(r'\\(\\d+')\n",
        "\n",
        "# apliquem la màscara\n",
        "df_registres_prefix = df[mascara_registres]\n",
        "\n",
        "# per saber el nombre de registres amb prefix fem una suma amb els valors True de la màscara\n",
        "count = mascara_registres.sum()\n",
        "print(f'Hi ha {count} registres amb prefix')\n",
        "\n",
        "# filtrem amb la màscara i seleccionem les columnes User Id i Phone\n",
        "consulta_df = df.loc[mascara_registres, ['User Id', 'Phone']]\n",
        "print(consulta_df)"
      ],
      "id": "97656326"
    },
    {
      "cell_type": "code",
      "source": [
        "# fem servir un mètode semblant al de l'apartat anterior\n",
        "# - \\s indica espais en blanc (espais, tabuladors, salt de linia, etc)\n",
        "mascara_noms_compostos = df['First Name'].str.contains(r'\\s')\n",
        "\n",
        "df_noms_compostos = df[mascara_noms_compostos]\n",
        "\n",
        "# per saber el nombre de registres amb prefix fem una suma amb els valors True de la màscara\n",
        "count = mascara_noms_compostos.sum()\n",
        "print(f'Hi ha {count} noms compostos')\n",
        "\n",
        "# filtrem amb la màscara i seleccionem la columna First name\n",
        "consulta_df = df.loc[mascara_registres, ['First Name']]"
      ],
      "metadata": {
        "colab": {
          "base_uri": "https://localhost:8080/"
        },
        "id": "VNGbtUmHACUv",
        "outputId": "4b480565-455f-40f9-d4a1-2cba9823a040"
      },
      "id": "VNGbtUmHACUv",
      "execution_count": 19,
      "outputs": [
        {
          "output_type": "stream",
          "name": "stdout",
          "text": [
            "Hi ha 0 noms compostos\n"
          ]
        }
      ]
    },
    {
      "cell_type": "markdown",
      "metadata": {
        "id": "4df4105b"
      },
      "source": [
        "## Exercici 7\n",
        "7.1 Creeu un diccionari utilizant Dictionary Comprehensions tal que:\n",
        "\n",
        "   * Les seves claus corresponguin al domini (el domini de xxx@gmail.com es gmail.com) obtingut de la columna Email i l'ús de les expressions regulars.\n",
        "   \n",
        "   * Els seus valors corresponguin al número de coincidències del domini (quantitat de persones que el seu correu pertany al domini)\n",
        "\n",
        "7.2. Mostreu el resultat obtingut visualitzant els dominis i el nombre d'aparicions de cada un d'ells.\n",
        "\n",
        "<span style=\"font-family: Courier New; background-color: #82b74b; color: #000000; padding: 3px; \">SM</span> **(1 punt)**"
      ],
      "id": "4df4105b"
    },
    {
      "cell_type": "markdown",
      "metadata": {
        "id": "4a159288"
      },
      "source": [
        "<div style=\"background-color: #fcf2f2; border-color: #dfb5b4; border-left: 5px solid #dfb5b4; padding: 0.5em;\">\n",
        "<strong>Solució</strong>\n",
        "</div>"
      ],
      "id": "4a159288"
    },
    {
      "cell_type": "code",
      "execution_count": 20,
      "metadata": {
        "id": "d81c51f9",
        "colab": {
          "base_uri": "https://localhost:8080/"
        },
        "outputId": "d2615632-9e05-45b7-9698-b4ee0bf23633"
      },
      "outputs": [
        {
          "output_type": "stream",
          "name": "stdout",
          "text": [
            "{'example.com': 3411, 'example.org': 3273, 'example.net': 3252}\n"
          ]
        }
      ],
      "source": [
        "# fem una funció per obtindre els dominis dels mails\n",
        "def get_domini(email: str) -> str:\n",
        "  try:\n",
        "    return email.split('@')[1]\n",
        "  except IndexError:\n",
        "    print('Alguna cosa ha anat malament')\n",
        "    return 'error'\n",
        "\n",
        "# fem servir la funció als mails de la columna Email\n",
        "df['domini'] = df['Email'].apply(get_domini)\n",
        "\n",
        "# obtenim el nombre de coindidències\n",
        "count_domini = df['domini'].value_counts()\n",
        "\n",
        "# construïm el diccionari\n",
        "diccionari_dominis = count_domini.to_dict()\n",
        "\n",
        "print(diccionari_dominis)\n",
        "\n",
        "# eliminem la columna \"domini\" creada per deixar el dataframe com estava al principi\n",
        "df = df.drop('domini', axis=1)\n",
        "\n",
        "# test per a la tranquilitat personal\n",
        "num_files_df = len(df)\n",
        "total_valors_diccionari = sum(diccionari_dominis.values())\n",
        "assert num_files_df == total_valors_diccionari, f\"El nombre de files de df ({num_files_df}) no coincideix amb la suma de valors del diccionari ({total_valors_diccionari})\""
      ],
      "id": "d81c51f9"
    },
    {
      "cell_type": "markdown",
      "metadata": {
        "id": "ff148fce"
      },
      "source": [
        "## Exercici 8\n",
        "8.1 A quina estructura de dades estudiada a teoria correspon el fet d'anar afegint persones (registres)?\n",
        "Tenint en compte que quan eliminem una persona (registre) sempre treiem l'últim que s'ha fet. Justifiqueu la resposta.\n",
        "\n",
        "8.2. Simuleu, programant, com afegiries dues persones (inventa els valors) i com esborraries l'última persona afegida posteriorment.\n",
        "\n",
        "<span style=\"font-family: Courier New; background-color: #82b74b; color: #000000; padding: 3px; \">SM</span> **(1 punt)**"
      ],
      "id": "ff148fce"
    },
    {
      "cell_type": "markdown",
      "metadata": {
        "id": "528c4e8b"
      },
      "source": [
        "<div style=\"background-color: #fcf2f2; border-color: #dfb5b4; border-left: 5px solid #dfb5b4; padding: 0.5em;\">\n",
        "<strong>Solución</strong>\n",
        "</div>"
      ],
      "id": "528c4e8b"
    },
    {
      "cell_type": "code",
      "execution_count": 21,
      "metadata": {
        "id": "ff0e4d7c",
        "colab": {
          "base_uri": "https://localhost:8080/"
        },
        "outputId": "72eca0d8-25ce-4cde-df3c-47d2288583c0"
      },
      "outputs": [
        {
          "output_type": "stream",
          "name": "stdout",
          "text": [
            "Estat inicial de la pila:\n",
            "____________\n",
            "\n",
            " \n",
            "____________\n",
            "\n",
            "\n",
            "Estat després d'afegir una persona:\n",
            "_______________\n",
            "\n",
            " Bruce Wayne\n",
            "_______________\n",
            "\n",
            "\n",
            "Estat després d'afegir una altre persona:\n",
            "________________________________\n",
            "\n",
            " Bruce Wayne Anthony Soprano\n",
            "________________________________\n",
            "\n",
            "\n",
            "Estast després de treure una persona i afegir-la al dataframe\n",
            "_______________\n",
            "\n",
            " Bruce Wayne\n",
            "_______________\n",
            "\n",
            "\n",
            "      Index          User Id First Name Last Name     Sex  \\\n",
            "9934   9999  34D88Ffc743Ca5B       Emma     Clark    Male   \n",
            "9935  10000  82D540ce0BE556f    Katrina  Schwartz  Female   \n",
            "9936  10000    hboboneseries    Anthony   Soprano    Male   \n",
            "\n",
            "                        Email                   Phone Date of birth  \\\n",
            "9934  pstrickland@example.com            849-868-8653    09/05/1907   \n",
            "9935     andres56@example.org  001-874-330-5546x16770    14/08/1935   \n",
            "9936       asoprano@bada.bing       (278)-281-828-459    22/08/1959   \n",
            "\n",
            "                  Job Title  \n",
            "9934  Accounting technician  \n",
            "9935      Drilling engineer  \n",
            "9936      gestió de residus  \n",
            "Estast després de treure una persona i afegir-la al dataframe\n",
            "____________\n",
            "\n",
            " \n",
            "____________\n",
            "\n",
            "\n",
            "      Index          User Id First Name Last Name     Sex  \\\n",
            "9935  10000  82D540ce0BE556f    Katrina  Schwartz  Female   \n",
            "9936  10000    hboboneseries    Anthony   Soprano    Male   \n",
            "9937   9937         dccomics      Bruce     Wayne    Male   \n",
            "\n",
            "                     Email                   Phone Date of birth  \\\n",
            "9935  andres56@example.org  001-874-330-5546x16770    14/08/1935   \n",
            "9936    asoprano@bada.bing       (278)-281-828-459    22/08/1959   \n",
            "9937  wayne@enterprises.dc       (314)-159-265-358     7/04/1915   \n",
            "\n",
            "              Job Title  \n",
            "9935  Drilling engineer  \n",
            "9936  gestió de residus  \n",
            "9937             Batman  \n",
            "Estat després de treure una persona del dataframe i afegir-la a la pila\n",
            "_______________\n",
            "\n",
            " Bruce Wayne\n",
            "_______________\n",
            "\n",
            "\n",
            "      Index          User Id First Name Last Name     Sex  \\\n",
            "9934   9999  34D88Ffc743Ca5B       Emma     Clark    Male   \n",
            "9935  10000  82D540ce0BE556f    Katrina  Schwartz  Female   \n",
            "9936  10000    hboboneseries    Anthony   Soprano    Male   \n",
            "\n",
            "                        Email                   Phone Date of birth  \\\n",
            "9934  pstrickland@example.com            849-868-8653    09/05/1907   \n",
            "9935     andres56@example.org  001-874-330-5546x16770    14/08/1935   \n",
            "9936       asoprano@bada.bing       (278)-281-828-459    22/08/1959   \n",
            "\n",
            "                  Job Title  \n",
            "9934  Accounting technician  \n",
            "9935      Drilling engineer  \n",
            "9936      gestió de residus  \n",
            "Estat després de treure una persona del dataframe i afegir-la a la pila\n",
            "________________________________\n",
            "\n",
            " Bruce Wayne Anthony Soprano\n",
            "________________________________\n",
            "\n",
            "\n",
            "      Index          User Id First Name  Last Name     Sex  \\\n",
            "9933   9998  Fb2c7daAdD82dAE      Ellen  Dominguez  Female   \n",
            "9934   9999  34D88Ffc743Ca5B       Emma      Clark    Male   \n",
            "9935  10000  82D540ce0BE556f    Katrina   Schwartz  Female   \n",
            "\n",
            "                          Email                   Phone Date of birth  \\\n",
            "9933  michaelayoder@example.net        409-428-4297x469    06/06/1966   \n",
            "9934    pstrickland@example.com            849-868-8653    09/05/1907   \n",
            "9935       andres56@example.org  001-874-330-5546x16770    14/08/1935   \n",
            "\n",
            "                  Job Title  \n",
            "9933                 Lawyer  \n",
            "9934  Accounting technician  \n",
            "9935      Drilling engineer  \n"
          ]
        },
        {
          "output_type": "stream",
          "name": "stderr",
          "text": [
            "<ipython-input-21-fdce82e23391>:52: FutureWarning: The frame.append method is deprecated and will be removed from pandas in a future version. Use pandas.concat instead.\n",
            "  return df.append({\n",
            "<ipython-input-21-fdce82e23391>:52: FutureWarning: The frame.append method is deprecated and will be removed from pandas in a future version. Use pandas.concat instead.\n",
            "  return df.append({\n"
          ]
        }
      ],
      "source": [
        "# La estructura de dades que correspon el fet d'anar afegint registres i que quan se'n elimina un sempre és el l'últim que s'ha fet es: La pila\n",
        "# justificació: \"La característica que defineix les piles i les cues és que els elements només es poden inserir i eliminar des d’un dels extrems.\n",
        "#               Una pila (en anglès stack) només permet afegir i esborrar elements al seu cim (en anglès parlem del top), és a dir, per la part superior.\"\n",
        "# Unitat 1, pàgina 7, 2.2 1.2 Piles i cues\n",
        "\n",
        "import pandas as pd\n",
        "\n",
        "# funció de la Unitat 1, Pàgina 9 modificada per a l'exercici\n",
        "# només imprimirà nom i cognom de les persones, pero a la pila hi ha totes les dades\n",
        "def print_queue(s, msg_bef=None, msg_after=None):\n",
        "  queue_nom = [f\"{person.first_name} {person.last_name}\" for person in s]\n",
        "  if msg_bef:\n",
        "    print(msg_bef)\n",
        "  if len(s) == 0:\n",
        "    max_len = 10\n",
        "  else:\n",
        "    max_len = sum([len(e) + 2 for e in queue_nom])\n",
        "  print(\"_\" * (max_len + 2) + \"\\n\")\n",
        "  print(\" \" + \" \".join(queue_nom))\n",
        "  print(\"_\" * (max_len + 2))\n",
        "\n",
        "  print(msg_after+\"\\n\" if msg_after else \"\\n\")\n",
        "\n",
        "# Fem una classe persona\n",
        "class Persona:\n",
        "  def __init__(self, user_id, first_name, last_name, sex, email, phone, date_of_birth, job_title):\n",
        "    self.user_id = user_id\n",
        "    self.first_name = first_name\n",
        "    self.last_name = last_name\n",
        "    self.sex = sex\n",
        "    self.email = email\n",
        "    self.phone = phone\n",
        "    self.date_of_birth = date_of_birth\n",
        "    self.job_title = job_title\n",
        "\n",
        "# funció per a convertir una fila del dataframe a una instancia de persona\n",
        "def df_a_persona(fila):\n",
        "    return Persona(\n",
        "        fila['User Id'],\n",
        "        fila['First Name'],\n",
        "        fila['Last Name'],\n",
        "        fila['Sex'],\n",
        "        fila['Email'],\n",
        "        fila['Phone'],\n",
        "        fila['Date of birth'],\n",
        "        fila['Job Title']\n",
        "    )\n",
        "\n",
        "# Fem una funció per afergir persones al df\n",
        "# si df està buit, Index serà 0, si no valor_màxim+1\n",
        "def afegir_df(df, persona):\n",
        "  return df.append({\n",
        "      'Index': df.index.max() + 1 if not df.empty else 0,\n",
        "      'User Id': persona.user_id,\n",
        "      'First Name': persona.first_name,\n",
        "      'Last Name': persona.last_name,\n",
        "      'Sex': persona.sex,\n",
        "      'Email': persona.email,\n",
        "      'Phone': persona.phone,\n",
        "      'Date of birth': persona.date_of_birth,\n",
        "      'Job Title': persona.job_title\n",
        "  }, ignore_index=True)\n",
        "\n",
        "# Creació de les persones\n",
        "persona1 = Persona('dccomics', 'Bruce', 'Wayne', 'Male', 'wayne@enterprises.dc', '(314)-159-265-358', '7/04/1915', 'Batman')\n",
        "persona2 = Persona('hboboneseries', 'Anthony', 'Soprano', 'Male', 'asoprano@bada.bing', '(278)-281-828-459', '22/08/1959', 'gestió de residus')\n",
        "\n",
        "# fem una cua buida\n",
        "queue = []\n",
        "print_queue(queue, \"Estat inicial de la pila:\")\n",
        "\n",
        "# afegim una persona\n",
        "queue.append(persona1)\n",
        "print_queue(queue, \"Estat després d'afegir una persona:\")\n",
        "\n",
        "# agefim una persona\n",
        "queue.append(persona2)\n",
        "print_queue(queue, \"Estat després d'afegir una altre persona:\")\n",
        "\n",
        "# treiem 1 persona de la pila per afegir-les al dataframe\n",
        "persona = queue.pop() # a la variable persona hi tenim la última persona que ha entrat a la pila\n",
        "df = afegir_df(df, persona)\n",
        "print_queue(queue, \"Estast després de treure una persona i afegir-la al dataframe\")\n",
        "print(df.tail(3))\n",
        "\n",
        "# treiem 1 persona de la pila per afegir-les al dataframe\n",
        "persona = queue.pop() # a la variable persona hi tenim la última persona que ha entrat a la pila\n",
        "df = afegir_df(df, persona)\n",
        "print_queue(queue, \"Estast després de treure una persona i afegir-la al dataframe\")\n",
        "print(df.tail(3))\n",
        "\n",
        "# Tornem la última persona del dataframe a la pila\n",
        "persona_a_moure = df.iloc[-1]  # Selecció de persona\n",
        "df = df.iloc[:-1]  # Eliminem la fila\n",
        "queue.append(df_a_persona(persona_a_moure)) # conversió\n",
        "print_queue(queue, \"Estat després de treure una persona del dataframe i afegir-la a la pila\")\n",
        "print(df.tail(3))\n",
        "\n",
        "# Ho tornem a fer per deixar el dataframe com estava al principi\n",
        "persona_a_moure = df.iloc[-1]  # Selecció de persona\n",
        "df = df.iloc[:-1]  # Eliminem la fila\n",
        "queue.append(df_a_persona(persona_a_moure)) # conversió\n",
        "print_queue(queue, \"Estat després de treure una persona del dataframe i afegir-la a la pila\")\n",
        "print(df.tail(3))"
      ],
      "id": "ff0e4d7c"
    }
  ],
  "metadata": {
    "colab": {
      "provenance": []
    },
    "kernelspec": {
      "display_name": "Python 3 (ipykernel)",
      "language": "python",
      "name": "python3"
    },
    "language_info": {
      "codemirror_mode": {
        "name": "ipython",
        "version": 3
      },
      "file_extension": ".py",
      "mimetype": "text/x-python",
      "name": "python",
      "nbconvert_exporter": "python",
      "pygments_lexer": "ipython3",
      "version": "3.9.2"
    },
    "toc": {
      "base_numbering": 1,
      "nav_menu": {},
      "number_sections": true,
      "sideBar": true,
      "skip_h1_title": false,
      "title_cell": "Table of Contents",
      "title_sidebar": "Contents",
      "toc_cell": false,
      "toc_position": {},
      "toc_section_display": true,
      "toc_window_display": false
    },
    "varInspector": {
      "cols": {
        "lenName": 16,
        "lenType": 16,
        "lenVar": 40
      },
      "kernels_config": {
        "python": {
          "delete_cmd_postfix": "",
          "delete_cmd_prefix": "del ",
          "library": "var_list.py",
          "varRefreshCmd": "print(var_dic_list())"
        },
        "r": {
          "delete_cmd_postfix": ") ",
          "delete_cmd_prefix": "rm(",
          "library": "var_list.r",
          "varRefreshCmd": "cat(var_dic_list()) "
        }
      },
      "types_to_exclude": [
        "module",
        "function",
        "builtin_function_or_method",
        "instance",
        "_Feature"
      ],
      "window_display": false
    }
  },
  "nbformat": 4,
  "nbformat_minor": 5
}