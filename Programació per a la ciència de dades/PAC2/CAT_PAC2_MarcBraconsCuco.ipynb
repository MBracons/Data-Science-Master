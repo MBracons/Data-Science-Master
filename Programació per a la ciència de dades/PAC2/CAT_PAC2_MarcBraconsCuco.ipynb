{
  "cells": [
    {
      "cell_type": "markdown",
      "metadata": {
        "id": "9UOcAzigFjm2"
      },
      "source": [
        "<div style=\"width: 100%; clear: both;\">\n",
        "    <div style=\"float: left; width: 50%;\">\n",
        "       <img src=\"http://www.uoc.edu/portal/_resources/common/imatges/marca_UOC/UOC_Masterbrand.jpg\", align=\"left\">\n",
        "    </div>\n",
        "</div>\n",
        "\n",
        "<div style=\"float: right; width: 50%;\">\n",
        "    <p style=\"margin: 0; padding-top: 22px; text-align:right;\">22.403 · Programació per a la ciència de dades</p>\n",
        "    <p style=\"margin: 0; text-align:right;\">Grau en Ciència de Dades Aplicada</p>\n",
        "    <p style=\"margin: 0; text-align:right; padding-button: 100px;\">Estudis d'Informàtica, Multimèdia i Telecomunicació</p>\n",
        "</div>\n",
        "\n",
        "</div>\n",
        "<div style=\"width: 100%; clear: both;\">\n",
        "<div style=\"width:100%;\">&nbsp;</div>"
      ]
    },
    {
      "cell_type": "markdown",
      "metadata": {
        "id": "BtcIWG58Fjm3"
      },
      "source": [
        "\n",
        "Programació per a la ciència de dades - PAC2\n",
        "============================\n",
        "\n",
        "En aquest Notebook trobareu un conjunt d'exercicis que suposen la segona activitat d'avaluació continuada (PAC) de l'assignatura.\n",
        "\n",
        "Per a cada exercici, tingueu en compte que:\n",
        "* **És necessari incloure comentaris** del vostre codi, que expliquin com heu implementat la solució del problema plantejat.\n",
        "* **És imprescindible** citar les referències que heu consultat per a dur a terme l'activitat.\n",
        "* Es valorarà que el codi proporcionat solucioni el problema proposat i també la qualitat del codi (comentaris, llegibilitat, claredat, ús de les estructures de dades adequades, bona nomenclatura de les variables i funcions, seguiment del PEP8, etc.).\n",
        "\n",
        "Veureu que totes les activitats tenen una etiqueta, que indica els recursos necessaris per tal de dur-la a terme. Hi ha tres possibles etiquetes:\n",
        "\n",
        "* <span style=\"font-family: Courier New; background-color: #82b74b; color: #000000; padding: 3px; \">NM</span> **Només materials**: les eines necessàries per a realitzar l'activitat es poden trobar als materials de l'assignatura (considerarem també els materials de l'assignatura Fonaments de Programació, així com les lectures obligatòries de material extern que s'indiquen als notebooks).\n",
        "\n",
        "* <span style=\"font-family: Courier New; background-color: #ffcc5c; color: #000000; padding: 3px; \">EG</span> **Consulta externa guiada**: l'activitat pot requerir fer ús d'eines que no es troben als materials de l'assignatura, però l'enunciat conté indicacions d'on o com trobar la informació addicional necessària per resoldre l'activitat.\n",
        "\n",
        "* <span style=\"font-family: Courier New; background-color: #f2ae72; color: #000000; padding: 3px; \">EI</span> **Consulta externa independent**: l'activitat pot requerir fer ús d'eines que no es troben als materials de l'assignatura, i l'enunciat pot no incloure la descripció d'on o com trobar aquesta informació addicional. Caldrà que l'estudiant busqui aquesta informació fent servir els recursos que s'han explicat a l'assignatura.\n",
        "\n",
        "És important notar que aquestes etiquetes no indiquen el nivell de dificultat de l'exercici, sinó únicament la necessitat de consulta de documentació externa per a la seva resolució. A més, recordeu que les **etiquetes són informatives**, però **podeu consultar referències externes, i usar-les, sempre que vulgueu (encara que no s'indiqui explícitament) o pot ser que pugueu fer una activitat sense consultar cap mena de documentació**. Per exemple, per resoldre una activitat que només requereixi els materials de l'assignatura, podeu consultar referències externes si voleu, ja sigui tant per ajudar-vos en la seva resolució com per ampliar el coneixement!\n"
      ]
    },
    {
      "cell_type": "markdown",
      "metadata": {
        "id": "4Jqw0Y4NFjm4"
      },
      "source": [
        "**Important**: A més de la puntuació de cada exercici, que valora la qualitat de la solució que proposeu i els resultats obtinguts, en aquesta PAC es valoren 3 aspectes addicionals, transversals a totes les activitats:\n",
        "\n",
        "* **Documentació** (**0.25*f punts**): Totes les funcions dels exercicis d’aquesta PAC hauran de ser correctament documentades utilitzant docstrings (en el format que preferiu).\n",
        "\n",
        "* **Modularitat** (**0.5*f punts**): Es valorarà la modularitat del codi (la correcta estructuració del codi en funcions).\n",
        "\n",
        "* **Estil** (**0.25*f punts**): El codi ha de seguir la guia d'estil de Python [PEP8](https://www.python.org/dev/peps/pep-0008/), exceptuant els casos on fer-ho compliqui la llegibilitat del codi.\n",
        "\n",
        "On $f$ es la fracció de la PAC realitzada. És a dir, la nota d'aquests aspectes transversals serà proporcional a la part de la PAC realitzada.\n",
        "\n",
        "Així, els aspectes transversals tindran una puntuació màxima d'1 punt si es lliuren tots els exercicis de la PAC. En cas contrari, la nota d'aspectes transversals es multiplicarà per la fracció de la PAC lliurada. Per exemple, si els aspectes transversals estan puntuats amb un 1 i només hi ha la meitat de la PAC lliurada, la nota dels aspectes transversals serà $1*0.5=0.5$.\n",
        "\n",
        "La nota dels aspectes transversals es considera inclosa en les notes mencionades per als exercicis.\n",
        "\n",
        "\n",
        "---\n",
        "\n",
        "## Abans de començar\n",
        "\n",
        "Si us plau, llegiu atentament els següents paràgrafs relatius a l'originalitat en les activitats de l'assignatura abans de començar a treballar en la PAC. Si teniu qualsevol dubte, dirigiu-vos al professor col·laborador de l'aula abans de seguir amb l'activitat.\n",
        "\n",
        "<div class=\"alert alert-block alert-success\">La manca d’originalitat es produeix quan en una activitat hi apareix contingut que no ha estat elaborat de forma individual per l’estudiant i no es referència adequadament el seu origen. O bé quan, encara que el contingut extern estigui referenciat, aquest és tan extens que no és possible considerar a l’estudiant l’autor o autora de l’activitat.\n",
        "<br /><br />\n",
        "Així, alguns exemples de comportaments inadequats són pel que fa a la manca d'originalitat són:\n",
        "<ol>\n",
        "    <li>Crear la solució d'un exercici de la PAC en col·laboració entre diversos estudiants.</li>\n",
        "    <li>Incloure un exercici de la PAC que utilitzi codi trobat a internet sense citar-ne la font.</li>\n",
        "    <li>Compartir la vostra solució de la PAC amb altres estudiants de l'assignatura.</li>\n",
        "    </ol>\n",
        "</div>\n",
        "\n",
        "## Instruccions de lliurament\n",
        "\n",
        "Per tal de lliurar l'activitat és necessari que feu els següents passos:\n",
        "\n",
        "1. Comproveu que el notebook s'executa correctament a google colab. És important que abans de lliurar la vostra PAC comproveu que la versió final del codi que lliureu s'executa correctament en la seva totalitat. Per fer-ho, us recomanem fer una execució completa des de zero del notebook: feu click a *Runtime > Disconnect and Delete Runtime & Run All* i comproveu que el notebook s'executa correctament.\n",
        "2. Activeu les alertes d'estil i comproveu que el codi segueix les convencions d'estil de Python. Si és necessari, modifiqueu el codi per adequar-lo.\n",
        "3. Confirmeu que sou els autors únics de la PAC i que aquesta inclou totes les cites a recursos externs que s'hagin utilitzat per a elaborar-la. Per tal de confirmar que sou els autors únics de l'activitat, afegiu el vostre nom complet al paràgraf de la cel·la següent.\n",
        "4. Per a aquesta PAC només caldrà que lliureu el fitxer amb el notebook (amb extensió .ipynb). Nosaltres hi afegirem la carpeta \"data\".\n",
        "5. Lliureu la PAC a través de l'aula: \"Activitats,Lliurament de l'activitat PAC1\".\n",
        "6. La càrrega del dataset s'ha de fer usant **rutes relatives**, heu de carregar el fitxer tenint en compte que treballeu (el vostre notebook es troba) en una carpeta que conté la carpeta data i l'arxiu de dades corresponent."
      ]
    },
    {
      "cell_type": "markdown",
      "metadata": {
        "id": "7ubhv6M6Fjm4"
      },
      "source": [
        "<div class=\"alert alert-block alert-warning\">Jo, Marc Bracons Cucó, confirmo que he elaborat de manera individual totes les activitats resoltes en aquesta PAC i que he inclòs les cites a totes les fonts externes que he utilitzat per a resoldre les activitats. </div>"
      ]
    },
    {
      "cell_type": "markdown",
      "metadata": {
        "id": "rhMLS-hEFjm5"
      },
      "source": [
        "---\n",
        "\n",
        "**NOTES IMPORTANTS:**\n",
        "\n",
        "1) Durant la PAC comptareu amb cel·les de tests per a comprovar que els resultats del vostre codi són correctes. La intenció d'aquestes cel·les és ajudar-vos a la resolució de la PAC, però no es faran servir directament en la correcció. En alguns casos poc freqüents, pot ser que algun codi correcte no passi el test de la cel·la o que algun d'incorrecte sí que el passi. Feu servir el sentit comú i adreceu-vos al vostre consultor si teniu dubtes.\n",
        "\n",
        "2) En diversos punts de la PAC se us demana de mostrar per pantalla alguna informació o estructura de dades. Recordeu de formatar de forma correcta la sortida en tots els casos.\n",
        "\n",
        "3) Cal resoldre tots els exercicis de la PAC evitant recorreguts innecessaris de les dades i fent servir, tant com sigui possible, programació funcional i ús avançat de funcions. **Per obtenir la màxima puntuació en els exercicis cal que el codi que feu segueixi estrictament aquests principis a més dels aspectes transversals ja mencionats.**\n",
        "\n",
        "---"
      ]
    },
    {
      "cell_type": "code",
      "execution_count": 1,
      "metadata": {
        "colab": {
          "base_uri": "https://localhost:8080/"
        },
        "id": "f3sJ-nTT4Vq2",
        "outputId": "d42d1410-26bc-4fde-a091-ddf12567ba99"
      },
      "outputs": [
        {
          "output_type": "stream",
          "name": "stdout",
          "text": [
            "Requirement already satisfied: pycodestyle in /usr/local/lib/python3.10/dist-packages (2.9.1)\n",
            "Requirement already satisfied: pycodestyle_magic in /usr/local/lib/python3.10/dist-packages (0.5)\n",
            "Requirement already satisfied: flake8-nb in /usr/local/lib/python3.10/dist-packages (0.5.3)\n",
            "Requirement already satisfied: flake8<5.0.5,>=3.8.0 in /usr/local/lib/python3.10/dist-packages (from flake8-nb) (5.0.4)\n",
            "Requirement already satisfied: ipython>=7.8.0 in /usr/local/lib/python3.10/dist-packages (from flake8-nb) (7.34.0)\n",
            "Requirement already satisfied: nbconvert>=5.6.0 in /usr/local/lib/python3.10/dist-packages (from flake8-nb) (6.5.4)\n",
            "Requirement already satisfied: mccabe<0.8.0,>=0.7.0 in /usr/local/lib/python3.10/dist-packages (from flake8<5.0.5,>=3.8.0->flake8-nb) (0.7.0)\n",
            "Requirement already satisfied: pycodestyle<2.10.0,>=2.9.0 in /usr/local/lib/python3.10/dist-packages (from flake8<5.0.5,>=3.8.0->flake8-nb) (2.9.1)\n",
            "Requirement already satisfied: pyflakes<2.6.0,>=2.5.0 in /usr/local/lib/python3.10/dist-packages (from flake8<5.0.5,>=3.8.0->flake8-nb) (2.5.0)\n",
            "Requirement already satisfied: setuptools>=18.5 in /usr/local/lib/python3.10/dist-packages (from ipython>=7.8.0->flake8-nb) (67.7.2)\n",
            "Requirement already satisfied: jedi>=0.16 in /usr/local/lib/python3.10/dist-packages (from ipython>=7.8.0->flake8-nb) (0.19.1)\n",
            "Requirement already satisfied: decorator in /usr/local/lib/python3.10/dist-packages (from ipython>=7.8.0->flake8-nb) (4.4.2)\n",
            "Requirement already satisfied: pickleshare in /usr/local/lib/python3.10/dist-packages (from ipython>=7.8.0->flake8-nb) (0.7.5)\n",
            "Requirement already satisfied: traitlets>=4.2 in /usr/local/lib/python3.10/dist-packages (from ipython>=7.8.0->flake8-nb) (5.7.1)\n",
            "Requirement already satisfied: prompt-toolkit!=3.0.0,!=3.0.1,<3.1.0,>=2.0.0 in /usr/local/lib/python3.10/dist-packages (from ipython>=7.8.0->flake8-nb) (3.0.41)\n",
            "Requirement already satisfied: pygments in /usr/local/lib/python3.10/dist-packages (from ipython>=7.8.0->flake8-nb) (2.16.1)\n",
            "Requirement already satisfied: backcall in /usr/local/lib/python3.10/dist-packages (from ipython>=7.8.0->flake8-nb) (0.2.0)\n",
            "Requirement already satisfied: matplotlib-inline in /usr/local/lib/python3.10/dist-packages (from ipython>=7.8.0->flake8-nb) (0.1.6)\n",
            "Requirement already satisfied: pexpect>4.3 in /usr/local/lib/python3.10/dist-packages (from ipython>=7.8.0->flake8-nb) (4.8.0)\n",
            "Requirement already satisfied: lxml in /usr/local/lib/python3.10/dist-packages (from nbconvert>=5.6.0->flake8-nb) (4.9.3)\n",
            "Requirement already satisfied: beautifulsoup4 in /usr/local/lib/python3.10/dist-packages (from nbconvert>=5.6.0->flake8-nb) (4.11.2)\n",
            "Requirement already satisfied: bleach in /usr/local/lib/python3.10/dist-packages (from nbconvert>=5.6.0->flake8-nb) (6.1.0)\n",
            "Requirement already satisfied: defusedxml in /usr/local/lib/python3.10/dist-packages (from nbconvert>=5.6.0->flake8-nb) (0.7.1)\n",
            "Requirement already satisfied: entrypoints>=0.2.2 in /usr/local/lib/python3.10/dist-packages (from nbconvert>=5.6.0->flake8-nb) (0.4)\n",
            "Requirement already satisfied: jinja2>=3.0 in /usr/local/lib/python3.10/dist-packages (from nbconvert>=5.6.0->flake8-nb) (3.1.2)\n",
            "Requirement already satisfied: jupyter-core>=4.7 in /usr/local/lib/python3.10/dist-packages (from nbconvert>=5.6.0->flake8-nb) (5.5.0)\n",
            "Requirement already satisfied: jupyterlab-pygments in /usr/local/lib/python3.10/dist-packages (from nbconvert>=5.6.0->flake8-nb) (0.2.2)\n",
            "Requirement already satisfied: MarkupSafe>=2.0 in /usr/local/lib/python3.10/dist-packages (from nbconvert>=5.6.0->flake8-nb) (2.1.3)\n",
            "Requirement already satisfied: mistune<2,>=0.8.1 in /usr/local/lib/python3.10/dist-packages (from nbconvert>=5.6.0->flake8-nb) (0.8.4)\n",
            "Requirement already satisfied: nbclient>=0.5.0 in /usr/local/lib/python3.10/dist-packages (from nbconvert>=5.6.0->flake8-nb) (0.9.0)\n",
            "Requirement already satisfied: nbformat>=5.1 in /usr/local/lib/python3.10/dist-packages (from nbconvert>=5.6.0->flake8-nb) (5.9.2)\n",
            "Requirement already satisfied: packaging in /usr/local/lib/python3.10/dist-packages (from nbconvert>=5.6.0->flake8-nb) (23.2)\n",
            "Requirement already satisfied: pandocfilters>=1.4.1 in /usr/local/lib/python3.10/dist-packages (from nbconvert>=5.6.0->flake8-nb) (1.5.0)\n",
            "Requirement already satisfied: tinycss2 in /usr/local/lib/python3.10/dist-packages (from nbconvert>=5.6.0->flake8-nb) (1.2.1)\n",
            "Requirement already satisfied: parso<0.9.0,>=0.8.3 in /usr/local/lib/python3.10/dist-packages (from jedi>=0.16->ipython>=7.8.0->flake8-nb) (0.8.3)\n",
            "Requirement already satisfied: platformdirs>=2.5 in /usr/local/lib/python3.10/dist-packages (from jupyter-core>=4.7->nbconvert>=5.6.0->flake8-nb) (4.0.0)\n",
            "Requirement already satisfied: jupyter-client>=6.1.12 in /usr/local/lib/python3.10/dist-packages (from nbclient>=0.5.0->nbconvert>=5.6.0->flake8-nb) (6.1.12)\n",
            "Requirement already satisfied: fastjsonschema in /usr/local/lib/python3.10/dist-packages (from nbformat>=5.1->nbconvert>=5.6.0->flake8-nb) (2.19.0)\n",
            "Requirement already satisfied: jsonschema>=2.6 in /usr/local/lib/python3.10/dist-packages (from nbformat>=5.1->nbconvert>=5.6.0->flake8-nb) (4.19.2)\n",
            "Requirement already satisfied: ptyprocess>=0.5 in /usr/local/lib/python3.10/dist-packages (from pexpect>4.3->ipython>=7.8.0->flake8-nb) (0.7.0)\n",
            "Requirement already satisfied: wcwidth in /usr/local/lib/python3.10/dist-packages (from prompt-toolkit!=3.0.0,!=3.0.1,<3.1.0,>=2.0.0->ipython>=7.8.0->flake8-nb) (0.2.10)\n",
            "Requirement already satisfied: soupsieve>1.2 in /usr/local/lib/python3.10/dist-packages (from beautifulsoup4->nbconvert>=5.6.0->flake8-nb) (2.5)\n",
            "Requirement already satisfied: six>=1.9.0 in /usr/local/lib/python3.10/dist-packages (from bleach->nbconvert>=5.6.0->flake8-nb) (1.16.0)\n",
            "Requirement already satisfied: webencodings in /usr/local/lib/python3.10/dist-packages (from bleach->nbconvert>=5.6.0->flake8-nb) (0.5.1)\n",
            "Requirement already satisfied: attrs>=22.2.0 in /usr/local/lib/python3.10/dist-packages (from jsonschema>=2.6->nbformat>=5.1->nbconvert>=5.6.0->flake8-nb) (23.1.0)\n",
            "Requirement already satisfied: jsonschema-specifications>=2023.03.6 in /usr/local/lib/python3.10/dist-packages (from jsonschema>=2.6->nbformat>=5.1->nbconvert>=5.6.0->flake8-nb) (2023.11.1)\n",
            "Requirement already satisfied: referencing>=0.28.4 in /usr/local/lib/python3.10/dist-packages (from jsonschema>=2.6->nbformat>=5.1->nbconvert>=5.6.0->flake8-nb) (0.31.0)\n",
            "Requirement already satisfied: rpds-py>=0.7.1 in /usr/local/lib/python3.10/dist-packages (from jsonschema>=2.6->nbformat>=5.1->nbconvert>=5.6.0->flake8-nb) (0.13.0)\n",
            "Requirement already satisfied: pyzmq>=13 in /usr/local/lib/python3.10/dist-packages (from jupyter-client>=6.1.12->nbclient>=0.5.0->nbconvert>=5.6.0->flake8-nb) (23.2.1)\n",
            "Requirement already satisfied: python-dateutil>=2.1 in /usr/local/lib/python3.10/dist-packages (from jupyter-client>=6.1.12->nbclient>=0.5.0->nbconvert>=5.6.0->flake8-nb) (2.8.2)\n",
            "Requirement already satisfied: tornado>=4.1 in /usr/local/lib/python3.10/dist-packages (from jupyter-client>=6.1.12->nbclient>=0.5.0->nbconvert>=5.6.0->flake8-nb) (6.3.2)\n"
          ]
        }
      ],
      "source": [
        "# instalem guia estil\n",
        "!pip install pycodestyle pycodestyle_magic\n",
        "!pip install flake8-nb\n",
        "%load_ext pycodestyle_magic"
      ]
    },
    {
      "cell_type": "code",
      "execution_count": 2,
      "metadata": {
        "id": "jj0bnVt_4igi",
        "colab": {
          "base_uri": "https://localhost:8080/"
        },
        "outputId": "6e7eb0e5-23ca-4684-b30a-70747bdeb5db"
      },
      "outputs": [
        {
          "output_type": "stream",
          "name": "stdout",
          "text": [
            "The pycodestyle_magic extension is already loaded. To reload it, use:\n",
            "  %reload_ext pycodestyle_magic\n"
          ]
        }
      ],
      "source": [
        "#activem guia estil\n",
        "%load_ext pycodestyle_magic\n",
        "%pycodestyle_on"
      ]
    },
    {
      "cell_type": "code",
      "execution_count": 3,
      "metadata": {
        "colab": {
          "base_uri": "https://localhost:8080/"
        },
        "id": "2NJfzCE2BEzA",
        "outputId": "10eb1e96-08b2-45bc-a9a1-d110152615b0"
      },
      "outputs": [
        {
          "output_type": "stream",
          "name": "stdout",
          "text": [
            "Drive already mounted at /content/drive; to attempt to forcibly remount, call drive.mount(\"/content/drive\", force_remount=True).\n"
          ]
        }
      ],
      "source": [
        "from google.colab import drive\n",
        "drive.mount('/content/drive')"
      ]
    },
    {
      "cell_type": "code",
      "execution_count": 4,
      "metadata": {
        "colab": {
          "base_uri": "https://localhost:8080/"
        },
        "id": "iC_3R-gOBOFg",
        "outputId": "62d7b9ba-4834-4560-9e9b-8a952d07bdca"
      },
      "outputs": [
        {
          "output_type": "stream",
          "name": "stderr",
          "text": [
            "INFO:pycodestyle:1:80: E501 line too long (89 > 79 characters)\n",
            "INFO:pycodestyle:2:6: E225 missing whitespace around operator\n",
            "INFO:pycodestyle:3:1: E265 block comment should start with '# '\n"
          ]
        }
      ],
      "source": [
        "# Copy the original from your drive into the colab machine, to make file handling faster.\n",
        "%cp /content/drive/MyDrive/Colab_Notebooks/activity_2/original.zip ./\n",
        "#%cp /content/drive/MyDrive/Colab Notebooks/activity_2/original.zip ./"
      ]
    },
    {
      "cell_type": "markdown",
      "metadata": {
        "id": "seSCQCMHFjm5"
      },
      "source": [
        "# Exercici 1\n",
        "\n",
        "Responeu si són Certes o Falses les següents preguntes i raoneu breument la vostra resposta:\n",
        "\n",
        "<span style=\"font-family: Courier New; background-color: #82b74b; color: #000000; padding: 3px; \">NM</span> **(1 punt)**\n"
      ]
    },
    {
      "cell_type": "markdown",
      "metadata": {
        "id": "n85Lx8MzFjm5"
      },
      "source": [
        "*(a) Per tal de fer servir una variable global dins d'una funció cal fer servir la sentència \"nonlocal\".*"
      ]
    },
    {
      "cell_type": "markdown",
      "metadata": {
        "id": "Kt-qKZ23Fjm5"
      },
      "source": [
        "**Resposta:** Fals. \"El nonlocal té una funcionalitat similar al global que havíem vist en la funció fun_4, però serveix per referir-se a una variable definida en un àmbit superior no global.\" (2-CAT-Ús avançat de funcions)"
      ]
    },
    {
      "cell_type": "code",
      "execution_count": 5,
      "metadata": {
        "colab": {
          "base_uri": "https://localhost:8080/"
        },
        "id": "Gs8qpicjeUT5",
        "outputId": "182b799e-61c8-47e4-fbbd-b63225098561"
      },
      "outputs": [
        {
          "output_type": "stream",
          "name": "stdout",
          "text": [
            "2\n",
            "50\n",
            "2\n"
          ]
        }
      ],
      "source": [
        "x = 5\n",
        "\n",
        "\n",
        "def exemple_global():\n",
        "    global x\n",
        "    x = 2  # Modifiquem la variable de forma global\n",
        "\n",
        "\n",
        "exemple_global()\n",
        "print(x)  # imprimirà 2\n",
        "\n",
        "\n",
        "def f_externa():\n",
        "    x = 70\n",
        "\n",
        "    def f_interna():\n",
        "        nonlocal x\n",
        "        x = 50  # Modifiquem la variable dintre de f_interna i f_externa\n",
        "\n",
        "    f_interna()\n",
        "    print(x)  # imprimirà 50\n",
        "\n",
        "\n",
        "f_externa()\n",
        "print(x)  # imprimirà 2, ja que no hem fet una modificació global\n",
        "#          al fer \"nonlocal x\""
      ]
    },
    {
      "cell_type": "markdown",
      "metadata": {
        "id": "_KCxiEeUFjm5"
      },
      "source": [
        "*(b) Considerem una variable \"float_var\" que conte valors de tipus real.\n",
        "\n",
        "Una funció que tingui per darrera linia\n",
        "\n",
        "print(float_var)\n",
        "\n",
        "retornara un valor de tipus string.\n",
        ".*"
      ]
    },
    {
      "cell_type": "markdown",
      "metadata": {
        "id": "c1RC9xmFFjm5"
      },
      "source": [
        "**Resposta:** Fals. Si *float_var* és una variable de tipus float, llavors *print(float_var)* mostrarà aquest valor en forma de text a la pantalla, pero no canvia el tipus de valor en si. Per convertir un float a un string en Python hem de fer servir la funció *str()*.\n",
        "\n"
      ]
    },
    {
      "cell_type": "code",
      "execution_count": 6,
      "metadata": {
        "colab": {
          "base_uri": "https://localhost:8080/"
        },
        "id": "TL_mAWCKjNdi",
        "outputId": "3c4a0b02-be30-474a-88da-6c75bc38dc59"
      },
      "outputs": [
        {
          "output_type": "stream",
          "name": "stdout",
          "text": [
            "3.14\n",
            "El tipus de float_var és: <class 'float'>\n",
            "3.14\n",
            "El tipus de str(float_var) és: <class 'str'>\n"
          ]
        }
      ],
      "source": [
        "float_var = 3.14\n",
        "\n",
        "\n",
        "def imprimir_valor():\n",
        "    print(float_var)  # Això imprimeix el valor float_var a la pantalla\n",
        "    print(\"El tipus de float_var és:\", type(float_var))\n",
        "\n",
        "\n",
        "imprimir_valor()\n",
        "\n",
        "\n",
        "def imprimir_string():\n",
        "    # Això imprimeix el valor float_var convertit a string\n",
        "    # a la pantalla\n",
        "    print(str(float_var))\n",
        "    print(\"El tipus de str(float_var) és:\",\n",
        "          type(str(float_var)))\n",
        "\n",
        "\n",
        "imprimir_string()"
      ]
    },
    {
      "cell_type": "markdown",
      "metadata": {
        "id": "TzHZMW7WFjm5"
      },
      "source": [
        "*(c) Les funcions de Python es poden passar com a paràmetres i ser retornades per altres funcions*."
      ]
    },
    {
      "cell_type": "markdown",
      "metadata": {
        "id": "FfRZGEvMFjm6"
      },
      "source": [
        "**Resposta:** Cert. A Python les funciones poden passar com a paràmetres a altres funcions, ser retornades per altres funcions i fins i tot ser assignades a variables."
      ]
    },
    {
      "cell_type": "code",
      "execution_count": 7,
      "metadata": {
        "colab": {
          "base_uri": "https://localhost:8080/"
        },
        "id": "brM1nLOoln5_",
        "outputId": "288f0642-dc6c-45f9-9367-6da38411fe44"
      },
      "outputs": [
        {
          "output_type": "stream",
          "name": "stdout",
          "text": [
            "Hola, Yago\n"
          ]
        }
      ],
      "source": [
        "def saluda(nom):\n",
        "    return f'Hola, {nom}'\n",
        "\n",
        "\n",
        "def crida_f(func, argument):\n",
        "    return func(argument)\n",
        "\n",
        "\n",
        "print(crida_f(saluda, 'Yago'))"
      ]
    },
    {
      "cell_type": "markdown",
      "metadata": {
        "id": "JIOouop1Fjm6"
      },
      "source": [
        "(d) Si obrim un fitxer fent servir el mode `w+` mantindrem el contingut del fitxer i es generarà un error si el fitxer no existeix."
      ]
    },
    {
      "cell_type": "markdown",
      "metadata": {
        "id": "Ih01B6tJFjm6"
      },
      "source": [
        "**Resposta:** Fals. El mode *w* permet escriure en un fixter, però en sobreescriu el contingut. En mode d'actualització, *+*, permet llegir i escriure un fitxer. *w+* sobreescriurem el contingut del fitxer i crearem el fitxer si aquest no existeix. (3-CAT_Fitxers_i_interacció_amb_el_sistema)"
      ]
    },
    {
      "cell_type": "markdown",
      "metadata": {
        "id": "tP8TEAU4Fjm6"
      },
      "source": [
        "## Exercici 2\n",
        "\n",
        "Donades notícies recents insinuant que alguns governs oculten secrets sobre possibles artefactes extraterrestres, el cap de l'empresa de data science on treballeu ha decidit de crear un projecte de \"fact finding\" sobre el tema. Com a primer resultat, altres membres de l'equip han aconseguit de recopilar informació sobre avistaments d'OVNIs a Estats Units entre el 1969 i el 2021. Dissortadament, aquests companys no havien cursat aquesta assignatura i l'organització de dades que han fet no és prou correcta.\n",
        "\n",
        "En aquest exercici farem servir els coneixements sobre gestió de fitxers i programació funcional que estem aprenent per a llegir l'estructura de carpetes existent i transformar-la en un dataframe de pandas. En un exercici posterior considerarem una altra estructura de fitxers que el cap considera millor i hi guardarem les dades. Durant tot el procés, estarem particularment atents a l'espai ocupat per les dades.\n",
        "\n",
        "Hem rebut les dades en forma d'un sol fitxer comprimit anomenat **original.zip**.\n",
        "\n",
        "## 2.1\n",
        "\n",
        "Donat que ens interessa la mida que els diversos fitxers i carpetes ocupen a memòria, cal que **creeu una funció per a mesurar la mida de fitxers o carpetes**. Cal que aquesta funció executi correctament tant si li passem la ruta d'un fitxer com d'un directori. **Descomprimiu també el fitxer original.zip per codi**. **Cal que la funció retorni la mida en Megabytes**.\n",
        "\n",
        "Com a prova, mesureu la mida del fitxer **original.zip** i de l'estructura de carpetes que obteniu en descomprimir-lo.\n",
        "\n",
        "\n",
        "## 2.2\n",
        "\n",
        "Com veureu, l'estructura té una sèrie de carpetes amb fitxers a dins.\n",
        "\n",
        "En concret:\n",
        "\n",
        "\n",
        "```\n",
        "<original>\n",
        "    <state_code1>\n",
        "        <city_name1>\n",
        "            shape1.txt\n",
        "            shape2.txt\n",
        "            ...\n",
        "            shapeN.txt\n",
        "        <city_name2>\n",
        "        ...\n",
        "    <state_code2>\n",
        "    ...\n",
        "        \n",
        "```\n",
        "\n",
        "on:\n",
        "\n",
        "- El directori arrel (anomenat \"original\") conte una subcarpeta per a cada estat d'Estats Units on s'han detectat avistaments.\n",
        "- **state_code** és un codi de dues lletres per a cadascun dels estats d'Estats Units (per exemple CA representa California o AL Alabama).\n",
        "- Dins de la carpeta de cada estat hi ha una carpeta **city_name** amb el nom de cada ciutat on s'han detectat avistaments. Per exemple \"Chicago\".\n",
        "- A dins de cada carpeta de ciutat, hi haurà un fitxer de text per a cada tipus d'objecte avistat. Per exemple, \"circle.txt\", \"cylinder.txt\" o \"cigar.txt\".\n",
        "- A cada línia de cada fitxer hi trobareu informació (separada per punt i coma \";\" referent als següents conceptes):\n",
        "\n",
        "summary;date_time;duration;text;city_latitude;city_longitude\n",
        "\n",
        "- Els noms d'aquests conceptes no apareixen als fitxers, queden implícits per l'ordre a cada línia. Cada fitxer tindrà com a mínim una línia, però pot ser que en tingui més.\n",
        "\n",
        "**Creeu una funció que rebi com a entrada un string amb la ruta a una carpeta (contenint una estructura com l'esmentada) i retorni un diccionari** amb el següent format:\n",
        "\n",
        "- Les claus del diccionari seran enters representant l'ordre en què s'ha trobat cadascuna de les línies de cadascun dels arxius \"shapei.txt\" mencionats anteriorment. Depenent de la implementació pot ser que llegiu els fitxers en ordres diferents.\n",
        "\n",
        "- El valor associat a cada clau serà, en si mateix, un diccionari amb una clau per a cadascun dels conceptes següents: summary,city,state,date_time,shape,duration,text,city_latitude,city_longitude i el valor associat a cada clau segons consta a l'arxiu que s'està llegint.\n",
        "\n",
        "**Exemple:**\n",
        "\n",
        "En el cas que haguéssim llegit com a primer arxiu \"disk.txt\" dins de la carpeta \"IL\" i subcarpeta \"Chicago\", que conté com a primera línia:\n",
        "\n",
        "\"Silver metallic disc observed at Roseland little league baseball field.;1982-06-19 15:00:00;45 seconds;Silver metallic disc observed at Roseland little league baseball field. On a clear...to tell my  story.;41.8841229180932;-87.6674748940178\"\n",
        "\n",
        "Llavors el diccionari donaria a aquesta entrada la clau \"0\" (primera posició en la seqüència) i tindria, per tant, com a parella (clau, valor):\n",
        "\n",
        "(0, {'summary': 'Silver metallic disc observed at Roseland little league baseball field.',\n",
        "  'city': 'Chicago',\n",
        "  'state': 'IL',\n",
        "  'date_time': '1982-06-19 15:00:00',\n",
        "  'shape': 'disk',\n",
        "  'duration': '45 seconds',\n",
        "  'text': \"Silver metallic disc observed at Roseland little league baseball field. On a clear...to tell my  story.\",\n",
        "  'city_latitude': '41.8841229180932',\n",
        "  'city_longitude': '-87.6674748940178'})\n",
        "\n",
        "\n",
        "Noteu que part de la informació (shape, city, state) l'hem obtingut de l'estructura de directoris i la resta del fitxer \"disk.txt\". Noteu també que hem omès part del camp \"text\" per a millorar la llegibilitat de la PAC.\n",
        "\n",
        "**important** Per a resoldre aquest apartat (2.2) **No es pot fer servir la llibreria Pandas.** El seu us resultarà en la pèrdua de tota la puntuació de l'apartat.\n",
        "\n",
        "## 2.3\n",
        "\n",
        "- Convertiu el diccionari obtingut en un dataframe de pandas.  \n",
        "- Guardeu aquest dataframe en un fitxer en format \".csv\" anomenat **fullDF.csv**.  \n",
        "- Mostreu per pantalla les 10 primeres entrades d'aquest dataframe.  \n",
        "- Mesureu i mostreu per pantalla la mida del fitxer **fullDF.csv**.\n",
        "- Compareu les diferències en mida entre \"original.zip\", la carpeta descomprimida i \"fullDF.csv\" fent servir la funció de l'exercici 2.1. Quin ocupa menys espai. Donat que tots tres contenen essencialment la mateixa informació, quin n'es el motiu? Repetiu l'exercici però ara feu-ho mesurant l'espai en disc que us dona el sistema operatiu. Hi ha diferències? Per quin motiu? Responeu aquestes preguntes en un petit paràgraf de text (<10 línies).\n",
        "\n",
        "**Nota:** Per saber les mides de fitxers \"al sistema operatiu\" el més fàcil és que copieu els fitxers i carpetes al vostre drive i els descarregueu per mesurar-los amb les eines del vostre sistema. Aquesta part es considerarà \"extra\" i es pot obtenir la màxima puntuació a la PAC sense resoldre-la.\n",
        "\n",
        "<span style=\"font-family: Courier New; background-color: #82b74b; color: #000000; padding: 3px; \">NM</span> **(4 punts)**"
      ]
    },
    {
      "cell_type": "markdown",
      "metadata": {
        "id": "OqNxjAx5Fjm6"
      },
      "source": [
        "**Solució** En l'apartat 2.1 primer fem una funció per a calcular la mida d'un fitxer o els fitxers d'un directori en Megabytes. A l'exercici no es demana però he pensat que si estem parlant de l'ordre de Megabytes, no té sentit que el resultat tingui molts decimals, així que he fet servir round(x,1) per a canviar-ho.\n",
        "\n",
        "Pel que fa a l'estructura del directori, he fet una funció per a veure els nivells de les carpetes fins a arribar als fitxers. Com hi ha molts estats, ciutats i fitxers, he modificar la funció per a que només se'n mostrin uns exemples. Aquesta part no es demana a l'exercici però ajuda a entendre amb el que estem treballant i com encarar altres apartats. En aquesta funció també aprofito per calcular el nombre de fixters."
      ]
    },
    {
      "cell_type": "code",
      "execution_count": 8,
      "metadata": {
        "colab": {
          "base_uri": "https://localhost:8080/"
        },
        "id": "83PzbYNEoaku",
        "outputId": "827bd1b4-e11f-4d0a-95ed-d63ad5f9c73a"
      },
      "outputs": [
        {
          "output_type": "stream",
          "name": "stdout",
          "text": [
            "La mida abans de descomprimir és 62.2 Megabytes\n",
            "La mida després de descomprimir és 111.4 Megabbytes\n"
          ]
        }
      ],
      "source": [
        "import os\n",
        "import zipfile\n",
        "\n",
        "\n",
        "def calcular_mida(ruta: str) -> float:\n",
        "    \"\"\"\n",
        "    Calcula la mida (en megabytes) d'un fitxer o d'un directori\n",
        "\n",
        "    Args:\n",
        "    ruta (str): La ruta del fitxer o directori\n",
        "\n",
        "    Returns:\n",
        "    float: La mida del fitxer o directori en megabytes\n",
        "    \"\"\"\n",
        "    total_size = 0\n",
        "\n",
        "    # Si és un fitxer, calcula la dimensió\n",
        "    if os.path.isfile(ruta):\n",
        "        total_size = os.path.getsize(ruta)\n",
        "    # En cas contrari, recorra tots els directoris i sub-directoris\n",
        "    # root és el camí al directori que s'està examinant\n",
        "    # dirs és la llista de sub-directoris dintre de root\n",
        "    # files és la llista de fitxers dintre de root\n",
        "    else:\n",
        "        for root, dirs, files in os.walk(ruta):\n",
        "            for f in files:\n",
        "                fp = os.path.join(root, f)\n",
        "                if os.path.isfile(fp):\n",
        "                    total_size += os.path.getsize(fp)\n",
        "\n",
        "    return round(total_size / (1024 * 1024), 1)  # Només 1 decimal\n",
        "\n",
        "\n",
        "def descomprimir_zip(ruta_zip: str, ruta_desti: str) -> None:\n",
        "    \"\"\"\n",
        "    Descomprimeix un fitxer .zip a la ruta de destinació especificada\n",
        "\n",
        "    Args:\n",
        "    ruta_zip (str): La ruta del fitxer .zip a descomprimir\n",
        "    ruta_desti (str): La ruta de destinació on es descomprimiran els arxius\n",
        "\n",
        "    Returns:\n",
        "    None\n",
        "    \"\"\"\n",
        "    # Creem una instància de la classe ZipFile, ruta_zip és la ruta del fixter\n",
        "    # 'r' indica que obrim en mode de lectura (read)\n",
        "    with zipfile.ZipFile(ruta_zip, 'r') as zip_fitxer:\n",
        "        # fem servir extractall per a extreure tots els fitxers i carpetes\n",
        "        # dintre de zip_fitxer a 'ruta_desti' (si no existeix, es crearà)\n",
        "        zip_fitxer.extractall(ruta_desti)\n",
        "\n",
        "\n",
        "size_original = calcular_mida('original.zip')\n",
        "print(f'La mida abans de descomprimir és {size_original} Megabytes')\n",
        "\n",
        "descomprimir_zip('original.zip', '')\n",
        "size_decompressed = calcular_mida('original')\n",
        "print(f'La mida després de descomprimir és {size_decompressed} Megabbytes')"
      ]
    },
    {
      "cell_type": "code",
      "execution_count": 9,
      "metadata": {
        "colab": {
          "base_uri": "https://localhost:8080/"
        },
        "id": "q2fw0AO_tLOM",
        "outputId": "2e36c36b-be6c-464d-e096-04c437e7f691"
      },
      "outputs": [
        {
          "output_type": "stream",
          "name": "stdout",
          "text": [
            "Estructura de: original\n",
            "CO\n",
            "  Victor\n",
            "    unknown.txt\n",
            "    cylinder.txt\n",
            "  Pueblo West\n",
            "    triangle.txt\n",
            "    unknown.txt\n",
            "NT\n",
            "  Hay River\n",
            "    circle.txt\n",
            "  Fort Mcpherson\n",
            "    light.txt\n",
            "Nombre total de fitxers: 49543\n"
          ]
        }
      ],
      "source": [
        "from collections import defaultdict\n",
        "\n",
        "\n",
        "def mostrar_estructura(ruta: str, max_per_nivell=2) -> None:\n",
        "    \"\"\"\n",
        "    Mostra l'estructura de directoris d'un directori, limitant el nombre de\n",
        "    directoris i fitxers mostrats per nivell. També calcula el nombre total\n",
        "    de fixters en el directori\n",
        "\n",
        "    Args:\n",
        "    ruta (str): La ruta del directori\n",
        "    max_per_nivell (int): Màxim nombre d'elements a mostrar per nivell\n",
        "                          (2 per defecte)\n",
        "    Returns:\n",
        "    None: Imprimeix l'estructura de directoris\n",
        "    \"\"\"\n",
        "    print(f'Estructura de: {ruta}')\n",
        "    # inicialitzem 'estructura' i 'total_fitxers'. Per a 'estructura'\n",
        "    # fem servir 'defaultdic' per donar un valor per defecte per a una\n",
        "    # clau que encara no existeix\n",
        "    estructura = defaultdict(list)\n",
        "    total_fitxers = 0\n",
        "\n",
        "    # root és el camí al directori que s'està examinant\n",
        "    # dirs és la llista de sub-directoris dintre de root\n",
        "    # files és la llista de fitxers dintre de root\n",
        "    for root, dirs, files in os.walk(ruta):\n",
        "        # relpath és per obtindre el path relatiu de root a ruta\n",
        "        path = os.path.relpath(root, ruta)\n",
        "        # os.path.relpath retorn:\n",
        "        # - '.' si root i ruta són iguals\n",
        "        # si això passa, path és una cadena buida\n",
        "        if path == '.':\n",
        "            path = ''\n",
        "        # el diccionari 'estructura' s'actualitza:\n",
        "        # - clau és el 'path' i el valor són els fixters\n",
        "        #   (màx max_per_nivell) valors\n",
        "        estructura[path] = dirs[:max_per_nivell] + files[:max_per_nivell]\n",
        "        # guardem a 'total_fitxers' el nombre de 'files'\n",
        "        total_fitxers += len(files)\n",
        "\n",
        "    def imprimir_estructura(actual: str, idx=0):\n",
        "        \"\"\"\n",
        "        Funció interna de llistar_estructura_limitada() que s'utilitza\n",
        "        per imprimir l'estructura de directoris i fitxers\n",
        "\n",
        "        Args:\n",
        "        actual (str): cadena que representa el camí actual\n",
        "        idx (int): enter per controlar el nivell del directori\n",
        "        \"\"\"\n",
        "        # recorrem tots els elements dintre de 'actual'\n",
        "        for element in estructura[actual]:\n",
        "            # impirmim 'element' i fem servir 'idx' per donar un format\n",
        "            # fàcil per veure el nivell dels directoris\n",
        "            print('  ' * idx + element)\n",
        "            # contruïm nou camí afegint 'element' a 'actual'\n",
        "            # si 'actual' és una cadena buida llavors\n",
        "            # es pren 'element' com 'nou_actual'\n",
        "            nou_actual = os.path.join(actual, element) if actual else element\n",
        "            if nou_actual in estructura:\n",
        "                imprimir_estructura(nou_actual, idx + 1)\n",
        "\n",
        "    imprimir_estructura('')\n",
        "    print(f'Nombre total de fitxers: {total_fitxers}')\n",
        "\n",
        "\n",
        "mostrar_estructura('original')"
      ]
    },
    {
      "cell_type": "code",
      "execution_count": 10,
      "metadata": {
        "id": "HQsK1hT_Fjm6"
      },
      "outputs": [],
      "source": [
        "# Test Cell, Public\n",
        "assert 61.8 <= size_original <= 62.4, \"Wrong Size for original file.\"\n",
        "assert 111 <= size_decompressed <= 112, \"Wrong Size for decompressed folder.\""
      ]
    },
    {
      "cell_type": "markdown",
      "metadata": {
        "id": "1NMAc91LzOxV"
      },
      "source": [
        "**Solució** En l'apartat 2.2 fem una funció que llegeix tots els fitxers d'una carpeta amb l'estructura esmentada i en fa un diccionari. A l'enunciat no es demana però faig una comprovació sobre els fitxers per assegurar que son .txt. Una altre comprovació interessant podria ser mirar si tots els fitxers .txt tenen 9 camps o si n'hi ha algun que no els té (podria ser un fitxer corrupte)."
      ]
    },
    {
      "cell_type": "code",
      "execution_count": 11,
      "metadata": {
        "id": "JwFEsntmzVsh"
      },
      "outputs": [],
      "source": [
        "from posixpath import split\n",
        "\n",
        "\n",
        "def llegir_fitxers_fer_diccionari(ruta):\n",
        "    \"\"\"\n",
        "    Llegeix tots els fitxers acabats en '.txt' en una estructura de\n",
        "    directoris i retorna un diccionari amb les dades.\n",
        "\n",
        "    Args:\n",
        "    ruta (str): La ruta del directori arrel on començar la recerca\n",
        "\n",
        "    Returns:\n",
        "    dict: Un diccionari amb les dades extretes\n",
        "    \"\"\"\n",
        "    dades = {}\n",
        "    id_linia = 0\n",
        "\n",
        "    # recorrem tots els directoris\n",
        "    for root, dirs, files in os.walk(ruta):\n",
        "        # fem un split per partir la ruta i obtenir city i state\n",
        "        # root conté la ruta completa al fitxer, al fer split respecte\n",
        "        # 'os.sep' estem separant per directoris (en windows seria '\\\\'\n",
        "        # i en Ubuntu '/')\n",
        "        parts_path = root.split(os.sep)\n",
        "        # Comprovem si la ruta té la profunditat esperada ja que també passarem\n",
        "        # pel cas 'original', 'original/estat'\n",
        "        # abans d'arribar a 'original/estat/ciutat'\n",
        "        if len(parts_path) >= 3:\n",
        "            # El codi de l'estat és el tercer des de l'últim\n",
        "            state = parts_path[-2]\n",
        "            # El nom de la ciutat és el segon des de l'últim\n",
        "            city = parts_path[-1]\n",
        "\n",
        "            # recorrem tots els fitxers\n",
        "            for file in files:\n",
        "                # Comprovem si el fitxer és un .txt abans de processar-lo\n",
        "                if file.endswith('.txt'):\n",
        "                    # obtenim 'shape' fent un split del nom del fitxer\n",
        "                    shape = file.split('.txt')[0]\n",
        "                    # creem la ruta completa del fitxer\n",
        "                    file_path = os.path.join(root, file)\n",
        "                    # obrim el fitxer en mode lectura\n",
        "                    with open(file_path, 'r') as file:\n",
        "                        # llegim les linies del fitxer\n",
        "                        for line in file:\n",
        "                            # fem servir \"split(';')\" per\n",
        "                            # separar els diferents camps\n",
        "                            camps = line.strip().split(';')\n",
        "                            # Comprovem que tenim 6 camps esperats\n",
        "                            if len(camps) == 6:\n",
        "                                # fem servir 'id_linia' per\n",
        "                                # anar omplint amb els 'camps' del txt\n",
        "                                dades[id_linia] = {\n",
        "                                    'summary': camps[0],\n",
        "                                    'city': city,\n",
        "                                    'state': state,\n",
        "                                    'date_time': camps[1],\n",
        "                                    'shape': shape,\n",
        "                                    'duration': camps[2],\n",
        "                                    'text': camps[3],\n",
        "                                    'city_latitude': camps[4],\n",
        "                                    'city_longitude': camps[5]\n",
        "                                }\n",
        "                                id_linia += 1\n",
        "\n",
        "    return dades\n",
        "\n",
        "\n",
        "myDict = llegir_fitxers_fer_diccionari('original')"
      ]
    },
    {
      "cell_type": "code",
      "execution_count": 12,
      "metadata": {
        "id": "6mOn8Eb1Fjm7"
      },
      "outputs": [],
      "source": [
        "# Test Cell, Public\n",
        "dict_size = len(myDict)\n",
        "\n",
        "assert dict_size == 101207, \" Incorrect number of entries.\"\n",
        "assert len(myDict[0]) == len(myDict[dict_size-1]) == 9, \\\n",
        " \" Incorrect number of entries.\""
      ]
    },
    {
      "cell_type": "markdown",
      "source": [
        "**Solució** En l'apartat 2.3 hem de transformar el diccionari a un dataframe de pandas. Posteriorment el volem guardar en un fitxer en format csv anomenat fullDF.csv. Per fer-ho he fet una funció que realitza les dues tasques. Els inputs de la funció són el diccionari i el nom del fixter csv, el output és el dataframe per si hi volem treballar."
      ],
      "metadata": {
        "id": "352NM5aTSfqP"
      }
    },
    {
      "cell_type": "code",
      "source": [
        "import pandas as pd\n",
        "from typing import Dict\n",
        "\n",
        "\n",
        "def diccionari_to_csv(diccionari: Dict, nom_csv: str) -> pd.DataFrame:\n",
        "    \"\"\"\n",
        "    Converteix un diccionari en un DataFrame de pandas i\n",
        "    després el guarda com a fitxer CSV.\n",
        "\n",
        "    Args:\n",
        "        diccionari (Dict): El diccionari per convertir.\n",
        "        nom_csv (str): El nom del fitxer CSV de sortida.\n",
        "\n",
        "    Returns:\n",
        "        pd.DataFrame: El DataFrame creat a partir del diccionari.\n",
        "    \"\"\"\n",
        "    # Convertim el diccionari en una llista\n",
        "    data = list(diccionari.values())\n",
        "\n",
        "    # Creem un dataframe a partir de la llista\n",
        "    df = pd.DataFrame(data)\n",
        "\n",
        "    # Guardem el DataFrame com a fitxer CSV\n",
        "    # afegim index=False per evitar guardar l'index com una columna adicional\n",
        "    df.to_csv(f'{nom_csv}.csv', index=False)\n",
        "\n",
        "    # Retornem el DataFrame\n",
        "    return df\n",
        "\n",
        "\n",
        "# guardem el dataframe amb el nom 'df_pac2'\n",
        "df_pac2 = diccionari_to_csv(myDict, 'fullDF')\n",
        "# mirem les 10 primeres files\n",
        "print(df_pac2.head(10))"
      ],
      "metadata": {
        "colab": {
          "base_uri": "https://localhost:8080/"
        },
        "id": "OjlqaL34Sj9O",
        "outputId": "dba0fdff-2122-41e9-c7e6-3d39dbffbd0c"
      },
      "execution_count": 13,
      "outputs": [
        {
          "output_type": "stream",
          "name": "stdout",
          "text": [
            "                                             summary         city state  \\\n",
            "0  Two strobe like lights flying in unison in sou...       Victor    CO   \n",
            "1                  colored lights behind Pike's Peak       Victor    CO   \n",
            "2  It was about 11:30 at night, when my brother c...  Pueblo West    CO   \n",
            "3  two bright white lights with a translucent vei...  Pueblo West    CO   \n",
            "4  Three flashing lights in a triangle shape over...  Pueblo West    CO   \n",
            "5  Lights Over Lake Pueblo travel past the North ...  Pueblo West    CO   \n",
            "6      A red laser-like light came out of a cloud...  Pueblo West    CO   \n",
            "7  Intense red light, spinning rapidly, droning s...  Pueblo West    CO   \n",
            "8  Red lights that were hovering in the north.  2...  Pueblo West    CO   \n",
            "9  I have been watching documentaries and studyin...  Pueblo West    CO   \n",
            "\n",
            "             date_time     shape         duration  \\\n",
            "0  2012-01-26 19:00:00   unknown       15 minutes   \n",
            "1  2000-09-24 20:15:00  cylinder   4 or 5 minutes   \n",
            "2  1998-05-15 23:30:00  triangle            15min   \n",
            "3  2011-05-30 04:20:00  triangle           10 min   \n",
            "4  2018-05-07 17:00:00  triangle        7 minutes   \n",
            "5  2010-03-20 22:00:00   unknown       20 minutes   \n",
            "6  2002-10-04 21:30:00     other  About 4 seconds   \n",
            "7  2003-10-02 22:15:00     other    10-15 seconds   \n",
            "8  2012-12-13 19:00:00    circle        5 minutes   \n",
            "9  2018-03-12 16:00:00    circle         1 minute   \n",
            "\n",
            "                                                text city_latitude  \\\n",
            "0  Two strobe like lights flying in unison in sou...       38.7091   \n",
            "1  colored lights behind Pike's Peak My husband a...       38.7091   \n",
            "2  It was about 11:30 at night, when my brother c...        38.387   \n",
            "3  two bright white lights with a translucent vei...        38.387   \n",
            "4  Three flashing lights in a triangle shape over...        38.387   \n",
            "5  Lights Over Lake Pueblo travel past the North ...        38.387   \n",
            "6  A red laser-like light came out of a cloud... ...        38.387   \n",
            "7  Intense red light, spinning rapidly, droning s...        38.387   \n",
            "8  Red lights that were hovering in the north.  2...        38.387   \n",
            "9  I have been watching documentaries and studyin...        38.387   \n",
            "\n",
            "  city_longitude  \n",
            "0      -105.1369  \n",
            "1      -105.1369  \n",
            "2      -104.7792  \n",
            "3      -104.7792  \n",
            "4      -104.7792  \n",
            "5      -104.7792  \n",
            "6      -104.7792  \n",
            "7      -104.7792  \n",
            "8      -104.7792  \n",
            "9      -104.7792  \n"
          ]
        }
      ]
    },
    {
      "cell_type": "code",
      "source": [
        "from google.colab import files\n",
        "\n",
        "# mirem la mida en Megabytes de full.csv i de original.zip\n",
        "mida_csv = calcular_mida('fullDF.csv')\n",
        "\n",
        "missatge = (f'La mida del fixter fullDF és {mida_csv}, '\n",
        "            f'en canvi, la de oiringal.zip és {size_original}')\n",
        "print(missatge)\n",
        "\n",
        "# per a fer la comparació en el meu ordinador primer hem de descarregar\n",
        "# els fixters de la màquina de google\n",
        "\n",
        "files.download('fullDF.csv')"
      ],
      "metadata": {
        "colab": {
          "base_uri": "https://localhost:8080/",
          "height": 52
        },
        "id": "7KUCuAqWc_kf",
        "outputId": "1baabaf2-a739-4d80-af98-60433d5deaca"
      },
      "execution_count": 14,
      "outputs": [
        {
          "output_type": "stream",
          "name": "stdout",
          "text": [
            "La mida del fixter fullDF és 113.6, en canvi, la de oiringal.zip és 62.2\n"
          ]
        },
        {
          "output_type": "display_data",
          "data": {
            "text/plain": [
              "<IPython.core.display.Javascript object>"
            ],
            "application/javascript": [
              "\n",
              "    async function download(id, filename, size) {\n",
              "      if (!google.colab.kernel.accessAllowed) {\n",
              "        return;\n",
              "      }\n",
              "      const div = document.createElement('div');\n",
              "      const label = document.createElement('label');\n",
              "      label.textContent = `Downloading \"${filename}\": `;\n",
              "      div.appendChild(label);\n",
              "      const progress = document.createElement('progress');\n",
              "      progress.max = size;\n",
              "      div.appendChild(progress);\n",
              "      document.body.appendChild(div);\n",
              "\n",
              "      const buffers = [];\n",
              "      let downloaded = 0;\n",
              "\n",
              "      const channel = await google.colab.kernel.comms.open(id);\n",
              "      // Send a message to notify the kernel that we're ready.\n",
              "      channel.send({})\n",
              "\n",
              "      for await (const message of channel.messages) {\n",
              "        // Send a message to notify the kernel that we're ready.\n",
              "        channel.send({})\n",
              "        if (message.buffers) {\n",
              "          for (const buffer of message.buffers) {\n",
              "            buffers.push(buffer);\n",
              "            downloaded += buffer.byteLength;\n",
              "            progress.value = downloaded;\n",
              "          }\n",
              "        }\n",
              "      }\n",
              "      const blob = new Blob(buffers, {type: 'application/binary'});\n",
              "      const a = document.createElement('a');\n",
              "      a.href = window.URL.createObjectURL(blob);\n",
              "      a.download = filename;\n",
              "      div.appendChild(a);\n",
              "      a.click();\n",
              "      div.remove();\n",
              "    }\n",
              "  "
            ]
          },
          "metadata": {}
        },
        {
          "output_type": "display_data",
          "data": {
            "text/plain": [
              "<IPython.core.display.Javascript object>"
            ],
            "application/javascript": [
              "download(\"download_7702f7a0-9224-45ff-94d7-5e414e4fe0a5\", \"fullDF.csv\", 119093009)"
            ]
          },
          "metadata": {}
        }
      ]
    },
    {
      "cell_type": "markdown",
      "source": [
        "La diferència de mida entre els formats CSV i ZIP, tot i tindre la mateixa informació es degut al format.\n",
        "\n",
        " * format CSV: és un format de fitxer de text pla sense compressió. És a dir, cada caracter dincs del fitxer ocupa un espai en el disc(inclosos els separados i els salts de línia).\n",
        "\n",
        " * format ZIP: Aquest suporta la compresió de dades sense pèrdua. Això vol dir que l'algoritme de compresió elimina redundancies del fitxer.\n",
        "\n",
        "Després de descarregar 'original.zip' i 'fullDF.csv' al meu ordinador (Windows 10) i fer click secundari en ells per veure el tamany en disc he pogut veure que ocupen el mateix que a la màquina de Google.\n",
        "\n",
        " * fullDF.csv:  tamaño 114 MB (119.690.349 bytes), tamaño en disco 114 MB (119.693.312 bytes)\n",
        " * original.zip: tamaño 62,1 MB (65.200.128 bytes), tamaño disco 62,1 MB (65.200.128 bytes)\n",
        "\n",
        " El nombre entre parèntesis està mostrant la mida exacta en bytes, en canvi, els 114 i 62.1 MB estan en notació decimal, on 1 KB = 1000 bytes i 1 MB = 1.000.000 bytes"
      ],
      "metadata": {
        "id": "lrSe41ROhObY"
      }
    },
    {
      "cell_type": "markdown",
      "metadata": {
        "id": "yZ4wNHcAFjm8"
      },
      "source": [
        "# Exercici 3\n",
        "\n",
        "En aquest exercici farem servir el dataframe construït en l'exercici anterior per tal de fer diverses cerques en les nostres dades. A més a més, tornarem a convertir el data frame en una altra estructura de fitxers i veurem si el resultat millora l'us de l'espai de disc que hem observat.\n",
        "\n",
        "**NOTA** Us recomanem resoldre primer completament l'exercici 2 abans d'intentar l'exercici 3. En tot cas, disposeu d'un petit fitxer anomenat **testDF.csv**. On podeu veure una mostra del tipus de registres que ha de contenir el dataframe que heu de crear a l'exercici 2.\n",
        "\n",
        "En primer lloc, necessitem explicitar l'any de cada avistament:\n",
        "\n",
        "# 3.1\n",
        "\n",
        "Afegiu una columna \"year\" al dataframe creat en l'exercici 2 que contingui l'any en què es va esdevenir l'avistament.\n",
        "\n",
        "\n",
        "# 3.2\n",
        "\n",
        "El cap de l'empresa us diu que sap del cert que només part de les entrades del dataframe són evidència indiscutible de presència extraterrestre: En concret han de complir, que el camp \"text\" contingui, a la vegada:\n",
        "\n",
        "- Dues paraules **consecutives**, la primera començant per E i la segona per T (en majúscules).\n",
        "- Tres paraules **consecutives**, la primera començant per U, la segona per F i la tercera per O (en aquest cas, les lletres inicials poden ser majúscules o minúscules indistintament).\n",
        "\n",
        "Per exemple, el text\n",
        "\n",
        "\"...Els Tròpics són sempre un festival Olímpic, tot i que hi plou poc...\"\n",
        "\n",
        "Compliria les dues condicions.\n",
        "\n",
        "Per contra, els textos\n",
        "\n",
        "\"Els vells Tròpics són sempre un festival Olímpic, tot i que hi plou poc\"\n",
        "\n",
        "\"Els tròpics són sempre un festival Olímpic, tot i que hi plou poc\"\n",
        "\n",
        "\"Els Tròpics són sempre un festival de color, tot i que hi plou poc\"\n",
        "\n",
        "No el compliria donat que: en el primer cas i el segon no hi ha dues paraules consecutives que comencin per E i T. En el primer cas les paraules no són consecutives i en el segon la E i la T no són totes dues majúscules. En el tercer cas, tot i que la primera condició es compleix, la segona no.\n",
        "\n",
        "**Utilitzant expressions regulars**, creu un nou dataframe (i anomeneu-lo \"df32\") que contingui només les línies  que compleixin a la vegada les dues condicions esmentades.\n",
        "\n",
        "# 3.3\n",
        "\n",
        "Per motius d'espai pot ser necessari reduir la informació que es guarda per a cada  registre. Partint del dataframe resultat de l'exercici 3.1, creeu un nou dataframe anomenat \"df33\", en el que haureu eliminat la columna \"text\".\n",
        "\n",
        "# 3.4\n",
        "\n",
        "Creeu una funció que rebi com a entrada un string amb la ruta a una carpeta i un dataframe i:\n",
        "\n",
        "\n",
        "**1) crei un diccionari com el que es detalla a continuació**:\n",
        "\n",
        "- Les claus del diccionari seran enters representant l'ordre en què cada entrada apareix al dataframe (index).\n",
        "\n",
        "- El valor associat a cada clau serà, en si mateix, un diccionari amb una clau per a cadascun dels conceptes següents:\n",
        "\n",
        "summary,city,state,date_time,shape,duration,text,city_latitude,city_longitude, year\n",
        "\n",
        "i el valor de cada clau segons consta al dataframe l'arxiu que s'està llegint.\n",
        "\n",
        "    **Pista: Aquest part de l'exercici es pot resoldre amb una sola comanda de la llibreria pandas**\n",
        "\n",
        "**2) Recorri totes les entrades del diccionari i construeixi una nova estructura de fitxers tal com es detalla a continuació***\n",
        "\n",
        "- El directori arrel contindrà una subcarpeta per a cada any on s'hagi produït un avistament, a dins de la carpeta de cada any hi haurà carpetes per a tots els estats on hi hagi hagut avistaments i a dins de la carpeta de cada estat tindrem una carpeta per a cada ciutat on hi hagi hagut avistaments. A dins de cada carpeta de ciutat, hi haurà un fitxer de text per a cada tipus d'objecte avistat. Per exemple, \"circle.txt\", \"cylinder.txt\" o \"cigar.txt\".\n",
        "\n",
        "```\n",
        "<root_folder>\n",
        "    <year1>\n",
        "        <state_code1>\n",
        "            <city_name1>\n",
        "                shape1.txt\n",
        "                shape2.txt\n",
        "                ...\n",
        "                shapeN.txt\n",
        "            <city_name2>\n",
        "            ...\n",
        "        <state_code2>\n",
        "        ...\n",
        "    <year2>\n",
        "    ...\n",
        "            \n",
        "```\n",
        "\n",
        "- A cada línia de cada fitxer caldrà escriure-hi la informació referent als següents conceptes (separats per punt i coma \";\" ):\n",
        "\n",
        "summary;date_time;duration;text;city_latitude;city_longitude\n",
        "\n",
        "- Els noms d'aquests conceptes no apareixeran als fitxers i quedaran implícits per l'ordre a cada línia. Cada fitxer tindrà com a mínim una línia, però pot ser que en tingui més.\n",
        "\n",
        "- En cas que un concepte no aparegui en un dataframe (per exemple \"text\" en un dels casos que us demanarem), ignoreu-lo en la llista de conceptes.\n",
        "\n",
        "**Executeu la funció creada amb els dataframes resultat dels apartats 3.1, 3.2, 3.3.**\n",
        "\n",
        "# 3.5\n",
        "\n",
        "- Mesureu i mostreu per pantalla la mida de les tres carpetes resultat de l'apartat 3.3. I guardeu-les en tres variables anomenades \"size_31\", \"size_32\", \"size_33\".\n",
        "- Compareu les diferències entre aquestes les mides d'aquestes 3 carpetes, i la de la carpeta descomprimida \"original\" segons les mesura la funció de l'apartat 2.1 i segons les retorna el vostre sistema operatiu i comenteu els resultats en un petit paràgraf de text (<10 linies).\n",
        "\n",
        "**Nota:** Per saber les mides de fitxers \"al sistema operatiu\" el més fàcil és que copieu els fitxers i carpetes al vostre drive i els descarregueu per mesurar-los amb les eines del vostre sistema. Aquesta part es considerarà \"extra\" i es pot obtenir la màxima puntuació a la PAC sense resoldre-la.\n",
        "\n",
        "<span style=\"font-family: Courier New; background-color: #ffcc5c; color: #000000; padding: 3px; \">EG</span> **(5 punts)**"
      ]
    },
    {
      "cell_type": "markdown",
      "metadata": {
        "id": "TQvUZJjRFjm8"
      },
      "source": [
        "**SOLUCIO** En l'apartat 3.1 volem afegir una nova columna al nostre dataframe. La nova columna depèn d'una columna que ja hi ha, així que la transformem a un format que puguem manipular i apliquem la transformació, guardant el resultat en la nova columna."
      ]
    },
    {
      "cell_type": "code",
      "source": [
        "# fem una copia de df_pac2 anomenada df31\n",
        "df31 = df_pac2.copy()\n",
        "# Convertim la columna 'date_time' a datatime\n",
        "df31['date_time'] = pd.to_datetime(df31['date_time'])\n",
        "# A continuació obtenim l'any de date_time i l'afegim a la nova columna\n",
        "df31['year'] = df31['date_time'].dt.year\n",
        "\n",
        "# mirem les 10 primeres files per veure si s'ha fet correctament\n",
        "print(df31.head(10))"
      ],
      "metadata": {
        "colab": {
          "base_uri": "https://localhost:8080/"
        },
        "id": "SQhRZa96A7Fe",
        "outputId": "456b25c4-9b0f-4c4f-8563-daa4f7c69bd3"
      },
      "execution_count": 15,
      "outputs": [
        {
          "output_type": "stream",
          "name": "stdout",
          "text": [
            "                                             summary         city state  \\\n",
            "0  Two strobe like lights flying in unison in sou...       Victor    CO   \n",
            "1                  colored lights behind Pike's Peak       Victor    CO   \n",
            "2  It was about 11:30 at night, when my brother c...  Pueblo West    CO   \n",
            "3  two bright white lights with a translucent vei...  Pueblo West    CO   \n",
            "4  Three flashing lights in a triangle shape over...  Pueblo West    CO   \n",
            "5  Lights Over Lake Pueblo travel past the North ...  Pueblo West    CO   \n",
            "6      A red laser-like light came out of a cloud...  Pueblo West    CO   \n",
            "7  Intense red light, spinning rapidly, droning s...  Pueblo West    CO   \n",
            "8  Red lights that were hovering in the north.  2...  Pueblo West    CO   \n",
            "9  I have been watching documentaries and studyin...  Pueblo West    CO   \n",
            "\n",
            "            date_time     shape         duration  \\\n",
            "0 2012-01-26 19:00:00   unknown       15 minutes   \n",
            "1 2000-09-24 20:15:00  cylinder   4 or 5 minutes   \n",
            "2 1998-05-15 23:30:00  triangle            15min   \n",
            "3 2011-05-30 04:20:00  triangle           10 min   \n",
            "4 2018-05-07 17:00:00  triangle        7 minutes   \n",
            "5 2010-03-20 22:00:00   unknown       20 minutes   \n",
            "6 2002-10-04 21:30:00     other  About 4 seconds   \n",
            "7 2003-10-02 22:15:00     other    10-15 seconds   \n",
            "8 2012-12-13 19:00:00    circle        5 minutes   \n",
            "9 2018-03-12 16:00:00    circle         1 minute   \n",
            "\n",
            "                                                text city_latitude  \\\n",
            "0  Two strobe like lights flying in unison in sou...       38.7091   \n",
            "1  colored lights behind Pike's Peak My husband a...       38.7091   \n",
            "2  It was about 11:30 at night, when my brother c...        38.387   \n",
            "3  two bright white lights with a translucent vei...        38.387   \n",
            "4  Three flashing lights in a triangle shape over...        38.387   \n",
            "5  Lights Over Lake Pueblo travel past the North ...        38.387   \n",
            "6  A red laser-like light came out of a cloud... ...        38.387   \n",
            "7  Intense red light, spinning rapidly, droning s...        38.387   \n",
            "8  Red lights that were hovering in the north.  2...        38.387   \n",
            "9  I have been watching documentaries and studyin...        38.387   \n",
            "\n",
            "  city_longitude  year  \n",
            "0      -105.1369  2012  \n",
            "1      -105.1369  2000  \n",
            "2      -104.7792  1998  \n",
            "3      -104.7792  2011  \n",
            "4      -104.7792  2018  \n",
            "5      -104.7792  2010  \n",
            "6      -104.7792  2002  \n",
            "7      -104.7792  2003  \n",
            "8      -104.7792  2012  \n",
            "9      -104.7792  2018  \n"
          ]
        }
      ]
    },
    {
      "cell_type": "markdown",
      "source": [
        "**SOLUCIÓ** En l'arpatat 3.2 volem buscar en el nostre dataframe els registres que a la columna 'text' compleixen unes certes condicions. Primer definim les condicions fent servir expressions regulars. A continuació fem una funció que retorna True si donat un text s'hi troben aquestes condicions. Fem servir la funció per a filtrar el nostre dataframe i crear-ne un de nou."
      ],
      "metadata": {
        "id": "OpU1SZCzgX0x"
      }
    },
    {
      "cell_type": "code",
      "source": [
        "import re\n",
        "from typing import List, Tuple\n",
        "\n",
        "# Expressions regulars\n",
        "# fem servir r'cadena' per dir que és una cadena 'raw' i poder fer servir\n",
        "# caràcters com '\\' fàcilment\n",
        "# \\b indica principi o final de paraula, al estar davant, indica principi\n",
        "# \\w* indica qualsevol nombre de caràcters alfanumèrics, així tenim en compte\n",
        "# paraules de longitud 1 o més.\n",
        "# Més endavant ens preocuparem de les majúscules i les minúscules\n",
        "re_ET = r'\\bE\\w* T\\w*'\n",
        "re_ufo = r'\\bU\\w* F\\w* O\\w*'\n",
        "\n",
        "\n",
        "# Funció per buscar expressions regulars en un text\n",
        "def buscar_condicions(text: str,\n",
        "                      condicions: List[Tuple[str, bool]]) -> bool:\n",
        "    \"\"\"\n",
        "    Funció per buscar expressions regulars en un text.\n",
        "    Permet diferenciar entre majúscules i minúscules.\n",
        "\n",
        "    Args:\n",
        "    text (str): El text a ser evaluat.\n",
        "    condicions (List[Tuple[str, bool]]): Llista de tuples amb expressions\n",
        "    regulars i un booleà indicant si s'ha d'usar IGNORECASE.\n",
        "\n",
        "    Returns:\n",
        "    bool: True si es troben totes les condicions, False en cas contrari.\n",
        "    \"\"\"\n",
        "    # itera sobre la llista condicions, cada element és una tupla\n",
        "    # (condicio, ignore_case) on 'condicio' és una expressió regular\n",
        "    # i 'ignore_case' és un booleà.\n",
        "    # Si IGNORECASE està en False, es diferencia entre majúscules i minúscules\n",
        "    for condicio, ignore_case in condicions:\n",
        "        if ignore_case:\n",
        "            # re.search(condicio, text, re.IGNORECASE) busca la condició\n",
        "            # si no el troba, es fa el return False\n",
        "            if not re.search(condicio, text, re.IGNORECASE):\n",
        "                return False\n",
        "            # fa el mateix però amb ignore_case = false\n",
        "        else:\n",
        "            if not re.search(condicio, text):\n",
        "                return False\n",
        "    return True\n",
        "\n",
        "\n",
        "# Com volem que es busqui E i T (majúscules), fem ignore_case <- False\n",
        "# Com només volem que busqui u, f, o (majúscules i mínuscules) fem True\n",
        "condicions = [(re_ET, False), (re_ufo, True)]\n",
        "\n",
        "# Creació del dataframe df32 on apliquem la funció 'buscar_condicions' sobre\n",
        "# la columna 'text' de 'df_pac2'. Al fer apply es retornen els valors booleans\n",
        "# assignats a cada fila de la columna text. Aquest resultat es fa servir\n",
        "# per filtra df31 i posar a df32 només aquelles files que compleixin\n",
        "# totes les condicions.-\n",
        "df32 = df31[df31['text'].apply(\n",
        "    lambda text: buscar_condicions(text, condicions))]"
      ],
      "metadata": {
        "id": "eOODMH1VTkqH"
      },
      "execution_count": 16,
      "outputs": []
    },
    {
      "cell_type": "code",
      "execution_count": 17,
      "metadata": {
        "id": "9l_xgUx8Fjm8",
        "scrolled": true
      },
      "outputs": [],
      "source": [
        "# Test Cell, public\n",
        "assert len(df32) < 30, \"Too many entries\""
      ]
    },
    {
      "cell_type": "markdown",
      "source": [
        "**SOLUCIÓ** En l'apartat 3.3 volem eliminar la columna 'text' de df31. Per fer-ho hem creat una funció que elimina una de les columnes d'un dataframe i retorna un dataframe, si la columna no existeix, dona un missatge d'error."
      ],
      "metadata": {
        "id": "7hdwq_2BiHeM"
      }
    },
    {
      "cell_type": "code",
      "source": [
        "def eliminar_column(dataframe: pd.DataFrame, nom_columna: str) -> pd.DataFrame:\n",
        "    \"\"\"\n",
        "    Elimina una columna específica d'un dataframe\n",
        "\n",
        "    Args:\n",
        "    dataframe (pd.DataFrame): dataframe a processar\n",
        "    nom_columna (str): nom de la columna a eliminar\n",
        "\n",
        "    Returns:\n",
        "    pd.DataFrame: dataframe amb la columna eliminada o el\n",
        "                  mateix dataframe amb un missatge d'error\n",
        "    \"\"\"\n",
        "    # Si nom_columna està al df\n",
        "    if nom_columna in dataframe.columns:\n",
        "        # eliminem la columna amb .drop\n",
        "        return dataframe.drop(columns=[nom_columna])\n",
        "    # en cas contrari\n",
        "    else:\n",
        "        # donem el missatge d'error\n",
        "        print(f\"La columna '{nom_columna}' no existeix en el DataFrame.\")\n",
        "        return dataframe\n",
        "\n",
        "\n",
        "# Intentem eliminar una columna que no existeix\n",
        "df33 = eliminar_column(df31, 'Teléfono, mi casa')\n",
        "\n",
        "# Eliminem ara la columna 'text'\n",
        "df33 = eliminar_column(df31, 'text')\n",
        "\n",
        "# Mirem si s'ha fet correctament\n",
        "assert len(df31.columns) == len(df33.columns) + 1, \\\n",
        "       \"df31 no té exactament una columna més que df33\""
      ],
      "metadata": {
        "colab": {
          "base_uri": "https://localhost:8080/"
        },
        "id": "NnIlWMeTiM5d",
        "outputId": "cd8a57e0-14d9-46c4-a44d-e9919e540e81"
      },
      "execution_count": 18,
      "outputs": [
        {
          "output_type": "stream",
          "name": "stdout",
          "text": [
            "La columna 'Teléfono, mi casa' no existeix en el DataFrame.\n"
          ]
        }
      ]
    },
    {
      "cell_type": "markdown",
      "source": [
        "**SOLUCIÓ** En l'apartat 3.4 es vol una funció que:\n",
        "\n",
        "part 1: crei un diccionari amb certes característiques, per fer-ho s'ha fet servir la informació disponible a https://pandas.pydata.org/docs/reference/api/pandas.DataFrame.to_dict.html.\n",
        "\n",
        "part 2: Recorri les entrades del diccionari i construeixi una nova estructura de fitxers igual que a la del principi de la pràctica però tenint en compte els anys.\n"
      ],
      "metadata": {
        "id": "keAfYsW0mZci"
      }
    },
    {
      "cell_type": "code",
      "source": [
        "def df_to_diccionari_to_directori(df: pd.DataFrame, directori: str) -> None:\n",
        "    \"\"\"\n",
        "    Processa un dataframe i construeix una estructura de directoris amb\n",
        "    subcarpetes per any, estat i ciutat. A continuació genera fitxers de\n",
        "    text per a cada forma d'avistament, finalment hi afegeix la resta\n",
        "    de la informació.\n",
        "\n",
        "    Args:\n",
        "    df (pd.DataFrame): dataFrame amb les dades\n",
        "    directori (str): ruta de la carpeta on es crearà l'estructura\n",
        "    \"\"\"\n",
        "\n",
        "    # A la llibreria de pandas, en concret en pandas.DataFrame.to_dict he vist\n",
        "    # que al fer orient='index' s'indica que cada fila del df serà una entrada\n",
        "    # del diccionari\n",
        "    diccionari = df.to_dict(orient='index')\n",
        "    # Recorrem cada element de 'diccionari'\n",
        "    # idx: és la clau de cada element del diccionari\n",
        "    # avistament: el valor associat a cada clau\n",
        "    # es fa servir .items per obtindre les parelles clau-valor\n",
        "    for idx, avistament in diccionari.items():\n",
        "        # x = avistament.get('x'): s'extreu el valor associat a 'x',\n",
        "        # si la clau no existeix retornarà 'None'\n",
        "        year = avistament.get('year')\n",
        "        state = avistament.get('state')\n",
        "        city = avistament.get('city')\n",
        "        shape = avistament.get('shape')\n",
        "\n",
        "        # amb os.path.join unim múltiples cadenes de text de forma que\n",
        "        # és compatible amb el SO utilitzat ('\\' Ubuntu, '//' Windows)\n",
        "        # el directori serà el directori base\\any\\codi_estat\\ciutat\n",
        "        # year es transforma a string\n",
        "        dir_path = os.path.join(directori, str(year), state, city)\n",
        "\n",
        "        # Crea les carpetes de 'dir_path' si no existeixen\n",
        "        os.makedirs(dir_path, exist_ok=True)\n",
        "\n",
        "        # Construeix el camí del fitxer i posa el valor de 'shape'\n",
        "        # com a nom del .txt\n",
        "        file_path = os.path.join(dir_path, f\"{shape}.txt\")\n",
        "\n",
        "        # Creem una llista anomenada info. Cada valor de la llista és un valor\n",
        "        # obtingut del diccionari. Amb el mètode .get() obtenim la informació\n",
        "        # i definim un valor per defecte '' en cas de que no hi hagi la clau.\n",
        "        info = [\n",
        "            avistament.get('summary', ''),\n",
        "            str(avistament.get('date_time', '')),\n",
        "            avistament.get('duration', ''),\n",
        "            avistament.get('text', ''),\n",
        "            str(avistament.get('city_latitude', '')),\n",
        "            str(avistament.get('city_longitude', ''))\n",
        "        ]\n",
        "        # unim els element pero els separem amb ';'. Al final fem '\\n' per\n",
        "        # indicar un salt de línia i separar els avistaments\n",
        "        info_line = \";\".join(info) + '\\n'\n",
        "\n",
        "        # Obrim 'file_path' en mode addició, és a dir, si el fixter ja existeix\n",
        "        # la informació s'afegeix, en cas contrari, crea el fitxer.\n",
        "        # es fa servir 'with' per asegurar que el fitxer es tanca correctament\n",
        "        with open(file_path, 'a') as file:\n",
        "            # escribim la cadena de text 'info_line' al fitxer\n",
        "            file.write(info_line)"
      ],
      "metadata": {
        "id": "_zDPeUlrnIvY"
      },
      "execution_count": 19,
      "outputs": []
    },
    {
      "cell_type": "code",
      "source": [
        "# Ho fem a la màquina local, ja que fer-ho al drive requereix molt de temps\n",
        "# ruta a la carpeta de la màquina local de Google Collab 'Exercici_3_4_df{xy}'\n",
        "ruta_local_df31 = 'Exercici_3_4_df31'\n",
        "ruta_local_df32 = 'Exercici_3_4_df32'\n",
        "ruta_local_df33 = 'Exercici_3_4_df33'\n",
        "\n",
        "# fem servir la funció que hem definit sobre els dataframes\n",
        "df_to_diccionari_to_directori(df31, ruta_local_df31)\n",
        "df_to_diccionari_to_directori(df32, ruta_local_df32)\n",
        "df_to_diccionari_to_directori(df33, ruta_local_df33)"
      ],
      "metadata": {
        "id": "r0I-jDTqH82L"
      },
      "execution_count": 20,
      "outputs": []
    },
    {
      "cell_type": "code",
      "source": [
        "# Mirem l'estructura de les carpetes per a buscar possibles errors\n",
        "mostrar_estructura(ruta_local_df31)\n",
        "print('\\n')\n",
        "mostrar_estructura(ruta_local_df32)\n",
        "print('\\n')\n",
        "mostrar_estructura(ruta_local_df33)"
      ],
      "metadata": {
        "colab": {
          "base_uri": "https://localhost:8080/"
        },
        "id": "1lNdgqpxLVgF",
        "outputId": "44f5ec23-23d6-4c20-aa5a-d309ee536a95"
      },
      "execution_count": 21,
      "outputs": [
        {
          "output_type": "stream",
          "name": "stdout",
          "text": [
            "Estructura de: Exercici_3_4_df31\n",
            "2010\n",
            "  CO\n",
            "    Pueblo West\n",
            "      unknown.txt\n",
            "    Colorado City\n",
            "      triangle.txt\n",
            "  MA\n",
            "    Paxton\n",
            "      unknown.txt\n",
            "    Kingston\n",
            "      triangle.txt\n",
            "1984\n",
            "  MA\n",
            "    Williamstown\n",
            "      triangle.txt\n",
            "    Edgartown\n",
            "      triangle.txt\n",
            "  WI\n",
            "    Wabeno\n",
            "      other.txt\n",
            "    Columbus\n",
            "      cigar.txt\n",
            "Nombre total de fitxers: 88058\n",
            "\n",
            "\n",
            "Estructura de: Exercici_3_4_df32\n",
            "1984\n",
            "  NY\n",
            "    Ossining\n",
            "      other.txt\n",
            "2007\n",
            "  DC\n",
            "    Washington\n",
            "      sphere.txt\n",
            "  TX\n",
            "    Dallas\n",
            "      unknown.txt\n",
            "Nombre total de fitxers: 15\n",
            "\n",
            "\n",
            "Estructura de: Exercici_3_4_df33\n",
            "2010\n",
            "  CO\n",
            "    Pueblo West\n",
            "      unknown.txt\n",
            "    Colorado City\n",
            "      triangle.txt\n",
            "  MA\n",
            "    Paxton\n",
            "      unknown.txt\n",
            "    Kingston\n",
            "      triangle.txt\n",
            "1984\n",
            "  MA\n",
            "    Williamstown\n",
            "      triangle.txt\n",
            "    Edgartown\n",
            "      triangle.txt\n",
            "  WI\n",
            "    Wabeno\n",
            "      other.txt\n",
            "    Columbus\n",
            "      cigar.txt\n",
            "Nombre total de fitxers: 88058\n"
          ]
        }
      ]
    },
    {
      "cell_type": "code",
      "source": [
        "# Calculem i imprimim els size de les carpetes\n",
        "size_31 = calcular_mida(ruta_local_df31)\n",
        "size_32 = calcular_mida(ruta_local_df32)\n",
        "size_33 = calcular_mida(ruta_local_df33)\n",
        "\n",
        "print(f'La mida de {ruta_local_df31} és {size_31} Megabytes\\n'\n",
        "      f'La mida de {ruta_local_df32} és {size_32} Megabytes\\n'\n",
        "      f'La mida de {ruta_local_df33} és {size_33} Megabytes\\n'\n",
        "      )"
      ],
      "metadata": {
        "colab": {
          "base_uri": "https://localhost:8080/"
        },
        "id": "co0KDAcAJ1_O",
        "outputId": "4dc44fc9-de54-436e-a122-0390acee1191"
      },
      "execution_count": 22,
      "outputs": [
        {
          "output_type": "stream",
          "name": "stdout",
          "text": [
            "La mida de Exercici_3_4_df31 és 557.1 Megabytes\n",
            "La mida de Exercici_3_4_df32 és 0.2 Megabytes\n",
            "La mida de Exercici_3_4_df33 és 69.1 Megabytes\n",
            "\n"
          ]
        }
      ]
    },
    {
      "cell_type": "code",
      "source": [
        "os.listdir()"
      ],
      "metadata": {
        "colab": {
          "base_uri": "https://localhost:8080/"
        },
        "id": "Zzp4rEgvRx8W",
        "outputId": "fd8dfe70-436e-4514-fe8a-3408cefd3908"
      },
      "execution_count": 23,
      "outputs": [
        {
          "output_type": "execute_result",
          "data": {
            "text/plain": [
              "['.config',\n",
              " 'df31.zip',\n",
              " 'Exercici_3_4_df33.zip.zip',\n",
              " 'original',\n",
              " 'Exercici_3_4_df33.zip',\n",
              " 'fullDF.csv',\n",
              " 'Exercici_3_4_df31.zip.zip',\n",
              " 'Exercici_3_4_df31.zip',\n",
              " 'Exercici_3_4_df31',\n",
              " 'Exercici_3_4_df32.zip',\n",
              " 'original.zip',\n",
              " 'Exercici_3_4_df32',\n",
              " 'df33.zip',\n",
              " 'Exercici_3_4_df33',\n",
              " 'df32.zip',\n",
              " 'drive',\n",
              " 'Exercici_3_4_df32.zip.zip',\n",
              " 'sample_data']"
            ]
          },
          "metadata": {},
          "execution_count": 23
        }
      ]
    },
    {
      "cell_type": "code",
      "source": [
        "# Descarreguem els fitxers previament (comprimits previament)\n",
        "# i mirem les seves dimensions\n",
        "import shutil\n",
        "\n",
        "\n",
        "def comprimir_directori(ruta_directori, nom_fitxer):\n",
        "    \"\"\"\n",
        "    Comprimeix un directori complet en format ZIP\n",
        "    \"\"\"\n",
        "    nom_fitxer_zip = f\"{nom_fitxer}.zip\"\n",
        "    shutil.make_archive(nom_fitxer, 'zip', ruta_directori)\n",
        "\n",
        "\n",
        "# Exemple d'ús de la funció\n",
        "comprimir_directori(ruta_local_df31, 'df31')\n",
        "comprimir_directori(ruta_local_df32, 'df32')\n",
        "comprimir_directori(ruta_local_df33, 'df33')\n",
        "\n",
        "files.download('df31.zip')\n",
        "files.download('df32.zip')\n",
        "files.download('df33.zip')"
      ],
      "metadata": {
        "colab": {
          "base_uri": "https://localhost:8080/",
          "height": 52
        },
        "id": "1RS3vAXnQOXY",
        "outputId": "08db9e48-660c-4bae-f7f6-f27a5ea8eed7"
      },
      "execution_count": 24,
      "outputs": [
        {
          "output_type": "display_data",
          "data": {
            "text/plain": [
              "<IPython.core.display.Javascript object>"
            ],
            "application/javascript": [
              "\n",
              "    async function download(id, filename, size) {\n",
              "      if (!google.colab.kernel.accessAllowed) {\n",
              "        return;\n",
              "      }\n",
              "      const div = document.createElement('div');\n",
              "      const label = document.createElement('label');\n",
              "      label.textContent = `Downloading \"${filename}\": `;\n",
              "      div.appendChild(label);\n",
              "      const progress = document.createElement('progress');\n",
              "      progress.max = size;\n",
              "      div.appendChild(progress);\n",
              "      document.body.appendChild(div);\n",
              "\n",
              "      const buffers = [];\n",
              "      let downloaded = 0;\n",
              "\n",
              "      const channel = await google.colab.kernel.comms.open(id);\n",
              "      // Send a message to notify the kernel that we're ready.\n",
              "      channel.send({})\n",
              "\n",
              "      for await (const message of channel.messages) {\n",
              "        // Send a message to notify the kernel that we're ready.\n",
              "        channel.send({})\n",
              "        if (message.buffers) {\n",
              "          for (const buffer of message.buffers) {\n",
              "            buffers.push(buffer);\n",
              "            downloaded += buffer.byteLength;\n",
              "            progress.value = downloaded;\n",
              "          }\n",
              "        }\n",
              "      }\n",
              "      const blob = new Blob(buffers, {type: 'application/binary'});\n",
              "      const a = document.createElement('a');\n",
              "      a.href = window.URL.createObjectURL(blob);\n",
              "      a.download = filename;\n",
              "      div.appendChild(a);\n",
              "      a.click();\n",
              "      div.remove();\n",
              "    }\n",
              "  "
            ]
          },
          "metadata": {}
        },
        {
          "output_type": "display_data",
          "data": {
            "text/plain": [
              "<IPython.core.display.Javascript object>"
            ],
            "application/javascript": [
              "download(\"download_7f6385a1-3094-4faf-873f-c73a2548d837\", \"df31.zip\", 80749722)"
            ]
          },
          "metadata": {}
        },
        {
          "output_type": "display_data",
          "data": {
            "text/plain": [
              "<IPython.core.display.Javascript object>"
            ],
            "application/javascript": [
              "\n",
              "    async function download(id, filename, size) {\n",
              "      if (!google.colab.kernel.accessAllowed) {\n",
              "        return;\n",
              "      }\n",
              "      const div = document.createElement('div');\n",
              "      const label = document.createElement('label');\n",
              "      label.textContent = `Downloading \"${filename}\": `;\n",
              "      div.appendChild(label);\n",
              "      const progress = document.createElement('progress');\n",
              "      progress.max = size;\n",
              "      div.appendChild(progress);\n",
              "      document.body.appendChild(div);\n",
              "\n",
              "      const buffers = [];\n",
              "      let downloaded = 0;\n",
              "\n",
              "      const channel = await google.colab.kernel.comms.open(id);\n",
              "      // Send a message to notify the kernel that we're ready.\n",
              "      channel.send({})\n",
              "\n",
              "      for await (const message of channel.messages) {\n",
              "        // Send a message to notify the kernel that we're ready.\n",
              "        channel.send({})\n",
              "        if (message.buffers) {\n",
              "          for (const buffer of message.buffers) {\n",
              "            buffers.push(buffer);\n",
              "            downloaded += buffer.byteLength;\n",
              "            progress.value = downloaded;\n",
              "          }\n",
              "        }\n",
              "      }\n",
              "      const blob = new Blob(buffers, {type: 'application/binary'});\n",
              "      const a = document.createElement('a');\n",
              "      a.href = window.URL.createObjectURL(blob);\n",
              "      a.download = filename;\n",
              "      div.appendChild(a);\n",
              "      a.click();\n",
              "      div.remove();\n",
              "    }\n",
              "  "
            ]
          },
          "metadata": {}
        },
        {
          "output_type": "display_data",
          "data": {
            "text/plain": [
              "<IPython.core.display.Javascript object>"
            ],
            "application/javascript": [
              "download(\"download_08180038-3c98-4882-9716-b4c25d8fb62b\", \"df32.zip\", 22422)"
            ]
          },
          "metadata": {}
        },
        {
          "output_type": "display_data",
          "data": {
            "text/plain": [
              "<IPython.core.display.Javascript object>"
            ],
            "application/javascript": [
              "\n",
              "    async function download(id, filename, size) {\n",
              "      if (!google.colab.kernel.accessAllowed) {\n",
              "        return;\n",
              "      }\n",
              "      const div = document.createElement('div');\n",
              "      const label = document.createElement('label');\n",
              "      label.textContent = `Downloading \"${filename}\": `;\n",
              "      div.appendChild(label);\n",
              "      const progress = document.createElement('progress');\n",
              "      progress.max = size;\n",
              "      div.appendChild(progress);\n",
              "      document.body.appendChild(div);\n",
              "\n",
              "      const buffers = [];\n",
              "      let downloaded = 0;\n",
              "\n",
              "      const channel = await google.colab.kernel.comms.open(id);\n",
              "      // Send a message to notify the kernel that we're ready.\n",
              "      channel.send({})\n",
              "\n",
              "      for await (const message of channel.messages) {\n",
              "        // Send a message to notify the kernel that we're ready.\n",
              "        channel.send({})\n",
              "        if (message.buffers) {\n",
              "          for (const buffer of message.buffers) {\n",
              "            buffers.push(buffer);\n",
              "            downloaded += buffer.byteLength;\n",
              "            progress.value = downloaded;\n",
              "          }\n",
              "        }\n",
              "      }\n",
              "      const blob = new Blob(buffers, {type: 'application/binary'});\n",
              "      const a = document.createElement('a');\n",
              "      a.href = window.URL.createObjectURL(blob);\n",
              "      a.download = filename;\n",
              "      div.appendChild(a);\n",
              "      a.click();\n",
              "      div.remove();\n",
              "    }\n",
              "  "
            ]
          },
          "metadata": {}
        },
        {
          "output_type": "display_data",
          "data": {
            "text/plain": [
              "<IPython.core.display.Javascript object>"
            ],
            "application/javascript": [
              "download(\"download_53c26ffc-98b4-4026-961b-650dd6c9541b\", \"df33.zip\", 30932901)"
            ]
          },
          "metadata": {}
        }
      ]
    },
    {
      "cell_type": "markdown",
      "source": [
        "**RESUM DE DIMENSIONS**\n",
        "\n",
        "**Dimensions amb funció de Python:**\n",
        "\n",
        "original:\n",
        "- La mida de original és 111.4 Megabbytes\n",
        "\n",
        "df31:\n",
        "- La mida de Exercici_3_4_df31 és 334.3 Megabytes\n",
        "\n",
        "df32:\n",
        "- La mida de Exercici_3_4_df32 és 0.1 Megabytes\n",
        "\n",
        "df33:\n",
        "- La mida de Exercici_3_4_df33 és 27.6 Megabytes\n",
        "\n",
        "**Dimensions en el meu ordinador (Windows 10):**\n",
        "\n",
        "original:\n",
        "- tamaño: 109 MB (114.340.385 bytes)\n",
        "- tamaño en disco: 187 MB (196.677.632 bytes)\n",
        "\n",
        "df31:\n",
        "- tamaño: 409 MB (428.903.716 bytes)\n",
        "- tamaño en disco: 576 MB (604.565.504 bytes)\n",
        "\n",
        "df32:\n",
        "- tamaño: 101 KB (104.196 bytes)\n",
        "- tamaño en disco: 172 KB (176.128 bytes)\n",
        "\n",
        "df33:\n",
        "- tamaño: 72,4 MB (75.968.149 bytes)\n",
        "- tamaño en disco: 58,9 MB (61.857.792 bytes)"
      ],
      "metadata": {
        "id": "iM-Xg-thS8Nx"
      }
    },
    {
      "cell_type": "markdown",
      "source": [
        "Si comparem les mides dels dataframes entre ells, el més petit és el df32, ja que vam eliminar molts registres al filtrar per les condicions 'ET' i 'ufo'. El següent més petit és el df33, ja que en ell hi tenim tots els registres però hem eliminat la columna 'text'. A continuació tindriem 'original', que tot i tindre menys informació que df31 (ja que a aquest li hem afegit la columna 'year'), el fet d'estar repartit en menys directoris fa que ocupi menys (segurament degut a la dimensió del bloc d'assignació, si el tamany d'un fitxer és menor al de l'assignació d'un bloc, ocupa tot el bloc).\n",
        "\n",
        "Aquesta forma d'assignar memoria per blocs és el que fa que el tamany i el tamany en disc sigui diferent per directoris pero no per fitxers únics (com el csv o un zip)"
      ],
      "metadata": {
        "id": "gcQcq5zaELy3"
      }
    }
  ],
  "metadata": {
    "colab": {
      "provenance": []
    },
    "kernelspec": {
      "display_name": "Python 3 (ipykernel)",
      "language": "python",
      "name": "python3"
    },
    "language_info": {
      "codemirror_mode": {
        "name": "ipython",
        "version": 3
      },
      "file_extension": ".py",
      "mimetype": "text/x-python",
      "name": "python",
      "nbconvert_exporter": "python",
      "pygments_lexer": "ipython3",
      "version": "3.10.6"
    },
    "nbTranslate": {
      "displayLangs": [
        "ja",
        "en"
      ],
      "hotkey": "alt-t",
      "langInMainMenu": true,
      "sourceLang": "en",
      "targetLang": "ja",
      "useGoogleTranslate": true
    }
  },
  "nbformat": 4,
  "nbformat_minor": 0
}