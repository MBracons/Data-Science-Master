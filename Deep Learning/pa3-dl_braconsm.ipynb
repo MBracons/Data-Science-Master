{
 "cells": [
  {
   "cell_type": "markdown",
   "id": "21c819ff",
   "metadata": {
    "id": "21c819ff"
   },
   "source": [
    "<div style=\"width: 100%; clear: both;\">\n",
    "<div style=\"float: left; width: 50%;\">\n",
    "<img src=\"http://www.uoc.edu/portal/_resources/common/imatges/marca_UOC/UOC_Masterbrand.jpg\", align=\"left\">\n",
    "</div>\n",
    "<div style=\"float: right; width: 50%;\">\n",
    "<p style=\"margin: 0; padding-top: 22px; text-align:right;\">M2.975 · Deep Learning · PAC3</p>\n",
    "<p style=\"margin: 0; text-align:right;\">2024-2 · Màster universitari en Ciència de dades (Data science)</p>\n",
    "<p style=\"margin: 0; text-align:right; padding-button: 100px;\">Estudis d'Informàtica, Multimèdia i Telecomunicació</p>\n",
    "</div>\n",
    "</div>\n",
    "<div style=\"width:100%;\">&nbsp;</div>\n",
    "\n",
    "\n",
    "# PAC 3: Transformers amb Keras\n",
    "\n",
    "\n",
    "<u>Consideracions generals</u>:\n",
    "\n",
    "- Aquesta PAC s'ha de realitzar de forma **estrictament individual**. Qualsevol indicatiu de còpia serà penalitzat amb un suspens (D) per a totes les parts implicades i la possible avaluació negativa de l'assignatura de manera íntegra.\n",
    "- És necessari que l'estudiant indiqui **totes les fonts** que ha utilitzat per a la realització de la PAC. De no ser així, es considerarà que l'estudiant ha comès plagi, sent penalitzat amb un suspens (D) i la possible avaluació negativa de l'assignatura de manera íntegra.\n",
    "\n",
    "<u>Format de l'entrega</u>:\n",
    "\n",
    "- Alguns exercicis poden suposar diversos minuts d'execució, per la qual cosa l'entrega s'ha de fer en **format notebook** i en **format html**, on es vegi el codi, els resultats i comentaris de cada exercici. Es pot exportar el notebook a HTML des del menú File $\\to$ Download as $\\to$ HTML.\n",
    "- Existeix un tipus de cel·la especial per allotjar text. Aquest tipus de cel·la us serà molt útil per respondre a les diferents preguntes teòriques plantejades al llarg de l'activitat. Per canviar el tipus de cel·la a aquest tipus, en el menú: Cell $\\to$ Cell Type $\\to$ Markdown."
   ]
  },
  {
   "cell_type": "markdown",
   "id": "d434ac5a-637e-4333-9947-e072846cc0ad",
   "metadata": {},
   "source": [
    "## Preparació per Kaggle"
   ]
  },
  {
   "cell_type": "code",
   "execution_count": 1,
   "id": "d98085d5-d49f-45a9-9f31-b2521735c6c5",
   "metadata": {
    "execution": {
     "iopub.execute_input": "2025-05-08T09:56:13.078956Z",
     "iopub.status.busy": "2025-05-08T09:56:13.078317Z",
     "iopub.status.idle": "2025-05-08T09:56:27.116887Z",
     "shell.execute_reply": "2025-05-08T09:56:27.116157Z",
     "shell.execute_reply.started": "2025-05-08T09:56:13.078926Z"
    }
   },
   "outputs": [
    {
     "name": "stdout",
     "output_type": "stream",
     "text": [
      "Collecting tf-models-official==2.18.0\n",
      "  Downloading tf_models_official-2.18.0-py2.py3-none-any.whl.metadata (1.5 kB)\n",
      "Requirement already satisfied: Cython in /usr/local/lib/python3.11/dist-packages (from tf-models-official==2.18.0) (3.0.12)\n",
      "Requirement already satisfied: Pillow in /usr/local/lib/python3.11/dist-packages (from tf-models-official==2.18.0) (11.1.0)\n",
      "Collecting ai-edge-litert>=1.0.1 (from tf-models-official==2.18.0)\n",
      "  Downloading ai_edge_litert-1.2.0-cp311-cp311-manylinux_2_17_x86_64.whl.metadata (1.6 kB)\n",
      "Requirement already satisfied: gin-config in /usr/local/lib/python3.11/dist-packages (from tf-models-official==2.18.0) (0.5.0)\n",
      "Requirement already satisfied: google-api-python-client>=1.6.7 in /usr/local/lib/python3.11/dist-packages (from tf-models-official==2.18.0) (2.160.0)\n",
      "Requirement already satisfied: immutabledict in /usr/local/lib/python3.11/dist-packages (from tf-models-official==2.18.0) (4.2.1)\n",
      "Requirement already satisfied: kaggle>=1.3.9 in /usr/local/lib/python3.11/dist-packages (from tf-models-official==2.18.0) (1.7.4.2)\n",
      "Requirement already satisfied: matplotlib in /usr/local/lib/python3.11/dist-packages (from tf-models-official==2.18.0) (3.7.5)\n",
      "Requirement already satisfied: numpy>=1.20 in /usr/local/lib/python3.11/dist-packages (from tf-models-official==2.18.0) (1.26.4)\n",
      "Requirement already satisfied: oauth2client in /usr/local/lib/python3.11/dist-packages (from tf-models-official==2.18.0) (4.1.3)\n",
      "Requirement already satisfied: opencv-python-headless in /usr/local/lib/python3.11/dist-packages (from tf-models-official==2.18.0) (4.11.0.86)\n",
      "Requirement already satisfied: pandas>=0.22.0 in /usr/local/lib/python3.11/dist-packages (from tf-models-official==2.18.0) (2.2.3)\n",
      "Requirement already satisfied: psutil>=5.4.3 in /usr/local/lib/python3.11/dist-packages (from tf-models-official==2.18.0) (7.0.0)\n",
      "Requirement already satisfied: py-cpuinfo>=3.3.0 in /usr/local/lib/python3.11/dist-packages (from tf-models-official==2.18.0) (9.0.0)\n",
      "Requirement already satisfied: pycocotools in /usr/local/lib/python3.11/dist-packages (from tf-models-official==2.18.0) (2.0.8)\n",
      "Requirement already satisfied: pyyaml>=6.0.0 in /usr/local/lib/python3.11/dist-packages (from tf-models-official==2.18.0) (6.0.2)\n",
      "Collecting sacrebleu (from tf-models-official==2.18.0)\n",
      "  Downloading sacrebleu-2.5.1-py3-none-any.whl.metadata (51 kB)\n",
      "\u001b[2K     \u001b[90m━━━━━━━━━━━━━━━━━━━━━━━━━━━━━━━━━━━━━━━━\u001b[0m \u001b[32m51.8/51.8 kB\u001b[0m \u001b[31m1.2 MB/s\u001b[0m eta \u001b[36m0:00:00\u001b[0m00:01\u001b[0m\n",
      "\u001b[?25hRequirement already satisfied: scipy>=0.19.1 in /usr/local/lib/python3.11/dist-packages (from tf-models-official==2.18.0) (1.15.2)\n",
      "Requirement already satisfied: sentencepiece in /usr/local/lib/python3.11/dist-packages (from tf-models-official==2.18.0) (0.2.0)\n",
      "Collecting seqeval (from tf-models-official==2.18.0)\n",
      "  Downloading seqeval-1.2.2.tar.gz (43 kB)\n",
      "\u001b[2K     \u001b[90m━━━━━━━━━━━━━━━━━━━━━━━━━━━━━━━━━━━━━━━━\u001b[0m \u001b[32m43.6/43.6 kB\u001b[0m \u001b[31m2.4 MB/s\u001b[0m eta \u001b[36m0:00:00\u001b[0m\n",
      "\u001b[?25h  Preparing metadata (setup.py) ... \u001b[?25l\u001b[?25hdone\n",
      "Requirement already satisfied: six in /usr/local/lib/python3.11/dist-packages (from tf-models-official==2.18.0) (1.17.0)\n",
      "Requirement already satisfied: tensorflow-datasets in /usr/local/lib/python3.11/dist-packages (from tf-models-official==2.18.0) (4.9.7)\n",
      "Requirement already satisfied: tensorflow-hub>=0.6.0 in /usr/local/lib/python3.11/dist-packages (from tf-models-official==2.18.0) (0.16.1)\n",
      "Collecting tensorflow-model-optimization>=0.4.1 (from tf-models-official==2.18.0)\n",
      "  Downloading tensorflow_model_optimization-0.8.0-py2.py3-none-any.whl.metadata (904 bytes)\n",
      "Requirement already satisfied: tensorflow-text~=2.18.0 in /usr/local/lib/python3.11/dist-packages (from tf-models-official==2.18.0) (2.18.1)\n",
      "Requirement already satisfied: tensorflow~=2.18.0 in /usr/local/lib/python3.11/dist-packages (from tf-models-official==2.18.0) (2.18.0)\n",
      "Requirement already satisfied: tf-keras>=2.16.0 in /usr/local/lib/python3.11/dist-packages (from tf-models-official==2.18.0) (2.18.0)\n",
      "Requirement already satisfied: tf-slim>=1.1.0 in /usr/local/lib/python3.11/dist-packages (from tf-models-official==2.18.0) (1.1.0)\n",
      "Requirement already satisfied: flatbuffers in /usr/local/lib/python3.11/dist-packages (from ai-edge-litert>=1.0.1->tf-models-official==2.18.0) (25.2.10)\n",
      "Requirement already satisfied: httplib2<1.dev0,>=0.19.0 in /usr/local/lib/python3.11/dist-packages (from google-api-python-client>=1.6.7->tf-models-official==2.18.0) (0.22.0)\n",
      "Requirement already satisfied: google-auth!=2.24.0,!=2.25.0,<3.0.0.dev0,>=1.32.0 in /usr/local/lib/python3.11/dist-packages (from google-api-python-client>=1.6.7->tf-models-official==2.18.0) (2.27.0)\n",
      "Requirement already satisfied: google-auth-httplib2<1.0.0,>=0.2.0 in /usr/local/lib/python3.11/dist-packages (from google-api-python-client>=1.6.7->tf-models-official==2.18.0) (0.2.0)\n",
      "Requirement already satisfied: google-api-core!=2.0.*,!=2.1.*,!=2.2.*,!=2.3.0,<3.0.0.dev0,>=1.31.5 in /usr/local/lib/python3.11/dist-packages (from google-api-python-client>=1.6.7->tf-models-official==2.18.0) (1.34.1)\n",
      "Requirement already satisfied: uritemplate<5,>=3.0.1 in /usr/local/lib/python3.11/dist-packages (from google-api-python-client>=1.6.7->tf-models-official==2.18.0) (4.1.1)\n",
      "Requirement already satisfied: bleach in /usr/local/lib/python3.11/dist-packages (from kaggle>=1.3.9->tf-models-official==2.18.0) (6.2.0)\n",
      "Requirement already satisfied: certifi>=14.05.14 in /usr/local/lib/python3.11/dist-packages (from kaggle>=1.3.9->tf-models-official==2.18.0) (2025.1.31)\n",
      "Requirement already satisfied: charset-normalizer in /usr/local/lib/python3.11/dist-packages (from kaggle>=1.3.9->tf-models-official==2.18.0) (3.4.1)\n",
      "Requirement already satisfied: idna in /usr/local/lib/python3.11/dist-packages (from kaggle>=1.3.9->tf-models-official==2.18.0) (3.10)\n",
      "Requirement already satisfied: protobuf in /usr/local/lib/python3.11/dist-packages (from kaggle>=1.3.9->tf-models-official==2.18.0) (3.20.3)\n",
      "Requirement already satisfied: python-dateutil>=2.5.3 in /usr/local/lib/python3.11/dist-packages (from kaggle>=1.3.9->tf-models-official==2.18.0) (2.9.0.post0)\n",
      "Requirement already satisfied: python-slugify in /usr/local/lib/python3.11/dist-packages (from kaggle>=1.3.9->tf-models-official==2.18.0) (8.0.4)\n",
      "Requirement already satisfied: requests in /usr/local/lib/python3.11/dist-packages (from kaggle>=1.3.9->tf-models-official==2.18.0) (2.32.3)\n",
      "Requirement already satisfied: setuptools>=21.0.0 in /usr/local/lib/python3.11/dist-packages (from kaggle>=1.3.9->tf-models-official==2.18.0) (75.1.0)\n",
      "Requirement already satisfied: text-unidecode in /usr/local/lib/python3.11/dist-packages (from kaggle>=1.3.9->tf-models-official==2.18.0) (1.3)\n",
      "Requirement already satisfied: tqdm in /usr/local/lib/python3.11/dist-packages (from kaggle>=1.3.9->tf-models-official==2.18.0) (4.67.1)\n",
      "Requirement already satisfied: urllib3>=1.15.1 in /usr/local/lib/python3.11/dist-packages (from kaggle>=1.3.9->tf-models-official==2.18.0) (2.3.0)\n",
      "Requirement already satisfied: webencodings in /usr/local/lib/python3.11/dist-packages (from kaggle>=1.3.9->tf-models-official==2.18.0) (0.5.1)\n",
      "Requirement already satisfied: mkl_fft in /usr/local/lib/python3.11/dist-packages (from numpy>=1.20->tf-models-official==2.18.0) (1.3.8)\n",
      "Requirement already satisfied: mkl_random in /usr/local/lib/python3.11/dist-packages (from numpy>=1.20->tf-models-official==2.18.0) (1.2.4)\n",
      "Requirement already satisfied: mkl_umath in /usr/local/lib/python3.11/dist-packages (from numpy>=1.20->tf-models-official==2.18.0) (0.1.1)\n",
      "Requirement already satisfied: mkl in /usr/local/lib/python3.11/dist-packages (from numpy>=1.20->tf-models-official==2.18.0) (2025.1.0)\n",
      "Requirement already satisfied: tbb4py in /usr/local/lib/python3.11/dist-packages (from numpy>=1.20->tf-models-official==2.18.0) (2022.1.0)\n",
      "Requirement already satisfied: mkl-service in /usr/local/lib/python3.11/dist-packages (from numpy>=1.20->tf-models-official==2.18.0) (2.4.1)\n",
      "Requirement already satisfied: pytz>=2020.1 in /usr/local/lib/python3.11/dist-packages (from pandas>=0.22.0->tf-models-official==2.18.0) (2025.2)\n",
      "Requirement already satisfied: tzdata>=2022.7 in /usr/local/lib/python3.11/dist-packages (from pandas>=0.22.0->tf-models-official==2.18.0) (2025.2)\n",
      "Requirement already satisfied: absl-py>=1.0.0 in /usr/local/lib/python3.11/dist-packages (from tensorflow~=2.18.0->tf-models-official==2.18.0) (1.4.0)\n",
      "Requirement already satisfied: astunparse>=1.6.0 in /usr/local/lib/python3.11/dist-packages (from tensorflow~=2.18.0->tf-models-official==2.18.0) (1.6.3)\n",
      "Requirement already satisfied: gast!=0.5.0,!=0.5.1,!=0.5.2,>=0.2.1 in /usr/local/lib/python3.11/dist-packages (from tensorflow~=2.18.0->tf-models-official==2.18.0) (0.6.0)\n",
      "Requirement already satisfied: google-pasta>=0.1.1 in /usr/local/lib/python3.11/dist-packages (from tensorflow~=2.18.0->tf-models-official==2.18.0) (0.2.0)\n",
      "Requirement already satisfied: libclang>=13.0.0 in /usr/local/lib/python3.11/dist-packages (from tensorflow~=2.18.0->tf-models-official==2.18.0) (18.1.1)\n",
      "Requirement already satisfied: opt-einsum>=2.3.2 in /usr/local/lib/python3.11/dist-packages (from tensorflow~=2.18.0->tf-models-official==2.18.0) (3.4.0)\n",
      "Requirement already satisfied: packaging in /usr/local/lib/python3.11/dist-packages (from tensorflow~=2.18.0->tf-models-official==2.18.0) (24.2)\n",
      "Requirement already satisfied: termcolor>=1.1.0 in /usr/local/lib/python3.11/dist-packages (from tensorflow~=2.18.0->tf-models-official==2.18.0) (2.5.0)\n",
      "Requirement already satisfied: typing-extensions>=3.6.6 in /usr/local/lib/python3.11/dist-packages (from tensorflow~=2.18.0->tf-models-official==2.18.0) (4.13.1)\n",
      "Requirement already satisfied: wrapt>=1.11.0 in /usr/local/lib/python3.11/dist-packages (from tensorflow~=2.18.0->tf-models-official==2.18.0) (1.17.2)\n",
      "Requirement already satisfied: grpcio<2.0,>=1.24.3 in /usr/local/lib/python3.11/dist-packages (from tensorflow~=2.18.0->tf-models-official==2.18.0) (1.70.0)\n",
      "Requirement already satisfied: tensorboard<2.19,>=2.18 in /usr/local/lib/python3.11/dist-packages (from tensorflow~=2.18.0->tf-models-official==2.18.0) (2.18.0)\n",
      "Requirement already satisfied: keras>=3.5.0 in /usr/local/lib/python3.11/dist-packages (from tensorflow~=2.18.0->tf-models-official==2.18.0) (3.5.0)\n",
      "Requirement already satisfied: h5py>=3.11.0 in /usr/local/lib/python3.11/dist-packages (from tensorflow~=2.18.0->tf-models-official==2.18.0) (3.12.1)\n",
      "Requirement already satisfied: ml-dtypes<0.5.0,>=0.4.0 in /usr/local/lib/python3.11/dist-packages (from tensorflow~=2.18.0->tf-models-official==2.18.0) (0.4.1)\n",
      "Requirement already satisfied: tensorflow-io-gcs-filesystem>=0.23.1 in /usr/local/lib/python3.11/dist-packages (from tensorflow~=2.18.0->tf-models-official==2.18.0) (0.37.1)\n",
      "Requirement already satisfied: dm-tree~=0.1.1 in /usr/local/lib/python3.11/dist-packages (from tensorflow-model-optimization>=0.4.1->tf-models-official==2.18.0) (0.1.9)\n",
      "Requirement already satisfied: contourpy>=1.0.1 in /usr/local/lib/python3.11/dist-packages (from matplotlib->tf-models-official==2.18.0) (1.3.1)\n",
      "Requirement already satisfied: cycler>=0.10 in /usr/local/lib/python3.11/dist-packages (from matplotlib->tf-models-official==2.18.0) (0.12.1)\n",
      "Requirement already satisfied: fonttools>=4.22.0 in /usr/local/lib/python3.11/dist-packages (from matplotlib->tf-models-official==2.18.0) (4.56.0)\n",
      "Requirement already satisfied: kiwisolver>=1.0.1 in /usr/local/lib/python3.11/dist-packages (from matplotlib->tf-models-official==2.18.0) (1.4.8)\n",
      "Requirement already satisfied: pyparsing>=2.3.1 in /usr/local/lib/python3.11/dist-packages (from matplotlib->tf-models-official==2.18.0) (3.2.1)\n",
      "Requirement already satisfied: pyasn1>=0.1.7 in /usr/local/lib/python3.11/dist-packages (from oauth2client->tf-models-official==2.18.0) (0.6.1)\n",
      "Requirement already satisfied: pyasn1-modules>=0.0.5 in /usr/local/lib/python3.11/dist-packages (from oauth2client->tf-models-official==2.18.0) (0.4.1)\n",
      "Requirement already satisfied: rsa>=3.1.4 in /usr/local/lib/python3.11/dist-packages (from oauth2client->tf-models-official==2.18.0) (4.9)\n",
      "Collecting portalocker (from sacrebleu->tf-models-official==2.18.0)\n",
      "  Downloading portalocker-3.1.1-py3-none-any.whl.metadata (8.6 kB)\n",
      "Requirement already satisfied: regex in /usr/local/lib/python3.11/dist-packages (from sacrebleu->tf-models-official==2.18.0) (2024.11.6)\n",
      "Requirement already satisfied: tabulate>=0.8.9 in /usr/local/lib/python3.11/dist-packages (from sacrebleu->tf-models-official==2.18.0) (0.9.0)\n",
      "Requirement already satisfied: colorama in /usr/local/lib/python3.11/dist-packages (from sacrebleu->tf-models-official==2.18.0) (0.4.6)\n",
      "Requirement already satisfied: lxml in /usr/local/lib/python3.11/dist-packages (from sacrebleu->tf-models-official==2.18.0) (5.3.1)\n",
      "Requirement already satisfied: scikit-learn>=0.21.3 in /usr/local/lib/python3.11/dist-packages (from seqeval->tf-models-official==2.18.0) (1.2.2)\n",
      "Requirement already satisfied: click in /usr/local/lib/python3.11/dist-packages (from tensorflow-datasets->tf-models-official==2.18.0) (8.1.8)\n",
      "Requirement already satisfied: promise in /usr/local/lib/python3.11/dist-packages (from tensorflow-datasets->tf-models-official==2.18.0) (2.3)\n",
      "Requirement already satisfied: pyarrow in /usr/local/lib/python3.11/dist-packages (from tensorflow-datasets->tf-models-official==2.18.0) (19.0.1)\n",
      "Requirement already satisfied: simple-parsing in /usr/local/lib/python3.11/dist-packages (from tensorflow-datasets->tf-models-official==2.18.0) (0.1.7)\n",
      "Requirement already satisfied: tensorflow-metadata in /usr/local/lib/python3.11/dist-packages (from tensorflow-datasets->tf-models-official==2.18.0) (1.16.1)\n",
      "Requirement already satisfied: toml in /usr/local/lib/python3.11/dist-packages (from tensorflow-datasets->tf-models-official==2.18.0) (0.10.2)\n",
      "Requirement already satisfied: array-record>=0.5.0 in /usr/local/lib/python3.11/dist-packages (from tensorflow-datasets->tf-models-official==2.18.0) (0.6.0)\n",
      "Requirement already satisfied: etils>=1.9.1 in /usr/local/lib/python3.11/dist-packages (from etils[edc,enp,epath,epy,etree]>=1.9.1; python_version >= \"3.11\"->tensorflow-datasets->tf-models-official==2.18.0) (1.12.0)\n",
      "Requirement already satisfied: wheel<1.0,>=0.23.0 in /usr/local/lib/python3.11/dist-packages (from astunparse>=1.6.0->tensorflow~=2.18.0->tf-models-official==2.18.0) (0.45.1)\n",
      "Requirement already satisfied: attrs>=18.2.0 in /usr/local/lib/python3.11/dist-packages (from dm-tree~=0.1.1->tensorflow-model-optimization>=0.4.1->tf-models-official==2.18.0) (25.3.0)\n",
      "Requirement already satisfied: fsspec in /usr/local/lib/python3.11/dist-packages (from etils[edc,enp,epath,epy,etree]>=1.9.1; python_version >= \"3.11\"->tensorflow-datasets->tf-models-official==2.18.0) (2025.3.2)\n",
      "Requirement already satisfied: importlib_resources in /usr/local/lib/python3.11/dist-packages (from etils[edc,enp,epath,epy,etree]>=1.9.1; python_version >= \"3.11\"->tensorflow-datasets->tf-models-official==2.18.0) (6.5.2)\n",
      "Requirement already satisfied: zipp in /usr/local/lib/python3.11/dist-packages (from etils[edc,enp,epath,epy,etree]>=1.9.1; python_version >= \"3.11\"->tensorflow-datasets->tf-models-official==2.18.0) (3.21.0)\n",
      "Requirement already satisfied: googleapis-common-protos<2.0dev,>=1.56.2 in /usr/local/lib/python3.11/dist-packages (from google-api-core!=2.0.*,!=2.1.*,!=2.2.*,!=2.3.0,<3.0.0.dev0,>=1.31.5->google-api-python-client>=1.6.7->tf-models-official==2.18.0) (1.67.0)\n",
      "Requirement already satisfied: cachetools<6.0,>=2.0.0 in /usr/local/lib/python3.11/dist-packages (from google-auth!=2.24.0,!=2.25.0,<3.0.0.dev0,>=1.32.0->google-api-python-client>=1.6.7->tf-models-official==2.18.0) (5.5.2)\n",
      "Requirement already satisfied: rich in /usr/local/lib/python3.11/dist-packages (from keras>=3.5.0->tensorflow~=2.18.0->tf-models-official==2.18.0) (14.0.0)\n",
      "Requirement already satisfied: namex in /usr/local/lib/python3.11/dist-packages (from keras>=3.5.0->tensorflow~=2.18.0->tf-models-official==2.18.0) (0.0.8)\n",
      "Requirement already satisfied: optree in /usr/local/lib/python3.11/dist-packages (from keras>=3.5.0->tensorflow~=2.18.0->tf-models-official==2.18.0) (0.14.0)\n",
      "Requirement already satisfied: joblib>=1.1.1 in /usr/local/lib/python3.11/dist-packages (from scikit-learn>=0.21.3->seqeval->tf-models-official==2.18.0) (1.4.2)\n",
      "Requirement already satisfied: threadpoolctl>=2.0.0 in /usr/local/lib/python3.11/dist-packages (from scikit-learn>=0.21.3->seqeval->tf-models-official==2.18.0) (3.6.0)\n",
      "Requirement already satisfied: markdown>=2.6.8 in /usr/local/lib/python3.11/dist-packages (from tensorboard<2.19,>=2.18->tensorflow~=2.18.0->tf-models-official==2.18.0) (3.7)\n",
      "Requirement already satisfied: tensorboard-data-server<0.8.0,>=0.7.0 in /usr/local/lib/python3.11/dist-packages (from tensorboard<2.19,>=2.18->tensorflow~=2.18.0->tf-models-official==2.18.0) (0.7.2)\n",
      "Requirement already satisfied: werkzeug>=1.0.1 in /usr/local/lib/python3.11/dist-packages (from tensorboard<2.19,>=2.18->tensorflow~=2.18.0->tf-models-official==2.18.0) (3.1.3)\n",
      "Requirement already satisfied: intel-openmp<2026,>=2024 in /usr/local/lib/python3.11/dist-packages (from mkl->numpy>=1.20->tf-models-official==2.18.0) (2024.2.0)\n",
      "Requirement already satisfied: tbb==2022.* in /usr/local/lib/python3.11/dist-packages (from mkl->numpy>=1.20->tf-models-official==2.18.0) (2022.1.0)\n",
      "Requirement already satisfied: tcmlib==1.* in /usr/local/lib/python3.11/dist-packages (from tbb==2022.*->mkl->numpy>=1.20->tf-models-official==2.18.0) (1.2.0)\n",
      "Requirement already satisfied: intel-cmplr-lib-rt in /usr/local/lib/python3.11/dist-packages (from mkl_umath->numpy>=1.20->tf-models-official==2.18.0) (2024.2.0)\n",
      "Requirement already satisfied: docstring-parser<1.0,>=0.15 in /usr/local/lib/python3.11/dist-packages (from simple-parsing->tensorflow-datasets->tf-models-official==2.18.0) (0.16)\n",
      "INFO: pip is looking at multiple versions of tensorflow-metadata to determine which version is compatible with other requirements. This could take a while.\n",
      "Collecting tensorflow-metadata (from tensorflow-datasets->tf-models-official==2.18.0)\n",
      "  Downloading tensorflow_metadata-1.17.1-py3-none-any.whl.metadata (2.6 kB)\n",
      "  Downloading tensorflow_metadata-1.17.0-py3-none-any.whl.metadata (2.6 kB)\n",
      "  Downloading tensorflow_metadata-1.16.0-py3-none-any.whl.metadata (2.4 kB)\n",
      "  Downloading tensorflow_metadata-1.15.0-py3-none-any.whl.metadata (2.4 kB)\n",
      "  Downloading tensorflow_metadata-1.14.0-py3-none-any.whl.metadata (2.1 kB)\n",
      "Requirement already satisfied: intel-cmplr-lib-ur==2024.2.0 in /usr/local/lib/python3.11/dist-packages (from intel-openmp<2026,>=2024->mkl->numpy>=1.20->tf-models-official==2.18.0) (2024.2.0)\n",
      "Requirement already satisfied: MarkupSafe>=2.1.1 in /usr/local/lib/python3.11/dist-packages (from werkzeug>=1.0.1->tensorboard<2.19,>=2.18->tensorflow~=2.18.0->tf-models-official==2.18.0) (3.0.2)\n",
      "Requirement already satisfied: markdown-it-py>=2.2.0 in /usr/local/lib/python3.11/dist-packages (from rich->keras>=3.5.0->tensorflow~=2.18.0->tf-models-official==2.18.0) (3.0.0)\n",
      "Requirement already satisfied: pygments<3.0.0,>=2.13.0 in /usr/local/lib/python3.11/dist-packages (from rich->keras>=3.5.0->tensorflow~=2.18.0->tf-models-official==2.18.0) (2.19.1)\n",
      "Requirement already satisfied: mdurl~=0.1 in /usr/local/lib/python3.11/dist-packages (from markdown-it-py>=2.2.0->rich->keras>=3.5.0->tensorflow~=2.18.0->tf-models-official==2.18.0) (0.1.2)\n",
      "Downloading tf_models_official-2.18.0-py2.py3-none-any.whl (2.9 MB)\n",
      "\u001b[2K   \u001b[90m━━━━━━━━━━━━━━━━━━━━━━━━━━━━━━━━━━━━━━━━\u001b[0m \u001b[32m2.9/2.9 MB\u001b[0m \u001b[31m36.9 MB/s\u001b[0m eta \u001b[36m0:00:00\u001b[0m00:01\u001b[0m00:01\u001b[0m\n",
      "\u001b[?25hDownloading ai_edge_litert-1.2.0-cp311-cp311-manylinux_2_17_x86_64.whl (3.5 MB)\n",
      "\u001b[2K   \u001b[90m━━━━━━━━━━━━━━━━━━━━━━━━━━━━━━━━━━━━━━━━\u001b[0m \u001b[32m3.5/3.5 MB\u001b[0m \u001b[31m73.2 MB/s\u001b[0m eta \u001b[36m0:00:00\u001b[0m:00:01\u001b[0m\n",
      "\u001b[?25hDownloading tensorflow_model_optimization-0.8.0-py2.py3-none-any.whl (242 kB)\n",
      "\u001b[2K   \u001b[90m━━━━━━━━━━━━━━━━━━━━━━━━━━━━━━━━━━━━━━━━\u001b[0m \u001b[32m242.5/242.5 kB\u001b[0m \u001b[31m15.6 MB/s\u001b[0m eta \u001b[36m0:00:00\u001b[0m\n",
      "\u001b[?25hDownloading sacrebleu-2.5.1-py3-none-any.whl (104 kB)\n",
      "\u001b[2K   \u001b[90m━━━━━━━━━━━━━━━━━━━━━━━━━━━━━━━━━━━━━━━━\u001b[0m \u001b[32m104.1/104.1 kB\u001b[0m \u001b[31m4.9 MB/s\u001b[0m eta \u001b[36m0:00:00\u001b[0m\n",
      "\u001b[?25hDownloading portalocker-3.1.1-py3-none-any.whl (19 kB)\n",
      "Downloading tensorflow_metadata-1.14.0-py3-none-any.whl (28 kB)\n",
      "Building wheels for collected packages: seqeval\n",
      "  Building wheel for seqeval (setup.py) ... \u001b[?25l\u001b[?25hdone\n",
      "  Created wheel for seqeval: filename=seqeval-1.2.2-py3-none-any.whl size=16161 sha256=c46016e085714b141ff60c3f3942d10c2f8721a63562170c294cae7e62551e6e\n",
      "  Stored in directory: /root/.cache/pip/wheels/bc/92/f0/243288f899c2eacdfa8c5f9aede4c71a9bad0ee26a01dc5ead\n",
      "Successfully built seqeval\n",
      "Installing collected packages: portalocker, tensorflow-metadata, tensorflow-model-optimization, seqeval, sacrebleu, ai-edge-litert, tf-models-official\n",
      "  Attempting uninstall: tensorflow-metadata\n",
      "    Found existing installation: tensorflow-metadata 1.16.1\n",
      "    Uninstalling tensorflow-metadata-1.16.1:\n",
      "      Successfully uninstalled tensorflow-metadata-1.16.1\n",
      "Successfully installed ai-edge-litert-1.2.0 portalocker-3.1.1 sacrebleu-2.5.1 seqeval-1.2.2 tensorflow-metadata-1.14.0 tensorflow-model-optimization-0.8.0 tf-models-official-2.18.0\n"
     ]
    }
   ],
   "source": [
    "!pip install tf-models-official==2.18.0 --upgrade"
   ]
  },
  {
   "cell_type": "markdown",
   "id": "b6fdd6aa",
   "metadata": {
    "id": "b6fdd6aa"
   },
   "source": [
    "## Càrrega de llibreries\n",
    "A continuació es mostren les principals llibreries necessàries per executar aquesta PAC."
   ]
  },
  {
   "cell_type": "code",
   "execution_count": 5,
   "id": "83b82c4c",
   "metadata": {
    "execution": {
     "iopub.execute_input": "2025-05-12T07:48:14.162641Z",
     "iopub.status.busy": "2025-05-12T07:48:14.162056Z",
     "iopub.status.idle": "2025-05-12T07:48:24.271689Z",
     "shell.execute_reply": "2025-05-12T07:48:24.271103Z",
     "shell.execute_reply.started": "2025-05-12T07:48:14.162617Z"
    },
    "id": "83b82c4c",
    "outputId": "6319c8bc-2abd-4dbd-9b67-7a40cf4982f4"
   },
   "outputs": [],
   "source": [
    "import tensorflow as tf\n",
    "import keras\n",
    "from transformers import BertTokenizer, TFBertModel\n",
    "\n",
    "from tensorflow.keras import layers, models\n",
    "from tensorflow.keras.layers import Input, Dense, Embedding, GlobalAveragePooling1D\n",
    "from keras.layers import LSTM, SimpleRNNCell, Flatten, Dropout, MultiHeadAttention, Bidirectional, TimeDistributed, Dense, Embedding\n",
    "from tensorflow.keras.layers import Permute, dot, add, concatenate\n",
    "from tensorflow.keras.utils import plot_model\n",
    "from tensorflow.keras.callbacks import ModelCheckpoint,EarlyStopping,ReduceLROnPlateau\n",
    "\n",
    "\n",
    "from tensorflow.keras.preprocessing.sequence import pad_sequences\n",
    "\n",
    "import tensorflow_hub as hub\n",
    "import tensorflow_text as text\n",
    "from official.nlp import optimization\n",
    "\n",
    "import matplotlib.pyplot as plt\n",
    "\n"
   ]
  },
  {
   "cell_type": "code",
   "execution_count": 3,
   "id": "10df6b11",
   "metadata": {
    "execution": {
     "iopub.execute_input": "2025-05-08T09:59:33.335731Z",
     "iopub.status.busy": "2025-05-08T09:59:33.335018Z",
     "iopub.status.idle": "2025-05-08T09:59:33.340057Z",
     "shell.execute_reply": "2025-05-08T09:59:33.339264Z",
     "shell.execute_reply.started": "2025-05-08T09:59:33.335701Z"
    },
    "id": "10df6b11",
    "outputId": "2706a309-0141-424d-81e8-810b0fe6ab4b"
   },
   "outputs": [
    {
     "name": "stdout",
     "output_type": "stream",
     "text": [
      "2.18.0\n",
      "0.16.1\n",
      "2.18.1\n"
     ]
    }
   ],
   "source": [
    "print(tf.__version__)\n",
    "print(hub.__version__)\n",
    "print(text.__version__)"
   ]
  },
  {
   "cell_type": "markdown",
   "id": "XPWwwKer967e",
   "metadata": {
    "id": "XPWwwKer967e"
   },
   "source": [
    "<div style=\"background-color: #fcf2f2; border-color: #dfb5b4; border-left: 5px solid #dfb5b4; padding: 0.5em;\">\n",
    "<p><strong>Es recomana en aquesta PAC utilitzar tensorflow 2.14. Utilitzar altres versions pot dificultar el treball en la part sobre downstream models a causa de la incompatibilitat de llibreries</strong> </p>\n",
    "</div>"
   ]
  },
  {
   "cell_type": "markdown",
   "id": "ecab2429",
   "metadata": {
    "id": "ecab2429"
   },
   "source": [
    "## Context\n",
    "\n",
    "En aquesta PAC utilitzarem models de transformers, capes d'atenció, capes bidireccionals i alguns altres algorismes estudiats fins ara per construir i entrenar fent dos exercicis relacionats amb el llenguatge natural. Aquest entorn és on les arquitectures basades en transformers són més potents.\n",
    "\n",
    "\n",
    "Els objectius de la pràctica són:\n",
    "\n",
    "* Càrrega, preprocessament, exploració i visualització de les dades.\n",
    "* Entrenament d'un model base amb els coneixements adquirits fins ara.\n",
    "* Comprensió de les capes bidireccionals.\n",
    "* Comprensió i aplicació de les capes d'atenció.\n",
    "* Comprensió i aplicació de blocs transformers bàsics.\n",
    "* Comprensió i aplicació de blocs transformers avançats.\n",
    "* Aplicació sobre domini (downstream models) d'arquitectures preentrenades basades en transformers.\n",
    "* Adquisició de coneixements i capacitat crítica que permeti continuar millorant els resultats."
   ]
  },
  {
   "cell_type": "markdown",
   "id": "1b6e56ff",
   "metadata": {
    "id": "1b6e56ff"
   },
   "source": [
    "## 1 Càrrega de dades (0.5 punts)\n"
   ]
  },
  {
   "cell_type": "markdown",
   "id": "f4281e1a",
   "metadata": {
    "id": "f4281e1a"
   },
   "source": [
    "<div style=\"background-color: #EDF7FF; border-color: #7C9DBF; border-left: 5px solid #7C9DBF; padding: 0.5em;\">\n",
    "<p><strong>Exercici [0.5 pt]:</strong> IMBD és una base de dades que conté ressenyes de pel·lícules, juntament amb la valoració sobre si el comentari és positiu o negatiu. En aquesta primera part realitza el següent:\n",
    "\n",
    "* Descarrega la base de dades d'IMBD des de keras i mostra 2 exemples de comentaris positius i 2 exemples de comentaris negatius. Les paraules estan codificades en números, mostra els exemples en text. Tens informació de com fer-ho a: https://www.tensorflow.org/api_docs/python/tf/keras/datasets/imdb/get_word_index\n",
    "* Reprodueix la taula 1 (només les dades de la fila 3) del paper Long Short-Term Memory with Dynamic Skip Connections (https://arxiv.org/pdf/1811.03873v1). Calcula els valors d'aquesta taula sobre la base de dades de l'IMBD amb què estem treballant. Fes particions de dades o les suposicions que consideris. Si hi hagués alguna diferència amb el paper, indica-la.\n",
    "</div>"
   ]
  },
  {
   "cell_type": "markdown",
   "id": "e14374c5",
   "metadata": {
    "id": "e14374c5"
   },
   "source": [
    "<div style=\"background-color: #fcf2f2; border-color: #dfb5b4; border-left: 5px solid #dfb5b4; padding: 0.5em;\">\n",
    "<p><strong>Solució:</strong> </p>\n",
    "</div>"
   ]
  },
  {
   "cell_type": "code",
   "execution_count": 7,
   "id": "zUaRKqZ4tzjy",
   "metadata": {
    "execution": {
     "iopub.execute_input": "2025-05-12T07:48:55.991641Z",
     "iopub.status.busy": "2025-05-12T07:48:55.990974Z",
     "iopub.status.idle": "2025-05-12T07:48:59.326715Z",
     "shell.execute_reply": "2025-05-12T07:48:59.325883Z",
     "shell.execute_reply.started": "2025-05-12T07:48:55.991616Z"
    },
    "id": "zUaRKqZ4tzjy"
   },
   "outputs": [
    {
     "name": "stdout",
     "output_type": "stream",
     "text": [
      "Downloading data from https://storage.googleapis.com/tensorflow/tf-keras-datasets/imdb.npz\n",
      "17464789/17464789 [==============================] - 0s 0us/step\n",
      "Downloading data from https://storage.googleapis.com/tensorflow/tf-keras-datasets/imdb_word_index.json\n",
      "1641221/1641221 [==============================] - 0s 0us/step\n",
      "=== POSITIVES ===\n",
      "[START] this film was just brilliant casting location scenery story direction everyone's really suited the part they played and you could just imagine being there robert redford's is an amazing actor and now the same being director norman's father ca ...\n",
      "\n",
      "[START] the scots excel at storytelling the traditional sort many years after the event i can still see in my mind's eye an elderly lady my friend's mother retelling the battle of culloden she makes the characters come alive her passion is that of an ...\n",
      "\n",
      "=== NEGATIVES ===\n",
      "[START] big hair big boobs bad music and a giant safety pin these are the words to best describe this terrible movie i love cheesy horror movies and i've seen hundreds but this had got to be on of the worst ever made the plot is paper thin and ridicu ...\n",
      "\n",
      "[START] this has to be one of the worst films of the 1990s when my friends i were watching this film being the target audience it was aimed at we just sat watched the first half an hour with our jaws touching the floor at how bad it really was the re ...\n",
      "\n"
     ]
    }
   ],
   "source": [
    "# source: https://www.tensorflow.org/api_docs/python/tf/keras/datasets/imdb/get_word_index\n",
    "\n",
    "# Use the default parameters to keras.datasets.imdb.load_data\n",
    "start_char = 1\n",
    "oov_char   = 2\n",
    "index_from = 3\n",
    "\n",
    "# Carreguem i separem text de etiquetes\n",
    "(x_train, y_train), (x_test, y_test) = keras.datasets.imdb.load_data(\n",
    "    start_char=start_char,\n",
    "    oov_char=oov_char,\n",
    "    index_from=index_from\n",
    ")\n",
    "\n",
    "# Retrieve the word index file mapping words to indices\n",
    "word_index = keras.datasets.imdb.get_word_index()\n",
    "\n",
    "# Reverse the word index to obtain a dict mapping indices to words\n",
    "# And add `index_from` to indices to sync with `x_train`\n",
    "inverted_word_index = dict(\n",
    "    (i + index_from, word) for (word, i) in word_index.items()\n",
    ")\n",
    "# Update `inverted_word_index` to include `start_char` and `oov_char`\n",
    "inverted_word_index[start_char] = \"[START]\"\n",
    "inverted_word_index[oov_char] = \"[OOV]\"\n",
    "\n",
    "# Agafem 2 positives i 2 negatives\n",
    "pos_idx = [i for i, y in enumerate(y_train) if y == 1][:2]\n",
    "neg_idx = [i for i, y in enumerate(y_train) if y == 0][:2]\n",
    "\n",
    "# Mostrem les ressenyes\n",
    "print(\"=== POSITIVES ===\")\n",
    "for i in pos_idx:\n",
    "    print(\" \".join(inverted_word_index[token] for token in x_train[i])[:250], \"...\\n\")\n",
    "\n",
    "print(\"=== NEGATIVES ===\")\n",
    "for i in neg_idx:\n",
    "    print(\" \".join(inverted_word_index[token] for token in x_train[i])[:250], \"...\\n\")"
   ]
  },
  {
   "cell_type": "code",
   "execution_count": 8,
   "id": "d28fa2e4-1b10-4231-ab9d-3af0777feaf1",
   "metadata": {
    "execution": {
     "iopub.execute_input": "2025-05-12T07:49:04.585094Z",
     "iopub.status.busy": "2025-05-12T07:49:04.584800Z",
     "iopub.status.idle": "2025-05-12T07:49:04.969525Z",
     "shell.execute_reply": "2025-05-12T07:49:04.968594Z",
     "shell.execute_reply.started": "2025-05-12T07:49:04.585067Z"
    }
   },
   "outputs": [
    {
     "name": "stdout",
     "output_type": "stream",
     "text": [
      "| Task               | Dataset   | Level    |   Vocab |   #Train |   #Dev |   #Test |   #class |\n",
      "|:-------------------|:----------|:---------|--------:|---------:|-------:|--------:|---------:|\n",
      "| Sentiment Analysis | IMDB      | sentence |   88585 |    21250 |   3750 |   25000 |        2 |\n"
     ]
    }
   ],
   "source": [
    "import pandas as pd\n",
    "\n",
    "# 85% per entrenament, 15% validació\n",
    "dev_size   = int(0.15 * len(x_train))\n",
    "train_size = len(x_train) - dev_size\n",
    "\n",
    "# Vocabulari total únic (TRAIN + TEST)\n",
    "unique_tokens = set()\n",
    "for seq in list(x_train) + list(x_test):\n",
    "    unique_tokens.update(seq)\n",
    "vocab_size = len(unique_tokens)\n",
    "\n",
    "# Columnes de la fila 1 de la taula del paper\n",
    "row = {\n",
    "    \"Task\":      \"Sentiment Analysis\",\n",
    "    \"Dataset\":   \"IMDB\",\n",
    "    \"Level\":     \"sentence\",\n",
    "    \"Vocab\":     vocab_size,\n",
    "    \"#Train\":    train_size,\n",
    "    \"#Dev\":      dev_size,\n",
    "    \"#Test\":     len(x_test),\n",
    "    \"#class\":    len(set(y_train))\n",
    "}\n",
    "\n",
    "# Mostrem la taula\n",
    "df = pd.DataFrame([row])\n",
    "print(df.to_markdown(index=False))"
   ]
  },
  {
   "cell_type": "markdown",
   "id": "9QmiOh3Xt555",
   "metadata": {
    "id": "9QmiOh3Xt555"
   },
   "source": [
    "En el paper el vocabulari conté 112540 tokens, en canvi, amb Keras obtenim 88585. Això és perquè per defecte Keras limita el diccionari a les paraules més freqüents.\n",
    "\n",
    "*Source: https://keras.io/2/api/datasets/imdb/*"
   ]
  },
  {
   "cell_type": "markdown",
   "id": "e7e2fce0",
   "metadata": {
    "id": "e7e2fce0"
   },
   "source": [
    "## 2 Model base LSTM (1 punt)\n"
   ]
  },
  {
   "cell_type": "markdown",
   "id": "843fdde2",
   "metadata": {
    "id": "843fdde2"
   },
   "source": [
    "<div style=\"background-color: #EDF7FF; border-color: #7C9DBF; border-left: 5px solid #7C9DBF; padding: 0.5em;\">\n",
    "<p><strong>Exercici [1 pt]:</strong>\n",
    "\n",
    "    \n",
    "Ara intentarem completar algunes parts de la taula 4 del paper Long Short-Term Memory with Dynamic Skip Connections https://arxiv.org/pdf/1811.03873v1.\n",
    "\n",
    "Es recomana, en primer lloc, entendre les dificultats que afronta el llenguatge natural. Per això observa la Figura 1 del paper i llegeix la introducció, en particular el penúltim paràgraf.\n",
    "\n",
    "\n",
    "* En aquesta part, entrena un model simple LSTM tal com apareix a la primera fila de la taula 4. Mostra les gràfiques d'accuracy i loss durant l'entrenament (de la partició d'eval i de train), així com el resultat final sobre test. Repasseu el text corresponent a la secció \"Sentiment Analysis on IMDB\" per intentar reproduir els resultats. Discuteix les decisions que has hagut de prendre en cas de no tenir tota la informació. Implementa un early stopping i queda't sempre amb el millor model sobre el dataset d'avaluació.\n",
    "    \n",
    "</div>"
   ]
  },
  {
   "cell_type": "markdown",
   "id": "f40c2efa",
   "metadata": {
    "id": "f40c2efa"
   },
   "source": [
    "<div style=\"background-color: #fcf2f2; border-color: #dfb5b4; border-left: 5px solid #dfb5b4; padding: 0.5em;\">\n",
    "<p><strong>Solució:</strong> </p>\n",
    "</div>"
   ]
  },
  {
   "cell_type": "code",
   "execution_count": 14,
   "id": "okjVc6G_uDrD",
   "metadata": {
    "execution": {
     "iopub.execute_input": "2025-05-08T10:17:10.290259Z",
     "iopub.status.busy": "2025-05-08T10:17:10.289957Z",
     "iopub.status.idle": "2025-05-08T10:19:32.256541Z",
     "shell.execute_reply": "2025-05-08T10:19:32.255908Z",
     "shell.execute_reply.started": "2025-05-08T10:17:10.290238Z"
    },
    "id": "okjVc6G_uDrD"
   },
   "outputs": [
    {
     "name": "stdout",
     "output_type": "stream",
     "text": [
      "Epoch 1/100\n",
      "\u001b[1m425/425\u001b[0m \u001b[32m━━━━━━━━━━━━━━━━━━━━\u001b[0m\u001b[37m\u001b[0m \u001b[1m13s\u001b[0m 23ms/step - accuracy: 0.5039 - loss: 0.6955 - val_accuracy: 0.4920 - val_loss: 0.6951\n",
      "Epoch 2/100\n",
      "\u001b[1m425/425\u001b[0m \u001b[32m━━━━━━━━━━━━━━━━━━━━\u001b[0m\u001b[37m\u001b[0m \u001b[1m9s\u001b[0m 22ms/step - accuracy: 0.5158 - loss: 0.6891 - val_accuracy: 0.5048 - val_loss: 0.6913\n",
      "Epoch 3/100\n",
      "\u001b[1m425/425\u001b[0m \u001b[32m━━━━━━━━━━━━━━━━━━━━\u001b[0m\u001b[37m\u001b[0m \u001b[1m10s\u001b[0m 22ms/step - accuracy: 0.5544 - loss: 0.6503 - val_accuracy: 0.5043 - val_loss: 0.7033\n",
      "Epoch 4/100\n",
      "\u001b[1m425/425\u001b[0m \u001b[32m━━━━━━━━━━━━━━━━━━━━\u001b[0m\u001b[37m\u001b[0m \u001b[1m10s\u001b[0m 23ms/step - accuracy: 0.5705 - loss: 0.6131 - val_accuracy: 0.5077 - val_loss: 0.7254\n",
      "Epoch 5/100\n",
      "\u001b[1m425/425\u001b[0m \u001b[32m━━━━━━━━━━━━━━━━━━━━\u001b[0m\u001b[37m\u001b[0m \u001b[1m10s\u001b[0m 22ms/step - accuracy: 0.5695 - loss: 0.5991 - val_accuracy: 0.5051 - val_loss: 0.7916\n",
      "Epoch 6/100\n",
      "\u001b[1m425/425\u001b[0m \u001b[32m━━━━━━━━━━━━━━━━━━━━\u001b[0m\u001b[37m\u001b[0m \u001b[1m9s\u001b[0m 22ms/step - accuracy: 0.5720 - loss: 0.5952 - val_accuracy: 0.5064 - val_loss: 0.7767\n",
      "Epoch 7/100\n",
      "\u001b[1m425/425\u001b[0m \u001b[32m━━━━━━━━━━━━━━━━━━━━\u001b[0m\u001b[37m\u001b[0m \u001b[1m10s\u001b[0m 23ms/step - accuracy: 0.6067 - loss: 0.5844 - val_accuracy: 0.8123 - val_loss: 0.4898\n",
      "Epoch 8/100\n",
      "\u001b[1m425/425\u001b[0m \u001b[32m━━━━━━━━━━━━━━━━━━━━\u001b[0m\u001b[37m\u001b[0m \u001b[1m10s\u001b[0m 22ms/step - accuracy: 0.8698 - loss: 0.3421 - val_accuracy: 0.8469 - val_loss: 0.3945\n",
      "Epoch 9/100\n",
      "\u001b[1m425/425\u001b[0m \u001b[32m━━━━━━━━━━━━━━━━━━━━\u001b[0m\u001b[37m\u001b[0m \u001b[1m10s\u001b[0m 22ms/step - accuracy: 0.9419 - loss: 0.1795 - val_accuracy: 0.8629 - val_loss: 0.3924\n",
      "Epoch 10/100\n",
      "\u001b[1m425/425\u001b[0m \u001b[32m━━━━━━━━━━━━━━━━━━━━\u001b[0m\u001b[37m\u001b[0m \u001b[1m10s\u001b[0m 22ms/step - accuracy: 0.9745 - loss: 0.0956 - val_accuracy: 0.8661 - val_loss: 0.4663\n",
      "Epoch 11/100\n",
      "\u001b[1m425/425\u001b[0m \u001b[32m━━━━━━━━━━━━━━━━━━━━\u001b[0m\u001b[37m\u001b[0m \u001b[1m9s\u001b[0m 22ms/step - accuracy: 0.9899 - loss: 0.0445 - val_accuracy: 0.8613 - val_loss: 0.5405\n",
      "Epoch 12/100\n",
      "\u001b[1m425/425\u001b[0m \u001b[32m━━━━━━━━━━━━━━━━━━━━\u001b[0m\u001b[37m\u001b[0m \u001b[1m10s\u001b[0m 22ms/step - accuracy: 0.9949 - loss: 0.0245 - val_accuracy: 0.8528 - val_loss: 0.6134\n",
      "Epoch 13/100\n",
      "\u001b[1m425/425\u001b[0m \u001b[32m━━━━━━━━━━━━━━━━━━━━\u001b[0m\u001b[37m\u001b[0m \u001b[1m10s\u001b[0m 23ms/step - accuracy: 0.9973 - loss: 0.0144 - val_accuracy: 0.8475 - val_loss: 0.7038\n",
      "Epoch 14/100\n",
      "\u001b[1m425/425\u001b[0m \u001b[32m━━━━━━━━━━━━━━━━━━━━\u001b[0m\u001b[37m\u001b[0m \u001b[1m10s\u001b[0m 22ms/step - accuracy: 0.9985 - loss: 0.0081 - val_accuracy: 0.8568 - val_loss: 0.6976\n"
     ]
    },
    {
     "data": {
      "image/png": "[encoded data removed]",
      "text/plain": [
       "<Figure size 640x480 with 1 Axes>"
      ]
     },
     "metadata": {},
     "output_type": "display_data"
    },
    {
     "data": {
      "image/png": "[encoded data removed]",
      "text/plain": [
       "<Figure size 640x480 with 1 Axes>"
      ]
     },
     "metadata": {},
     "output_type": "display_data"
    },
    {
     "name": "stdout",
     "output_type": "stream",
     "text": [
      "\u001b[1m500/500\u001b[0m \u001b[32m━━━━━━━━━━━━━━━━━━━━\u001b[0m\u001b[37m\u001b[0m \u001b[1m3s\u001b[0m 7ms/step - accuracy: 0.8513 - loss: 0.4329\n",
      "\n",
      "Test loss: 0.4287, Test accuracy: 0.8513\n"
     ]
    }
   ],
   "source": [
    "from sklearn.model_selection import train_test_split\n",
    "from tensorflow.keras.models import Sequential\n",
    "from tensorflow.keras.initializers import RandomUniform\n",
    "\n",
    "x_train_part, x_val, y_train_part, y_val = train_test_split(\n",
    "    x_train, y_train, test_size=0.15, random_state=42\n",
    ")\n",
    "\n",
    "# màxima longitud de 400 (ho fan així al paper)\n",
    "maxlen = 400\n",
    "x_train_pad = pad_sequences(x_train_part, maxlen=maxlen, padding='post', truncating='post')\n",
    "x_val_pad   = pad_sequences(x_val,       maxlen=maxlen, padding='post', truncating='post')\n",
    "x_test_pad  = pad_sequences(x_test,      maxlen=maxlen, padding='post', truncating='post')\n",
    "\n",
    "embedding_dim = 100\n",
    "\n",
    "model = Sequential([\n",
    "    Embedding(input_dim=vocab_size + index_from + 1,\n",
    "              output_dim=embedding_dim,\n",
    "              embeddings_initializer=RandomUniform(-0.25, 0.25)),\n",
    "    # 128 hidden\n",
    "    LSTM(128),\n",
    "    # Dropout 0.2\n",
    "    Dropout(0.2),\n",
    "    Dense(1, activation='sigmoid')\n",
    "])\n",
    "\n",
    "model.compile(\n",
    "    optimizer='adam',\n",
    "    loss='binary_crossentropy',\n",
    "    metrics=['accuracy']\n",
    ")\n",
    "\n",
    "# Afegirem early stopping\n",
    "es = EarlyStopping(\n",
    "    monitor='val_loss',\n",
    "    patience=5,\n",
    "    restore_best_weights=True\n",
    ")\n",
    "\n",
    "# Entrenament\n",
    "history = model.fit(\n",
    "    x_train_pad, y_train_part,\n",
    "    validation_data=(x_val_pad, y_val),\n",
    "    epochs=100,\n",
    "    # batch size 50\n",
    "    batch_size=50,\n",
    "    callbacks=[es]\n",
    ")\n",
    "\n",
    "# Accuracy\n",
    "plt.figure()\n",
    "plt.plot(history.history['accuracy'], label='train acc')\n",
    "plt.plot(history.history['val_accuracy'], label='val acc')\n",
    "plt.title('Accuracy per epoch')\n",
    "plt.xlabel('Epoch'); plt.ylabel('Accuracy')\n",
    "plt.legend()\n",
    "plt.show()\n",
    "\n",
    "# Loss\n",
    "plt.figure()\n",
    "plt.plot(history.history['loss'], label='train loss')\n",
    "plt.plot(history.history['val_loss'], label='val loss')\n",
    "plt.title('Loss per epoch')\n",
    "plt.xlabel('Epoch'); plt.ylabel('Loss')\n",
    "plt.legend()\n",
    "plt.show()\n",
    "\n",
    "# Resultats\n",
    "test_loss, test_acc = model.evaluate(x_test_pad, y_test, batch_size=50)\n",
    "print(f\"\\nTest loss: {test_loss:.4f}, Test accuracy: {test_acc:.4f}\")"
   ]
  },
  {
   "cell_type": "markdown",
   "id": "AnzyiyPHuEO9",
   "metadata": {
    "id": "AnzyiyPHuEO9"
   },
   "source": [
    "Existeix una diferència de casi un 5% en el rendiment respecte al del paper original. Això segurament és degut a la inicialització i als embeddings (word2vec vs aleatoris de dimensió 100). També pot ser degut a hiperparàmetres com el learning rate. Es podria fer servir grid search i k-fold validation per a tindre resultats més robustos."
   ]
  },
  {
   "cell_type": "markdown",
   "id": "6b3a9bc0",
   "metadata": {
    "id": "6b3a9bc0"
   },
   "source": [
    "## 3 Model basat en mecanismes d'atenció. (2 punts)\n"
   ]
  },
  {
   "cell_type": "markdown",
   "id": "699f0670",
   "metadata": {
    "id": "699f0670"
   },
   "source": [
    "\n",
    "<div style=\"background-color: #EDF7FF; border-color: #7C9DBF; border-left: 5px solid #7C9DBF; padding: 0.5em;\">\n",
    "<p><strong>Exercici [2 pts.]:</strong>\n",
    "En aquest exercici, hauràs de construir i entrenar una petita arquitectura que combini una capa d'Embedding, mecanismes d'atenció (Multi-Head Attention) i connexions residuals, simulant els principis bàsics dels Transformers. Per això el model constarà:\n",
    "\n",
    "\n",
    "* Entrada del model.\n",
    "* Capa d'Embedding: Utilitza una capa Embedding.\n",
    "* Capa d'Atenció: Incorpora una capa MultiHeadAttention. Aquesta capa ha de rebre com a entrada la seva pròpia sortida, simulant una atenció self-attention.\n",
    "* Connexió Residual: Afegeix la sortida de la capa d'atenció a la sortida original de la capa d'embedding mitjançant una operació de suma (Add). Posteriorment, aplica una capa de normalització (LayerNormalization).\n",
    "* Capa de Flatten i Regularització.\n",
    "* Finalment afegeix una darrera capa classificadora d'una neurona i activació sigmoide\n",
    "\n",
    "Amb aquesta arquitectura hauràs de:\n",
    "* Mostrar el resum del model i el diagrama de blocs.\n",
    "* Entrenar el model i obtenir els resultats sobre test. Mostra les corbes d'entrenament. Quan entrenis el model, també implementa un early stopping i queda't amb el model que et doni millors resultats en validació.\n",
    "* Comenta i discuteix què has realitzat. Compara els teus resultats amb els obtinguts anteriorment. Amplia la taula de resultats demanada a l'exercici anterior. Pren les decisions sobre els paràmetres que consideris."
   ]
  },
  {
   "cell_type": "markdown",
   "id": "0ce8ccb8",
   "metadata": {
    "id": "0ce8ccb8"
   },
   "source": [
    "<div style=\"background-color: #fcf2f2; border-color: #dfb5b4; border-left: 5px solid #dfb5b4; padding: 0.5em;\">\n",
    "<p><strong>Solució:</strong> </p>\n",
    "</div>"
   ]
  },
  {
   "cell_type": "code",
   "execution_count": 19,
   "id": "Gr1v-1u2uJM7",
   "metadata": {
    "execution": {
     "iopub.execute_input": "2025-05-08T10:41:30.299478Z",
     "iopub.status.busy": "2025-05-08T10:41:30.299203Z",
     "iopub.status.idle": "2025-05-08T10:43:56.202155Z",
     "shell.execute_reply": "2025-05-08T10:43:56.201483Z",
     "shell.execute_reply.started": "2025-05-08T10:41:30.299459Z"
    },
    "id": "Gr1v-1u2uJM7"
   },
   "outputs": [
    {
     "data": {
      "text/html": [
       "<pre style=\"white-space:pre;overflow-x:auto;line-height:normal;font-family:Menlo,'DejaVu Sans Mono',consolas,'Courier New',monospace\"><span style=\"font-weight: bold\">Model: \"functional_4\"</span>\n",
       "</pre>\n"
      ],
      "text/plain": [
       "\u001b[1mModel: \"functional_4\"\u001b[0m\n"
      ]
     },
     "metadata": {},
     "output_type": "display_data"
    },
    {
     "data": {
      "text/html": [
       "<pre style=\"white-space:pre;overflow-x:auto;line-height:normal;font-family:Menlo,'DejaVu Sans Mono',consolas,'Courier New',monospace\">┏━━━━━━━━━━━━━━━━━━━━━━━━━━━┳━━━━━━━━━━━━━━━━━━━━━━━━┳━━━━━━━━━━━━━━━━┳━━━━━━━━━━━━━━━━━━━━━━━━┓\n",
       "┃<span style=\"font-weight: bold\"> Layer (type)              </span>┃<span style=\"font-weight: bold\"> Output Shape           </span>┃<span style=\"font-weight: bold\">        Param # </span>┃<span style=\"font-weight: bold\"> Connected to           </span>┃\n",
       "┡━━━━━━━━━━━━━━━━━━━━━━━━━━━╇━━━━━━━━━━━━━━━━━━━━━━━━╇━━━━━━━━━━━━━━━━╇━━━━━━━━━━━━━━━━━━━━━━━━┩\n",
       "│ input_layer_5             │ (<span style=\"color: #00d7ff; text-decoration-color: #00d7ff\">None</span>, <span style=\"color: #00af00; text-decoration-color: #00af00\">400</span>)            │              <span style=\"color: #00af00; text-decoration-color: #00af00\">0</span> │ -                      │\n",
       "│ (<span style=\"color: #0087ff; text-decoration-color: #0087ff\">InputLayer</span>)              │                        │                │                        │\n",
       "├───────────────────────────┼────────────────────────┼────────────────┼────────────────────────┤\n",
       "│ embedding_6 (<span style=\"color: #0087ff; text-decoration-color: #0087ff\">Embedding</span>)   │ (<span style=\"color: #00d7ff; text-decoration-color: #00d7ff\">None</span>, <span style=\"color: #00af00; text-decoration-color: #00af00\">400</span>, <span style=\"color: #00af00; text-decoration-color: #00af00\">100</span>)       │      <span style=\"color: #00af00; text-decoration-color: #00af00\">8,858,500</span> │ input_layer_5[<span style=\"color: #00af00; text-decoration-color: #00af00\">0</span>][<span style=\"color: #00af00; text-decoration-color: #00af00\">0</span>]    │\n",
       "├───────────────────────────┼────────────────────────┼────────────────┼────────────────────────┤\n",
       "│ multi_head_attention_2    │ (<span style=\"color: #00d7ff; text-decoration-color: #00d7ff\">None</span>, <span style=\"color: #00af00; text-decoration-color: #00af00\">400</span>, <span style=\"color: #00af00; text-decoration-color: #00af00\">100</span>)       │        <span style=\"color: #00af00; text-decoration-color: #00af00\">161,300</span> │ embedding_6[<span style=\"color: #00af00; text-decoration-color: #00af00\">0</span>][<span style=\"color: #00af00; text-decoration-color: #00af00\">0</span>],     │\n",
       "│ (<span style=\"color: #0087ff; text-decoration-color: #0087ff\">MultiHeadAttention</span>)      │                        │                │ embedding_6[<span style=\"color: #00af00; text-decoration-color: #00af00\">0</span>][<span style=\"color: #00af00; text-decoration-color: #00af00\">0</span>]      │\n",
       "├───────────────────────────┼────────────────────────┼────────────────┼────────────────────────┤\n",
       "│ add_2 (<span style=\"color: #0087ff; text-decoration-color: #0087ff\">Add</span>)               │ (<span style=\"color: #00d7ff; text-decoration-color: #00d7ff\">None</span>, <span style=\"color: #00af00; text-decoration-color: #00af00\">400</span>, <span style=\"color: #00af00; text-decoration-color: #00af00\">100</span>)       │              <span style=\"color: #00af00; text-decoration-color: #00af00\">0</span> │ embedding_6[<span style=\"color: #00af00; text-decoration-color: #00af00\">0</span>][<span style=\"color: #00af00; text-decoration-color: #00af00\">0</span>],     │\n",
       "│                           │                        │                │ multi_head_attention_… │\n",
       "├───────────────────────────┼────────────────────────┼────────────────┼────────────────────────┤\n",
       "│ layer_normalization_2     │ (<span style=\"color: #00d7ff; text-decoration-color: #00d7ff\">None</span>, <span style=\"color: #00af00; text-decoration-color: #00af00\">400</span>, <span style=\"color: #00af00; text-decoration-color: #00af00\">100</span>)       │            <span style=\"color: #00af00; text-decoration-color: #00af00\">200</span> │ add_2[<span style=\"color: #00af00; text-decoration-color: #00af00\">0</span>][<span style=\"color: #00af00; text-decoration-color: #00af00\">0</span>]            │\n",
       "│ (<span style=\"color: #0087ff; text-decoration-color: #0087ff\">LayerNormalization</span>)      │                        │                │                        │\n",
       "├───────────────────────────┼────────────────────────┼────────────────┼────────────────────────┤\n",
       "│ flatten_2 (<span style=\"color: #0087ff; text-decoration-color: #0087ff\">Flatten</span>)       │ (<span style=\"color: #00d7ff; text-decoration-color: #00d7ff\">None</span>, <span style=\"color: #00af00; text-decoration-color: #00af00\">40000</span>)          │              <span style=\"color: #00af00; text-decoration-color: #00af00\">0</span> │ layer_normalization_2… │\n",
       "├───────────────────────────┼────────────────────────┼────────────────┼────────────────────────┤\n",
       "│ dropout_8 (<span style=\"color: #0087ff; text-decoration-color: #0087ff\">Dropout</span>)       │ (<span style=\"color: #00d7ff; text-decoration-color: #00d7ff\">None</span>, <span style=\"color: #00af00; text-decoration-color: #00af00\">40000</span>)          │              <span style=\"color: #00af00; text-decoration-color: #00af00\">0</span> │ flatten_2[<span style=\"color: #00af00; text-decoration-color: #00af00\">0</span>][<span style=\"color: #00af00; text-decoration-color: #00af00\">0</span>]        │\n",
       "├───────────────────────────┼────────────────────────┼────────────────┼────────────────────────┤\n",
       "│ dense_5 (<span style=\"color: #0087ff; text-decoration-color: #0087ff\">Dense</span>)           │ (<span style=\"color: #00d7ff; text-decoration-color: #00d7ff\">None</span>, <span style=\"color: #00af00; text-decoration-color: #00af00\">1</span>)              │         <span style=\"color: #00af00; text-decoration-color: #00af00\">40,001</span> │ dropout_8[<span style=\"color: #00af00; text-decoration-color: #00af00\">0</span>][<span style=\"color: #00af00; text-decoration-color: #00af00\">0</span>]        │\n",
       "└───────────────────────────┴────────────────────────┴────────────────┴────────────────────────┘\n",
       "</pre>\n"
      ],
      "text/plain": [
       "┏━━━━━━━━━━━━━━━━━━━━━━━━━━━┳━━━━━━━━━━━━━━━━━━━━━━━━┳━━━━━━━━━━━━━━━━┳━━━━━━━━━━━━━━━━━━━━━━━━┓\n",
       "┃\u001b[1m \u001b[0m\u001b[1mLayer (type)             \u001b[0m\u001b[1m \u001b[0m┃\u001b[1m \u001b[0m\u001b[1mOutput Shape          \u001b[0m\u001b[1m \u001b[0m┃\u001b[1m \u001b[0m\u001b[1m       Param #\u001b[0m\u001b[1m \u001b[0m┃\u001b[1m \u001b[0m\u001b[1mConnected to          \u001b[0m\u001b[1m \u001b[0m┃\n",
       "┡━━━━━━━━━━━━━━━━━━━━━━━━━━━╇━━━━━━━━━━━━━━━━━━━━━━━━╇━━━━━━━━━━━━━━━━╇━━━━━━━━━━━━━━━━━━━━━━━━┩\n",
       "│ input_layer_5             │ (\u001b[38;5;45mNone\u001b[0m, \u001b[38;5;34m400\u001b[0m)            │              \u001b[38;5;34m0\u001b[0m │ -                      │\n",
       "│ (\u001b[38;5;33mInputLayer\u001b[0m)              │                        │                │                        │\n",
       "├───────────────────────────┼────────────────────────┼────────────────┼────────────────────────┤\n",
       "│ embedding_6 (\u001b[38;5;33mEmbedding\u001b[0m)   │ (\u001b[38;5;45mNone\u001b[0m, \u001b[38;5;34m400\u001b[0m, \u001b[38;5;34m100\u001b[0m)       │      \u001b[38;5;34m8,858,500\u001b[0m │ input_layer_5[\u001b[38;5;34m0\u001b[0m][\u001b[38;5;34m0\u001b[0m]    │\n",
       "├───────────────────────────┼────────────────────────┼────────────────┼────────────────────────┤\n",
       "│ multi_head_attention_2    │ (\u001b[38;5;45mNone\u001b[0m, \u001b[38;5;34m400\u001b[0m, \u001b[38;5;34m100\u001b[0m)       │        \u001b[38;5;34m161,300\u001b[0m │ embedding_6[\u001b[38;5;34m0\u001b[0m][\u001b[38;5;34m0\u001b[0m],     │\n",
       "│ (\u001b[38;5;33mMultiHeadAttention\u001b[0m)      │                        │                │ embedding_6[\u001b[38;5;34m0\u001b[0m][\u001b[38;5;34m0\u001b[0m]      │\n",
       "├───────────────────────────┼────────────────────────┼────────────────┼────────────────────────┤\n",
       "│ add_2 (\u001b[38;5;33mAdd\u001b[0m)               │ (\u001b[38;5;45mNone\u001b[0m, \u001b[38;5;34m400\u001b[0m, \u001b[38;5;34m100\u001b[0m)       │              \u001b[38;5;34m0\u001b[0m │ embedding_6[\u001b[38;5;34m0\u001b[0m][\u001b[38;5;34m0\u001b[0m],     │\n",
       "│                           │                        │                │ multi_head_attention_… │\n",
       "├───────────────────────────┼────────────────────────┼────────────────┼────────────────────────┤\n",
       "│ layer_normalization_2     │ (\u001b[38;5;45mNone\u001b[0m, \u001b[38;5;34m400\u001b[0m, \u001b[38;5;34m100\u001b[0m)       │            \u001b[38;5;34m200\u001b[0m │ add_2[\u001b[38;5;34m0\u001b[0m][\u001b[38;5;34m0\u001b[0m]            │\n",
       "│ (\u001b[38;5;33mLayerNormalization\u001b[0m)      │                        │                │                        │\n",
       "├───────────────────────────┼────────────────────────┼────────────────┼────────────────────────┤\n",
       "│ flatten_2 (\u001b[38;5;33mFlatten\u001b[0m)       │ (\u001b[38;5;45mNone\u001b[0m, \u001b[38;5;34m40000\u001b[0m)          │              \u001b[38;5;34m0\u001b[0m │ layer_normalization_2… │\n",
       "├───────────────────────────┼────────────────────────┼────────────────┼────────────────────────┤\n",
       "│ dropout_8 (\u001b[38;5;33mDropout\u001b[0m)       │ (\u001b[38;5;45mNone\u001b[0m, \u001b[38;5;34m40000\u001b[0m)          │              \u001b[38;5;34m0\u001b[0m │ flatten_2[\u001b[38;5;34m0\u001b[0m][\u001b[38;5;34m0\u001b[0m]        │\n",
       "├───────────────────────────┼────────────────────────┼────────────────┼────────────────────────┤\n",
       "│ dense_5 (\u001b[38;5;33mDense\u001b[0m)           │ (\u001b[38;5;45mNone\u001b[0m, \u001b[38;5;34m1\u001b[0m)              │         \u001b[38;5;34m40,001\u001b[0m │ dropout_8[\u001b[38;5;34m0\u001b[0m][\u001b[38;5;34m0\u001b[0m]        │\n",
       "└───────────────────────────┴────────────────────────┴────────────────┴────────────────────────┘\n"
      ]
     },
     "metadata": {},
     "output_type": "display_data"
    },
    {
     "data": {
      "text/html": [
       "<pre style=\"white-space:pre;overflow-x:auto;line-height:normal;font-family:Menlo,'DejaVu Sans Mono',consolas,'Courier New',monospace\"><span style=\"font-weight: bold\"> Total params: </span><span style=\"color: #00af00; text-decoration-color: #00af00\">9,060,001</span> (34.56 MB)\n",
       "</pre>\n"
      ],
      "text/plain": [
       "\u001b[1m Total params: \u001b[0m\u001b[38;5;34m9,060,001\u001b[0m (34.56 MB)\n"
      ]
     },
     "metadata": {},
     "output_type": "display_data"
    },
    {
     "data": {
      "text/html": [
       "<pre style=\"white-space:pre;overflow-x:auto;line-height:normal;font-family:Menlo,'DejaVu Sans Mono',consolas,'Courier New',monospace\"><span style=\"font-weight: bold\"> Trainable params: </span><span style=\"color: #00af00; text-decoration-color: #00af00\">9,060,001</span> (34.56 MB)\n",
       "</pre>\n"
      ],
      "text/plain": [
       "\u001b[1m Trainable params: \u001b[0m\u001b[38;5;34m9,060,001\u001b[0m (34.56 MB)\n"
      ]
     },
     "metadata": {},
     "output_type": "display_data"
    },
    {
     "data": {
      "text/html": [
       "<pre style=\"white-space:pre;overflow-x:auto;line-height:normal;font-family:Menlo,'DejaVu Sans Mono',consolas,'Courier New',monospace\"><span style=\"font-weight: bold\"> Non-trainable params: </span><span style=\"color: #00af00; text-decoration-color: #00af00\">0</span> (0.00 B)\n",
       "</pre>\n"
      ],
      "text/plain": [
       "\u001b[1m Non-trainable params: \u001b[0m\u001b[38;5;34m0\u001b[0m (0.00 B)\n"
      ]
     },
     "metadata": {},
     "output_type": "display_data"
    },
    {
     "name": "stdout",
     "output_type": "stream",
     "text": [
      "Epoch 1/50\n"
     ]
    },
    {
     "name": "stderr",
     "output_type": "stream",
     "text": [
      "WARNING: All log messages before absl::InitializeLog() is called are written to STDERR\n",
      "I0000 00:00:1746700893.718272     112 service.cc:148] XLA service 0x47dd1f20 initialized for platform CUDA (this does not guarantee that XLA will be used). Devices:\n",
      "I0000 00:00:1746700893.724663     112 service.cc:156]   StreamExecutor device (0): Tesla T4, Compute Capability 7.5\n",
      "I0000 00:00:1746700893.724692     112 service.cc:156]   StreamExecutor device (1): Tesla T4, Compute Capability 7.5\n"
     ]
    },
    {
     "name": "stdout",
     "output_type": "stream",
     "text": [
      "\u001b[1m  3/425\u001b[0m \u001b[37m━━━━━━━━━━━━━━━━━━━━\u001b[0m \u001b[1m18s\u001b[0m 44ms/step - accuracy: 0.4000 - loss: 1.3793"
     ]
    },
    {
     "name": "stderr",
     "output_type": "stream",
     "text": [
      "I0000 00:00:1746700897.960519     112 device_compiler.h:188] Compiled cluster using XLA!  This line is logged at most once for the lifetime of the process.\n"
     ]
    },
    {
     "name": "stdout",
     "output_type": "stream",
     "text": [
      "\u001b[1m425/425\u001b[0m \u001b[32m━━━━━━━━━━━━━━━━━━━━\u001b[0m\u001b[37m\u001b[0m \u001b[1m23s\u001b[0m 38ms/step - accuracy: 0.5966 - loss: 0.8302 - val_accuracy: 0.7680 - val_loss: 0.6137\n",
      "Epoch 2/50\n",
      "\u001b[1m425/425\u001b[0m \u001b[32m━━━━━━━━━━━━━━━━━━━━\u001b[0m\u001b[37m\u001b[0m \u001b[1m16s\u001b[0m 39ms/step - accuracy: 0.9741 - loss: 0.0753 - val_accuracy: 0.8283 - val_loss: 0.4566\n",
      "Epoch 3/50\n",
      "\u001b[1m425/425\u001b[0m \u001b[32m━━━━━━━━━━━━━━━━━━━━\u001b[0m\u001b[37m\u001b[0m \u001b[1m18s\u001b[0m 41ms/step - accuracy: 0.9990 - loss: 0.0106 - val_accuracy: 0.8565 - val_loss: 0.4563\n",
      "Epoch 4/50\n",
      "\u001b[1m425/425\u001b[0m \u001b[32m━━━━━━━━━━━━━━━━━━━━\u001b[0m\u001b[37m\u001b[0m \u001b[1m17s\u001b[0m 39ms/step - accuracy: 0.9994 - loss: 0.0042 - val_accuracy: 0.8549 - val_loss: 0.4735\n",
      "Epoch 5/50\n",
      "\u001b[1m425/425\u001b[0m \u001b[32m━━━━━━━━━━━━━━━━━━━━\u001b[0m\u001b[37m\u001b[0m \u001b[1m16s\u001b[0m 38ms/step - accuracy: 1.0000 - loss: 0.0012 - val_accuracy: 0.8459 - val_loss: 0.5178\n",
      "Epoch 6/50\n",
      "\u001b[1m425/425\u001b[0m \u001b[32m━━━━━━━━━━━━━━━━━━━━\u001b[0m\u001b[37m\u001b[0m \u001b[1m16s\u001b[0m 38ms/step - accuracy: 1.0000 - loss: 8.4283e-04 - val_accuracy: 0.8616 - val_loss: 0.5002\n",
      "Epoch 7/50\n",
      "\u001b[1m425/425\u001b[0m \u001b[32m━━━━━━━━━━━━━━━━━━━━\u001b[0m\u001b[37m\u001b[0m \u001b[1m16s\u001b[0m 38ms/step - accuracy: 0.9998 - loss: 0.0018 - val_accuracy: 0.8539 - val_loss: 0.5115\n",
      "Epoch 8/50\n",
      "\u001b[1m425/425\u001b[0m \u001b[32m━━━━━━━━━━━━━━━━━━━━\u001b[0m\u001b[37m\u001b[0m \u001b[1m16s\u001b[0m 39ms/step - accuracy: 1.0000 - loss: 2.9643e-04 - val_accuracy: 0.8587 - val_loss: 0.5258\n"
     ]
    },
    {
     "data": {
      "image/png": "[encoded data removed]",
      "text/plain": [
       "<Figure size 640x480 with 1 Axes>"
      ]
     },
     "metadata": {},
     "output_type": "display_data"
    },
    {
     "data": {
      "image/png": "[encoded data removed]",
      "text/plain": [
       "<Figure size 640x480 with 1 Axes>"
      ]
     },
     "metadata": {},
     "output_type": "display_data"
    },
    {
     "name": "stdout",
     "output_type": "stream",
     "text": [
      "\u001b[1m500/500\u001b[0m \u001b[32m━━━━━━━━━━━━━━━━━━━━\u001b[0m\u001b[37m\u001b[0m \u001b[1m6s\u001b[0m 11ms/step - accuracy: 0.8482 - loss: 0.4677\n",
      "Transformer-lite Test loss: 0.4675, Test accuracy: 0.8475\n",
      "\n",
      "Taula de resultats:\n",
      "| Model                  |   Test Accuracy |\n",
      "|:-----------------------|----------------:|\n",
      "| LSTM estàndard         |         0.85132 |\n",
      "| Transformer-exercici-3 |         0.84752 |\n"
     ]
    }
   ],
   "source": [
    "from tensorflow.keras.models import Model\n",
    "\n",
    "inputs = keras.Input(shape=(maxlen,), dtype='int32')\n",
    "# Embeddings\n",
    "x = layers.Embedding(input_dim=vocab_size, output_dim=embedding_dim)(inputs)\n",
    "\n",
    "# Atenció\n",
    "attn_out = layers.MultiHeadAttention(num_heads=4, key_dim=embedding_dim)(x, x)\n",
    "\n",
    "# Residual + LayerNorm\n",
    "x = layers.Add()([x, attn_out])\n",
    "x = layers.LayerNormalization()(x)\n",
    "\n",
    "# Flatten + Dropout + Classificació\n",
    "x = layers.Flatten()(x)\n",
    "x = layers.Dropout(0.2)(x)\n",
    "outputs = layers.Dense(1, activation='sigmoid')(x)\n",
    "\n",
    "model_attn = Model(inputs, outputs)\n",
    "model_attn.compile(optimizer='adam', loss='binary_crossentropy', metrics=['accuracy'])\n",
    "\n",
    "# 5. Resum del model\n",
    "model_attn.summary()\n",
    "keras.utils.plot_model(model_attn, show_shapes=True, show_layer_names=True)\n",
    "\n",
    "# Entrenament\n",
    "es = EarlyStopping(monitor='val_loss', patience=5, restore_best_weights=True)\n",
    "history2 = model_attn.fit(\n",
    "    x_train_pad, y_train_part,\n",
    "    validation_data=(x_val_pad, y_val),\n",
    "    epochs=50, batch_size=50,\n",
    "    callbacks=[es]\n",
    ")\n",
    "\n",
    "# Plots\n",
    "plt.figure()\n",
    "plt.plot(history2.history['accuracy'], label='train acc')\n",
    "plt.plot(history2.history['val_accuracy'], label='val acc')\n",
    "plt.title('Transformer-lite: Accuracy per epoch')\n",
    "plt.xlabel('Epoch'); plt.ylabel('Accuracy'); plt.legend(); plt.show()\n",
    "\n",
    "plt.figure()\n",
    "plt.plot(history2.history['loss'], label='train loss')\n",
    "plt.plot(history2.history['val_loss'], label='val loss')\n",
    "plt.title('Transformer-lite: Loss per epoch')\n",
    "plt.xlabel('Epoch'); plt.ylabel('Loss'); plt.legend(); plt.show()\n",
    "\n",
    "# Resultats\n",
    "test_loss2, test_acc2 = model_attn.evaluate(x_test_pad, y_test, batch_size=50)\n",
    "print(f\"Transformer-lite Test loss: {test_loss2:.4f}, Test accuracy: {test_acc2:.4f}\")\n",
    "\n",
    "# Comparació de resultats\n",
    "results = pd.DataFrame([\n",
    "    {'Model': 'LSTM estàndard',        'Test Accuracy': test_acc},\n",
    "    {'Model': 'Transformer-exercici-3',      'Test Accuracy': test_acc2},\n",
    "])\n",
    "print(\"\\nTaula de resultats:\")\n",
    "print(results.to_markdown(index=False))"
   ]
  },
  {
   "cell_type": "markdown",
   "id": "_76IvNGnuJku",
   "metadata": {
    "id": "_76IvNGnuJku"
   },
   "source": [
    "La LSTM té un resultat lleugerament millor que el Transformer. Això pot ser pel nombre de caps que estem fent servir (4) i l'embedding de dimensió 100. Al igual que en el cas anterior hi ha marge de millora simplement fent un grid search sobre el nombre de caps i altres hiperparàmetres. "
   ]
  },
  {
   "cell_type": "markdown",
   "id": "86787dd2-e9bb-41ee-9b46-4c89f761846b",
   "metadata": {
    "id": "86787dd2-e9bb-41ee-9b46-4c89f761846b"
   },
   "source": [
    "## 4 Model basat en mecanismes d'atenció millorat. (0.5 punts)\n"
   ]
  },
  {
   "cell_type": "markdown",
   "id": "e998c4f6-b3ac-424f-9657-a885bfb1f2f2",
   "metadata": {
    "id": "e998c4f6-b3ac-424f-9657-a885bfb1f2f2"
   },
   "source": [
    "\n",
    "<div style=\"background-color: #EDF7FF; border-color: #7C9DBF; border-left: 5px solid #7C9DBF; padding: 0.5em;\">\n",
    "<p><strong>Exercici [0.5 pts.]:</strong>\n",
    "Fes alguna modificació sobre l'arquitectura anterior i reentrena el model. Algunes idees poden ser: afegir diversos caps d'atenció, modificar els residus, incloure-hi alguna capa recurrent, etc."
   ]
  },
  {
   "cell_type": "markdown",
   "id": "0265bd0a-0f0d-4153-8edb-ca72754ba7a6",
   "metadata": {
    "id": "0265bd0a-0f0d-4153-8edb-ca72754ba7a6"
   },
   "source": [
    "<div style=\"background-color: #fcf2f2; border-color: #dfb5b4; border-left: 5px solid #dfb5b4; padding: 0.5em;\">\n",
    "<p><strong>Solució:</strong> </p>\n",
    "</div>"
   ]
  },
  {
   "cell_type": "code",
   "execution_count": 7,
   "id": "9RVzFxftuNSo",
   "metadata": {
    "execution": {
     "iopub.execute_input": "2025-05-12T07:29:02.115281Z",
     "iopub.status.busy": "2025-05-12T07:29:02.114818Z",
     "iopub.status.idle": "2025-05-12T07:35:24.679263Z",
     "shell.execute_reply": "2025-05-12T07:35:24.678692Z",
     "shell.execute_reply.started": "2025-05-12T07:29:02.115258Z"
    },
    "id": "9RVzFxftuNSo"
   },
   "outputs": [
    {
     "data": {
      "text/html": [
       "<pre style=\"white-space:pre;overflow-x:auto;line-height:normal;font-family:Menlo,'DejaVu Sans Mono',consolas,'Courier New',monospace\"><span style=\"font-weight: bold\">Model: \"functional_3\"</span>\n",
       "</pre>\n"
      ],
      "text/plain": [
       "\u001b[1mModel: \"functional_3\"\u001b[0m\n"
      ]
     },
     "metadata": {},
     "output_type": "display_data"
    },
    {
     "data": {
      "text/html": [
       "<pre style=\"white-space:pre;overflow-x:auto;line-height:normal;font-family:Menlo,'DejaVu Sans Mono',consolas,'Courier New',monospace\">┏━━━━━━━━━━━━━━━━━━━━━━━━━━━┳━━━━━━━━━━━━━━━━━━━━━━━━┳━━━━━━━━━━━━━━━━┳━━━━━━━━━━━━━━━━━━━━━━━━┓\n",
       "┃<span style=\"font-weight: bold\"> Layer (type)              </span>┃<span style=\"font-weight: bold\"> Output Shape           </span>┃<span style=\"font-weight: bold\">        Param # </span>┃<span style=\"font-weight: bold\"> Connected to           </span>┃\n",
       "┡━━━━━━━━━━━━━━━━━━━━━━━━━━━╇━━━━━━━━━━━━━━━━━━━━━━━━╇━━━━━━━━━━━━━━━━╇━━━━━━━━━━━━━━━━━━━━━━━━┩\n",
       "│ input_layer_3             │ (<span style=\"color: #00d7ff; text-decoration-color: #00d7ff\">None</span>, <span style=\"color: #00af00; text-decoration-color: #00af00\">400</span>)            │              <span style=\"color: #00af00; text-decoration-color: #00af00\">0</span> │ -                      │\n",
       "│ (<span style=\"color: #0087ff; text-decoration-color: #0087ff\">InputLayer</span>)              │                        │                │                        │\n",
       "├───────────────────────────┼────────────────────────┼────────────────┼────────────────────────┤\n",
       "│ embedding_3 (<span style=\"color: #0087ff; text-decoration-color: #0087ff\">Embedding</span>)   │ (<span style=\"color: #00d7ff; text-decoration-color: #00d7ff\">None</span>, <span style=\"color: #00af00; text-decoration-color: #00af00\">400</span>, <span style=\"color: #00af00; text-decoration-color: #00af00\">100</span>)       │      <span style=\"color: #00af00; text-decoration-color: #00af00\">8,858,500</span> │ input_layer_3[<span style=\"color: #00af00; text-decoration-color: #00af00\">0</span>][<span style=\"color: #00af00; text-decoration-color: #00af00\">0</span>]    │\n",
       "├───────────────────────────┼────────────────────────┼────────────────┼────────────────────────┤\n",
       "│ multi_head_attention_3    │ (<span style=\"color: #00d7ff; text-decoration-color: #00d7ff\">None</span>, <span style=\"color: #00af00; text-decoration-color: #00af00\">400</span>, <span style=\"color: #00af00; text-decoration-color: #00af00\">100</span>)       │        <span style=\"color: #00af00; text-decoration-color: #00af00\">322,500</span> │ embedding_3[<span style=\"color: #00af00; text-decoration-color: #00af00\">0</span>][<span style=\"color: #00af00; text-decoration-color: #00af00\">0</span>],     │\n",
       "│ (<span style=\"color: #0087ff; text-decoration-color: #0087ff\">MultiHeadAttention</span>)      │                        │                │ embedding_3[<span style=\"color: #00af00; text-decoration-color: #00af00\">0</span>][<span style=\"color: #00af00; text-decoration-color: #00af00\">0</span>]      │\n",
       "├───────────────────────────┼────────────────────────┼────────────────┼────────────────────────┤\n",
       "│ dropout_13 (<span style=\"color: #0087ff; text-decoration-color: #0087ff\">Dropout</span>)      │ (<span style=\"color: #00d7ff; text-decoration-color: #00d7ff\">None</span>, <span style=\"color: #00af00; text-decoration-color: #00af00\">400</span>, <span style=\"color: #00af00; text-decoration-color: #00af00\">100</span>)       │              <span style=\"color: #00af00; text-decoration-color: #00af00\">0</span> │ multi_head_attention_… │\n",
       "├───────────────────────────┼────────────────────────┼────────────────┼────────────────────────┤\n",
       "│ add_6 (<span style=\"color: #0087ff; text-decoration-color: #0087ff\">Add</span>)               │ (<span style=\"color: #00d7ff; text-decoration-color: #00d7ff\">None</span>, <span style=\"color: #00af00; text-decoration-color: #00af00\">400</span>, <span style=\"color: #00af00; text-decoration-color: #00af00\">100</span>)       │              <span style=\"color: #00af00; text-decoration-color: #00af00\">0</span> │ embedding_3[<span style=\"color: #00af00; text-decoration-color: #00af00\">0</span>][<span style=\"color: #00af00; text-decoration-color: #00af00\">0</span>],     │\n",
       "│                           │                        │                │ dropout_13[<span style=\"color: #00af00; text-decoration-color: #00af00\">0</span>][<span style=\"color: #00af00; text-decoration-color: #00af00\">0</span>]       │\n",
       "├───────────────────────────┼────────────────────────┼────────────────┼────────────────────────┤\n",
       "│ layer_normalization_9     │ (<span style=\"color: #00d7ff; text-decoration-color: #00d7ff\">None</span>, <span style=\"color: #00af00; text-decoration-color: #00af00\">400</span>, <span style=\"color: #00af00; text-decoration-color: #00af00\">100</span>)       │            <span style=\"color: #00af00; text-decoration-color: #00af00\">200</span> │ add_6[<span style=\"color: #00af00; text-decoration-color: #00af00\">0</span>][<span style=\"color: #00af00; text-decoration-color: #00af00\">0</span>]            │\n",
       "│ (<span style=\"color: #0087ff; text-decoration-color: #0087ff\">LayerNormalization</span>)      │                        │                │                        │\n",
       "├───────────────────────────┼────────────────────────┼────────────────┼────────────────────────┤\n",
       "│ conv1d_6 (<span style=\"color: #0087ff; text-decoration-color: #0087ff\">Conv1D</span>)         │ (<span style=\"color: #00d7ff; text-decoration-color: #00d7ff\">None</span>, <span style=\"color: #00af00; text-decoration-color: #00af00\">400</span>, <span style=\"color: #00af00; text-decoration-color: #00af00\">200</span>)       │         <span style=\"color: #00af00; text-decoration-color: #00af00\">20,200</span> │ layer_normalization_9… │\n",
       "├───────────────────────────┼────────────────────────┼────────────────┼────────────────────────┤\n",
       "│ dropout_14 (<span style=\"color: #0087ff; text-decoration-color: #0087ff\">Dropout</span>)      │ (<span style=\"color: #00d7ff; text-decoration-color: #00d7ff\">None</span>, <span style=\"color: #00af00; text-decoration-color: #00af00\">400</span>, <span style=\"color: #00af00; text-decoration-color: #00af00\">200</span>)       │              <span style=\"color: #00af00; text-decoration-color: #00af00\">0</span> │ conv1d_6[<span style=\"color: #00af00; text-decoration-color: #00af00\">0</span>][<span style=\"color: #00af00; text-decoration-color: #00af00\">0</span>]         │\n",
       "├───────────────────────────┼────────────────────────┼────────────────┼────────────────────────┤\n",
       "│ conv1d_7 (<span style=\"color: #0087ff; text-decoration-color: #0087ff\">Conv1D</span>)         │ (<span style=\"color: #00d7ff; text-decoration-color: #00d7ff\">None</span>, <span style=\"color: #00af00; text-decoration-color: #00af00\">400</span>, <span style=\"color: #00af00; text-decoration-color: #00af00\">100</span>)       │         <span style=\"color: #00af00; text-decoration-color: #00af00\">20,100</span> │ dropout_14[<span style=\"color: #00af00; text-decoration-color: #00af00\">0</span>][<span style=\"color: #00af00; text-decoration-color: #00af00\">0</span>]       │\n",
       "├───────────────────────────┼────────────────────────┼────────────────┼────────────────────────┤\n",
       "│ add_7 (<span style=\"color: #0087ff; text-decoration-color: #0087ff\">Add</span>)               │ (<span style=\"color: #00d7ff; text-decoration-color: #00d7ff\">None</span>, <span style=\"color: #00af00; text-decoration-color: #00af00\">400</span>, <span style=\"color: #00af00; text-decoration-color: #00af00\">100</span>)       │              <span style=\"color: #00af00; text-decoration-color: #00af00\">0</span> │ layer_normalization_9… │\n",
       "│                           │                        │                │ conv1d_7[<span style=\"color: #00af00; text-decoration-color: #00af00\">0</span>][<span style=\"color: #00af00; text-decoration-color: #00af00\">0</span>]         │\n",
       "├───────────────────────────┼────────────────────────┼────────────────┼────────────────────────┤\n",
       "│ layer_normalization_10    │ (<span style=\"color: #00d7ff; text-decoration-color: #00d7ff\">None</span>, <span style=\"color: #00af00; text-decoration-color: #00af00\">400</span>, <span style=\"color: #00af00; text-decoration-color: #00af00\">100</span>)       │            <span style=\"color: #00af00; text-decoration-color: #00af00\">200</span> │ add_7[<span style=\"color: #00af00; text-decoration-color: #00af00\">0</span>][<span style=\"color: #00af00; text-decoration-color: #00af00\">0</span>]            │\n",
       "│ (<span style=\"color: #0087ff; text-decoration-color: #0087ff\">LayerNormalization</span>)      │                        │                │                        │\n",
       "├───────────────────────────┼────────────────────────┼────────────────┼────────────────────────┤\n",
       "│ bidirectional_3           │ (<span style=\"color: #00d7ff; text-decoration-color: #00d7ff\">None</span>, <span style=\"color: #00af00; text-decoration-color: #00af00\">400</span>, <span style=\"color: #00af00; text-decoration-color: #00af00\">200</span>)       │        <span style=\"color: #00af00; text-decoration-color: #00af00\">160,800</span> │ layer_normalization_1… │\n",
       "│ (<span style=\"color: #0087ff; text-decoration-color: #0087ff\">Bidirectional</span>)           │                        │                │                        │\n",
       "├───────────────────────────┼────────────────────────┼────────────────┼────────────────────────┤\n",
       "│ layer_normalization_11    │ (<span style=\"color: #00d7ff; text-decoration-color: #00d7ff\">None</span>, <span style=\"color: #00af00; text-decoration-color: #00af00\">400</span>, <span style=\"color: #00af00; text-decoration-color: #00af00\">200</span>)       │            <span style=\"color: #00af00; text-decoration-color: #00af00\">400</span> │ bidirectional_3[<span style=\"color: #00af00; text-decoration-color: #00af00\">0</span>][<span style=\"color: #00af00; text-decoration-color: #00af00\">0</span>]  │\n",
       "│ (<span style=\"color: #0087ff; text-decoration-color: #0087ff\">LayerNormalization</span>)      │                        │                │                        │\n",
       "├───────────────────────────┼────────────────────────┼────────────────┼────────────────────────┤\n",
       "│ global_average_pooling1d… │ (<span style=\"color: #00d7ff; text-decoration-color: #00d7ff\">None</span>, <span style=\"color: #00af00; text-decoration-color: #00af00\">200</span>)            │              <span style=\"color: #00af00; text-decoration-color: #00af00\">0</span> │ layer_normalization_1… │\n",
       "│ (<span style=\"color: #0087ff; text-decoration-color: #0087ff\">GlobalAveragePooling1D</span>)  │                        │                │                        │\n",
       "├───────────────────────────┼────────────────────────┼────────────────┼────────────────────────┤\n",
       "│ dropout_15 (<span style=\"color: #0087ff; text-decoration-color: #0087ff\">Dropout</span>)      │ (<span style=\"color: #00d7ff; text-decoration-color: #00d7ff\">None</span>, <span style=\"color: #00af00; text-decoration-color: #00af00\">200</span>)            │              <span style=\"color: #00af00; text-decoration-color: #00af00\">0</span> │ global_average_poolin… │\n",
       "├───────────────────────────┼────────────────────────┼────────────────┼────────────────────────┤\n",
       "│ dense_3 (<span style=\"color: #0087ff; text-decoration-color: #0087ff\">Dense</span>)           │ (<span style=\"color: #00d7ff; text-decoration-color: #00d7ff\">None</span>, <span style=\"color: #00af00; text-decoration-color: #00af00\">1</span>)              │            <span style=\"color: #00af00; text-decoration-color: #00af00\">201</span> │ dropout_15[<span style=\"color: #00af00; text-decoration-color: #00af00\">0</span>][<span style=\"color: #00af00; text-decoration-color: #00af00\">0</span>]       │\n",
       "└───────────────────────────┴────────────────────────┴────────────────┴────────────────────────┘\n",
       "</pre>\n"
      ],
      "text/plain": [
       "┏━━━━━━━━━━━━━━━━━━━━━━━━━━━┳━━━━━━━━━━━━━━━━━━━━━━━━┳━━━━━━━━━━━━━━━━┳━━━━━━━━━━━━━━━━━━━━━━━━┓\n",
       "┃\u001b[1m \u001b[0m\u001b[1mLayer (type)             \u001b[0m\u001b[1m \u001b[0m┃\u001b[1m \u001b[0m\u001b[1mOutput Shape          \u001b[0m\u001b[1m \u001b[0m┃\u001b[1m \u001b[0m\u001b[1m       Param #\u001b[0m\u001b[1m \u001b[0m┃\u001b[1m \u001b[0m\u001b[1mConnected to          \u001b[0m\u001b[1m \u001b[0m┃\n",
       "┡━━━━━━━━━━━━━━━━━━━━━━━━━━━╇━━━━━━━━━━━━━━━━━━━━━━━━╇━━━━━━━━━━━━━━━━╇━━━━━━━━━━━━━━━━━━━━━━━━┩\n",
       "│ input_layer_3             │ (\u001b[38;5;45mNone\u001b[0m, \u001b[38;5;34m400\u001b[0m)            │              \u001b[38;5;34m0\u001b[0m │ -                      │\n",
       "│ (\u001b[38;5;33mInputLayer\u001b[0m)              │                        │                │                        │\n",
       "├───────────────────────────┼────────────────────────┼────────────────┼────────────────────────┤\n",
       "│ embedding_3 (\u001b[38;5;33mEmbedding\u001b[0m)   │ (\u001b[38;5;45mNone\u001b[0m, \u001b[38;5;34m400\u001b[0m, \u001b[38;5;34m100\u001b[0m)       │      \u001b[38;5;34m8,858,500\u001b[0m │ input_layer_3[\u001b[38;5;34m0\u001b[0m][\u001b[38;5;34m0\u001b[0m]    │\n",
       "├───────────────────────────┼────────────────────────┼────────────────┼────────────────────────┤\n",
       "│ multi_head_attention_3    │ (\u001b[38;5;45mNone\u001b[0m, \u001b[38;5;34m400\u001b[0m, \u001b[38;5;34m100\u001b[0m)       │        \u001b[38;5;34m322,500\u001b[0m │ embedding_3[\u001b[38;5;34m0\u001b[0m][\u001b[38;5;34m0\u001b[0m],     │\n",
       "│ (\u001b[38;5;33mMultiHeadAttention\u001b[0m)      │                        │                │ embedding_3[\u001b[38;5;34m0\u001b[0m][\u001b[38;5;34m0\u001b[0m]      │\n",
       "├───────────────────────────┼────────────────────────┼────────────────┼────────────────────────┤\n",
       "│ dropout_13 (\u001b[38;5;33mDropout\u001b[0m)      │ (\u001b[38;5;45mNone\u001b[0m, \u001b[38;5;34m400\u001b[0m, \u001b[38;5;34m100\u001b[0m)       │              \u001b[38;5;34m0\u001b[0m │ multi_head_attention_… │\n",
       "├───────────────────────────┼────────────────────────┼────────────────┼────────────────────────┤\n",
       "│ add_6 (\u001b[38;5;33mAdd\u001b[0m)               │ (\u001b[38;5;45mNone\u001b[0m, \u001b[38;5;34m400\u001b[0m, \u001b[38;5;34m100\u001b[0m)       │              \u001b[38;5;34m0\u001b[0m │ embedding_3[\u001b[38;5;34m0\u001b[0m][\u001b[38;5;34m0\u001b[0m],     │\n",
       "│                           │                        │                │ dropout_13[\u001b[38;5;34m0\u001b[0m][\u001b[38;5;34m0\u001b[0m]       │\n",
       "├───────────────────────────┼────────────────────────┼────────────────┼────────────────────────┤\n",
       "│ layer_normalization_9     │ (\u001b[38;5;45mNone\u001b[0m, \u001b[38;5;34m400\u001b[0m, \u001b[38;5;34m100\u001b[0m)       │            \u001b[38;5;34m200\u001b[0m │ add_6[\u001b[38;5;34m0\u001b[0m][\u001b[38;5;34m0\u001b[0m]            │\n",
       "│ (\u001b[38;5;33mLayerNormalization\u001b[0m)      │                        │                │                        │\n",
       "├───────────────────────────┼────────────────────────┼────────────────┼────────────────────────┤\n",
       "│ conv1d_6 (\u001b[38;5;33mConv1D\u001b[0m)         │ (\u001b[38;5;45mNone\u001b[0m, \u001b[38;5;34m400\u001b[0m, \u001b[38;5;34m200\u001b[0m)       │         \u001b[38;5;34m20,200\u001b[0m │ layer_normalization_9… │\n",
       "├───────────────────────────┼────────────────────────┼────────────────┼────────────────────────┤\n",
       "│ dropout_14 (\u001b[38;5;33mDropout\u001b[0m)      │ (\u001b[38;5;45mNone\u001b[0m, \u001b[38;5;34m400\u001b[0m, \u001b[38;5;34m200\u001b[0m)       │              \u001b[38;5;34m0\u001b[0m │ conv1d_6[\u001b[38;5;34m0\u001b[0m][\u001b[38;5;34m0\u001b[0m]         │\n",
       "├───────────────────────────┼────────────────────────┼────────────────┼────────────────────────┤\n",
       "│ conv1d_7 (\u001b[38;5;33mConv1D\u001b[0m)         │ (\u001b[38;5;45mNone\u001b[0m, \u001b[38;5;34m400\u001b[0m, \u001b[38;5;34m100\u001b[0m)       │         \u001b[38;5;34m20,100\u001b[0m │ dropout_14[\u001b[38;5;34m0\u001b[0m][\u001b[38;5;34m0\u001b[0m]       │\n",
       "├───────────────────────────┼────────────────────────┼────────────────┼────────────────────────┤\n",
       "│ add_7 (\u001b[38;5;33mAdd\u001b[0m)               │ (\u001b[38;5;45mNone\u001b[0m, \u001b[38;5;34m400\u001b[0m, \u001b[38;5;34m100\u001b[0m)       │              \u001b[38;5;34m0\u001b[0m │ layer_normalization_9… │\n",
       "│                           │                        │                │ conv1d_7[\u001b[38;5;34m0\u001b[0m][\u001b[38;5;34m0\u001b[0m]         │\n",
       "├───────────────────────────┼────────────────────────┼────────────────┼────────────────────────┤\n",
       "│ layer_normalization_10    │ (\u001b[38;5;45mNone\u001b[0m, \u001b[38;5;34m400\u001b[0m, \u001b[38;5;34m100\u001b[0m)       │            \u001b[38;5;34m200\u001b[0m │ add_7[\u001b[38;5;34m0\u001b[0m][\u001b[38;5;34m0\u001b[0m]            │\n",
       "│ (\u001b[38;5;33mLayerNormalization\u001b[0m)      │                        │                │                        │\n",
       "├───────────────────────────┼────────────────────────┼────────────────┼────────────────────────┤\n",
       "│ bidirectional_3           │ (\u001b[38;5;45mNone\u001b[0m, \u001b[38;5;34m400\u001b[0m, \u001b[38;5;34m200\u001b[0m)       │        \u001b[38;5;34m160,800\u001b[0m │ layer_normalization_1… │\n",
       "│ (\u001b[38;5;33mBidirectional\u001b[0m)           │                        │                │                        │\n",
       "├───────────────────────────┼────────────────────────┼────────────────┼────────────────────────┤\n",
       "│ layer_normalization_11    │ (\u001b[38;5;45mNone\u001b[0m, \u001b[38;5;34m400\u001b[0m, \u001b[38;5;34m200\u001b[0m)       │            \u001b[38;5;34m400\u001b[0m │ bidirectional_3[\u001b[38;5;34m0\u001b[0m][\u001b[38;5;34m0\u001b[0m]  │\n",
       "│ (\u001b[38;5;33mLayerNormalization\u001b[0m)      │                        │                │                        │\n",
       "├───────────────────────────┼────────────────────────┼────────────────┼────────────────────────┤\n",
       "│ global_average_pooling1d… │ (\u001b[38;5;45mNone\u001b[0m, \u001b[38;5;34m200\u001b[0m)            │              \u001b[38;5;34m0\u001b[0m │ layer_normalization_1… │\n",
       "│ (\u001b[38;5;33mGlobalAveragePooling1D\u001b[0m)  │                        │                │                        │\n",
       "├───────────────────────────┼────────────────────────┼────────────────┼────────────────────────┤\n",
       "│ dropout_15 (\u001b[38;5;33mDropout\u001b[0m)      │ (\u001b[38;5;45mNone\u001b[0m, \u001b[38;5;34m200\u001b[0m)            │              \u001b[38;5;34m0\u001b[0m │ global_average_poolin… │\n",
       "├───────────────────────────┼────────────────────────┼────────────────┼────────────────────────┤\n",
       "│ dense_3 (\u001b[38;5;33mDense\u001b[0m)           │ (\u001b[38;5;45mNone\u001b[0m, \u001b[38;5;34m1\u001b[0m)              │            \u001b[38;5;34m201\u001b[0m │ dropout_15[\u001b[38;5;34m0\u001b[0m][\u001b[38;5;34m0\u001b[0m]       │\n",
       "└───────────────────────────┴────────────────────────┴────────────────┴────────────────────────┘\n"
      ]
     },
     "metadata": {},
     "output_type": "display_data"
    },
    {
     "data": {
      "text/html": [
       "<pre style=\"white-space:pre;overflow-x:auto;line-height:normal;font-family:Menlo,'DejaVu Sans Mono',consolas,'Courier New',monospace\"><span style=\"font-weight: bold\"> Total params: </span><span style=\"color: #00af00; text-decoration-color: #00af00\">9,383,101</span> (35.79 MB)\n",
       "</pre>\n"
      ],
      "text/plain": [
       "\u001b[1m Total params: \u001b[0m\u001b[38;5;34m9,383,101\u001b[0m (35.79 MB)\n"
      ]
     },
     "metadata": {},
     "output_type": "display_data"
    },
    {
     "data": {
      "text/html": [
       "<pre style=\"white-space:pre;overflow-x:auto;line-height:normal;font-family:Menlo,'DejaVu Sans Mono',consolas,'Courier New',monospace\"><span style=\"font-weight: bold\"> Trainable params: </span><span style=\"color: #00af00; text-decoration-color: #00af00\">9,383,101</span> (35.79 MB)\n",
       "</pre>\n"
      ],
      "text/plain": [
       "\u001b[1m Trainable params: \u001b[0m\u001b[38;5;34m9,383,101\u001b[0m (35.79 MB)\n"
      ]
     },
     "metadata": {},
     "output_type": "display_data"
    },
    {
     "data": {
      "text/html": [
       "<pre style=\"white-space:pre;overflow-x:auto;line-height:normal;font-family:Menlo,'DejaVu Sans Mono',consolas,'Courier New',monospace\"><span style=\"font-weight: bold\"> Non-trainable params: </span><span style=\"color: #00af00; text-decoration-color: #00af00\">0</span> (0.00 B)\n",
       "</pre>\n"
      ],
      "text/plain": [
       "\u001b[1m Non-trainable params: \u001b[0m\u001b[38;5;34m0\u001b[0m (0.00 B)\n"
      ]
     },
     "metadata": {},
     "output_type": "display_data"
    },
    {
     "name": "stdout",
     "output_type": "stream",
     "text": [
      "Epoch 1/50\n",
      "\u001b[1m425/425\u001b[0m \u001b[32m━━━━━━━━━━━━━━━━━━━━\u001b[0m\u001b[37m\u001b[0m \u001b[1m66s\u001b[0m 140ms/step - accuracy: 0.5906 - loss: 0.6822 - val_accuracy: 0.8907 - val_loss: 0.2696\n",
      "Epoch 2/50\n",
      "\u001b[1m425/425\u001b[0m \u001b[32m━━━━━━━━━━━━━━━━━━━━\u001b[0m\u001b[37m\u001b[0m \u001b[1m58s\u001b[0m 137ms/step - accuracy: 0.9332 - loss: 0.1848 - val_accuracy: 0.8760 - val_loss: 0.3083\n",
      "Epoch 3/50\n",
      "\u001b[1m425/425\u001b[0m \u001b[32m━━━━━━━━━━━━━━━━━━━━\u001b[0m\u001b[37m\u001b[0m \u001b[1m59s\u001b[0m 138ms/step - accuracy: 0.9757 - loss: 0.0732 - val_accuracy: 0.8757 - val_loss: 0.3415\n",
      "Epoch 4/50\n",
      "\u001b[1m425/425\u001b[0m \u001b[32m━━━━━━━━━━━━━━━━━━━━\u001b[0m\u001b[37m\u001b[0m \u001b[1m59s\u001b[0m 138ms/step - accuracy: 0.9896 - loss: 0.0305 - val_accuracy: 0.8648 - val_loss: 0.6237\n",
      "Epoch 5/50\n",
      "\u001b[1m425/425\u001b[0m \u001b[32m━━━━━━━━━━━━━━━━━━━━\u001b[0m\u001b[37m\u001b[0m \u001b[1m58s\u001b[0m 137ms/step - accuracy: 0.9946 - loss: 0.0193 - val_accuracy: 0.8707 - val_loss: 0.8153\n",
      "Epoch 6/50\n",
      "\u001b[1m425/425\u001b[0m \u001b[32m━━━━━━━━━━━━━━━━━━━━\u001b[0m\u001b[37m\u001b[0m \u001b[1m58s\u001b[0m 137ms/step - accuracy: 0.9952 - loss: 0.0163 - val_accuracy: 0.8699 - val_loss: 0.7464\n"
     ]
    },
    {
     "data": {
      "image/png": "[encoded data removed]",
      "text/plain": [
       "<Figure size 640x480 with 1 Axes>"
      ]
     },
     "metadata": {},
     "output_type": "display_data"
    },
    {
     "data": {
      "image/png": "[encoded data removed]",
      "text/plain": [
       "<Figure size 640x480 with 1 Axes>"
      ]
     },
     "metadata": {},
     "output_type": "display_data"
    },
    {
     "name": "stdout",
     "output_type": "stream",
     "text": [
      "\u001b[1m500/500\u001b[0m \u001b[32m━━━━━━━━━━━━━━━━━━━━\u001b[0m\u001b[37m\u001b[0m \u001b[1m23s\u001b[0m 46ms/step - accuracy: 0.8800 - loss: 0.2901\n",
      "Modificat Test loss: 0.2896, Test accuracy: 0.8812\n",
      "\n",
      "Taula de resultats:\n",
      "| Model                  |   Test Accuracy |\n",
      "|:-----------------------|----------------:|\n",
      "| LSTM estàndard         |         0.85132 |\n",
      "| Transformer-exercici-3 |         0.84752 |\n",
      "| Transformer-modificat  |         0.88124 |\n"
     ]
    }
   ],
   "source": [
    "# Torno a posar aquest codi perquè he fet l'entrenament en una nova sessió\n",
    "from sklearn.model_selection import train_test_split\n",
    "from tensorflow.keras.models import Sequential\n",
    "from tensorflow.keras.initializers import RandomUniform\n",
    "\n",
    "x_train_part, x_val, y_train_part, y_val = train_test_split(\n",
    "    x_train, y_train, test_size=0.15, random_state=42\n",
    ")\n",
    "\n",
    "# màxima longitud de 400 (ho fan així al paper)\n",
    "maxlen = 400\n",
    "x_train_pad = pad_sequences(x_train_part, maxlen=maxlen, padding='post', truncating='post')\n",
    "x_val_pad   = pad_sequences(x_val,       maxlen=maxlen, padding='post', truncating='post')\n",
    "x_test_pad  = pad_sequences(x_test,      maxlen=maxlen, padding='post', truncating='post')\n",
    "\n",
    "embedding_dim = 100\n",
    "\n",
    "\n",
    "# Input i embeddings\n",
    "inp = keras.Input(shape=(maxlen,), dtype='int32')\n",
    "x = layers.Embedding(input_dim=vocab_size, output_dim=embedding_dim)(inp)\n",
    "\n",
    "# MHA (8), residual, normalització i dropout\n",
    "attn = layers.MultiHeadAttention(num_heads=8, key_dim=embedding_dim)(x, x)\n",
    "attn = layers.Dropout(0.1)(attn)\n",
    "x1   = layers.Add()([x, attn])\n",
    "x1   = layers.LayerNormalization()(x1)   \n",
    "\n",
    "#Feed-forward, residual, norm, dropout \n",
    "ff = layers.Conv1D(filters=embedding_dim*2, kernel_size=1, activation='relu')(x1)\n",
    "ff = layers.Dropout(0.1)(ff)\n",
    "ff = layers.Conv1D(filters=embedding_dim, kernel_size=1)(ff)\n",
    "x2 = layers.Add()([x1, ff])\n",
    "x2 = layers.LayerNormalization()(x2)\n",
    "\n",
    "# capa LSTM\n",
    "x3 = layers.Bidirectional(layers.LSTM(embedding_dim, return_sequences=True))(x2)\n",
    "x3 = layers.LayerNormalization()(x3)\n",
    "\n",
    "# pooling i classificació\n",
    "pooled = layers.GlobalAveragePooling1D()(x3)\n",
    "drop   = layers.Dropout(0.2)(pooled)\n",
    "out    = layers.Dense(1, activation='sigmoid')(drop)\n",
    "\n",
    "# model\n",
    "model2 = keras.Model(inputs=inp, outputs=out)\n",
    "model2.compile(optimizer='adam', loss='binary_crossentropy', metrics=['accuracy'])\n",
    "model2.summary()\n",
    "\n",
    "# entrenament\n",
    "es = EarlyStopping(monitor='val_loss', patience=5, restore_best_weights=True)\n",
    "hist = model2.fit(\n",
    "    x_train_pad, y_train_part,\n",
    "    validation_data=(x_val_pad, y_val),\n",
    "    epochs=50,\n",
    "    batch_size=50,\n",
    "    callbacks=[es]\n",
    ")\n",
    "\n",
    "# resultats\n",
    "import matplotlib.pyplot as plt\n",
    "\n",
    "plt.figure()\n",
    "plt.plot(hist.history['accuracy'],    label='train acc')\n",
    "plt.plot(hist.history['val_accuracy'],label='val acc')\n",
    "plt.title('Modificat: Accuracy per epoch')\n",
    "plt.xlabel('Epoch'); plt.ylabel('Accuracy'); plt.legend(); plt.show()\n",
    "\n",
    "plt.figure()\n",
    "plt.plot(hist.history['loss'],    label='train loss')\n",
    "plt.plot(hist.history['val_loss'],label='val loss')\n",
    "plt.title('Modificat: Loss per epoch')\n",
    "plt.xlabel('Epoch'); plt.ylabel('Loss'); plt.legend(); plt.show()\n",
    "\n",
    "# avaluació\n",
    "test_loss3, test_acc3 = model2.evaluate(x_test_pad, y_test, batch_size=50)\n",
    "print(f\"Modificat Test loss: {test_loss3:.4f}, Test accuracy: {test_acc3:.4f}\")\n",
    "\n",
    "import pandas as pd\n",
    "results = pd.DataFrame([\n",
    "    {'Model': 'LSTM estàndard',         'Test Accuracy': 0.85132},\n",
    "    {'Model': 'Transformer-exercici-3','Test Accuracy': 0.84752},\n",
    "    {'Model': 'Transformer-modificat',  'Test Accuracy': test_acc3},\n",
    "])\n",
    "print(\"\\nTaula de resultats:\")\n",
    "print(results.to_markdown(index=False))"
   ]
  },
  {
   "cell_type": "markdown",
   "id": "d1IRWppsuN8L",
   "metadata": {
    "id": "d1IRWppsuN8L"
   },
   "source": [
    "En aquesta versió s'ha obtingut un millor resultat desde l'època 1. Això és deu a una millor capacitat de projecció amb 8 caps d'atenció, el bloc feed-forward residual i la capa LSTM. Combinats amb la regularització adicional, han fet possible una convergència més ràpida una obtenció de millors resultats."
   ]
  },
  {
   "cell_type": "markdown",
   "id": "0e49767b",
   "metadata": {
    "id": "0e49767b"
   },
   "source": [
    "## 5 Downstream model. (3 punts)\n",
    "Un model downstream (o tasca downstream) és un model o tasca que utilitza un model preentrenat en una fase anterior, sovint coneguda com a fase de preentrenament, per resoldre una tasca específica. Aquest model posteriorment es fa servir mitjançant un entrenament específic per resoldre una tasca diferent. Si la tasca té característiques similars i l'arquitectura de la xarxa és prou complexa com per captar els fonaments compartits, és una estratègia que porta molts avantatges.\n",
    "\n",
    "Un dels grans avantatges dels Transformers és la seva escalabilitat. Per entendre això es recomana ampliar els coneixements amb alguns recursos divulgatius com els següents:\n",
    "* https://www.youtube.com/watch?v=EFkbT-1VGTQ\n",
    "* https://www.fabricatedknowledge.com/p/ai-foundations-part-1-transformers\n",
    "* https://www.baeldung.com/cs/rnns-transformers-nlp"
   ]
  },
  {
   "cell_type": "code",
   "execution_count": 1,
   "id": "e85d0daf-9ef3-4e9b-a344-a3c66faaec27",
   "metadata": {
    "execution": {
     "iopub.execute_input": "2025-05-14T07:55:37.379906Z",
     "iopub.status.busy": "2025-05-14T07:55:37.379642Z",
     "iopub.status.idle": "2025-05-14T07:57:36.229449Z",
     "shell.execute_reply": "2025-05-14T07:57:36.228252Z",
     "shell.execute_reply.started": "2025-05-14T07:55:37.379881Z"
    }
   },
   "outputs": [
    {
     "name": "stdout",
     "output_type": "stream",
     "text": [
      "\u001b[2K   \u001b[90m━━━━━━━━━━━━━━━━━━━━━━━━━━━━━━━━━━━━━━━━\u001b[0m \u001b[32m489.9/489.9 MB\u001b[0m \u001b[31m3.3 MB/s\u001b[0m eta \u001b[36m0:00:00\u001b[0m0:00:01\u001b[0m00:01\u001b[0m\n",
      "\u001b[2K   \u001b[90m━━━━━━━━━━━━━━━━━━━━━━━━━━━━━━━━━━━━━━━━\u001b[0m \u001b[32m1.0/1.0 MB\u001b[0m \u001b[31m37.4 MB/s\u001b[0m eta \u001b[36m0:00:00\u001b[0m\n",
      "\u001b[2K   \u001b[90m━━━━━━━━━━━━━━━━━━━━━━━━━━━━━━━━━━━━━━━━\u001b[0m \u001b[32m1.7/1.7 MB\u001b[0m \u001b[31m40.8 MB/s\u001b[0m eta \u001b[36m0:00:00\u001b[0m00:01\u001b[0m\n",
      "\u001b[2K   \u001b[90m━━━━━━━━━━━━━━━━━━━━━━━━━━━━━━━━━━━━━━━━\u001b[0m \u001b[32m5.5/5.5 MB\u001b[0m \u001b[31m73.1 MB/s\u001b[0m eta \u001b[36m0:00:00\u001b[0m:00:01\u001b[0m00:01\u001b[0m\n",
      "\u001b[2K   \u001b[90m━━━━━━━━━━━━━━━━━━━━━━━━━━━━━━━━━━━━━━━━\u001b[0m \u001b[32m440.7/440.7 kB\u001b[0m \u001b[31m22.4 MB/s\u001b[0m eta \u001b[36m0:00:00\u001b[0m\n",
      "\u001b[2K   \u001b[90m━━━━━━━━━━━━━━━━━━━━━━━━━━━━━━━━━━━━━━━━\u001b[0m \u001b[32m78.4/78.4 kB\u001b[0m \u001b[31m4.0 MB/s\u001b[0m eta \u001b[36m0:00:00\u001b[0m\n",
      "\u001b[?25h\u001b[31mERROR: pip's dependency resolver does not currently take into account all the packages that are installed. This behaviour is the source of the following dependency conflicts.\n",
      "tensorflow-decision-forests 1.11.0 requires tensorflow==2.18.0, but you have tensorflow 2.14.0 which is incompatible.\n",
      "dopamine-rl 4.1.2 requires gymnasium>=1.0.0, but you have gymnasium 0.29.0 which is incompatible.\n",
      "pandas-gbq 0.26.1 requires google-api-core<3.0.0dev,>=2.10.2, but you have google-api-core 1.34.1 which is incompatible.\n",
      "gcsfs 2024.10.0 requires fsspec==2024.10.0, but you have fsspec 2025.3.2 which is incompatible.\n",
      "bigframes 1.36.0 requires rich<14,>=12.4.4, but you have rich 14.0.0 which is incompatible.\n",
      "tf-keras 2.18.0 requires tensorflow<2.19,>=2.18, but you have tensorflow 2.14.0 which is incompatible.\n",
      "tensorflow-text 2.18.1 requires tensorflow<2.19,>=2.18.0, but you have tensorflow 2.14.0 which is incompatible.\n",
      "tensorstore 0.1.71 requires ml_dtypes>=0.3.1, but you have ml-dtypes 0.2.0 which is incompatible.\u001b[0m\u001b[31m\n",
      "\u001b[2K   \u001b[90m━━━━━━━━━━━━━━━━━━━━━━━━━━━━━━━━━━━━━━━━\u001b[0m \u001b[32m6.5/6.5 MB\u001b[0m \u001b[31m49.0 MB/s\u001b[0m eta \u001b[36m0:00:00\u001b[0m00:01\u001b[0m00:01\u001b[0m\n",
      "\u001b[2K   \u001b[90m━━━━━━━━━━━━━━━━━━━━━━━━━━━━━━━━━━━━━━━━\u001b[0m \u001b[32m1.7/1.7 MB\u001b[0m \u001b[31m47.5 MB/s\u001b[0m eta \u001b[36m0:00:00\u001b[0m:00:01\u001b[0m\n",
      "\u001b[?25h\u001b[31mERROR: pip's dependency resolver does not currently take into account all the packages that are installed. This behaviour is the source of the following dependency conflicts.\n",
      "tensorflow-decision-forests 1.11.0 requires tensorflow==2.18.0, but you have tensorflow 2.14.0 which is incompatible.\n",
      "tensorflow-decision-forests 1.11.0 requires tf-keras~=2.17, but you have tf-keras 2.15.0 which is incompatible.\n",
      "dopamine-rl 4.1.2 requires gymnasium>=1.0.0, but you have gymnasium 0.29.0 which is incompatible.\n",
      "dopamine-rl 4.1.2 requires tf-keras>=2.18.0, but you have tf-keras 2.15.0 which is incompatible.\u001b[0m\u001b[31m\n",
      "\u001b[2K     \u001b[90m━━━━━━━━━━━━━━━━━━━━━━━━━━━━━━━━━━━━━━━━\u001b[0m \u001b[32m51.8/51.8 kB\u001b[0m \u001b[31m1.9 MB/s\u001b[0m eta \u001b[36m0:00:00\u001b[0m\n",
      "\u001b[2K     \u001b[90m━━━━━━━━━━━━━━━━━━━━━━━━━━━━━━━━━━━━━━━━\u001b[0m \u001b[32m43.6/43.6 kB\u001b[0m \u001b[31m2.3 MB/s\u001b[0m eta \u001b[36m0:00:00\u001b[0m\n",
      "\u001b[?25h  Preparing metadata (setup.py) ... \u001b[?25l\u001b[?25hdone\n",
      "\u001b[2K   \u001b[90m━━━━━━━━━━━━━━━━━━━━━━━━━━━━━━━━━━━━━━━━\u001b[0m \u001b[32m2.7/2.7 MB\u001b[0m \u001b[31m32.4 MB/s\u001b[0m eta \u001b[36m0:00:00\u001b[0m00:01\u001b[0m00:01\u001b[0m\n",
      "\u001b[2K   \u001b[90m━━━━━━━━━━━━━━━━━━━━━━━━━━━━━━━━━━━━━━━━\u001b[0m \u001b[32m242.5/242.5 kB\u001b[0m \u001b[31m14.9 MB/s\u001b[0m eta \u001b[36m0:00:00\u001b[0m\n",
      "\u001b[2K   \u001b[90m━━━━━━━━━━━━━━━━━━━━━━━━━━━━━━━━━━━━━━━━\u001b[0m \u001b[32m104.1/104.1 kB\u001b[0m \u001b[31m5.8 MB/s\u001b[0m eta \u001b[36m0:00:00\u001b[0m\n",
      "\u001b[?25h  Building wheel for seqeval (setup.py) ... \u001b[?25l\u001b[?25hdone\n",
      "\u001b[2K   \u001b[90m━━━━━━━━━━━━━━━━━━━━━━━━━━━━━━━━━━━━━━━━\u001b[0m \u001b[32m5.4/5.4 MB\u001b[0m \u001b[31m44.1 MB/s\u001b[0m eta \u001b[36m0:00:00\u001b[0m00:01\u001b[0m00:01\u001b[0m\n",
      "\u001b[?25h"
     ]
    }
   ],
   "source": [
    "# Preparació per kaggle (reiniciar entorn)\n",
    "!pip install -q tensorflow==2.14.0 --upgrade\n",
    "!pip install -q tensorflow_text==2.14.0 --upgrade\n",
    "!pip install -q tf-models-official==2.14.0 --upgrade\n",
    "!pip install -q keras==2.14.0 --upgrade\n",
    "!pip install -q tensorflow-estimator==2.14.0 --upgrade\n",
    "!pip install -q tensorflow-hub==0.16.1 --upgrade\n",
    "!pip install -q tensorflow-datasets==4.9.2 --upgrade\n",
    "!pip install -q tensorflow-metadata==1.14.0 --upgrade\n",
    "!pip install -q tensorflow-io-gcs-filesystem==0.37.1 --upgrade"
   ]
  },
  {
   "cell_type": "code",
   "execution_count": 2,
   "id": "6c760c2a-4366-4cee-8acf-255dc2d2fd64",
   "metadata": {
    "execution": {
     "iopub.execute_input": "2025-05-14T08:04:20.149679Z",
     "iopub.status.busy": "2025-05-14T08:04:20.149352Z",
     "iopub.status.idle": "2025-05-14T08:04:28.281890Z",
     "shell.execute_reply": "2025-05-14T08:04:28.281051Z",
     "shell.execute_reply.started": "2025-05-14T08:04:20.149647Z"
    }
   },
   "outputs": [
    {
     "name": "stderr",
     "output_type": "stream",
     "text": [
      "2025-05-14 08:04:20.523119: E tensorflow/compiler/xla/stream_executor/cuda/cuda_dnn.cc:9342] Unable to register cuDNN factory: Attempting to register factory for plugin cuDNN when one has already been registered\n",
      "2025-05-14 08:04:20.523218: E tensorflow/compiler/xla/stream_executor/cuda/cuda_fft.cc:609] Unable to register cuFFT factory: Attempting to register factory for plugin cuFFT when one has already been registered\n",
      "2025-05-14 08:04:20.523259: E tensorflow/compiler/xla/stream_executor/cuda/cuda_blas.cc:1518] Unable to register cuBLAS factory: Attempting to register factory for plugin cuBLAS when one has already been registered\n"
     ]
    },
    {
     "name": "stdout",
     "output_type": "stream",
     "text": [
      "Versió de TensorFlow: 2.14.0\n",
      "Num GPUs Available: 0\n",
      "No s’ha detectat GPU\n",
      "0.16.1\n",
      "2.14.0\n"
     ]
    }
   ],
   "source": [
    "import tensorflow as tf\n",
    "import tensorflow_hub as hub\n",
    "import tensorflow_text as text \n",
    "from tensorflow.keras.utils import plot_model\n",
    "from tensorflow.keras.callbacks import ModelCheckpoint, EarlyStopping, ReduceLROnPlateau\n",
    "import matplotlib.pyplot as plt\n",
    "\n",
    "print(\"Versió de TensorFlow:\", tf.__version__)\n",
    "gpus = tf.config.list_physical_devices('GPU')\n",
    "print(\"Num GPUs Available:\", len(gpus))\n",
    "if gpus:\n",
    "    print(\"GPUs detectades:\", gpus)\n",
    "    details = tf.config.experimental.get_device_details(gpus[0])\n",
    "    print(\"Detalls de la GPU:\", details)\n",
    "else:\n",
    "    print(\"No s’ha detectat GPU\")\n",
    "\n",
    "print(hub.__version__)\n",
    "print(text.__version__)"
   ]
  },
  {
   "cell_type": "markdown",
   "id": "21048144",
   "metadata": {
    "id": "21048144"
   },
   "source": [
    "<div style=\"background-color: #EDF7FF; border-color: #7C9DBF; border-left: 5px solid #7C9DBF; padding: 0.5em;\">\n",
    "<p><strong>Exercici [2 pt]:</strong>\n",
    "\n",
    "En aquest exercici prendrem les dades que hem utilitzat fins ara i farem un downstream model del model BERT. Aquesta part està mostrada al següent tutorial: https://www.tensorflow.org/text/tutorials/classify_text_with_bert\n",
    "\n",
    "Hauràs d'adaptar-la per treballar amb les dades que hem carregat anteriorment. Tria la versió del model que consideris i pren les decisions adequades justificant-les posteriorment. La dificultat principal en aquest exercici és adaptar el codi del tutorial a les dades i particions que has carregat durant l'exercici. Per això:\n",
    "* Entrena un model amb l'arquitectura BERT més petita mostrada al tutorial anterior. Trieu adequadament el nombre d'èpoques i controleu l'entrenament amb un early stopping\n",
    "* Mostra el resum del model amb el nombre de paràmetres\n",
    "* Mostra les gràfiques d'entrenament i validació.\n",
    "* Finalment completa la taula de resultats i mostra-la\n",
    "\n",
    "</div>"
   ]
  },
  {
   "cell_type": "markdown",
   "id": "8b4d03aa",
   "metadata": {
    "id": "8b4d03aa"
   },
   "source": [
    "<div style=\"background-color: #fcf2f2; border-color: #dfb5b4; border-left: 5px solid #dfb5b4; padding: 0.5em;\">\n",
    "<p><strong>Solución:</strong> </p>\n",
    "</div>"
   ]
  },
  {
   "cell_type": "code",
   "execution_count": 6,
   "id": "c2AR8HThubJD",
   "metadata": {
    "execution": {
     "iopub.execute_input": "2025-05-12T08:11:01.416738Z",
     "iopub.status.busy": "2025-05-12T08:11:01.416168Z",
     "iopub.status.idle": "2025-05-12T08:11:25.495730Z",
     "shell.execute_reply": "2025-05-12T08:11:25.495032Z",
     "shell.execute_reply.started": "2025-05-12T08:11:01.416712Z"
    },
    "id": "c2AR8HThubJD"
   },
   "outputs": [
    {
     "name": "stdout",
     "output_type": "stream",
     "text": [
      "Model: \"model_1\"\n",
      "__________________________________________________________________________________________________\n",
      " Layer (type)                Output Shape                 Param #   Connected to                  \n",
      "==================================================================================================\n",
      " text (InputLayer)           [(None,)]                    0         []                            \n",
      "                                                                                                  \n",
      " preprocessing (KerasLayer)  {'input_mask': (None, 128)   0         ['text[0][0]']                \n",
      "                             , 'input_type_ids': (None,                                           \n",
      "                              128),                                                               \n",
      "                              'input_word_ids': (None,                                            \n",
      "                             128)}                                                                \n",
      "                                                                                                  \n",
      " BERT_encoder (KerasLayer)   {'default': (None, 512),     2876364   ['preprocessing[0][0]',       \n",
      "                              'encoder_outputs': [(None   9          'preprocessing[0][1]',       \n",
      "                             , 128, 512),                            'preprocessing[0][2]']       \n",
      "                              (None, 128, 512),                                                   \n",
      "                              (None, 128, 512),                                                   \n",
      "                              (None, 128, 512)],                                                  \n",
      "                              'pooled_output': (None, 5                                           \n",
      "                             12),                                                                 \n",
      "                              'sequence_output': (None,                                           \n",
      "                              128, 512)}                                                          \n",
      "                                                                                                  \n",
      " dropout_1 (Dropout)         (None, 512)                  0         ['BERT_encoder[0][5]']        \n",
      "                                                                                                  \n",
      " classifier (Dense)          (None, 1)                    513       ['dropout_1[0][0]']           \n",
      "                                                                                                  \n",
      "==================================================================================================\n",
      "Total params: 28764162 (109.73 MB)\n",
      "Trainable params: 28764161 (109.73 MB)\n",
      "Non-trainable params: 1 (1.00 Byte)\n",
      "__________________________________________________________________________________________________\n"
     ]
    }
   ],
   "source": [
    "import tensorflow as tf\n",
    "from tensorflow import keras\n",
    "import tensorflow_hub as hub\n",
    "import tensorflow_text as text\n",
    "from official.nlp import optimization\n",
    "from sklearn.model_selection import train_test_split\n",
    "import matplotlib.pyplot as plt\n",
    "import pandas as pd\n",
    "\n",
    "# Carreguem dades\n",
    "start_char = 1\n",
    "oov_char   = 2\n",
    "index_from = 3\n",
    "\n",
    "(x_train, y_train), (x_test, y_test) = keras.datasets.imdb.load_data(\n",
    "    start_char=start_char,\n",
    "    oov_char=oov_char,\n",
    "    index_from=index_from\n",
    ")\n",
    "word_index = keras.datasets.imdb.get_word_index()\n",
    "\n",
    "inverted_word_index = {i + index_from: w for w, i in word_index.items()}\n",
    "inverted_word_index[start_char] = \"[START]\"\n",
    "inverted_word_index[oov_char]   = \"[OOV]\"\n",
    "\n",
    "# Passem de tokens a text\n",
    "def decode_review(sequence):\n",
    "    return \" \".join(\n",
    "        inverted_word_index.get(i, \"[UNK]\") \n",
    "        for i in sequence \n",
    "        if i != 0\n",
    "    )\n",
    "\n",
    "# Entrenament i validació\n",
    "x_train_part, x_val, y_train_part, y_val = train_test_split(\n",
    "    x_train, y_train, test_size=0.15, random_state=42\n",
    ")\n",
    "\n",
    "# Preparem per BERT\n",
    "x_train_text = [decode_review(seq) for seq in x_train_part]\n",
    "x_val_text   = [decode_review(seq) for seq in x_val]\n",
    "x_test_text  = [decode_review(seq) for seq in x_test]\n",
    "\n",
    "# (text, etiqueta)\n",
    "batch_size = 32\n",
    "AUTOTUNE   = tf.data.AUTOTUNE\n",
    "\n",
    "train_ds = (\n",
    "    tf.data.Dataset\n",
    "      .from_tensor_slices((x_train_text, y_train_part))\n",
    "      .shuffle(buffer_size=len(x_train_text), seed=42)\n",
    "      .batch(batch_size)\n",
    "      .cache()\n",
    "      .prefetch(AUTOTUNE)\n",
    ")\n",
    "val_ds = (\n",
    "    tf.data.Dataset\n",
    "      .from_tensor_slices((x_val_text, y_val))\n",
    "      .batch(batch_size)\n",
    "      .cache()\n",
    "      .prefetch(AUTOTUNE)\n",
    ")\n",
    "test_ds = (\n",
    "    tf.data.Dataset\n",
    "      .from_tensor_slices((x_test_text, y_test))\n",
    "      .batch(batch_size)\n",
    "      .cache()\n",
    "      .prefetch(AUTOTUNE)\n",
    ")\n",
    "\n",
    "# Handlers de TF-Hub per a Small BERT\n",
    "tfhub_handle_encoder    = \"https://tfhub.dev/tensorflow/small_bert/bert_en_uncased_L-4_H-512_A-8/1\"\n",
    "tfhub_handle_preprocess = \"https://tfhub.dev/tensorflow/bert_en_uncased_preprocess/3\"\n",
    "\n",
    "# Model downstream finetuned\n",
    "def build_classifier_model():\n",
    "    text_input        = tf.keras.layers.Input(shape=(), dtype=tf.string, name='text')\n",
    "    preprocessing_lay = hub.KerasLayer(tfhub_handle_preprocess, name='preprocessing')\n",
    "    encoder_inputs    = preprocessing_lay(text_input)\n",
    "    encoder           = hub.KerasLayer(tfhub_handle_encoder, trainable=True, name='BERT_encoder')\n",
    "    outputs           = encoder(encoder_inputs)\n",
    "    net               = outputs['pooled_output']\n",
    "    net               = tf.keras.layers.Dropout(0.1)(net)\n",
    "    net               = tf.keras.layers.Dense(1, activation=None, name='classifier')(net)\n",
    "    return tf.keras.Model(text_input, net)\n",
    "\n",
    "classifier_model = build_classifier_model()\n",
    "\n",
    "# Compilació\n",
    "epochs           = 1\n",
    "steps_per_epoch  = tf.data.experimental.cardinality(train_ds).numpy()\n",
    "num_train_steps  = steps_per_epoch * epochs\n",
    "num_warmup_steps = int(0.1 * num_train_steps)\n",
    "init_lr          = 3e-5\n",
    "\n",
    "optimizer = optimization.create_optimizer(\n",
    "    init_lr=init_lr,\n",
    "    num_train_steps=num_train_steps,\n",
    "    num_warmup_steps=num_warmup_steps,\n",
    "    optimizer_type='adamw'\n",
    ")\n",
    "\n",
    "classifier_model.compile(\n",
    "    optimizer=optimizer,\n",
    "    loss=tf.keras.losses.BinaryCrossentropy(from_logits=True),\n",
    "    metrics=[tf.metrics.BinaryAccuracy(name='accuracy')]\n",
    ")\n",
    "\n",
    "# Resum\n",
    "classifier_model.summary()"
   ]
  },
  {
   "cell_type": "code",
   "execution_count": 7,
   "id": "f20cd832-ccce-420a-86c9-aa7dcef556d7",
   "metadata": {
    "execution": {
     "iopub.execute_input": "2025-05-12T08:13:41.137661Z",
     "iopub.status.busy": "2025-05-12T08:13:41.137348Z",
     "iopub.status.idle": "2025-05-12T09:01:13.729702Z",
     "shell.execute_reply": "2025-05-12T09:01:13.728930Z",
     "shell.execute_reply.started": "2025-05-12T08:13:41.137638Z"
    }
   },
   "outputs": [
    {
     "name": "stdout",
     "output_type": "stream",
     "text": [
      "665/665 [==============================] - 2272s 3s/step - loss: 0.4355 - accuracy: 0.7843 - val_loss: 0.3712 - val_accuracy: 0.8328\n"
     ]
    },
    {
     "data": {
      "image/png": "[encoded data removed]",
      "text/plain": [
       "<Figure size 640x480 with 1 Axes>"
      ]
     },
     "metadata": {},
     "output_type": "display_data"
    },
    {
     "data": {
      "image/png": "[encoded data removed]",
      "text/plain": [
       "<Figure size 640x480 with 1 Axes>"
      ]
     },
     "metadata": {},
     "output_type": "display_data"
    },
    {
     "name": "stdout",
     "output_type": "stream",
     "text": [
      "782/782 [==============================] - 580s 742ms/step - loss: 0.3515 - accuracy: 0.8401\n",
      "\n",
      "Taula de resultats:\n",
      "| Model                           |   Test Accuracy |\n",
      "|:--------------------------------|----------------:|\n",
      "| LSTM estàndard                  |         0.85132 |\n",
      "| Transformer-exercici-3-millorat |         0.88124 |\n",
      "| BERT-small finetuned            |         0.84008 |\n"
     ]
    }
   ],
   "source": [
    "# Entrenament\n",
    "es = tf.keras.callbacks.EarlyStopping(monitor='val_loss', patience=2, restore_best_weights=True)\n",
    "history = classifier_model.fit(\n",
    "    train_ds,\n",
    "    validation_data=val_ds,\n",
    "    epochs=epochs,\n",
    "    callbacks=[es]\n",
    ")\n",
    "\n",
    "# Resultats\n",
    "h = history.history\n",
    "epochs_range = range(1, len(h['loss']) + 1)\n",
    "\n",
    "plt.figure()\n",
    "plt.plot(epochs_range, h['loss'],    label='train loss')\n",
    "plt.plot(epochs_range, h['val_loss'],label='val loss')\n",
    "plt.title('Pèrdua'); plt.xlabel('Època'); plt.ylabel('Loss'); plt.legend(); plt.show()\n",
    "\n",
    "plt.figure()\n",
    "plt.plot(epochs_range, h['accuracy'],    label='train acc')\n",
    "plt.plot(epochs_range, h['val_accuracy'],label='val acc')\n",
    "plt.title('Precisió'); plt.xlabel('Època'); plt.ylabel('Accuracy'); plt.legend(); plt.show()\n",
    "\n",
    "# Comparativa\n",
    "test_loss, test_acc = classifier_model.evaluate(test_ds)\n",
    "\n",
    "results = pd.DataFrame([\n",
    "    {'Model': 'LSTM estàndard',           'Test Accuracy': 0.85132},\n",
    "    {'Model': 'Transformer-exercici-3-millorat',   'Test Accuracy':  0.88124},\n",
    "    {'Model': 'BERT-small finetuned',     'Test Accuracy': test_acc},\n",
    "])\n",
    "print(\"\\nTaula de resultats:\")\n",
    "print(results.to_markdown(index=False))"
   ]
  },
  {
   "cell_type": "markdown",
   "id": "MzkV8uW-ubqa",
   "metadata": {
    "id": "MzkV8uW-ubqa"
   },
   "source": [
    "Surten els plots buits perquè només he entrenat una època. He deixat el early stopping per mostrar com seria el codi complet, però entrenant només amb una època no és necessari. Podem veure com el model ha tingut un 84% d'acc en la primera època, mostrant que, segurament, amb més temps d'entrenament es podrien obtindre millors resultats."
   ]
  },
  {
   "cell_type": "markdown",
   "id": "81b0fb7d-88bb-4f0f-90de-ad0a17d3df1e",
   "metadata": {
    "id": "81b0fb7d-88bb-4f0f-90de-ad0a17d3df1e"
   },
   "source": [
    "<div style=\"background-color: #EDF7FF; border-color: #7C9DBF; border-left: 5px solid #7C9DBF; padding: 0.5em;\">\n",
    "<p><strong>Exercici [1 pt]:</strong>\n",
    "\n",
    "Repeteix l'exercici anterior però ara fent servir un model BERT més gran. Heu d'utilitzar un model que sigui capaç d'obtenir millors resultats que en tots els casos anteriors. Finetunejar un model gran pot requerir diverses hores.\n",
    "* Afegeix a la taula de resultats, el resultat obtingut amb aquest model.\n",
    "* Igual que abans representa les gràfiques d'accuracy i loss.\n",
    "* Comenta els resultats i discuteix els temps d'entrenament emprats\n",
    "\n",
    "</div>"
   ]
  },
  {
   "cell_type": "markdown",
   "id": "fe4f0c65-fb97-4c5d-ae99-c75f3d2898da",
   "metadata": {
    "id": "fe4f0c65-fb97-4c5d-ae99-c75f3d2898da"
   },
   "source": [
    "<div style=\"background-color: #fcf2f2; border-color: #dfb5b4; border-left: 5px solid #dfb5b4; padding: 0.5em;\">\n",
    "<p><strong>Solució:</strong> </p>\n",
    "</div>"
   ]
  },
  {
   "cell_type": "code",
   "execution_count": null,
   "id": "006b8269-7b17-4159-93d3-e471fc3a5fa9",
   "metadata": {
    "execution": {
     "iopub.execute_input": "2025-05-13T07:27:21.576369Z",
     "iopub.status.busy": "2025-05-13T07:27:21.575935Z"
    }
   },
   "outputs": [
    {
     "name": "stderr",
     "output_type": "stream",
     "text": [
      "2025-05-13 07:27:21.987511: E tensorflow/compiler/xla/stream_executor/cuda/cuda_dnn.cc:9342] Unable to register cuDNN factory: Attempting to register factory for plugin cuDNN when one has already been registered\n",
      "2025-05-13 07:27:21.987594: E tensorflow/compiler/xla/stream_executor/cuda/cuda_fft.cc:609] Unable to register cuFFT factory: Attempting to register factory for plugin cuFFT when one has already been registered\n",
      "2025-05-13 07:27:21.987634: E tensorflow/compiler/xla/stream_executor/cuda/cuda_blas.cc:1518] Unable to register cuBLAS factory: Attempting to register factory for plugin cuBLAS when one has already been registered\n"
     ]
    },
    {
     "name": "stdout",
     "output_type": "stream",
     "text": [
      "Downloading data from https://storage.googleapis.com/tensorflow/tf-keras-datasets/imdb.npz\n",
      "17464789/17464789 [==============================] - 1s 0us/step\n",
      "Downloading data from https://storage.googleapis.com/tensorflow/tf-keras-datasets/imdb_word_index.json\n",
      "1641221/1641221 [==============================] - 1s 0us/step\n",
      "Model: \"model\"\n",
      "__________________________________________________________________________________________________\n",
      " Layer (type)                Output Shape                 Param #   Connected to                  \n",
      "==================================================================================================\n",
      " text (InputLayer)           [(None,)]                    0         []                            \n",
      "                                                                                                  \n",
      " preprocessing (KerasLayer)  {'input_mask': (None, 128)   0         ['text[0][0]']                \n",
      "                             , 'input_type_ids': (None,                                           \n",
      "                              128),                                                               \n",
      "                              'input_word_ids': (None,                                            \n",
      "                             128)}                                                                \n",
      "                                                                                                  \n",
      " BERT_encoder (KerasLayer)   {'default': (None, 768),     1094822   ['preprocessing[0][0]',       \n",
      "                              'encoder_outputs': [(None   41         'preprocessing[0][1]',       \n",
      "                             , 128, 768),                            'preprocessing[0][2]']       \n",
      "                              (None, 128, 768),                                                   \n",
      "                              (None, 128, 768),                                                   \n",
      "                              (None, 128, 768),                                                   \n",
      "                              (None, 128, 768),                                                   \n",
      "                              (None, 128, 768),                                                   \n",
      "                              (None, 128, 768),                                                   \n",
      "                              (None, 128, 768),                                                   \n",
      "                              (None, 128, 768),                                                   \n",
      "                              (None, 128, 768),                                                   \n",
      "                              (None, 128, 768),                                                   \n",
      "                              (None, 128, 768)],                                                  \n",
      "                              'pooled_output': (None, 7                                           \n",
      "                             68),                                                                 \n",
      "                              'sequence_output': (None,                                           \n",
      "                              128, 768)}                                                          \n",
      "                                                                                                  \n",
      " dropout (Dropout)           (None, 768)                  0         ['BERT_encoder[0][13]']       \n",
      "                                                                                                  \n",
      " classifier (Dense)          (None, 1)                    769       ['dropout[0][0]']             \n",
      "                                                                                                  \n",
      "==================================================================================================\n",
      "Total params: 109483010 (417.64 MB)\n",
      "Trainable params: 109483009 (417.64 MB)\n",
      "Non-trainable params: 1 (1.00 Byte)\n",
      "__________________________________________________________________________________________________\n",
      "665/665 [==============================] - 16204s 24s/step - loss: 0.3508 - accuracy: 0.8322 - val_loss: 0.2894 - val_accuracy: 0.8789\n",
      "\n",
      "Temps d'entrenament (segons): 16204s  (4.50h)\n",
      "\n"
     ]
    }
   ],
   "source": [
    "import time\n",
    "import tensorflow as tf\n",
    "from tensorflow import keras\n",
    "import tensorflow_hub as hub\n",
    "import tensorflow_text as text\n",
    "from official.nlp import optimization\n",
    "from sklearn.model_selection import train_test_split\n",
    "import matplotlib.pyplot as plt\n",
    "import pandas as pd\n",
    "\n",
    "# Carreguem dades\n",
    "start_char = 1\n",
    "oov_char   = 2\n",
    "index_from = 3\n",
    "\n",
    "(x_train, y_train), (x_test, y_test) = keras.datasets.imdb.load_data(\n",
    "    start_char=start_char,\n",
    "    oov_char=oov_char,\n",
    "    index_from=index_from\n",
    ")\n",
    "word_index = keras.datasets.imdb.get_word_index()\n",
    "\n",
    "inverted_word_index = {i + index_from: w for w, i in word_index.items()}\n",
    "inverted_word_index[start_char] = \"[START]\"\n",
    "inverted_word_index[oov_char]   = \"[OOV]\"\n",
    "\n",
    "# Passem de tokens a text\n",
    "def decode_review(sequence):\n",
    "    return \" \".join(\n",
    "        inverted_word_index.get(i, \"[UNK]\") \n",
    "        for i in sequence \n",
    "        if i != 0\n",
    "    )\n",
    "\n",
    "# Entrenament i validació\n",
    "x_train_part, x_val, y_train_part, y_val = train_test_split(\n",
    "    x_train, y_train, test_size=0.15, random_state=42\n",
    ")\n",
    "\n",
    "# Preparem per BERT\n",
    "x_train_text = [decode_review(seq) for seq in x_train_part]\n",
    "x_val_text   = [decode_review(seq) for seq in x_val]\n",
    "x_test_text  = [decode_review(seq) for seq in x_test]\n",
    "\n",
    "# (text, etiqueta)\n",
    "batch_size = 32\n",
    "AUTOTUNE   = tf.data.AUTOTUNE\n",
    "\n",
    "train_ds = (\n",
    "    tf.data.Dataset\n",
    "      .from_tensor_slices((x_train_text, y_train_part))\n",
    "      .shuffle(buffer_size=len(x_train_text), seed=42)\n",
    "      .batch(batch_size)\n",
    "      .cache()\n",
    "      .prefetch(AUTOTUNE)\n",
    ")\n",
    "val_ds = (\n",
    "    tf.data.Dataset\n",
    "      .from_tensor_slices((x_val_text, y_val))\n",
    "      .batch(batch_size)\n",
    "      .cache()\n",
    "      .prefetch(AUTOTUNE)\n",
    ")\n",
    "test_ds = (\n",
    "    tf.data.Dataset\n",
    "      .from_tensor_slices((x_test_text, y_test))\n",
    "      .batch(batch_size)\n",
    "      .cache()\n",
    "      .prefetch(AUTOTUNE)\n",
    ")\n",
    "\n",
    "tfhub_handle_encoder    = \"https://tfhub.dev/tensorflow/bert_en_uncased_L-12_H-768_A-12/4\"\n",
    "tfhub_handle_preprocess = \"https://tfhub.dev/tensorflow/bert_en_uncased_preprocess/3\"\n",
    "\n",
    "def build_classifier_model():\n",
    "    text_input        = keras.layers.Input(shape=(), dtype=tf.string, name='text')\n",
    "    preprocessing_lay = hub.KerasLayer(tfhub_handle_preprocess, name='preprocessing')\n",
    "    encoder_inputs    = preprocessing_lay(text_input)\n",
    "    encoder           = hub.KerasLayer(tfhub_handle_encoder, trainable=True, name='BERT_encoder')\n",
    "    outputs           = encoder(encoder_inputs)\n",
    "    net               = outputs['pooled_output']\n",
    "    net               = keras.layers.Dropout(0.1)(net)\n",
    "    net               = keras.layers.Dense(1, activation=None, name='classifier')(net)\n",
    "    return keras.Model(text_input, net)\n",
    "\n",
    "classifier_model = build_classifier_model()\n",
    "\n",
    "epochs           = 1\n",
    "steps_per_epoch  = tf.data.experimental.cardinality(train_ds).numpy()\n",
    "num_train_steps  = steps_per_epoch * epochs\n",
    "num_warmup_steps = int(0.1 * num_train_steps)\n",
    "init_lr          = 3e-5\n",
    "\n",
    "optimizer = optimization.create_optimizer(\n",
    "    init_lr=init_lr,\n",
    "    num_train_steps=num_train_steps,\n",
    "    num_warmup_steps=num_warmup_steps,\n",
    "    optimizer_type='adamw'\n",
    ")\n",
    "\n",
    "classifier_model.compile(\n",
    "    optimizer=optimizer,\n",
    "    loss=keras.losses.BinaryCrossentropy(from_logits=True),\n",
    "    metrics=[keras.metrics.BinaryAccuracy(name='accuracy')]\n",
    ")\n",
    "\n",
    "classifier_model.summary()\n",
    "\n",
    "es = keras.callbacks.EarlyStopping(monitor='val_loss', patience=2, restore_best_weights=True)\n",
    "\n",
    "start_time = time.time()\n",
    "history = classifier_model.fit(\n",
    "    train_ds,\n",
    "    validation_data=val_ds,\n",
    "    epochs=epochs,\n",
    "    callbacks=[es]\n",
    ")\n",
    "elapsed = time.time() - start_time\n",
    "print(f\"\\nTemps d'entrenament (segons): {elapsed:.0f}s  ({elapsed/3600:.2f}h)\\n\")"
   ]
  },
  {
   "cell_type": "markdown",
   "id": "3eb9ee79-99f3-4e1b-b02d-92d9148e5ace",
   "metadata": {},
   "source": [
    "Al haver entrenat solament una època no té sentit mostrar gràfiques de accuracy i loss. Tot i això, el resultat de accuract en validació és del 87,9% amb una sola època (s'ha de tindre en compte la diferència de paràmetres, en aquest cas 109483010). El temps d'entrenament ha sigut tan elevat (casi 5h per època) que no sembla un mètode viable."
   ]
  },
  {
   "cell_type": "markdown",
   "id": "b92a9d84-c67b-4d29-9658-3fe2f8cf45dc",
   "metadata": {
    "id": "b92a9d84-c67b-4d29-9658-3fe2f8cf45dc"
   },
   "source": [
    "## 6 Optimitzant els entrenaments. (2 punts)\n",
    "Hauràs observat que un dels desavantatges de les grans arquitectures transformers de xarxes neuronals és que requereixen una gran potència de còmput per entrenar-se correctament. Això no és només un problema de temps, sinó de diners.\n",
    "El maquinari i l'electricitat suposen el cost operatiu principal d'aquestes arquitectures, per la qual cosa optimitzar-les és primordial i suposa un avantatge competitiu (vegeu el cas de DeepSeek)."
   ]
  },
  {
   "cell_type": "markdown",
   "id": "e621f6d4-34e0-49e5-a106-69b9dc4f5968",
   "metadata": {
    "id": "e621f6d4-34e0-49e5-a106-69b9dc4f5968"
   },
   "source": [
    "<div style=\"background-color: #EDF7FF; border-color: #7C9DBF; border-left: 5px solid #7C9DBF; padding: 0.5em;\">\n",
    "<p><strong>Exercici [0.5 pt]:</strong>\n",
    "\n",
    "Repeteix l'exercici anterior però ara només prova les últimes capes. És a dir, en aquest cas el bloc BERT es queda congelat. Podeu provar d'afegir alguna capa entre el bloc BERT i la sortida.\n",
    "* Afegeix a la taula de resultats, el resultat obtingut amb aquest model\n",
    "* Comenta els resultats i discuteix els temps d'entrenament emprats. És una estratègia útil? Quines altres alternatives similars hi ha?\n",
    "\n",
    "</div>"
   ]
  },
  {
   "cell_type": "markdown",
   "id": "539d914d-ad1b-4a99-8863-dc93369cc6fa",
   "metadata": {
    "id": "539d914d-ad1b-4a99-8863-dc93369cc6fa"
   },
   "source": [
    "<div style=\"background-color: #fcf2f2; border-color: #dfb5b4; border-left: 5px solid #dfb5b4; padding: 0.5em;\">\n",
    "<p><strong>Solució:</strong> </p>\n",
    "</div>"
   ]
  },
  {
   "cell_type": "code",
   "execution_count": 4,
   "id": "HTSbdNVSuk4M",
   "metadata": {
    "execution": {
     "iopub.execute_input": "2025-05-13T15:36:32.348689Z",
     "iopub.status.busy": "2025-05-13T15:36:32.347259Z",
     "iopub.status.idle": "2025-05-13T18:47:33.630783Z",
     "shell.execute_reply": "2025-05-13T18:47:33.628403Z",
     "shell.execute_reply.started": "2025-05-13T15:36:32.348653Z"
    },
    "id": "HTSbdNVSuk4M"
   },
   "outputs": [
    {
     "name": "stdout",
     "output_type": "stream",
     "text": [
      "Model: \"model_2\"\n",
      "__________________________________________________________________________________________________\n",
      " Layer (type)                Output Shape                 Param #   Connected to                  \n",
      "==================================================================================================\n",
      " text (InputLayer)           [(None,)]                    0         []                            \n",
      "                                                                                                  \n",
      " preprocessing (KerasLayer)  {'input_mask': (None, 128)   0         ['text[0][0]']                \n",
      "                             , 'input_type_ids': (None,                                           \n",
      "                              128),                                                               \n",
      "                              'input_word_ids': (None,                                            \n",
      "                             128)}                                                                \n",
      "                                                                                                  \n",
      " BERT_encoder (KerasLayer)   {'default': (None, 768),     1094822   ['preprocessing[0][0]',       \n",
      "                              'encoder_outputs': [(None   41         'preprocessing[0][1]',       \n",
      "                             , 128, 768),                            'preprocessing[0][2]']       \n",
      "                              (None, 128, 768),                                                   \n",
      "                              (None, 128, 768),                                                   \n",
      "                              (None, 128, 768),                                                   \n",
      "                              (None, 128, 768),                                                   \n",
      "                              (None, 128, 768),                                                   \n",
      "                              (None, 128, 768),                                                   \n",
      "                              (None, 128, 768),                                                   \n",
      "                              (None, 128, 768),                                                   \n",
      "                              (None, 128, 768),                                                   \n",
      "                              (None, 128, 768),                                                   \n",
      "                              (None, 128, 768)],                                                  \n",
      "                              'pooled_output': (None, 7                                           \n",
      "                             68),                                                                 \n",
      "                              'sequence_output': (None,                                           \n",
      "                              128, 768)}                                                          \n",
      "                                                                                                  \n",
      " intermediate (Dense)        (None, 256)                  196864    ['BERT_encoder[0][13]']       \n",
      "                                                                                                  \n",
      " dropout_2 (Dropout)         (None, 256)                  0         ['intermediate[0][0]']        \n",
      "                                                                                                  \n",
      " classifier (Dense)          (None, 1)                    257       ['dropout_2[0][0]']           \n",
      "                                                                                                  \n",
      "==================================================================================================\n",
      "Total params: 109679362 (418.39 MB)\n",
      "Trainable params: 197121 (770.00 KB)\n",
      "Non-trainable params: 109482241 (417.64 MB)\n",
      "__________________________________________________________________________________________________\n",
      "665/665 [==============================] - 5712s 9s/step - loss: 0.6712 - accuracy: 0.5385 - val_loss: 0.6443 - val_accuracy: 0.5067\n",
      "\n",
      "Temps d'entrenament (segons): 5743s  (1.60h)\n"
     ]
    }
   ],
   "source": [
    "import time\n",
    "import tensorflow as tf\n",
    "from tensorflow import keras\n",
    "import tensorflow_hub as hub\n",
    "import tensorflow_text as text\n",
    "from official.nlp import optimization\n",
    "from sklearn.model_selection import train_test_split\n",
    "import matplotlib.pyplot as plt\n",
    "import pandas as pd\n",
    "\n",
    "# Carreguem dades\n",
    "start_char = 1\n",
    "oov_char   = 2\n",
    "index_from = 3\n",
    "\n",
    "(x_train, y_train), (x_test, y_test) = keras.datasets.imdb.load_data(\n",
    "    start_char=start_char,\n",
    "    oov_char=oov_char,\n",
    "    index_from=index_from\n",
    ")\n",
    "word_index = keras.datasets.imdb.get_word_index()\n",
    "\n",
    "inverted_word_index = {i + index_from: w for w, i in word_index.items()}\n",
    "inverted_word_index[start_char] = \"[START]\"\n",
    "inverted_word_index[oov_char]   = \"[OOV]\"\n",
    "\n",
    "# Passem de tokens a text\n",
    "def decode_review(sequence):\n",
    "    return \" \".join(\n",
    "        inverted_word_index.get(i, \"[UNK]\") \n",
    "        for i in sequence \n",
    "        if i != 0\n",
    "    )\n",
    "\n",
    "# Entrenament i validació\n",
    "x_train_part, x_val, y_train_part, y_val = train_test_split(\n",
    "    x_train, y_train, test_size=0.15, random_state=42\n",
    ")\n",
    "\n",
    "# Preparem per BERT\n",
    "x_train_text = [decode_review(seq) for seq in x_train_part]\n",
    "x_val_text   = [decode_review(seq) for seq in x_val]\n",
    "x_test_text  = [decode_review(seq) for seq in x_test]\n",
    "\n",
    "# (text, etiqueta)\n",
    "batch_size = 32\n",
    "AUTOTUNE   = tf.data.AUTOTUNE\n",
    "\n",
    "train_ds = (\n",
    "    tf.data.Dataset\n",
    "      .from_tensor_slices((x_train_text, y_train_part))\n",
    "      .shuffle(buffer_size=len(x_train_text), seed=42)\n",
    "      .batch(batch_size)\n",
    "      .cache()\n",
    "      .prefetch(AUTOTUNE)\n",
    ")\n",
    "val_ds = (\n",
    "    tf.data.Dataset\n",
    "      .from_tensor_slices((x_val_text, y_val))\n",
    "      .batch(batch_size)\n",
    "      .cache()\n",
    "      .prefetch(AUTOTUNE)\n",
    ")\n",
    "test_ds = (\n",
    "    tf.data.Dataset\n",
    "      .from_tensor_slices((x_test_text, y_test))\n",
    "      .batch(batch_size)\n",
    "      .cache()\n",
    "      .prefetch(AUTOTUNE)\n",
    ")\n",
    "\n",
    "tfhub_handle_encoder    = \"https://tfhub.dev/tensorflow/bert_en_uncased_L-12_H-768_A-12/4\"\n",
    "tfhub_handle_preprocess = \"https://tfhub.dev/tensorflow/bert_en_uncased_preprocess/3\"\n",
    "\n",
    "# model congelat\n",
    "def build_frozen_bert_model():\n",
    "    text_input        = keras.layers.Input(shape=(), dtype=tf.string, name='text')\n",
    "    preprocessing_lay = hub.KerasLayer(tfhub_handle_preprocess, name='preprocessing')\n",
    "    encoder_inputs    = preprocessing_lay(text_input)\n",
    "    # congelat\n",
    "    bert_encoder      = hub.KerasLayer(tfhub_handle_encoder, trainable=False, name='BERT_encoder')\n",
    "    bert_outputs      = bert_encoder(encoder_inputs)\n",
    "    x                 = bert_outputs['pooled_output']\n",
    "    # capes addicionals\n",
    "    x                 = keras.layers.Dense(256, activation='relu', name='intermediate')(x)\n",
    "    x                 = keras.layers.Dropout(0.1)(x)\n",
    "    output            = keras.layers.Dense(1, activation=None, name='classifier')(x)\n",
    "    return keras.Model(text_input, output)\n",
    "\n",
    "frozen_model = build_frozen_bert_model()\n",
    "\n",
    "# compilació\n",
    "epochs           = 1\n",
    "steps_per_epoch  = tf.data.experimental.cardinality(train_ds).numpy()\n",
    "num_train_steps  = steps_per_epoch * epochs\n",
    "num_warmup_steps = int(0.1 * num_train_steps)\n",
    "init_lr          = 3e-5\n",
    "\n",
    "optimizer = optimization.create_optimizer(\n",
    "    init_lr=init_lr,\n",
    "    num_train_steps=num_train_steps,\n",
    "    num_warmup_steps=num_warmup_steps,\n",
    "    optimizer_type='adamw'\n",
    ")\n",
    "frozen_model.compile(\n",
    "    optimizer=optimizer,\n",
    "    loss=keras.losses.BinaryCrossentropy(from_logits=True),\n",
    "    metrics=[keras.metrics.BinaryAccuracy(name='accuracy')]\n",
    ")\n",
    "\n",
    "frozen_model.summary()\n",
    "\n",
    "es = keras.callbacks.EarlyStopping(monitor='val_loss', patience=2, restore_best_weights=True)\n",
    "start_time = time.time()\n",
    "history_frozen = frozen_model.fit(\n",
    "    train_ds,\n",
    "    validation_data=val_ds,\n",
    "    epochs=epochs,\n",
    "    callbacks=[es]\n",
    ")\n",
    "elapsed_frozen = time.time() - start_time\n",
    "print(f\"\\nTemps d'entrenament (segons): {elapsed_frozen:.0f}s  ({elapsed_frozen/3600:.2f}h)\")\n",
    "\n",
    "test_loss_frozen, test_acc_frozen = frozen_model.evaluate(test_ds, verbose=0)"
   ]
  },
  {
   "cell_type": "code",
   "execution_count": 6,
   "id": "f6e32a24-21b7-489a-abff-eae832e1c484",
   "metadata": {
    "execution": {
     "iopub.execute_input": "2025-05-13T18:47:33.716019Z",
     "iopub.status.busy": "2025-05-13T18:47:33.715698Z",
     "iopub.status.idle": "2025-05-13T18:47:33.725132Z",
     "shell.execute_reply": "2025-05-13T18:47:33.724117Z",
     "shell.execute_reply.started": "2025-05-13T18:47:33.715984Z"
    }
   },
   "outputs": [
    {
     "name": "stdout",
     "output_type": "stream",
     "text": [
      "\n",
      "Taula de resultats:\n",
      "| Model                           |   Test Accuracy |\n",
      "|:--------------------------------|----------------:|\n",
      "| LSTM estàndard                  |         0.85132 |\n",
      "| Transformer-exercici-3-millorat |         0.88124 |\n",
      "| BERT-small finetuned            |         0.84008 |\n",
      "| BERT-base (L-12 H-768)          |         0.8789  |\n",
      "| BERT-base frozen head           |         0.52196 |\n"
     ]
    }
   ],
   "source": [
    "results = pd.DataFrame([\n",
    "    {'Model': 'LSTM estàndard',          'Test Accuracy': 0.85132},\n",
    "    {'Model': 'Transformer-exercici-3-millorat',  'Test Accuracy': 0.88124},\n",
    "    {'Model': 'BERT-small finetuned',    'Test Accuracy':  0.84008},\n",
    "    {'Model': 'BERT-base (L-12 H-768)',   'Test Accuracy': 0.8789},\n",
    "    {'Model': 'BERT-base frozen head',    'Test Accuracy': test_acc_frozen},\n",
    "])\n",
    "print(\"\\nTaula de resultats:\")\n",
    "print(results.to_markdown(index=False))"
   ]
  },
  {
   "cell_type": "markdown",
   "id": "m5dGBGfUulUg",
   "metadata": {
    "id": "m5dGBGfUulUg"
   },
   "source": [
    "Els resultats de congelar les capes no ha sigut gens bons, s'hauria de fer una búsqueda d'hiperparàmetres òptims haviam si millora el resultat. També s'hauria de entrenar més èpoques per a que el model pugui ajustar les capes finals. Al estar treballant amb un model que només entrena 197121 paràmetres, és més viable fer un entrenament amb més epochs. "
   ]
  },
  {
   "cell_type": "markdown",
   "id": "b550881a-76be-43d7-8688-0a6cce2be177",
   "metadata": {
    "id": "b550881a-76be-43d7-8688-0a6cce2be177"
   },
   "source": [
    "<div style=\"background-color: #EDF7FF; border-color: #7C9DBF; border-left: 5px solid #7C9DBF; padding: 0.5em;\">\n",
    "<p><strong>Exercici [1.5 pt]:</strong>  Catastrophic forgetting.\n",
    "\n",
    "A la secció 5.3.3 del paper How to Fine-Tune BERT for Text Classification? https://arxiv.org/pdf/1905.05583v3 s'estudia el Catastrophic forgetting. Aquesta situació és molt delicada en els models de transformers de gran escala i s'ha de comprendre molt bé per evitar aquestes situacions\n",
    "\n",
    "* Reprodueix la figura \"Figure 2: Catastrophic Forgetting\" d'aquest article científic. En concret, les subfigures c i d. Només cal que ho facis sobre la corba de train. L'eix x d'aquestes figures (iterations), pots considerar que són els batches d'entrenament, mentre que l'eix Y fa referència al loss. No cal que utilitzis exactament els valors de lr que es mostren en aquesta figura. L'objectiu és que mostris un cas en què el lr és tan gran que es produeix el Catastrophic forgetting, i un altre cas amb un altre valor en què això no passa.\n",
    "</div>"
   ]
  },
  {
   "cell_type": "markdown",
   "id": "04967078-9c2a-4296-98f0-f06fc18939aa",
   "metadata": {
    "id": "04967078-9c2a-4296-98f0-f06fc18939aa"
   },
   "source": [
    "<div style=\"background-color: #fcf2f2; border-color: #dfb5b4; border-left: 5px solid #dfb5b4; padding: 0.5em;\">\n",
    "<p><strong>Solució:</strong> </p>\n",
    "</div>"
   ]
  },
  {
   "cell_type": "code",
   "execution_count": 7,
   "id": "af7d0367-4464-4989-b951-f122cde4b3b9",
   "metadata": {
    "execution": {
     "iopub.execute_input": "2025-05-14T08:14:10.781110Z",
     "iopub.status.busy": "2025-05-14T08:14:10.780724Z",
     "iopub.status.idle": "2025-05-14T10:15:10.547458Z",
     "shell.execute_reply": "2025-05-14T10:15:10.546292Z",
     "shell.execute_reply.started": "2025-05-14T08:14:10.781077Z"
    }
   },
   "outputs": [
    {
     "name": "stdout",
     "output_type": "stream",
     "text": [
      "\n",
      "--- Entrenant amb init_lr = 0.0001 (estable) ---\n",
      "166/166 [==============================] - 3652s 22s/step - loss: 0.4251 - accuracy: 0.7877\n",
      "\n",
      "--- Entrenant amb init_lr = 0.0004 (forgetting) ---\n",
      "166/166 [==============================] - 3504s 21s/step - loss: 0.6082 - accuracy: 0.6928\n"
     ]
    },
    {
     "data": {
      "image/png": "[encoded data removed]",
      "text/plain": [
       "<Figure size 800x500 with 1 Axes>"
      ]
     },
     "metadata": {},
     "output_type": "display_data"
    }
   ],
   "source": [
    "import time\n",
    "import tensorflow as tf\n",
    "from tensorflow import keras\n",
    "import tensorflow_hub as hub\n",
    "import tensorflow_text as text\n",
    "from official.nlp import optimization\n",
    "from sklearn.model_selection import train_test_split\n",
    "import matplotlib.pyplot as plt\n",
    "import pandas as pd\n",
    "\n",
    "# Carreguem dades\n",
    "start_char = 1\n",
    "oov_char   = 2\n",
    "index_from = 3\n",
    "\n",
    "(x_train, y_train), (x_test, y_test) = keras.datasets.imdb.load_data(\n",
    "    start_char=start_char,\n",
    "    oov_char=oov_char,\n",
    "    index_from=index_from\n",
    ")\n",
    "word_index = keras.datasets.imdb.get_word_index()\n",
    "\n",
    "inverted_word_index = {i + index_from: w for w, i in word_index.items()}\n",
    "inverted_word_index[start_char] = \"[START]\"\n",
    "inverted_word_index[oov_char]   = \"[OOV]\"\n",
    "\n",
    "# Passem de tokens a text\n",
    "def decode_review(sequence):\n",
    "    return \" \".join(\n",
    "        inverted_word_index.get(i, \"[UNK]\") \n",
    "        for i in sequence \n",
    "        if i != 0\n",
    "    )\n",
    "\n",
    "# Entrenament i validació\n",
    "x_train_part, x_val, y_train_part, y_val = train_test_split(\n",
    "    x_train, y_train, test_size=0.15, random_state=42\n",
    ")\n",
    "\n",
    "# Preparem per BERT\n",
    "x_train_text = [decode_review(seq) for seq in x_train_part]\n",
    "x_val_text   = [decode_review(seq) for seq in x_val]\n",
    "x_test_text  = [decode_review(seq) for seq in x_test]\n",
    "\n",
    "# (text, etiqueta)\n",
    "batch_size = 32\n",
    "AUTOTUNE   = tf.data.AUTOTUNE\n",
    "\n",
    "train_ds = (\n",
    "    tf.data.Dataset\n",
    "      .from_tensor_slices((x_train_text, y_train_part))\n",
    "      .shuffle(buffer_size=len(x_train_text), seed=42)\n",
    "      .batch(batch_size)\n",
    "      .cache()\n",
    "      .prefetch(AUTOTUNE)\n",
    ")\n",
    "val_ds = (\n",
    "    tf.data.Dataset\n",
    "      .from_tensor_slices((x_val_text, y_val))\n",
    "      .batch(batch_size)\n",
    "      .cache()\n",
    "      .prefetch(AUTOTUNE)\n",
    ")\n",
    "test_ds = (\n",
    "    tf.data.Dataset\n",
    "      .from_tensor_slices((x_test_text, y_test))\n",
    "      .batch(batch_size)\n",
    "      .cache()\n",
    "      .prefetch(AUTOTUNE)\n",
    ")\n",
    "\n",
    "tfhub_handle_encoder    = \"https://tfhub.dev/tensorflow/bert_en_uncased_L-12_H-768_A-12/4\"\n",
    "tfhub_handle_preprocess = \"https://tfhub.dev/tensorflow/bert_en_uncased_preprocess/3\"\n",
    "\n",
    "class BatchLossHistory(keras.callbacks.Callback):\n",
    "    def on_train_begin(self, logs=None):\n",
    "        self.batch_losses = []\n",
    "\n",
    "    def on_train_batch_end(self, batch, logs=None):\n",
    "        self.batch_losses.append(logs.get('loss'))\n",
    "\n",
    "# Model amb encoder entrenable\n",
    "def build_trainable_bert_model():\n",
    "    text_input        = keras.layers.Input(shape=(), dtype=tf.string, name='text')\n",
    "    preprocessing_lay = hub.KerasLayer(tfhub_handle_preprocess, name='preprocessing')\n",
    "    encoder_inputs    = preprocessing_lay(text_input)\n",
    "    bert_encoder      = hub.KerasLayer(tfhub_handle_encoder, trainable=True, name='BERT_encoder')\n",
    "    bert_outputs      = bert_encoder(encoder_inputs)\n",
    "    x                 = bert_outputs['pooled_output']\n",
    "    x                 = keras.layers.Dense(256, activation='relu', name='intermediate')(x)\n",
    "    x                 = keras.layers.Dropout(0.1)(x)\n",
    "    output            = keras.layers.Dense(1, activation=None, name='classifier')(x)\n",
    "    return keras.Model(text_input, output)\n",
    "\n",
    "# Només 25% de training set\n",
    "quarter_size = len(x_train_text) // 4\n",
    "reduced_x_train_text = x_train_text[:quarter_size]\n",
    "reduced_y_train_part = y_train_part[:quarter_size]\n",
    "\n",
    "# Dataset sense validació\n",
    "batch_size = 32\n",
    "AUTOTUNE   = tf.data.AUTOTUNE\n",
    "\n",
    "train_ds = (\n",
    "    tf.data.Dataset\n",
    "      .from_tensor_slices((reduced_x_train_text, reduced_y_train_part))\n",
    "      .shuffle(buffer_size=len(reduced_x_train_text), seed=42)\n",
    "      .batch(batch_size)\n",
    "      .cache()\n",
    "      .prefetch(AUTOTUNE)\n",
    ")\n",
    "\n",
    "# Entrenament\n",
    "epochs           = 1\n",
    "steps_per_epoch  = tf.data.experimental.cardinality(train_ds).numpy()\n",
    "num_train_steps  = steps_per_epoch * epochs\n",
    "num_warmup_steps = int(0.1 * num_train_steps)\n",
    "\n",
    "lrs = {\n",
    "    'estable':    1e-4,\n",
    "    'forgetting': 4e-4\n",
    "}\n",
    "histories = {}\n",
    "\n",
    "for name, init_lr in lrs.items():\n",
    "    print(f\"\\n--- Entrenant amb init_lr = {init_lr} ({name}) ---\")\n",
    "    model = build_trainable_bert_model()\n",
    "\n",
    "    optimizer = optimization.create_optimizer(\n",
    "        init_lr=init_lr,\n",
    "        num_train_steps=num_train_steps,\n",
    "        num_warmup_steps=num_warmup_steps,\n",
    "        optimizer_type='adamw'\n",
    "    )\n",
    "\n",
    "    model.compile(\n",
    "        optimizer=optimizer,\n",
    "        loss=keras.losses.BinaryCrossentropy(from_logits=True),\n",
    "        metrics=[keras.metrics.BinaryAccuracy(name='accuracy')]\n",
    "    )\n",
    "\n",
    "    batch_history = BatchLossHistory()\n",
    "    model.fit(\n",
    "        train_ds,\n",
    "        epochs=epochs,\n",
    "        callbacks=[batch_history],\n",
    "        verbose=1\n",
    "    )\n",
    "\n",
    "    histories[name] = batch_history.batch_losses\n",
    "\n",
    "plt.figure(figsize=(8, 5))\n",
    "for name, losses in histories.items():\n",
    "    plt.plot(losses, label=f'init_lr={lrs[name]:.1e}')\n",
    "plt.xlabel('Iteració')\n",
    "plt.ylabel('Training loss')\n",
    "plt.title('Catastrophic Forgetting amb encoder entrenable (25% dades)')\n",
    "plt.legend()\n",
    "plt.show()"
   ]
  },
  {
   "cell_type": "markdown",
   "id": "w-6VbsIGuuCZ",
   "metadata": {
    "id": "w-6VbsIGuuCZ"
   },
   "source": [
    "**Comentari sobre l'exercici:**\n",
    "Per reduïr el temps d'entrenament, fet servir solament el 25% de les dades totals, ja que tot i així els temps d'entrenament eren >1h. \n",
    "\n",
    "**Resolució:**\n",
    "Es pot veure com amb un lr massa gran (4e-4) pot provocar l'efecte de catastrophic forgetting, ja que implica actualitzacions massa grans a l'encoder, incrementant la loss i reduint la capacitat de mantenir el coneixement previ. \n",
    "\n",
    "En canvi, un lr moderat (1e-4) permet ajustar l'encoder progressivament, assegurant un descens consistent de la loss."
   ]
  },
  {
   "cell_type": "markdown",
   "id": "36814563-a790-4a0b-9814-b87259485794",
   "metadata": {
    "id": "36814563-a790-4a0b-9814-b87259485794"
   },
   "source": [
    "## 7 Estratègia final. (1 punt)"
   ]
  },
  {
   "cell_type": "markdown",
   "id": "8a7ac5ff-45ed-4d07-b339-240ec2eb12d6",
   "metadata": {
    "id": "8a7ac5ff-45ed-4d07-b339-240ec2eb12d6"
   },
   "source": [
    "<div style=\"background-color: #EDF7FF; border-color: #7C9DBF; border-left: 5px solid #7C9DBF; padding: 0.5em;\">\n",
    "<p><strong>Exercici [1 pt]:</strong>\n",
    "Amb tot allò que has après. Finalment, entrena un model de BERT per a classificació i intenta obtenir els millors resultats possibles."
   ]
  },
  {
   "cell_type": "markdown",
   "id": "3641761d-7b83-4297-8c4e-235929bec81f",
   "metadata": {
    "id": "3641761d-7b83-4297-8c4e-235929bec81f"
   },
   "source": [
    "<div style=\"background-color: #fcf2f2; border-color: #dfb5b4; border-left: 5px solid #dfb5b4; padding: 0.5em;\">\n",
    "<p><strong>Solució:</strong> </p>\n",
    "</div>"
   ]
  },
  {
   "cell_type": "code",
   "execution_count": 1,
   "id": "my2wgLBeuwSk",
   "metadata": {
    "id": "my2wgLBeuwSk"
   },
   "outputs": [
    {
     "name": "stderr",
     "output_type": "stream",
     "text": [
      "2025-05-14 12:16:53.690229: E external/local_xla/xla/stream_executor/cuda/cuda_fft.cc:467] Unable to register cuFFT factory: Attempting to register factory for plugin cuFFT when one has already been registered\n",
      "WARNING: All log messages before absl::InitializeLog() is called are written to STDERR\n",
      "E0000 00:00:1747225013.701848 2445945 cuda_dnn.cc:8579] Unable to register cuDNN factory: Attempting to register factory for plugin cuDNN when one has already been registered\n",
      "E0000 00:00:1747225013.705411 2445945 cuda_blas.cc:1407] Unable to register cuBLAS factory: Attempting to register factory for plugin cuBLAS when one has already been registered\n",
      "W0000 00:00:1747225013.715378 2445945 computation_placer.cc:177] computation placer already registered. Please check linkage and avoid linking the same target more than once.\n",
      "W0000 00:00:1747225013.715387 2445945 computation_placer.cc:177] computation placer already registered. Please check linkage and avoid linking the same target more than once.\n",
      "W0000 00:00:1747225013.715388 2445945 computation_placer.cc:177] computation placer already registered. Please check linkage and avoid linking the same target more than once.\n",
      "W0000 00:00:1747225013.715390 2445945 computation_placer.cc:177] computation placer already registered. Please check linkage and avoid linking the same target more than once.\n",
      "2025-05-14 12:16:53.718606: I tensorflow/core/platform/cpu_feature_guard.cc:210] This TensorFlow binary is optimized to use available CPU instructions in performance-critical operations.\n",
      "To enable the following instructions: AVX2 FMA, in other operations, rebuild TensorFlow with the appropriate compiler flags.\n",
      "/home/marc/py_env/lib/python3.10/site-packages/torch/cuda/__init__.py:628: UserWarning: Can't initialize NVML\n",
      "  warnings.warn(\"Can't initialize NVML\")\n"
     ]
    },
    {
     "name": "stdout",
     "output_type": "stream",
     "text": [
      "Usant GPU #0: NVIDIA A40\n"
     ]
    },
    {
     "name": "stderr",
     "output_type": "stream",
     "text": [
      "Some weights of BertForSequenceClassification were not initialized from the model checkpoint at bert-base-uncased and are newly initialized: ['classifier.bias', 'classifier.weight']\n",
      "You should probably TRAIN this model on a down-stream task to be able to use it for predictions and inference.\n"
     ]
    },
    {
     "name": "stdout",
     "output_type": "stream",
     "text": [
      "Entrenant - Epoch 1\n",
      "Training Loss: 0.6865\n",
      "Validation Loss: 0.6756, Val Accuracy: 0.5771\n",
      "Entrenant - Epoch 2\n",
      "Training Loss: 0.3474\n",
      "Validation Loss: 0.2355, Val Accuracy: 0.9063\n",
      "Entrenant - Epoch 3\n",
      "Training Loss: 0.2468\n",
      "Validation Loss: 0.2189, Val Accuracy: 0.9157\n",
      "Entrenant - Epoch 4\n",
      "Training Loss: 0.2221\n",
      "Validation Loss: 0.2123, Val Accuracy: 0.9183\n",
      "Entrenant - Epoch 5\n",
      "Training Loss: 0.2017\n",
      "Validation Loss: 0.1971, Val Accuracy: 0.9240\n",
      "Total training time: 2108.38 seconds\n"
     ]
    }
   ],
   "source": [
    "import time\n",
    "import torch\n",
    "from torch.utils.data import Dataset, DataLoader\n",
    "from transformers import (\n",
    "    BertTokenizerFast,\n",
    "    BertForSequenceClassification,\n",
    "    get_linear_schedule_with_warmup\n",
    ")\n",
    "from torch.optim import AdamW\n",
    "from sklearn.model_selection import train_test_split\n",
    "from tensorflow.keras.datasets import imdb\n",
    "import numpy as np\n",
    "\n",
    "# Farem servir la GPU\n",
    "device = torch.device('cuda' if torch.cuda.is_available() else 'cpu')\n",
    "if device.type == 'cuda':\n",
    "    current_gpu = torch.cuda.current_device()\n",
    "    gpu_name = torch.cuda.get_device_name(current_gpu)\n",
    "    print(f\"Usant GPU #{current_gpu}: {gpu_name}\")\n",
    "else:\n",
    "    print(\"Usant CPU\")\n",
    "\n",
    "# joc de dades\n",
    "t_start_char, oov_char, index_from = 1, 2, 3\n",
    "(x_train, y_train), (x_test, y_test) = imdb.load_data(\n",
    "    start_char=t_start_char,\n",
    "    oov_char=oov_char,\n",
    "    index_from=index_from\n",
    ")\n",
    "word_index = imdb.get_word_index()\n",
    "inv_word_index = {i + index_from: w for w, i in word_index.items()}\n",
    "inv_word_index[t_start_char] = \"[START]\"\n",
    "inv_word_index[oov_char] = \"[OOV]\"\n",
    "\n",
    "def decode_review(sequence):\n",
    "    return \" \".join(inv_word_index.get(idx, \"[UNK]\") for idx in sequence if idx != 0)\n",
    "\n",
    "texts = [decode_review(x) for x in np.concatenate([x_train, x_test])]\n",
    "labels = np.concatenate([y_train, y_test])\n",
    "t_train, t_val, y_tr, y_val = train_test_split(\n",
    "    texts,\n",
    "    labels,\n",
    "    test_size=0.15,\n",
    "    random_state=42\n",
    ")\n",
    "\n",
    "# dataset\n",
    "class IMDbDataset(Dataset):\n",
    "    def __init__(self, texts, labels, tokenizer, max_len=400):\n",
    "        self.texts = texts\n",
    "        self.labels = labels\n",
    "        self.tokenizer = tokenizer\n",
    "        self.max_len = max_len\n",
    "\n",
    "    def __len__(self):\n",
    "        return len(self.texts)\n",
    "\n",
    "    def __getitem__(self, index):\n",
    "        encoding = self.tokenizer(\n",
    "            self.texts[index],\n",
    "            truncation=True,\n",
    "            padding='max_length',\n",
    "            max_length=self.max_len,\n",
    "            return_tensors='pt'\n",
    "        )\n",
    "        return {\n",
    "            'input_ids': encoding['input_ids'].squeeze(0),\n",
    "            'attention_mask': encoding['attention_mask'].squeeze(0),\n",
    "            'labels': torch.tensor(self.labels[index], dtype=torch.long)\n",
    "        }\n",
    "\n",
    "tokenizer = BertTokenizerFast.from_pretrained('bert-base-uncased')\n",
    "train_dataset = IMDbDataset(t_train, y_tr, tokenizer, max_len=400)\n",
    "val_dataset = IMDbDataset(t_val, y_val, tokenizer, max_len=400)\n",
    "train_loader = DataLoader(train_dataset, batch_size=64, shuffle=True)\n",
    "val_loader = DataLoader(val_dataset, batch_size=64)\n",
    "\n",
    "# model\n",
    "model = BertForSequenceClassification.from_pretrained(\n",
    "    'bert-base-uncased',\n",
    "    num_labels=2\n",
    ").to(device)\n",
    "optimizer = AdamW(model.parameters(), lr=2e-5, weight_decay=0.01)\n",
    "total_steps = len(train_loader) * 5\n",
    "warmup_steps = int(0.1 * total_steps)\n",
    "scheduler = get_linear_schedule_with_warmup(\n",
    "    optimizer,\n",
    "    num_warmup_steps=warmup_steps,\n",
    "    num_training_steps=total_steps\n",
    ")\n",
    "\n",
    "# Fine-tuning progressiu\n",
    "def set_trainable_layers(model, epoch):\n",
    "    if epoch == 1:\n",
    "        for _, param in model.bert.named_parameters():\n",
    "            param.requires_grad = False\n",
    "    elif epoch == 2:\n",
    "        for name, param in model.bert.named_parameters():\n",
    "            param.requires_grad = ('encoder.layer.11' in name)\n",
    "    elif epoch in (3, 4):\n",
    "        for name, param in model.bert.named_parameters():\n",
    "            param.requires_grad = any(f'encoder.layer.{i}' in name for i in (10, 11))\n",
    "    else:\n",
    "        for param in model.bert.parameters():\n",
    "            param.requires_grad = True\n",
    "\n",
    "# entrenament\n",
    "best_val_loss = float('inf')\n",
    "patience = 2\n",
    "counter = 0\n",
    "start_time = time.time()\n",
    "\n",
    "for epoch in range(1, 6):\n",
    "    set_trainable_layers(model, epoch)\n",
    "    model.train()\n",
    "    train_loss = 0.0\n",
    "\n",
    "    print(f\"Entrenant - Epoch {epoch}\")\n",
    "    for batch in train_loader:\n",
    "        optimizer.zero_grad()\n",
    "        batch = {k: v.to(device) for k, v in batch.items()}\n",
    "        outputs = model(**batch)\n",
    "        loss = outputs.loss\n",
    "        loss.backward()\n",
    "        optimizer.step()\n",
    "        scheduler.step()\n",
    "        train_loss += loss.item()\n",
    "\n",
    "    avg_train_loss = train_loss / len(train_loader)\n",
    "    print(f\"Training Loss: {avg_train_loss:.4f}\")\n",
    "\n",
    "    model.eval()\n",
    "    val_loss = 0.0\n",
    "    correct = 0\n",
    "    total = 0\n",
    "    with torch.no_grad():\n",
    "        for batch in val_loader:\n",
    "            batch = {k: v.to(device) for k, v in batch.items()}\n",
    "            outputs = model(**batch)\n",
    "            val_loss += outputs.loss.item()\n",
    "            preds = outputs.logits.argmax(dim=1)\n",
    "            correct += (preds == batch['labels']).sum().item()\n",
    "            total += batch['labels'].size(0)\n",
    "\n",
    "    avg_val_loss = val_loss / len(val_loader)\n",
    "    val_accuracy = correct / total\n",
    "    print(f\"Validation Loss: {avg_val_loss:.4f}, Val Accuracy: {val_accuracy:.4f}\")\n",
    "\n",
    "    if avg_val_loss < best_val_loss:\n",
    "        best_val_loss = avg_val_loss\n",
    "        counter = 0\n",
    "    else:\n",
    "        counter += 1\n",
    "        if counter >= patience:\n",
    "            print(\"Early stopping triggered\")\n",
    "            break\n",
    "\n",
    "elapsed_time = time.time() - start_time\n",
    "print(f\"Total training time: {elapsed_time:.2f} seconds\")"
   ]
  },
  {
   "cell_type": "markdown",
   "id": "HM_zHLAeuw0l",
   "metadata": {
    "id": "HM_zHLAeuw0l"
   },
   "source": [
    "**Comentari previ:** Deguts els temps d'entrenament de tota la pac, he decidit fet servir torch en comptes de tensorflow. El motiu és que a la feina acostumo a fer-lo servir i ja tinc el servidor configurat per entrenar amb GPU. S'ha fet servir una NVIDIA A40 per reduir el temps d'entrenament de vàries hores per època a pocs minuts.\n",
    "\n",
    "**Coneixements apresos i aplicats:**\n",
    "\n",
    "- He après que entrenar models amb una CPU no sempre és viable i que entrenar amb GPU pot reduir molt els temps d'entrenament.\n",
    "\n",
    "- Carrego els pesos preentrenats i hi afegeixo al final un classificador per dues classes.\n",
    "\n",
    "- He fet servir \"get_linear_schedule_with_warmup\" per ajustar el learning rate durant l'entrenament. Al principi de l'entrenament el lr és petit i va augmentar a poc a poc, evitant que el model faci canvis massa grans abans d'haver començat a aprendre. Després es va reduint de forma lineal, ajudant al model a ajustar-se en la part final de l'entrenament. \n",
    "\n",
    "- He fet servir un descongelament gradual en comptes de congelar totes les capes del encoder. En la primera capa s'entrena només el classificador, en la segona s'hi entrenen característiques d'alt nivell. En les èpoques 3 i 4 es fa fine-tuning a capes més profundes i a partir de la 5 època, s'ajusta tot el model.\n",
    "\n",
    "**Resum: El descongelament gradual activa progressivament les capes del model per evitar sobreescriure coneixement previ, el scheduler regula el learning rate començant amb valors baixos i reduint-lo de manera lineal al llarg del temps. Aquestes dues tècniques s'han aplicat juntes per optimitzar l'entrenament.\n",
    "\n",
    "Resultats: S'ha obtingut un accuracy en validació del 92.4%, sense dubte el millor de tots els resultats. Es podrien haver entrenat més èpoques, ja que l'early stopping no ha arribat a saltar. "
   ]
  },
  {
   "cell_type": "code",
   "execution_count": null,
   "id": "cccc3ac2-bc8c-448a-aba7-4b36f9e8a501",
   "metadata": {},
   "outputs": [],
   "source": []
  }
 ],
 "metadata": {
  "colab": {
   "provenance": []
  },
  "kaggle": {
   "accelerator": "none",
   "dataSources": [],
   "dockerImageVersionId": 31011,
   "isGpuEnabled": false,
   "isInternetEnabled": true,
   "language": "python",
   "sourceType": "notebook"
  },
  "kernelspec": {
   "display_name": "Python 3 (ipykernel)",
   "language": "python",
   "name": "python3"
  },
  "language_info": {
   "codemirror_mode": {
    "name": "ipython",
    "version": 3
   },
   "file_extension": ".py",
   "mimetype": "text/x-python",
   "name": "python",
   "nbconvert_exporter": "python",
   "pygments_lexer": "ipython3",
   "version": "3.9.13"
  }
 },
 "nbformat": 4,
 "nbformat_minor": 5
}
