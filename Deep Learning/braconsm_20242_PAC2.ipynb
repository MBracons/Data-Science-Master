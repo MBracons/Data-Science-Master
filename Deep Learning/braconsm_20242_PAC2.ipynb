{
 "cells": [
  {
   "cell_type": "markdown",
   "metadata": {
    "id": "p8_xNUTcVfLF"
   },
   "source": [
    "<div style=\"width: 100%; clear: both;\">\n",
    "<div style=\"float: left; width: 50%;\">\n",
    "<img src=\"http://www.uoc.edu/portal/_resources/common/imatges/marca_UOC/UOC_Masterbrand.jpg\", align=\"left\">\n",
    "</div>\n",
    "<div style=\"float: right; width: 50%;\">\n",
    "<p style=\"margin: 0; padding-top: 22px; text-align:right;\">M2.975 · Deep Learning · PAC2</p>\n",
    "<p style=\"margin: 0; text-align:right;\">2024-2 · Màster universitari en Ciència de dades (Data science)</p>\n",
    "<p style=\"margin: 0; text-align:right; padding-button: 100px;\">Estudis d'Informàtica, Multimèdia i Telecomunicació</p>\n",
    "</div>\n",
    "</div>\n",
    "<div style=\"width:100%;\">&nbsp;</div>\n",
    "\n",
    "\n",
    "# PAC 2: Xarxes neuronals recurrents amb Keras\n",
    "\n",
    "<u>Consideracions generals</u>:\n",
    "\n",
    "- Aquesta PAC s'ha de realitzar de forma **estrictament individual**. Qualsevol indicatiu de còpia serà penalitzat amb un suspens (D) per a totes les parts implicades i la possible avaluació negativa de l'assignatura de manera íntegra.\n",
    "- És necessari que l'estudiant indiqui **totes les fonts** que ha utilitzat per a la realització de la PAC. De no ser així, es considerarà que l'estudiant ha comès plagi, sent penalitzat amb un suspens (D) i la possible avaluació negativa de l'assignatura de manera íntegra.\n",
    "\n",
    "<u>Format de l'entrega</u>:\n",
    "\n",
    "- Alguns exercicis poden suposar diversos minuts d'execució, per la qual cosa l'entrega s'ha de fer en **format notebook** i en **format html**, on es vegi el codi, els resultats i comentaris de cada exercici. Es pot exportar el notebook a HTML des del menú File $\\to$ Download as $\\to$ HTML.\n",
    "- Existeix un tipus de cel·la especial per allotjar text. Aquest tipus de cel·la us serà molt útil per respondre a les diferents preguntes teòriques plantejades al llarg de l'activitat. Per canviar el tipus de cel·la a aquest tipus, en el menú: Cell $\\to$ Cell Type $\\to$ Markdown."
   ]
  },
  {
   "cell_type": "markdown",
   "metadata": {
    "id": "BbJLLQiXVfLG"
   },
   "source": [
    "# 0. Context i càrrega de llibreries\n",
    "\n",
    "# Xarxes Neuronals Recurrents\n",
    "\n",
    "Les **xarxes neuronals recurrents (RNNs)** es basen justament en aquesta idea: són xarxes dissenyades per processar seqüències, mantenint un estat ocult que evoluciona amb el temps i resumeix la informació rellevant del passat. Així, les RNN permeten capturar patrons temporals i contextuals molt més llargs que els models clàssics de $n$-grames, sent una eina fonamental per a tasques com a generació de text, anàlisi de sentiments, traducció automàtica, entre d'altres.\n",
    "\n",
    "**En aquesta pràctica, a la primera part explorarem com funcionen les RNNs des de zero, implementant i entrenant una xarxa bàsica per a tasques de modelatge de llenguatge. A la segona, farem servir models ja implementats per aplicar-lo a un problema real d'estimació del consum d'energia.**\n"
   ]
  },
  {
   "cell_type": "code",
   "execution_count": 1,
   "metadata": {
    "execution": {
     "iopub.execute_input": "2025-04-20T08:38:54.779054Z",
     "iopub.status.busy": "2025-04-20T08:38:54.778836Z",
     "iopub.status.idle": "2025-04-20T08:39:08.752765Z",
     "shell.execute_reply": "2025-04-20T08:39:08.751947Z",
     "shell.execute_reply.started": "2025-04-20T08:38:54.779029Z"
    },
    "id": "ygU7huWeVfLH"
   },
   "outputs": [
    {
     "name": "stderr",
     "output_type": "stream",
     "text": [
      "2025-04-20 08:38:56.668787: E external/local_xla/xla/stream_executor/cuda/cuda_fft.cc:477] Unable to register cuFFT factory: Attempting to register factory for plugin cuFFT when one has already been registered\n",
      "WARNING: All log messages before absl::InitializeLog() is called are written to STDERR\n",
      "E0000 00:00:1745138336.919876      31 cuda_dnn.cc:8310] Unable to register cuDNN factory: Attempting to register factory for plugin cuDNN when one has already been registered\n",
      "E0000 00:00:1745138336.987273      31 cuda_blas.cc:1418] Unable to register cuBLAS factory: Attempting to register factory for plugin cuBLAS when one has already been registered\n"
     ]
    }
   ],
   "source": [
    "# LLIBRERIES NECESSÀRIES\n",
    "import tensorflow as tf\n",
    "import numpy as np"
   ]
  },
  {
   "cell_type": "code",
   "execution_count": 2,
   "metadata": {
    "execution": {
     "iopub.execute_input": "2025-04-20T08:39:08.754893Z",
     "iopub.status.busy": "2025-04-20T08:39:08.754481Z",
     "iopub.status.idle": "2025-04-20T08:39:08.758057Z",
     "shell.execute_reply": "2025-04-20T08:39:08.757426Z",
     "shell.execute_reply.started": "2025-04-20T08:39:08.754874Z"
    },
    "id": "g_VInyDTVfLI"
   },
   "outputs": [],
   "source": [
    "# !pip install \"tensorflow<2.11\""
   ]
  },
  {
   "cell_type": "markdown",
   "metadata": {
    "id": "-iUmoQiZVfLJ"
   },
   "source": [
    "# 1. Implementar una RNN des de Zero (Pas a Pas)\n",
    "\n",
    "**1.1. Implementació RNN (Forward Pass) des de Zero**\n",
    "\n",
    "**Què és una RNN?**\n",
    "Una Xarxa Neuronal Recurrent (RNN) és una arquitectura dissenyada per processar dades seqüencials (com text o sèries de temps). La seva característica clau és l'**estat ocult** (`h_t`), que actua com a memòria dinàmica emmagatzemant informació contextual de tots els passos anteriors. A diferència dels models de n-grames, les RNNs poden capturar dependències a *llarg termini* mitjançant aquesta memòria recurrent, processant seqüències de longitud variable de manera eficient.\n",
    "\n",
    "**Formulació Matemàtica**\n",
    "A cada pas de temps `t`, la RNN realitza dues accions fonamentals:\n",
    "\n",
    "1. **Actualització de l'estat ocult**:\n",
    " Combina l'entrada actual `x_t` i l'estat ocult anterior `h_{t-1}` mitjançant una transformació lineal seguida d'una no-linealitat (usualment `tanh`):\n",
    "\n",
    " $$\n",
    " h_t = \\tanh(\\underbrace{W_{xh} x_t}_{\\text{Contribució actual}} + \\underbrace{W_{hh} h_{t-1}}_{\\text{Memòria passada}} + b_h)\n",
    " $$\n",
    "\n",
    " - **$W_{xh}$**: Matriu de pesos que projecta l'entrada a l'espai ocult (dimensió: `d × H`).\n",
    " - **$W_{hh}$**: Matriu de pesos recurrents que actualitza la memòria (dimensió: `H × H`).\n",
    " - **$b_h$**: Vector de biaix (dimensió: `H`).\n",
    " - **`tanh`**: Funció d'activació que acota valors entre [-1, 1], estabilitzant gradients.\n",
    "\n",
    "2. **Generació de sortida (es veu a l'exercici 1.2.)**:\n",
    " Per a modelatge del llenguatge, se sol afegir una capa lineal addicional que mapeja $h_t$ a logits per predir el proper token:\n",
    " $$\n",
    " o_t = W_{ho} h_t + b_o\n",
    " $$\n",
    " On $W_{ho}$ (dimensió: `H × |Vocabulari|`) i $b_o$ són paràmetres de sortida.\n",
    "\n",
    "**Flux d'informació**\n",
    "A cada pas $t$, la RNN processa seqüencialment:\n",
    "- Pren l'entrada actual $x_t$ (ex: embedding d'un caràcter).\n",
    "- Combina $x_t$ amb l'estat anterior $h_{t-1}$ per calcular $h_t$.\n",
    "- Usa $h_t$ per predir el següent element a la seqüència.\n",
    "\n",
    "Aquesta recurrència permet que la informació flueixi a través del temps, donant a la RNN la seva capacitat de *recordar* patrons temporals.\n"
   ]
  },
  {
   "cell_type": "markdown",
   "metadata": {
    "id": "Z_FHBU1SVfLJ"
   },
   "source": [
    "<div style=\"background-color: #EDF7FF; border-color: #7C9DBF; border-left: 5px solid #7C9DBF; padding: 0.5em;\">\n",
    "<p><strong>Exercici [0.75 pts.]:</strong> Defineix un model de xarxa neuronal recurrent (RNN) seguint els passos per construir l'arquitectura del model descrita a continuació:</p>\n",
    "</div>"
   ]
  },
  {
   "cell_type": "markdown",
   "metadata": {
    "id": "Te5ooQG7VfLK"
   },
   "source": [
    "**Instruccions per Implementar la RNN (Pas a Pas):**\n",
    "\n",
    "**1. Crea una classe `RNNScratch`:**\n",
    "- Per això, hereta de `tf.Module` per aprofitar les utilitats de TensorFlow-\n",
    "- Defineix els següents atributs al constructor:\n",
    " - `num_inputs`: Dimensió dels vectors d'entrada (ex: mida del vocabulari o embeddings).\n",
    " - `num_hiddens`: Dimensió de l'estat ocult (`H`).\n",
    " - `sigma`: Desviació estàndard per a inicialització de pesos.\n",
    "\n",
    "**2. Dins del constructor, defineix `W_xh`, `W_hh` i `b_h` com a variables entrenables de TensorFlow.**\n",
    "- **`W_xh`**: Pesos per projectar l'entrada `x_t` a l'espai ocult.\n",
    " - Forma: `(num_inputs, num_hiddens)`.\n",
    " - Inicialitzat amb valors aleatoris de distribució normal escalats per `sigma`.\n",
    "- **`W_hh`**: Pesos recurrents per propagar l'estat ocult.\n",
    " - Forma: `(num_hiddens, num_hiddens)`.\n",
    " - Inicialitzat igual que `W_xh`.\n",
    "- **`b_h`**: Biaix de l'estat ocult.\n",
    " - Inicialitzat amb zeros (forma `(num_hiddens,)`).\n",
    "\n",
    "**3. Implementar el mètode `forward`:**\n",
    "- Aquesta funció rebrà dos paràmetres:\n",
    " - `inputs`: Tensor de forma `(T, batch_size, num_inputs)`, on `T` és la longitud de la seqüència.\n",
    " - `state`: Estat ocult inicial (si és `None`, s'inicialitza amb zeros).\n",
    "- La lògica dins aquesta funció és la següent:\n",
    " - Verifiquem si `state` no es proporciona (és None), inicialitzar-lo com a tensor de zeros amb forma `(batch_size, num_hiddens)`.\n",
    " - A continuació, cal iterar sobre cada pas de temps `T` (ex: bucle for):\n",
    "    - Per a cada X que rebem que té la forma `(batch_size, num_inputs)` a :\n",
    "      - Calculeu `tf.matmul(X, self.W_xh)`: Projecció de l'entrada actual.\n",
    "      - Calcular `tf.matmul(state, self.W_hh)`: contribució de l'estat anterior.\n",
    "      - Sumar ambdós termes i el biaix `self.b_h`.\n",
    "      - Aplicar `tanh` per obtenir el nou estat: `state = tf.tanh(...)`.\n",
    "    - Emmagatzemar l'estat en una llista d'outputs (que ha de ser inicialitzada prèviament).\n",
    "\n",
    "**Pistes:**\n",
    "- **Batch Processing**: Cada `X` al bucle té forma `(batch_size, num_inputs)`, permetent processar múltiples seqüències en paral·lel.\n",
    "- **Recurrència**: L'estat `state` s'actualitza a cada pas i es passa al següent, mantenint la memòria temporal.\n",
    "- **Sortida**: `outputs` és una llista amb els estats ocults a cada pas, útil per connectar a capes posteriors (ex: predicció de tokens)."
   ]
  },
  {
   "cell_type": "code",
   "execution_count": 3,
   "metadata": {
    "execution": {
     "iopub.execute_input": "2025-04-20T08:39:08.759117Z",
     "iopub.status.busy": "2025-04-20T08:39:08.758806Z",
     "iopub.status.idle": "2025-04-20T08:39:08.900216Z",
     "shell.execute_reply": "2025-04-20T08:39:08.899549Z",
     "shell.execute_reply.started": "2025-04-20T08:39:08.759078Z"
    },
    "id": "Tq6Ta3dhVfLK"
   },
   "outputs": [],
   "source": [
    "# Completa l'exercici\n",
    "\n",
    "class RNNScratch(tf.Module):\n",
    "    def __init__(self, num_inputs, num_hiddens, sigma=0.01):\n",
    "        # Completa lògica del constructor\n",
    "        self.num_inputs  = num_inputs\n",
    "        self.num_hiddens = num_hiddens\n",
    "        self.sigma = sigma\n",
    "        \n",
    "        self.W_xh = tf.Variable(tf.random.normal(shape=(num_inputs, num_hiddens), stddev=sigma), name=\"W_xh\")\n",
    "        self.W_hh = tf.Variable(tf.random.normal(shape=(num_hiddens, num_hiddens), stddev=sigma), name=\"W_hh\")\n",
    "        self.b_h = tf.Variable(tf.zeros(shape=(num_hiddens,)), name=\"b_h\")\n",
    "\n",
    "    def forward(self, inputs, state=None):\n",
    "        # Completa lògica de la funció\n",
    "        T = inputs.shape[0]\n",
    "        batch_size = inputs.shape[1]\n",
    "        \n",
    "        if state is None:\n",
    "            state = tf.zeros((batch_size, self.W_hh.shape[0]))\n",
    "        outputs = []\n",
    "        for t in range(T):\n",
    "            X_t = inputs[t]\n",
    "            state = tf.tanh(tf.matmul(X_t, self.W_xh) + tf.matmul(state, self.W_hh) + self.b_h)\n",
    "            outputs.append(state)\n",
    "        return outputs, state"
   ]
  },
  {
   "cell_type": "markdown",
   "metadata": {
    "id": "F3g1OSrQVfLK"
   },
   "source": [
    "<div style=\"background-color: #EDF7FF; border-color: #7C9DBF; border-left: 5px solid #7C9DBF; padding: 0.5em;\">\n",
    "<p><strong>Exercici [0.25]:</strong> Verifica el seu funcionament amb la cel·la següent i respon a la pregunta següent en una sola línia. De què està compost la variable 'outputs'?</p>\n",
    "</div>"
   ]
  },
  {
   "cell_type": "markdown",
   "metadata": {},
   "source": [
    "<strong>Resposta:</strong> La variable \"outputs\" és una llista de tensors on cada un representa l'estat ocult calculat en cada pas de temps amb forma (batch_size, num_hiddens)."
   ]
  },
  {
   "cell_type": "code",
   "execution_count": 4,
   "metadata": {
    "execution": {
     "iopub.execute_input": "2025-04-20T08:39:08.901225Z",
     "iopub.status.busy": "2025-04-20T08:39:08.900957Z",
     "iopub.status.idle": "2025-04-20T08:39:10.569078Z",
     "shell.execute_reply": "2025-04-20T08:39:10.568537Z",
     "shell.execute_reply.started": "2025-04-20T08:39:08.901202Z"
    },
    "id": "btpLG5PhVfLK"
   },
   "outputs": [
    {
     "name": "stderr",
     "output_type": "stream",
     "text": [
      "I0000 00:00:1745138350.300019      31 gpu_device.cc:2022] Created device /job:localhost/replica:0/task:0/device:GPU:0 with 13942 MB memory:  -> device: 0, name: Tesla T4, pci bus id: 0000:00:04.0, compute capability: 7.5\n",
      "I0000 00:00:1745138350.300770      31 gpu_device.cc:2022] Created device /job:localhost/replica:0/task:0/device:GPU:1 with 13942 MB memory:  -> device: 1, name: Tesla T4, pci bus id: 0000:00:05.0, compute capability: 7.5\n"
     ]
    }
   ],
   "source": [
    "batch_size, num_inputs, num_hiddens, num_steps = 2, 16, 32, 100\n",
    "rnn = RNNScratch(num_inputs, num_hiddens)\n",
    "X = tf.ones((num_steps, batch_size, num_inputs))\n",
    "outputs, state = rnn.forward(X)  # Use forward() instead of calling rnn directly"
   ]
  },
  {
   "cell_type": "code",
   "execution_count": 5,
   "metadata": {
    "execution": {
     "iopub.execute_input": "2025-04-20T08:39:10.570028Z",
     "iopub.status.busy": "2025-04-20T08:39:10.569780Z",
     "iopub.status.idle": "2025-04-20T08:39:10.574619Z",
     "shell.execute_reply": "2025-04-20T08:39:10.573935Z",
     "shell.execute_reply.started": "2025-04-20T08:39:10.570006Z"
    }
   },
   "outputs": [
    {
     "name": "stdout",
     "output_type": "stream",
     "text": [
      "100 (2, 32) (2, 32)\n"
     ]
    }
   ],
   "source": [
    "print(len(outputs), outputs[0].shape, state.shape)"
   ]
  },
  {
   "cell_type": "markdown",
   "metadata": {
    "id": "uXaDkzzkVfLK"
   },
   "source": [
    "## 1.2. RNN per a Model del Llenguatge\n",
    "\n",
    "Ara que ja tens implementada la classe `RNNScratch`, el següent pas és fer-la servir com a base per construir un **model de llenguatge**. Aquest tipus de models són la base de sistemes d'autocompletat de text, predicció de paraules o generació de text.\n",
    "\n",
    "### Què canvia ara?\n",
    "\n",
    "Quan treballem amb models de llenguatge, **les entrades i les sortides pertanyen al mateix vocabulari**. Per exemple, si esteu entrenant un model per predir la propera paraula en una frase, tant la paraula actual (entrada) com la següent (sortida esperada) són paraules del vocabulari. Això vol dir que:\n",
    "\n",
    "- Cada paraula es codifica com un vector (per exemple, one-hot).\n",
    "- La dimensió d'aquests vectors és igual a la mida del vocabulari.\n",
    "- La sortida del model ha de ser una predicció sobre quin és el proper token, també expressat en termes del vocabulari.\n",
    "\n",
    "### Què es proporciona?\n",
    "- La classe `RNNLMScratch`.\n",
    "\n",
    "- **`__init__`**: rep la RNN prèviament definida, la mida del vocabulari (ja que tant l'entrada com la sortida són en aquest espai) i una taxa d'aprenentatge.\n",
    "\n",
    "- **`init_params`**: defineix els pesos i biaixos de la capa de sortida. Aquesta capa pren l'estat ocult a cada pas i genera una distribució sobre el vocabulari (probabilitat que cada paraula sigui la següent).\n",
    "\n"
   ]
  },
  {
   "cell_type": "code",
   "execution_count": 6,
   "metadata": {
    "execution": {
     "iopub.execute_input": "2025-04-20T08:39:10.575694Z",
     "iopub.status.busy": "2025-04-20T08:39:10.575446Z",
     "iopub.status.idle": "2025-04-20T08:39:10.586560Z",
     "shell.execute_reply": "2025-04-20T08:39:10.585958Z",
     "shell.execute_reply.started": "2025-04-20T08:39:10.575654Z"
    },
    "id": "URJmdrwGVfLL"
   },
   "outputs": [],
   "source": [
    "class RNNLMScratch(tf.Module):\n",
    "    \"\"\" RNN-based language model \"\"\"\n",
    "    def __init__(self, rnn, vocab_size, lr=0.01):\n",
    "        super().__init__()\n",
    "\n",
    "        self.init_params()\n",
    "\n",
    "    def init_params(self):\n",
    "        self.W_hq = tf.Variable(tf.random.normal(\n",
    "            (self.rnn.num_hiddens, self.vocab_size)) * self.rnn.sigma)\n",
    "        self.b_q = tf.Variable(tf.zeros(self.vocab_size))\n"
   ]
  },
  {
   "cell_type": "markdown",
   "metadata": {
    "id": "vbsi68r5VfLL"
   },
   "source": [
    "## 1.2.1. Codificació One-Hot\n",
    "\n",
    "Què és la codificació one-hot? Cada token (caràcter) es representa com un vector de longitud igual a la mida del vocabulari, amb un 1 a l'índex corresponent al token i 0 a les altres posicions.\n",
    "\n",
    "Per exemple, si `vocab = {'a':0, 'b':1, 'c':2}`, aleshores:\n",
    "- `one_hot(0)` → `[1, 0, 0]`\n",
    "- `one_hot(2)` → `[0, 0, 1]`"
   ]
  },
  {
   "cell_type": "code",
   "execution_count": 7,
   "metadata": {
    "execution": {
     "iopub.execute_input": "2025-04-20T08:39:10.589116Z",
     "iopub.status.busy": "2025-04-20T08:39:10.588922Z",
     "iopub.status.idle": "2025-04-20T08:39:10.598355Z",
     "shell.execute_reply": "2025-04-20T08:39:10.597723Z",
     "shell.execute_reply.started": "2025-04-20T08:39:10.589102Z"
    },
    "id": "Op2OpVgJVfLL"
   },
   "outputs": [],
   "source": [
    "class RNNLMScratch(tf.Module):\n",
    "    \"\"\" RNN-based language model \"\"\"\n",
    "    def __init__(self, rnn, vocab_size, lr=0.01):\n",
    "        super().__init__()\n",
    "\n",
    "        self.init_params()\n",
    "\n",
    "    def init_params(self):\n",
    "        self.W_hq = tf.Variable(tf.random.normal(\n",
    "            (self.rnn.num_hiddens, self.vocab_size)) * self.rnn.sigma)\n",
    "        self.b_q = tf.Variable(tf.zeros(self.vocab_size))\n",
    "\n",
    "    # Afegim la funció one-hot\n",
    "    def one_hot(self, X):\n",
    "        return tf.one_hot(tf.transpose(X), self.vocab_size)"
   ]
  },
  {
   "cell_type": "markdown",
   "metadata": {
    "id": "epHcE8OlVfLL"
   },
   "source": [
    "<div style=\"background-color: #EDF7FF; border-color: #7C9DBF; border-left: 5px solid #7C9DBF; padding: 0.5em;\">\n",
    "<p><strong>Exercici [0.5 pts.]:</strong> Podries dir què és el que fa la funció anterior one_hot sobre la matriu X donada una mida de vocabulari?</p>\n",
    "</div>"
   ]
  },
  {
   "cell_type": "markdown",
   "metadata": {
    "id": "KpCgpkVqsxpM"
   },
   "source": [
    "Transposa X que te forma (T, batch_size) a (batch_size, T) i, per a cada element, crea un vector de longitud vocab_size amb un 1 en la posició de l’índex original i zeros a la resta. El resultat final és un tensor (batch_size, T, vocab_size) que codifica cada token com un vector one‑hot."
   ]
  },
  {
   "cell_type": "markdown",
   "metadata": {
    "id": "R14KsN_rVfLL"
   },
   "source": [
    "## 1.2.2. Capa de sortida\n",
    "\n",
    "Després d'obtenir cada estat ocult $h_t $, volem projectar-lo a l'espai del vocabulari:\n",
    "\n",
    "$\n",
    "o_t = h_t W_{hq} + b_q\n",
    "$\n",
    "\n",
    "On:\n",
    "- $h_t \\in \\mathbb{R}^{H} $\n",
    "- $W_{hq} \\in \\mathbb{R}^{H \\times V} $\n",
    "- $b_q \\in \\mathbb{R}^{V} $\n",
    "\n",
    "$o_t \\in \\mathbb{R}^{V} $: puntuacions sense normalitzar (logits) sobre el vocabulari.\n",
    "\n",
    "Finalment, cal afegir una funció `output_layer` dins de la nostra classe `RNNLMScratch` que pren tots els estats ocults produïts per la RNN i, per a cadascú, aplica la transformació lineal (`W_hq`, `b_q`) que projecta aquest vector a l'espai del vocabulari. Després els apila per tornar un tensor de forma `(batch_size, T, vocab_size)`."
   ]
  },
  {
   "cell_type": "markdown",
   "metadata": {
    "id": "6gihqPElVfLM"
   },
   "source": [
    "<div style=\"background-color: #EDF7FF; border-color: #7C9DBF; border-left: 5px solid #7C9DBF; padding: 0.5em;\">\n",
    "<p><strong>Exercici [0.25 pts.]:</strong> Afegeix la capa final de la sortida a la classe amb què estem treballant:</p>\n",
    "</div>"
   ]
  },
  {
   "cell_type": "markdown",
   "metadata": {
    "id": "H5zwkMN6VfLM"
   },
   "source": [
    "Implementa el mètode `output_layer(self, rnn_outputs)` dins de la classe `RNNLMScratch`, que ha de fer el següent:\n",
    "\n",
    "1. Rep una llista de tensors `rnn_outputs`, que són els estats ocults generats per la RNN a cada pas de la seqüència. Cadascun d'aquests tensors té forma `(batch_size, num_hiddens)`.\n",
    "2. Per a cada estat ocult `H`, aplica una capa lineal:\n",
    "\n",
    " $\\text{output} = H \\cdot W_{hq} + b_q$\n",
    "\n",
    " On:\n",
    " - `W_hq` és una matriu de pesos de forma `(num_hiddens, vocab_size)`\n",
    " - `b_q` és un vector de biaix de forma `(vocab_size,)`\n",
    "3. Retorna un únic tensor de forma `(batch_size, T, vocab_size)`, on `T` és la longitud de la seqüència.\n",
    "\n",
    "**Pista**: podeu utilitzar `tf.stack` per convertir la llista de prediccions per pas en un únic tensor."
   ]
  },
  {
   "cell_type": "code",
   "execution_count": 8,
   "metadata": {
    "execution": {
     "iopub.execute_input": "2025-04-20T08:39:10.599341Z",
     "iopub.status.busy": "2025-04-20T08:39:10.599149Z",
     "iopub.status.idle": "2025-04-20T08:39:10.613366Z",
     "shell.execute_reply": "2025-04-20T08:39:10.612723Z",
     "shell.execute_reply.started": "2025-04-20T08:39:10.599325Z"
    },
    "id": "hlESFZ_htcFO"
   },
   "outputs": [],
   "source": [
    "# Completa l'exercici\n",
    "class RNNLMScratch(tf.Module):\n",
    "    def __init__(self, rnn, vocab_size, lr=0.01):\n",
    "        super().__init__()\n",
    "        self.rnn = rnn\n",
    "        self.vocab_size = vocab_size\n",
    "        self.lr = lr\n",
    "        self.init_params()\n",
    "\n",
    "    def init_params(self):\n",
    "        self.W_hq = tf.Variable(tf.random.normal(\n",
    "            (self.rnn.num_hiddens, self.vocab_size)) * self.rnn.sigma)\n",
    "        self.b_q = tf.Variable(tf.zeros(self.vocab_size))\n",
    "\n",
    "    # Afegim la funció one-hot\n",
    "    def one_hot(self, X):\n",
    "        return tf.one_hot(tf.transpose(X), self.vocab_size)\n",
    "\n",
    "    def output_layer(self, rnn_outputs):\n",
    "        outputs = [tf.matmul(H, self.W_hq) + self.b_q for H in rnn_outputs]\n",
    "        return tf.stack(outputs, axis=1)"
   ]
  },
  {
   "cell_type": "markdown",
   "metadata": {
    "id": "kLvzyqjpVfLM"
   },
   "source": [
    "## Exercici 1.2.3: Entrenament del Model de Llenguatge\n",
    "\n",
    "**Unirem totes les peces** per construir un **model de llenguatge entrenable des de zero**.\n",
    "Primer copia els següents mètodes per completar la classe `RNNLMScratch` amb els següents mètodes:\n",
    " - `forward`: executa una passada completa pel model (one-hot → RNN → capa de sortida).\n",
    " - `loss`: calcula la pèrdua cross-entropy entre la predicció i la seqüència esperada.\n",
    " - `train_step`: realitza una actualització de paràmetres usant `GradientTape`.\n",
    "\n",
    "```python\n",
    "def forward(self, X, state=None):\n",
    "    X = self.one_hot(X)  # Convertim a one-hot: (T, batch_size, vocab_size)\n",
    "    rnn_outputs, state = self.rnn.forward(X, state)\n",
    "    logits = self.output_layer(rnn_outputs)  # (batch_size, T, vocab_size)\n",
    "    return logits, state\n",
    "\n",
    "def loss(self, logits, labels):\n",
    "    loss = tf.nn.sparse_softmax_cross_entropy_with_logits(labels=labels, logits=logits)\n",
    "    return tf.reduce_mean(loss)\n",
    "\n",
    "def train_step(self, X, y, state=None):\n",
    "    with tf.GradientTape() as tape:\n",
    "        logits, state = self.forward(X, state)\n",
    "        l = self.loss(logits, y)\n",
    "\n",
    "    params = [self.W_hq, self.b_q, self.rnn.W_xh, self.rnn.W_hh, self.rnn.b_h]\n",
    "    grads = tape.gradient(l, params)\n",
    "\n",
    "    for p, g in zip(params, grads):\n",
    "        p.assign_sub(self.lr * g)\n",
    "\n",
    "    return l, state\n",
    "```\n",
    "\n",
    "Validarem que tot el teu model funciona correctament, **creant dades fictícies**. Farem servir nombres enters aleatoris com si fossin IDs de paraules d'un vocabulari."
   ]
  },
  {
   "cell_type": "code",
   "execution_count": 9,
   "metadata": {
    "execution": {
     "iopub.execute_input": "2025-04-20T08:39:10.614481Z",
     "iopub.status.busy": "2025-04-20T08:39:10.614202Z",
     "iopub.status.idle": "2025-04-20T08:39:10.626224Z",
     "shell.execute_reply": "2025-04-20T08:39:10.625612Z",
     "shell.execute_reply.started": "2025-04-20T08:39:10.614460Z"
    }
   },
   "outputs": [],
   "source": [
    "class RNNLMScratch(tf.Module):\n",
    "    def __init__(self, rnn, vocab_size, lr=0.01):\n",
    "        super().__init__()\n",
    "        self.rnn = rnn\n",
    "        self.vocab_size = vocab_size\n",
    "        self.lr = lr\n",
    "        self.init_params()\n",
    "\n",
    "    def init_params(self):\n",
    "        self.W_hq = tf.Variable(tf.random.normal(\n",
    "            (self.rnn.num_hiddens, self.vocab_size)) * self.rnn.sigma)\n",
    "        self.b_q = tf.Variable(tf.zeros(self.vocab_size))\n",
    "\n",
    "    # Afegim la funció one-hot\n",
    "    def one_hot(self, X):\n",
    "        return tf.one_hot(tf.transpose(X), self.vocab_size)\n",
    "\n",
    "    def output_layer(self, rnn_outputs):\n",
    "        outputs = [tf.matmul(H, self.W_hq) + self.b_q for H in rnn_outputs]\n",
    "        return tf.stack(outputs, axis=1)\n",
    "\n",
    "    def forward(self, X, state=None):\n",
    "        X = self.one_hot(X)  # Convertim a one-hot: (T, batch_size, vocab_size)\n",
    "        rnn_outputs, state = self.rnn.forward(X, state)\n",
    "        logits = self.output_layer(rnn_outputs)  # (batch_size, T, vocab_size)\n",
    "        return logits, state\n",
    "    \n",
    "    def loss(self, logits, labels):\n",
    "        loss = tf.nn.sparse_softmax_cross_entropy_with_logits(labels=labels, logits=logits)\n",
    "        return tf.reduce_mean(loss)\n",
    "    \n",
    "    def train_step(self, X, y, state=None):\n",
    "        with tf.GradientTape() as tape:\n",
    "            logits, state = self.forward(X, state)\n",
    "            l = self.loss(logits, y)\n",
    "    \n",
    "        params = [self.W_hq, self.b_q, self.rnn.W_xh, self.rnn.W_hh, self.rnn.b_h]\n",
    "        grads = tape.gradient(l, params)\n",
    "    \n",
    "        for p, g in zip(params, grads):\n",
    "            p.assign_sub(self.lr * g)\n",
    "    \n",
    "        return l, state"
   ]
  },
  {
   "cell_type": "markdown",
   "metadata": {
    "id": "jAUeKtrAwhTO"
   },
   "source": [
    "<div style=\"background-color: #EDF7FF; border-color: #7C9DBF; border-left: 5px solid #7C9DBF; padding: 0.5em;\">\n",
    "<p><strong>Exercici [0.25 pts.]: </strong> Heu d'instanciar el model de RNN i el de RNNLMScratch. Posteriorment inicialitza de manera aleatòria els conjunt de dades X_train i y_train amb una mida de vocabulari `vocab_size`. Finalment, entrena el model amb el codi que t'hem proporcionat. </p>\n",
    "</div>"
   ]
  },
  {
   "cell_type": "code",
   "execution_count": 10,
   "metadata": {
    "execution": {
     "iopub.execute_input": "2025-04-20T08:39:10.627054Z",
     "iopub.status.busy": "2025-04-20T08:39:10.626856Z",
     "iopub.status.idle": "2025-04-20T08:39:12.096158Z",
     "shell.execute_reply": "2025-04-20T08:39:12.095503Z",
     "shell.execute_reply.started": "2025-04-20T08:39:10.627031Z"
    },
    "id": "ZeYMUCQSu8L6"
   },
   "outputs": [
    {
     "name": "stdout",
     "output_type": "stream",
     "text": [
      "Epoch 10, Loss: 2.2900\n",
      "Epoch 20, Loss: 2.2763\n",
      "Epoch 30, Loss: 2.2629\n",
      "Epoch 40, Loss: 2.2497\n",
      "Epoch 50, Loss: 2.2368\n",
      "Epoch 60, Loss: 2.2242\n",
      "Epoch 70, Loss: 2.2119\n",
      "Epoch 80, Loss: 2.1998\n",
      "Epoch 90, Loss: 2.1879\n",
      "Epoch 100, Loss: 2.1763\n"
     ]
    }
   ],
   "source": [
    "# Completa l'exercici\n",
    "\n",
    "# Paràmetres per generar dades simulades\n",
    "vocab_size = 10       # Nombre de paraules en el vocabulari\n",
    "num_hiddens = 32      # Mida de l'estat ocult\n",
    "num_steps = 5         # Longitud de les seqüències\n",
    "batch_size = 2        # Nombre d'exemples en paral·lel\n",
    "\n",
    "# Instanciem el model base i el model de llenguatge\n",
    "rnn = RNNScratch(num_inputs=vocab_size, num_hiddens=num_hiddens, sigma=0.01)\n",
    "model = RNNLMScratch(rnn=rnn, vocab_size=vocab_size, lr=0.01)\n",
    "\n",
    "# Creem dades aleatòries que simulen seqüències de paraules\n",
    "X_train = tf.random.uniform(\n",
    "    shape=(num_steps, batch_size),\n",
    "    minval=0, maxval=vocab_size, dtype=tf.int32\n",
    ")\n",
    "    \n",
    "y_train =  tf.random.uniform(\n",
    "    shape=(num_steps, batch_size),\n",
    "    minval=0, maxval=vocab_size, dtype=tf.int32\n",
    ")\n",
    "\n",
    "# Entrenament simple durant 100 èpoques\n",
    "num_epochs = 100\n",
    "state = None\n",
    "for epoch in range(num_epochs):\n",
    "    loss, state = model.train_step(X_train, y_train, state)\n",
    "    if (epoch + 1) % 10 == 0:\n",
    "        print(f'Epoch {epoch+1}, Loss: {loss.numpy():.4f}')\n",
    "\n"
   ]
  },
  {
   "cell_type": "markdown",
   "metadata": {
    "id": "73aPaMZkVfLM"
   },
   "source": [
    "# 2. Implementació d'una GRU des de Zero"
   ]
  },
  {
   "cell_type": "markdown",
   "metadata": {
    "id": "rhSENxlcVfLM"
   },
   "source": [
    "Un cop comprès com funciona una RNN simple, és el moment d'anar un pas més enllà i construir una **GRU (Gated Recurrent Unit)**. Aquesta arquitectura introdueix mecanismes de control més sofisticats que milloren el flux d'informació i mitiguen el problema de l'esvaïment del gradient.\n"
   ]
  },
  {
   "cell_type": "markdown",
   "metadata": {
    "id": "ssSaeZJl63OH"
   },
   "source": [
    "\n",
    "## 2.1. Crea una classe `GRUScratch`:\n",
    "- Hereta de `tf.Module` per organitzar els paràmetres i facilitar el seguiment amb TensorFlow.\n",
    "- Al constructor defineix els atributs següents:\n",
    " - `num_inputs`: Dimensió dels vectors dʻentrada.\n",
    " - `num_hiddens`: Dimensió de l'estat ocult (`H`).\n",
    " - `sigma`: escala per inicialitzar els pesos amb una distribució normal.\n",
    "\n",
    "\n",
    "### **1. Defineix els pesos i biaixos necessaris per a les portes de la GRU:**\n",
    "\n",
    "Una GRU utilitza tres components principals:\n",
    "- **Porta de reinici (`r`)**: decideix quant de l'estat anterior s'ha d'oblidar.\n",
    "- **Porta d'actualització (`z`)**: decideix quant del nou estat candidat s'hi incorpora.\n",
    "- **Estat candidat (`h̃_t`)**: nova informació calculada que pot reemplaçar l'estat anterior.\n",
    "\n",
    "Cada component té els seus propis pesos:\n",
    "\n",
    "#### **Pesos per a les entrades `x_t`**:\n",
    "- `W_xr`: per a la porta de reinici → forma `(num_inputs, num_hiddens)`\n",
    "- `W_xz`: per a la porta d'actualització → forma `(num_inputs, num_hiddens)`\n",
    "- `W_xh`: per a l'estat candidat → forma `(num_inputs, num_hiddens)`\n",
    "\n",
    "#### **Pesos per als estats anteriors `h_{t-1}`**:\n",
    "- `W_hr`: recurrent de la porta de reinici → forma `(num_hiddens, num_hiddens)`\n",
    "- `W_hz`: recurrent de la porta d'actualització → forma `(num_hiddens, num_hiddens)`\n",
    "- `W_hh`: recurrent de l'estat candidat → forma `(num_hiddens, num_hiddens)`\n",
    "\n",
    "#### **biaixos (bias)**:\n",
    "- `b_r`, `b_z`, `b_h`: un per cada component, de forma `(num_hiddens,)`\n",
    "\n",
    "Tots aquests pesos han de ser inicialitzats:\n",
    "- Els pesos amb una distribució normal escalada per `sigma`.\n",
    "- Els biaixos amb zeros.\n",
    "\n",
    "\n",
    "### **2. Implementa el mètode `forward`:**\n",
    "- Aquest mètode rep:\n",
    " - `inputs`: Tensor de forma `(T, batch_size, num_inputs)` (seqüència temporal).\n",
    " - `state`: Estat ocult inicial. Si no es proporciona, s'inicialitza amb zeros.\n",
    "\n",
    "#### **Lògica del pas temporal**:\n",
    "Per a cada pas de temps `t`, amb entrada `X_t` i estat ocult `h_{t-1}`:\n",
    "\n",
    "1. **Calcula la porta de reinici (`r`)**:\n",
    " $\n",
    " r_t = \\sigma(X_t W_{xr} + h_{t-1} W_{hr} + b_r)\n",
    " $\n",
    "\n",
    "2. **Calcula la porta d'actualització (`z`)**:\n",
    " $\n",
    " z_t = \\sigma(X_t W_{xz} + h_{t-1} W_{hz} + b_z)\n",
    " $\n",
    "\n",
    "3. **Calcula l'estat candidat**:\n",
    " $\n",
    " \\tilde{h}_t = \\tanh(X_t W_{xh} + (r_t \\odot h_{t-1}) W_{hh} + b_h)\n",
    " $\n",
    "\n",
    "4. **Actualitza l'estat ocult**:\n",
    " $\n",
    " h_t = z_t \\odot h_{t-1} + (1 - z_t) \\odot \\tilde{h}_t\n",
    " $\n",
    "\n",
    "5. **Afegeix `h_t` a la llista de sortides `outputs`**.\n",
    "\n",
    "- Al final, retorna `outputs` (una llista amb els estats ocults de cada pas) i el darrer estat `h_T`.\n",
    "\n",
    "---\n",
    "\n",
    "### Pistes:\n",
    "- **Ús de `tf.sigmoid` i `tf.tanh`**: essencials per a les portes i l'estat candidat.\n",
    "- **Producte element a element (`*`)**: és l'operador que representa la multiplicació Hadamard (també coneguda com a `\\odot`).\n",
    "- **Inicialització de l'estat**: si no es rep un `state`, inicialitza'l com a `tf.zeros((batch_size, num_hiddens))`.\n",
    "- **Estructura final del codi**: semblant a una RNN, però amb més passos per iteració."
   ]
  },
  {
   "cell_type": "markdown",
   "metadata": {
    "id": "JDB0u_mXzMZO"
   },
   "source": [
    "<div style=\"background-color: #EDF7FF; border-color: #7C9DBF; border-left: 5px solid #7C9DBF; padding: 0.5em;\">\n",
    "<p><strong>Exercici [1 pts.]:</strong> Implementa la classe GRUScratch:</p>\n",
    "</div>"
   ]
  },
  {
   "cell_type": "code",
   "execution_count": 11,
   "metadata": {
    "execution": {
     "iopub.execute_input": "2025-04-20T08:39:12.097161Z",
     "iopub.status.busy": "2025-04-20T08:39:12.096929Z",
     "iopub.status.idle": "2025-04-20T08:39:12.107477Z",
     "shell.execute_reply": "2025-04-20T08:39:12.106708Z",
     "shell.execute_reply.started": "2025-04-20T08:39:12.097143Z"
    },
    "id": "lPA7huIYywlt"
   },
   "outputs": [],
   "source": [
    "# Completa l'exercici\n",
    "\n",
    "class GRUScratch():\n",
    "    def __init__(self, num_inputs, num_hiddens, sigma=0.01):\n",
    "        super().__init__()\n",
    "        self.num_inputs  = num_inputs\n",
    "        self.num_hiddens = num_hiddens\n",
    "        self.sigma = sigma\n",
    "\n",
    "        # entrades x_t\n",
    "        self.W_xr = tf.Variable(\n",
    "            tf.random.normal((num_inputs,  num_hiddens), stddev=sigma),\n",
    "            name=\"W_xr\"\n",
    "        )\n",
    "        self.W_xz = tf.Variable(\n",
    "            tf.random.normal((num_inputs,  num_hiddens), stddev=sigma),\n",
    "            name=\"W_xz\"\n",
    "        )\n",
    "        self.W_xh = tf.Variable(\n",
    "            tf.random.normal((num_inputs,  num_hiddens), stddev=sigma),\n",
    "            name=\"W_xh\"\n",
    "        )\n",
    "\n",
    "\n",
    "        # h_{t-1}\n",
    "        self.W_hr = tf.Variable(\n",
    "            tf.random.normal((num_hiddens, num_hiddens), stddev=sigma),\n",
    "            name=\"W_hr\"\n",
    "        )\n",
    "        self.W_hz = tf.Variable(\n",
    "            tf.random.normal((num_hiddens, num_hiddens), stddev=sigma),\n",
    "            name=\"W_hz\"\n",
    "        )\n",
    "        self.W_hh = tf.Variable(\n",
    "            tf.random.normal((num_hiddens, num_hiddens), stddev=sigma),\n",
    "            name=\"W_hh\"\n",
    "        )\n",
    "\n",
    "        self.b_r = tf.Variable(tf.zeros((num_hiddens,)), name=\"b_r\")\n",
    "        self.b_z = tf.Variable(tf.zeros((num_hiddens,)), name=\"b_z\")\n",
    "        self.b_h = tf.Variable(tf.zeros((num_hiddens,)), name=\"b_h\")\n",
    "        \n",
    "    def forward(self, inputs, state=None):\n",
    "        T = tf.shape(inputs)[0]\n",
    "        batch_size = tf.shape(inputs)[1]\n",
    "\n",
    "        if state is None:\n",
    "            state = tf.zeros((batch_size, self.num_hiddens))\n",
    "\n",
    "        outputs = []\n",
    "        h_prev = state\n",
    "\n",
    "        for t in range(T):\n",
    "            X_t = inputs[t]\n",
    "\n",
    "            # porta reinici\n",
    "            r_t = tf.sigmoid(\n",
    "                tf.matmul(X_t, self.W_xr) +\n",
    "                tf.matmul(h_prev, self.W_hr) +\n",
    "                self.b_r\n",
    "            )\n",
    "\n",
    "            # porta actualització\n",
    "            z_t = tf.sigmoid(\n",
    "                tf.matmul(X_t, self.W_xz) +\n",
    "                tf.matmul(h_prev, self.W_hz) +\n",
    "                self.b_z\n",
    "            )\n",
    "\n",
    "            # estat candidat\n",
    "            h_tilde = tf.tanh(\n",
    "                tf.matmul(X_t, self.W_xh) +\n",
    "                tf.matmul(r_t * h_prev, self.W_hh) +\n",
    "                self.b_h\n",
    "            )\n",
    "\n",
    "            # estat ocult\n",
    "            h_t = z_t * h_prev + (1 - z_t) * h_tilde\n",
    "\n",
    "            outputs.append(h_t)\n",
    "            h_prev = h_t\n",
    "\n",
    "        return outputs, h_prev"
   ]
  },
  {
   "cell_type": "markdown",
   "metadata": {
    "id": "dQWrF5MbVfLN"
   },
   "source": [
    "**Verificació del funcionament:**"
   ]
  },
  {
   "cell_type": "code",
   "execution_count": 12,
   "metadata": {
    "colab": {
     "base_uri": "https://localhost:8080/"
    },
    "execution": {
     "iopub.execute_input": "2025-04-20T08:39:12.109071Z",
     "iopub.status.busy": "2025-04-20T08:39:12.108225Z",
     "iopub.status.idle": "2025-04-20T08:39:12.703854Z",
     "shell.execute_reply": "2025-04-20T08:39:12.703172Z",
     "shell.execute_reply.started": "2025-04-20T08:39:12.109053Z"
    },
    "id": "H4gchualVfLN",
    "outputId": "4906d739-ef32-46a6-c777-ca97869fdb33"
   },
   "outputs": [
    {
     "name": "stdout",
     "output_type": "stream",
     "text": [
      "5 (3, 20)\n"
     ]
    }
   ],
   "source": [
    "batch_size, num_inputs, num_hiddens, num_steps = 3, 10, 20, 5\n",
    "gru = GRUScratch(num_inputs, num_hiddens)\n",
    "X = tf.random.uniform((num_steps, batch_size, num_inputs))\n",
    "outputs, state = gru.forward(X)\n",
    "print(len(outputs), outputs[0].shape) # Hauria de mostrar (5, (3,20))"
   ]
  },
  {
   "cell_type": "markdown",
   "metadata": {
    "id": "iwQLEJhh0Ney"
   },
   "source": [
    "# 2.2. GRULMScratch\n",
    "\n",
    "Ara hem de crear la classe `GRULMScratch`. Aquesta classe implementarà un **model de llenguatge** que utilitza com a nucli una GRU construïda des de zero (`GRUScratch`).\n",
    "\n",
    "\n",
    "- Hereta de `tf.Module` per facilitar l'organització de paràmetres.\n",
    "- El constructor (`__init__`) ha de rebre:\n",
    " - Una instància de `GRUScratch`\n",
    " - La mida del vocabulari (`vocab_size`)\n",
    " - La taxa d'aprenentatge (`lr`)\n",
    "\n",
    "### **1. Defineix la capa de sortida del model**\n",
    "Dins un mètode `init_params`, crea els pesos que projecten l'estat ocult cap a l'espai del vocabulari (igual que vas fer amb la RNN):\n",
    "\n",
    "- `W_hq`: pesos de forma `(num_hiddens, vocab_size)`, inicialitzats amb normal(`sigma`)\n",
    "- `b_q`: biaix de forma `(vocab_size,)`, inicialitzat a zeros\n",
    "\n",
    "Aquests paràmetres permeten convertir l'estat ocult en una **distribució de probabilitat sobre el vocabulari**.\n",
    "\n",
    "### **2. Afegeix la funció `one_hot(X)`**\n",
    "Aquesta funció converteix les seqüències de nombres enters en vectors one-hot. Recordeu fer un `tf.transpose(X)` perquè la forma sigui `(T, batch_size)` abans d'aplicar `tf.one_hot`.\n",
    "\n",
    "### **3. Implementa `output_layer(rnn_outputs)`**\n",
    "Aquest mètode rep una llista d'estats ocults de la GRU, i per a cadascú aplica:\n",
    "\n",
    "$\n",
    "\\text{logits}_t = h_t \\cdot W_{hq} + b_q\n",
    "$\n",
    "\n",
    "Finalment, apila els logits amb `tf.stack` per obtenir una sortida de forma `(batch_size, T, vocab_size)`.\n",
    "\n",
    "\n",
    "### **4. Enganxa les funcions següents proporcionades dins de la classe**\n",
    "\n",
    "```python\n",
    " def forward(self, X, state=None):\n",
    "        X = self.one_hot(X)                          # (T, batch_size, vocab_size)\n",
    "        rnn_outputs, state = self.gru.forward(X, state)\n",
    "        logits = self.output_layer(rnn_outputs)      # (batch_size, T, vocab_size)\n",
    "        return logits, state\n",
    "\n",
    "    def loss(self, logits, labels):\n",
    "        # logits: (batch_size, T, vocab_size), labels: (batch_size, T)\n",
    "        loss = tf.nn.sparse_softmax_cross_entropy_with_logits(\n",
    "            labels=labels, logits=logits\n",
    "        )\n",
    "        return tf.reduce_mean(loss)\n",
    "\n",
    "    def train_step(self, X, y, state=None):\n",
    "        with tf.GradientTape() as tape:\n",
    "            logits, state = self.forward(X, state)\n",
    "            l = self.loss(logits, y)\n",
    "\n",
    "        # Gradients de tots els paràmetres\n",
    "        params = [\n",
    "            self.W_hq, self.b_q,\n",
    "            self.gru.W_xr, self.gru.W_xz, self.gru.W_xh,\n",
    "            self.gru.W_hr, self.gru.W_hz, self.gru.W_hh,\n",
    "            self.gru.b_r, self.gru.b_z, self.gru.b_h\n",
    "        ]\n",
    "        grads = tape.gradient(l, params)\n",
    "\n",
    "        # Actualitzem manualment els paràmetres\n",
    "        for p, g in zip(params, grads):\n",
    "            p.assign_sub(self.lr * g)\n",
    "\n",
    "        return l, state\n",
    "```\n"
   ]
  },
  {
   "cell_type": "markdown",
   "metadata": {
    "id": "VuP4If6Q2tGG"
   },
   "source": [
    "<div style=\"background-color: #EDF7FF; border-color: #7C9DBF; border-left: 5px solid #7C9DBF; padding: 0.5em;\">\n",
    "<p><strong>Exercici [0.5 pts.]:</strong> Implementa la classe GRULMScratch:</p>\n",
    "</div>"
   ]
  },
  {
   "cell_type": "code",
   "execution_count": 13,
   "metadata": {
    "execution": {
     "iopub.execute_input": "2025-04-20T08:39:12.704815Z",
     "iopub.status.busy": "2025-04-20T08:39:12.704572Z",
     "iopub.status.idle": "2025-04-20T08:39:12.712885Z",
     "shell.execute_reply": "2025-04-20T08:39:12.712193Z",
     "shell.execute_reply.started": "2025-04-20T08:39:12.704799Z"
    },
    "id": "nVfNo0hr2EdG"
   },
   "outputs": [],
   "source": [
    "# Completa l'exercici\n",
    "\n",
    "class GRULMScratch(tf.Module):\n",
    "    def __init__(self):\n",
    "        super().__init__()\n",
    "        self.gru = gru\n",
    "        self.vocab_size = vocab_size\n",
    "        self.lr = lr\n",
    "        self.init_params()        \n",
    "\n",
    "    def init_params(self):\n",
    "        self.W_hq = tf.Variable(\n",
    "            tf.random.normal((self.gru.num_hiddens, self.vocab_size), stddev=self.gru.sigma),\n",
    "            name=\"W_hq\"\n",
    "        )\n",
    "        self.b_q = tf.Variable(tf.zeros((self.vocab_size,)), name=\"b_q\")\n",
    "\n",
    "    def one_hot(self):\n",
    "        return tf.one_hot(tf.transpose(X), self.vocab_size)\n",
    "\n",
    "    def output_layer(self):\n",
    "        logits = [tf.matmul(H, self.W_hq) + self.b_q for H in rnn_outputs]\n",
    "        return tf.stack(logits, axis=1)  # (batch_size, T, vocab_size)\n",
    "\n",
    "    def forward(self, X, state=None):\n",
    "            X = self.one_hot(X)                          # (T, batch_size, vocab_size)\n",
    "            rnn_outputs, state = self.gru.forward(X, state)\n",
    "            logits = self.output_layer(rnn_outputs)      # (batch_size, T, vocab_size)\n",
    "            return logits, state\n",
    "    \n",
    "    def loss(self, logits, labels):\n",
    "        # logits: (batch_size, T, vocab_size), labels: (batch_size, T)\n",
    "        loss = tf.nn.sparse_softmax_cross_entropy_with_logits(\n",
    "            labels=labels, logits=logits\n",
    "        )\n",
    "        return tf.reduce_mean(loss)\n",
    "\n",
    "    def train_step(self, X, y, state=None):\n",
    "        with tf.GradientTape() as tape:\n",
    "            logits, state = self.forward(X, state)\n",
    "            l = self.loss(logits, y)\n",
    "\n",
    "        # Gradients de tots els paràmetres\n",
    "        params = [\n",
    "            self.W_hq, self.b_q,\n",
    "            self.gru.W_xr, self.gru.W_xz, self.gru.W_xh,\n",
    "            self.gru.W_hr, self.gru.W_hz, self.gru.W_hh,\n",
    "            self.gru.b_r, self.gru.b_z, self.gru.b_h\n",
    "        ]\n",
    "        grads = tape.gradient(l, params)\n",
    "\n",
    "        # Actualitzem manualment els paràmetres\n",
    "        for p, g in zip(params, grads):\n",
    "            p.assign_sub(self.lr * g)\n",
    "\n",
    "        return l, state"
   ]
  },
  {
   "cell_type": "markdown",
   "metadata": {
    "id": "a8kpqAUG3BI1"
   },
   "source": [
    "# 2.3. Entrena un autocompletador de text amb una GRU\n",
    "\n",
    "En aquest exercici final **entrenarem el nostre model de llenguatge GRU des de zero** usant un vocabulari molt petit:\n",
    "**`[\"hola\", \"món\", \"bon\", \"dia\"]`**.\n",
    "\n",
    "### Què farem?\n",
    "\n",
    "1. **Definir el vocabulari** i convertir cada paraula al seu índex numèric.\n",
    "2. **Crear seqüències d'entrenament** simulant frases reals.\n",
    "3. **Entrenar el model GRU** perquè aprengui a predir la paraula següent en una seqüència.\n",
    "4. **Provar l'autocompletador**, escrivint una paraula inicial (com ara “hola”) i deixant que el model generi la resta.\n"
   ]
  },
  {
   "cell_type": "markdown",
   "metadata": {
    "id": "cFlvutdi4zdR"
   },
   "source": [
    "<div style=\"background-color: #EDF7FF; border-color: #7C9DBF; border-left: 5px solid #7C9DBF; padding: 0.5em;\">\n",
    "  <p><strong>Exercici [0.5 pts.]:</strong> Executa el codi següent i respon breument a les preguntes següents:</p>\n",
    "  \n",
    "  <ol>\n",
    "    <li><strong>Què fa la funció <code>one_hot</code> dins del model?</strong></li>\n",
    " <li><strong>Què representa el <code>state</code> a les GRU i per què el reutilitzem entre prediccions?</strong></li>\n",
    " <li><strong>Per què fem servir <code>sparse_softmax_cross_entropy_with_logits</code> en comptes de <code>MSE</code>?</strong></li>\n",
    " <li><strong>Quin problema tindria el model si entrenem amb seqüències aleatòries sense sentit?</strong></li>\n",
    " <li><strong>Què fa la capa de sortida del model (<code>W_hq</code>, <code>b_q</code>)?</strong></li>\n",
    " <li><strong>Què passaria si canviem el vocabulari després de l'entrenament?</strong></li>\n",
    " <li><strong>Què passa si no reutilitzem l'estat <code>state</code> entre prediccions consecutives?</strong></li>\n",
    "  </ol>\n",
    "</div>\n"
   ]
  },
  {
   "cell_type": "code",
   "execution_count": 14,
   "metadata": {
    "execution": {
     "iopub.execute_input": "2025-04-20T08:39:12.713778Z",
     "iopub.status.busy": "2025-04-20T08:39:12.713537Z",
     "iopub.status.idle": "2025-04-20T08:39:12.731970Z",
     "shell.execute_reply": "2025-04-20T08:39:12.731309Z",
     "shell.execute_reply.started": "2025-04-20T08:39:12.713760Z"
    },
    "id": "qWjSt0hv0NMh"
   },
   "outputs": [],
   "source": [
    "# Vocabulari toy\n",
    "vocab = [\"hola\", \"món\", \"bon\", \"dia\"]\n",
    "token2idx = {word: i for i, word in enumerate(vocab)}\n",
    "idx2token = {i: word for word, i in token2idx.items()}\n",
    "vocab_size = len(vocab)\n",
    "\n",
    "def predict_next_token(model, prefix_tokens, state=None):\n",
    "    \"\"\"\n",
    "    Rep una seqüència de tokens (paraules), i prediu la següent paraula.\n",
    "    \"\"\"\n",
    "    # Convertim paraules a índexs\n",
    "    idx_seq = [token2idx.get(tok, 0) for tok in prefix_tokens]  # (ex. [\"hola\"] → [0])\n",
    "    input_tensor = tf.convert_to_tensor([idx_seq], dtype=tf.int32)  # (1, T)\n",
    "\n",
    "    # Fem una passada cap endavant\n",
    "    logits, state = model.forward(input_tensor, state)\n",
    "\n",
    "    # Agafem l'últim pas temporal\n",
    "    last_logits = logits[:, -1, :]  # (batch_size, vocab_size)\n",
    "    predicted_idx = tf.argmax(last_logits, axis=-1).numpy()[0]  # índex més probable\n",
    "\n",
    "    return idx2token[predicted_idx], state\n"
   ]
  },
  {
   "cell_type": "code",
   "execution_count": 15,
   "metadata": {
    "execution": {
     "iopub.execute_input": "2025-04-20T08:39:12.732804Z",
     "iopub.status.busy": "2025-04-20T08:39:12.732620Z",
     "iopub.status.idle": "2025-04-20T08:39:29.445544Z",
     "shell.execute_reply": "2025-04-20T08:39:29.444835Z",
     "shell.execute_reply.started": "2025-04-20T08:39:12.732790Z"
    },
    "id": "o9oufcvM1kNc"
   },
   "outputs": [
    {
     "name": "stdout",
     "output_type": "stream",
     "text": [
      "Epoch 50, Loss: 2.2169\n",
      "Epoch 100, Loss: 2.1470\n",
      "Epoch 150, Loss: 2.0840\n",
      "Epoch 200, Loss: 2.0274\n",
      "Epoch 250, Loss: 1.9764\n",
      "Epoch 300, Loss: 1.9303\n",
      "Epoch 350, Loss: 1.8884\n",
      "Epoch 400, Loss: 1.8502\n",
      "Epoch 450, Loss: 1.8151\n",
      "Epoch 500, Loss: 1.7825\n",
      "Epoch 550, Loss: 1.7519\n",
      "Epoch 600, Loss: 1.7228\n",
      "Epoch 650, Loss: 1.6948\n",
      "Epoch 700, Loss: 1.6673\n",
      "Epoch 750, Loss: 1.6399\n",
      "Epoch 800, Loss: 1.6121\n",
      "Epoch 850, Loss: 1.5833\n",
      "Epoch 900, Loss: 1.5530\n",
      "Epoch 950, Loss: 1.5204\n",
      "Epoch 1000, Loss: 1.4851\n",
      "Frase generada: hola món món món món món\n"
     ]
    }
   ],
   "source": [
    "# Dataset d'entrenament (tokens com índexs)\n",
    "train_sentences = [\n",
    "    [\"hola\", \"món\", \"bon\", \"dia\"],\n",
    "    [\"bon\", \"dia\", \"hola\", \"món\"],\n",
    "    [\"hola\", \"bon\", \"dia\", \"món\"],\n",
    "    [\"dia\", \"hola\", \"món\", \"bon\"]\n",
    "]\n",
    "\n",
    "# Convertim a índexs\n",
    "X_train = []\n",
    "y_train = []\n",
    "for seq in train_sentences:\n",
    "    idx_seq = [token2idx[word] for word in seq]\n",
    "    X_train.append(idx_seq[:-1])  # input\n",
    "    y_train.append(idx_seq[1:])   # target\n",
    "\n",
    "X_train = tf.convert_to_tensor(X_train, dtype=tf.int32)  # (batch_size, T)\n",
    "y_train = tf.convert_to_tensor(y_train, dtype=tf.int32)\n",
    "\n",
    "# Hiperparàmetres\n",
    "num_epochs = 1000\n",
    "state = None\n",
    "\n",
    "for epoch in range(num_epochs):\n",
    "    loss, state = model.train_step(X_train, y_train, state)\n",
    "    if (epoch + 1) % 50 == 0:\n",
    "        print(f\"Epoch {epoch+1}, Loss: {loss.numpy():.4f}\")\n",
    "\n",
    "input_words = [\"hola\"]\n",
    "state = None\n",
    "\n",
    "for _ in range(5):\n",
    "    next_word, state = predict_next_token(model, input_words, state)\n",
    "    input_words.append(next_word)\n",
    "\n",
    "print(\"Frase generada:\", \" \".join(input_words))\n"
   ]
  },
  {
   "cell_type": "markdown",
   "metadata": {},
   "source": [
    "**Resposta:**\n",
    "- **Què fa la funció one_hot dins del model?** Transforma cada índex de paraula en un vector binari de longitud vocab_size amb un 1 a la posició que toqui. És un tensor (batch_size, vocab_size) preparat per a la GRU.\n",
    "  \n",
    "- **Què representa el state a les GRU i per què el reutilitzem entre prediccions?** És l'estat ocult que acumula informació de tots els passos previs. El reutilitzem per mantenir el context de la seqüència i mantindre la coherència.\n",
    "- **Per què fem servir sparse_softmax_cross_entropy_with_logits en comptes de MSE?** És una funció de pèrdua per a la classificació multiclasse amb índex. S'optimitza directament la probabilitat del token correcte. MSE no s'ajusta bé a distribucions categòriques.\n",
    "- **Quin problema tindria el model si entrenem amb seqüències aleatòries sense sentit?** No hi hauria patrons repetibles, fent que el model no pugui aprendre cap relació entre tokens.\n",
    "- **Què fa la capa de sortida del model (W_hq, b_q)?** Projecta l'estat ocult (batch_size, num_hiddens) en un vector de logits (batch_size, vocab_size), on cada component és la puntuació no normalitzada d'un possible següent token.\n",
    "- **Què passaria si canviem el vocabulari després de l'entrenament?** Al estar els pesos alineats amb els índex fixos, al canviar-ho, la associació índex-paraula ja no coincidiria amb les paraules reals.\n",
    "- **Què passa si no reutilitzem l'estat state entre prediccions consecutives?** Reiniciar l'estat a zero elimina el context previ, així que cada predicció només dependria de l'últim token i es perdria la coherència global. \n"
   ]
  },
  {
   "cell_type": "markdown",
   "metadata": {
    "id": "XJWDHSSPVfLN"
   },
   "source": [
    "# 3. Implementació d'una LSTM des de Zero"
   ]
  },
  {
   "cell_type": "markdown",
   "metadata": {
    "id": "6hfbHrncVfLN"
   },
   "source": [
    "<div style=\"background-color: #EDF7FF; border-color: #7C9DBF; border-left: 5px solid #7C9DBF; padding: 0.5em;\">\n",
    "<p><strong>Exercici 3 [1 pts.]:</strong> Implementa una unitat LSTM (Long Short-Term Memory) des de zero seguint aquests passos:</p>\n",
    "</div>"
   ]
  },
  {
   "cell_type": "markdown",
   "metadata": {
    "id": "2IsNqoTBVfLN"
   },
   "source": [
    "### 1. Defineix la classe `LSTMScratch`:\n",
    "- Per això, hereta de `tf.Module` per aprofitar les utilitats de TensorFlow.\n",
    "- Defineix els següents atributs al constructor:\n",
    " - `num_inputs`: Dimensió dels vectors d'entrada (per exemple, la mida del vocabulari o dels embeddings).\n",
    " - `num_hiddens`: Dimensió de l'estat ocult (`H`).\n",
    " - `sigma`: Desviació estàndard per a la inicialització de pesos.\n",
    "\n",
    "\n",
    "### 2. Dins del constructor, defineix els pesos i biaixos com a variables entrenables de TensorFlow:\n",
    "\n",
    "La LSTM conté quatre components clau: la porta d'oblit, la porta d'entrada, la cel·la candidata i la porta de sortida. Cadascun requereix els seus propis pesos i biaixos, tant per a l'entrada actual `x_t` com per a l'estat ocult anterior `h_{t-1}`.\n",
    "\n",
    "- **Porta d'oblit (`f_t`)**\n",
    " - `W_xf`: Pesos per a l'entrada → forma `(num_inputs, num_hiddens)`\n",
    " - `W_hf`: Pesos recurrents → forma `(num_hiddens, num_hiddens)`\n",
    " - `b_f`: Biaix → forma `(num_hiddens,)`\n",
    "\n",
    "- **Porta d'entrada (`i_t`)**\n",
    " - `W_xi`: Pesos per a l'entrada → forma `(num_inputs, num_hiddens)`\n",
    " - `W_hi`: Pesos recurrents → forma `(num_hiddens, num_hiddens)`\n",
    " - `b_i`: Biaix → forma `(num_hiddens,)`\n",
    "\n",
    "- **Cel·la candidata (`c̃_t`)**\n",
    " - `W_xc`: Pesos per a l'entrada → forma `(num_inputs, num_hiddens)`\n",
    " - `W_hc`: Pesos recurrents → forma `(num_hiddens, num_hiddens)`\n",
    " - `b_c`: Biaix → forma `(num_hiddens,)`\n",
    "\n",
    "- **Porta de sortida (`o_t`)**\n",
    " - `W_xo`: Pesos per a l'entrada → forma `(num_inputs, num_hiddens)`\n",
    " - `W_ho`: Pesos recurrents → forma `(num_hiddens, num_hiddens)`\n",
    " - `b_o`: Biaix → forma `(num_hiddens,)`\n",
    "\n",
    "Tots els pesos s'han d'inicialitzar amb una distribució normal escalada per `sigma`, i tots els biaixos s'han d'inicialitzar amb zeros.\n",
    "\n",
    "\n",
    "### 3. Implementar el mètode `forward`:\n",
    "- Aquesta funció rep dos paràmetres:\n",
    " - `inputs`: Tensor de forma `(T, batch_size, num_inputs)`, on `T` és la longitud de la seqüència.\n",
    " - `state`: Estat inicial compost per dos tensors `(h, c)`:\n",
    "    - `h`: estat ocult\n",
    "    - `c`: estat de la cel·la\n",
    " Si no es proporciona, tots dos s'han d'inicialitzar a zeros amb forma `(batch_size, num_hiddens)`.\n",
    "\n",
    "- La lògica dins aquesta funció és la següent:\n",
    " - Iterar sobre cada pas de temps `t` de la seqüència dʻentrada.\n",
    " - Per a cada entrada `X` amb forma `(batch_size, num_inputs)`:\n",
    "    - Calculeu la porta d'oblit `f_t` aplicant una funció sigmoide.\n",
    "    - Calculeu la porta d'entrada `i_t` aplicant una funció sigmoide.\n",
    "    - Calcular la porta de sortida `o_t` aplicant una funció sigmoide.\n",
    "    - Calcular la cel·la candidata `c̃_t` aplicant una funció `tanh`.\n",
    "    - Actualitzar la cel·la `c` com:\n",
    " `c = f_t * c + i_t * c̃_t`\n",
    "    - Actualitzar l'estat ocult `h` com:\n",
    " `h = o_t * tanh(c)`\n",
    "    - Afegir `h` a la llista de sortides `outputs`.\n",
    "\n",
    "- En finalitzar, torna:\n",
    " - La llista `outputs`, que conté l'estat ocult a cada pas de la seqüència.\n",
    " - L'estat final `(h, c)` que es pot reutilitzar per a prediccions futures.\n",
    "\n",
    "\n",
    "\n",
    "### Pistes:\n",
    "- Cadascuna de les operacions utilitza pesos diferents per a entrada (`X`) i per a l'estat ocult anterior (`h`), a més del corresponent biaix.\n",
    "- La cel·la `c` actua com una memòria a llarg termini, mentre que `h` és la sortida a cada pas.\n",
    "- La porta d'oblit permet controlar quines parts del contingut de la cel·la es conserven.\n",
    "- `outputs` conté els estats ocults a cada pas, que poden utilitzar-se per a tasques com a predicció de seqüències."
   ]
  },
  {
   "cell_type": "code",
   "execution_count": 16,
   "metadata": {
    "execution": {
     "iopub.execute_input": "2025-04-20T08:39:29.446678Z",
     "iopub.status.busy": "2025-04-20T08:39:29.446377Z",
     "iopub.status.idle": "2025-04-20T08:39:29.457244Z",
     "shell.execute_reply": "2025-04-20T08:39:29.456641Z",
     "shell.execute_reply.started": "2025-04-20T08:39:29.446653Z"
    },
    "id": "ddYrGB8g7RK5"
   },
   "outputs": [],
   "source": [
    "# Completa l'exercici\n",
    "\n",
    "class LSTMScratch(tf.Module):\n",
    "    def __init__(self, num_inputs, num_hiddens, sigma=0.01):\n",
    "        super().__init__()\n",
    "        self.num_inputs  = num_inputs\n",
    "        self.num_hiddens = num_hiddens\n",
    "        self.sigma = sigma\n",
    "        # Porta d'oblit\n",
    "        self.W_xf = tf.Variable(tf.random.normal((num_inputs, num_hiddens), stddev=sigma), name=\"W_xf\")\n",
    "        self.W_hf = tf.Variable(tf.random.normal((num_hiddens, num_hiddens), stddev=sigma), name=\"W_hf\")\n",
    "        self.b_f  = tf.Variable(tf.zeros((num_hiddens,)), name=\"b_f\")\n",
    "        # Porta d'entrada\n",
    "        self.W_xi = tf.Variable(tf.random.normal((num_inputs, num_hiddens), stddev=sigma), name=\"W_xi\")\n",
    "        self.W_hi = tf.Variable(tf.random.normal((num_hiddens, num_hiddens), stddev=sigma), name=\"W_hi\")\n",
    "        self.b_i  = tf.Variable(tf.zeros((num_hiddens,)), name=\"b_i\")\n",
    "        # Cel·la candidata\n",
    "        self.W_xc = tf.Variable(tf.random.normal((num_inputs, num_hiddens), stddev=sigma), name=\"W_xc\")\n",
    "        self.W_hc = tf.Variable(tf.random.normal((num_hiddens, num_hiddens), stddev=sigma), name=\"W_hc\")\n",
    "        self.b_c  = tf.Variable(tf.zeros((num_hiddens,)), name=\"b_c\")\n",
    "        # Porta de sortida\n",
    "        self.W_xo = tf.Variable(tf.random.normal((num_inputs, num_hiddens), stddev=sigma), name=\"W_xo\")\n",
    "        self.W_ho = tf.Variable(tf.random.normal((num_hiddens, num_hiddens), stddev=sigma), name=\"W_ho\")\n",
    "        self.b_o  = tf.Variable(tf.zeros((num_hiddens,)), name=\"b_o\")\n",
    "\n",
    "    def forward(self, inputs, state=None):\n",
    "        # inputs: (T, batch_size, num_inputs)\n",
    "        # state: (h, c) o None\n",
    "        T = tf.shape(inputs)[0]\n",
    "        batch_size = tf.shape(inputs)[1]\n",
    "        if state is None:\n",
    "            h = tf.zeros((batch_size, self.num_hiddens), dtype=inputs.dtype)\n",
    "            c = tf.zeros((batch_size, self.num_hiddens), dtype=inputs.dtype)\n",
    "        else:\n",
    "            h, c = state\n",
    "        outputs = []\n",
    "        for t in range(T):\n",
    "            X_t = inputs[t]\n",
    "            # Porta d'oblit\n",
    "            f_t = tf.sigmoid(tf.matmul(X_t, self.W_xf)\n",
    "                             + tf.matmul(h, self.W_hf)\n",
    "                             + self.b_f)\n",
    "            # Porta d'entrada\n",
    "            i_t = tf.sigmoid(tf.matmul(X_t, self.W_xi)\n",
    "                             + tf.matmul(h, self.W_hi)\n",
    "                             + self.b_i)\n",
    "            # Cel·la candidata\n",
    "            c_tilde = tf.tanh(tf.matmul(X_t, self.W_xc)\n",
    "                              + tf.matmul(h, self.W_hc)\n",
    "                              + self.b_c)\n",
    "            # Actualització de la cel·la\n",
    "            c = f_t * c + i_t * c_tilde\n",
    "            # Porta de sortida\n",
    "            o_t = tf.sigmoid(tf.matmul(X_t, self.W_xo)\n",
    "                             + tf.matmul(h, self.W_ho)\n",
    "                             + self.b_o)\n",
    "            # Estat ocult\n",
    "            h = o_t * tf.tanh(c)\n",
    "            outputs.append(h)\n",
    "        return outputs, (h, c)"
   ]
  },
  {
   "cell_type": "markdown",
   "metadata": {
    "id": "UMEgj1JtVfLS"
   },
   "source": [
    "**Verificació del funcionament:**"
   ]
  },
  {
   "cell_type": "code",
   "execution_count": 17,
   "metadata": {
    "colab": {
     "base_uri": "https://localhost:8080/"
    },
    "execution": {
     "iopub.execute_input": "2025-04-20T08:39:29.458225Z",
     "iopub.status.busy": "2025-04-20T08:39:29.457937Z",
     "iopub.status.idle": "2025-04-20T08:39:29.525644Z",
     "shell.execute_reply": "2025-04-20T08:39:29.524912Z",
     "shell.execute_reply.started": "2025-04-20T08:39:29.458209Z"
    },
    "id": "hvBhHe6vVfLS",
    "outputId": "e71ad423-ff1e-4d75-da58-598ab871e8a3"
   },
   "outputs": [
    {
     "name": "stdout",
     "output_type": "stream",
     "text": [
      "Sortides: 7 passos, forma cada una: (3, 25)\n",
      "Estat final h: (3, 25), c: (3, 25)\n"
     ]
    }
   ],
   "source": [
    "batch_size, num_inputs, num_hiddens, num_steps = 3, 15, 25, 7\n",
    "lstm = LSTMScratch(num_inputs, num_hiddens)\n",
    "X = tf.random.uniform((num_steps, batch_size, num_inputs))\n",
    "outputs, (h, c) = lstm.forward(X)\n",
    "print(f\"Sortides: {len(outputs)} passos, forma cada una: {outputs[0].shape}\") # (7, (3,25))\n",
    "print(f\"Estat final h: {h.shape}, c: {c.shape}\")  # Ambos (3,25)"
   ]
  },
  {
   "cell_type": "markdown",
   "metadata": {
    "id": "kP4tRZotVfLS"
   },
   "source": [
    "# 4. Xarxes Recurrents per a problemes de Regressió"
   ]
  },
  {
   "cell_type": "markdown",
   "metadata": {
    "id": "faNYlxgtVfLS"
   },
   "source": [
    "\n",
    "Fins ara hem treballat amb xarxes recurrents aplicades a tasques de classificació de seqüències, com ara el modelatge de llenguatge. No obstant això, les RNN també són una eina molt potent per abordar problemes de **regressió temporal**, és a dir, per **predir valors continus al llarg del temps**.\n",
    "\n",
    "En aquest apartat, ens centrarem en aplicar xarxes recurrents (RNN, GRU o LSTM) per **predir sèries temporals reals**, una tasca clau en aplicacions del món real com:\n",
    "\n",
    "- Predicció de consum energètic\n",
    "- Modelat de preus financers\n",
    "- Seguiment de sensors en sistemes industrials\n",
    "- Forecasting de demanda en logística o transport\n",
    "\n",
    "A diferència del modelatge de llenguatge, on cada token representa una paraula i la sortida és una probabilitat sobre un vocabulari, aquí cada pas temporal està representat per un valor numèric continu, com ara el consum d'energia en un moment determinat. L'objectiu és **predir el valor futur** d'aquesta sèrie.\n",
    "\n"
   ]
  },
  {
   "cell_type": "markdown",
   "metadata": {
    "id": "q-ZtmWtOVfLS"
   },
   "source": [
    "## 4.1. Càrrega del dataset\n",
    "\n",
    "<div style=\"background-color: #EDF7FF; border-color: #7C9DBF; border-left: 5px solid #7C9DBF; padding: 0.5em;\">\n",
    "<p><strong>Exercici [0.25 pts.]:</strong>\n",
    "Utilitzarem el popular conjunt de dades [Hourly Energy Consumption](https://www.kaggle.com/datasets/robikscube/hourly-energy-consumption) de Kaggle. Descarrega'l i carrega'l en un pandas.</p>\n",
    "</div>"
   ]
  },
  {
   "cell_type": "code",
   "execution_count": 18,
   "metadata": {
    "execution": {
     "iopub.execute_input": "2025-04-20T08:39:29.526746Z",
     "iopub.status.busy": "2025-04-20T08:39:29.526484Z",
     "iopub.status.idle": "2025-04-20T08:39:29.530105Z",
     "shell.execute_reply": "2025-04-20T08:39:29.529367Z",
     "shell.execute_reply.started": "2025-04-20T08:39:29.526705Z"
    },
    "id": "jmZYvs7_VfLS"
   },
   "outputs": [],
   "source": [
    "# Completa l'exercici\n",
    "url = \"https://raw.githubusercontent.com/archd3sai/Hourly-Energy-Consumption-Prediction/refs/heads/master/PJME_hourly.csv\""
   ]
  },
  {
   "cell_type": "markdown",
   "metadata": {
    "id": "1H5U9QxkVfLT"
   },
   "source": [
    "## 4.2. Normalització, Scaling i Divisió Entrenament-Validació\n",
    "\n",
    "<div style=\"background-color: #EDF7FF; border-color: #7C9DBF; border-left: 5px solid #7C9DBF; padding: 0.5em;\">\n",
    "<p><strong>Exercici [0.5 pts.]:</strong> Normalitza el conjunt de dades, crea seqüències en finestres i divideix en conjunts de entrenament i prova.</p>\n",
    "</div>\n",
    "\n",
    "\n"
   ]
  },
  {
   "cell_type": "code",
   "execution_count": 19,
   "metadata": {
    "execution": {
     "iopub.execute_input": "2025-04-20T08:39:29.531299Z",
     "iopub.status.busy": "2025-04-20T08:39:29.530842Z",
     "iopub.status.idle": "2025-04-20T08:39:30.591389Z",
     "shell.execute_reply": "2025-04-20T08:39:30.590727Z",
     "shell.execute_reply.started": "2025-04-20T08:39:29.531279Z"
    },
    "id": "XDUAOohGVfLT"
   },
   "outputs": [
    {
     "data": {
      "text/html": [
       "<div>\n",
       "<style scoped>\n",
       "    .dataframe tbody tr th:only-of-type {\n",
       "        vertical-align: middle;\n",
       "    }\n",
       "\n",
       "    .dataframe tbody tr th {\n",
       "        vertical-align: top;\n",
       "    }\n",
       "\n",
       "    .dataframe thead th {\n",
       "        text-align: right;\n",
       "    }\n",
       "</style>\n",
       "<table border=\"1\" class=\"dataframe\">\n",
       "  <thead>\n",
       "    <tr style=\"text-align: right;\">\n",
       "      <th></th>\n",
       "      <th>PJME_MW</th>\n",
       "    </tr>\n",
       "    <tr>\n",
       "      <th>Datetime</th>\n",
       "      <th></th>\n",
       "    </tr>\n",
       "  </thead>\n",
       "  <tbody>\n",
       "    <tr>\n",
       "      <th>2002-12-31 01:00:00</th>\n",
       "      <td>26498.0</td>\n",
       "    </tr>\n",
       "    <tr>\n",
       "      <th>2002-12-31 02:00:00</th>\n",
       "      <td>25147.0</td>\n",
       "    </tr>\n",
       "    <tr>\n",
       "      <th>2002-12-31 03:00:00</th>\n",
       "      <td>24574.0</td>\n",
       "    </tr>\n",
       "    <tr>\n",
       "      <th>2002-12-31 04:00:00</th>\n",
       "      <td>24393.0</td>\n",
       "    </tr>\n",
       "    <tr>\n",
       "      <th>2002-12-31 05:00:00</th>\n",
       "      <td>24860.0</td>\n",
       "    </tr>\n",
       "  </tbody>\n",
       "</table>\n",
       "</div>"
      ],
      "text/plain": [
       "                     PJME_MW\n",
       "Datetime                    \n",
       "2002-12-31 01:00:00  26498.0\n",
       "2002-12-31 02:00:00  25147.0\n",
       "2002-12-31 03:00:00  24574.0\n",
       "2002-12-31 04:00:00  24393.0\n",
       "2002-12-31 05:00:00  24860.0"
      ]
     },
     "execution_count": 19,
     "metadata": {},
     "output_type": "execute_result"
    }
   ],
   "source": [
    "import pandas as pd\n",
    "import numpy as np\n",
    "from sklearn.preprocessing import MinMaxScaler\n",
    "\n",
    "# Completa l'exercici\n",
    "df = pd.read_csv(url, parse_dates=['Datetime'], index_col='Datetime')\n",
    "df.head()"
   ]
  },
  {
   "cell_type": "code",
   "execution_count": 20,
   "metadata": {
    "execution": {
     "iopub.execute_input": "2025-04-20T08:39:30.592696Z",
     "iopub.status.busy": "2025-04-20T08:39:30.592282Z",
     "iopub.status.idle": "2025-04-20T08:39:30.602291Z",
     "shell.execute_reply": "2025-04-20T08:39:30.601545Z",
     "shell.execute_reply.started": "2025-04-20T08:39:30.592645Z"
    }
   },
   "outputs": [],
   "source": [
    "#sèrie temporal i escalat\n",
    "values = df['PJME_MW'].values.reshape(-1, 1)\n",
    "scaler = MinMaxScaler()\n",
    "scaled_values = scaler.fit_transform(values)"
   ]
  },
  {
   "cell_type": "code",
   "execution_count": 21,
   "metadata": {
    "execution": {
     "iopub.execute_input": "2025-04-20T08:39:30.603411Z",
     "iopub.status.busy": "2025-04-20T08:39:30.603166Z",
     "iopub.status.idle": "2025-04-20T08:39:30.844386Z",
     "shell.execute_reply": "2025-04-20T08:39:30.843740Z",
     "shell.execute_reply.started": "2025-04-20T08:39:30.603392Z"
    }
   },
   "outputs": [
    {
     "name": "stdout",
     "output_type": "stream",
     "text": [
      "X_train: (116273, 24, 1), y_train: (116273, 1)\n",
      "X_test:  (29069, 24, 1),  y_test:  (29069, 1)\n"
     ]
    }
   ],
   "source": [
    "# generar seq (X) i targets (y)\n",
    "def create_sequences(data, window_size):\n",
    "    X, y = [], []\n",
    "    for i in range(len(data) - window_size):\n",
    "        X.append(data[i : i + window_size])\n",
    "        y.append(data[i + window_size])\n",
    "    return np.array(X), np.array(y)\n",
    "\n",
    "window_size = 24  # finestres de 24 hores\n",
    "\n",
    "X_all, y_all = create_sequences(scaled_values, window_size)\n",
    "\n",
    "# 80% train 20% test\n",
    "train_size = int(len(X_all) * 0.8)\n",
    "X_train, X_test = X_all[:train_size], X_all[train_size:]\n",
    "y_train, y_test = y_all[:train_size], y_all[train_size:]\n",
    "\n",
    "print(f\"X_train: {X_train.shape}, y_train: {y_train.shape}\")\n",
    "print(f\"X_test:  {X_test.shape},  y_test:  {y_test.shape}\")"
   ]
  },
  {
   "cell_type": "markdown",
   "metadata": {
    "id": "7tLJ1Uw7VfLT"
   },
   "source": [
    "## 4.3. Creació del Model (RNN, GRU, LSTM)\n",
    "\n",
    "<div style=\"background-color: #EDF7FF; border-color: #7C9DBF; border-left: 5px solid #7C9DBF; padding: 0.5em;\">\n",
    "<p><strong>Exercici [1 pts.]:</strong> Crea tres models separats utilitzant RNN Simple, GRU i LSTM. Els models han de tenir 50 unitats de neurones a la capa recurrent. Compila el model utilitzant la funció de pèrdua `MSE` i l'optimitzador `adam`</p>\n",
    "</div>\n",
    "\n",
    "\n"
   ]
  },
  {
   "cell_type": "code",
   "execution_count": 22,
   "metadata": {
    "execution": {
     "iopub.execute_input": "2025-04-20T08:39:30.848018Z",
     "iopub.status.busy": "2025-04-20T08:39:30.847559Z",
     "iopub.status.idle": "2025-04-20T08:39:31.790019Z",
     "shell.execute_reply": "2025-04-20T08:39:31.789467Z",
     "shell.execute_reply.started": "2025-04-20T08:39:30.847997Z"
    },
    "id": "mG0vHftcVfLT"
   },
   "outputs": [
    {
     "name": "stderr",
     "output_type": "stream",
     "text": [
      "/usr/local/lib/python3.11/dist-packages/keras/src/layers/rnn/rnn.py:204: UserWarning: Do not pass an `input_shape`/`input_dim` argument to a layer. When using Sequential models, prefer using an `Input(shape)` object as the first layer in the model instead.\n",
      "  super().__init__(**kwargs)\n"
     ]
    }
   ],
   "source": [
    "from tensorflow.keras.models import Sequential\n",
    "from tensorflow.keras.layers import SimpleRNN, GRU, LSTM, Dense\n",
    "\n",
    "\n",
    "# Completa l'exercici\n",
    "\n",
    "n_features = 1\n",
    "\n",
    "# RNN\n",
    "rnn_model = Sequential([\n",
    "    SimpleRNN(50, input_shape=(window_size, n_features)),\n",
    "    Dense(1)\n",
    "])\n",
    "rnn_model.compile(loss='mean_squared_error', optimizer='adam')\n",
    "\n",
    "# GRU\n",
    "gru_model = Sequential([\n",
    "    GRU(50, input_shape=(window_size, n_features)),\n",
    "    Dense(1)\n",
    "])\n",
    "gru_model.compile(loss='mean_squared_error', optimizer='adam')\n",
    "\n",
    "# LSTM\n",
    "lstm_model = Sequential([\n",
    "    LSTM(50, input_shape=(window_size, n_features)),\n",
    "    Dense(1)\n",
    "])\n",
    "lstm_model.compile(loss='mean_squared_error', optimizer='adam')"
   ]
  },
  {
   "cell_type": "markdown",
   "metadata": {
    "id": "jNJeYVF0VfLT"
   },
   "source": [
    "## 4.4. Entrenar els Models i Graficar Corbes d'Aprenentatge\n",
    "\n",
    "<div style=\"background-color: #EDF7FF; border-color: #7C9DBF; border-left: 5px solid #7C9DBF; padding: 0.5em;\">\n",
    "<p><strong>Exercici [0.5 pts.]:</strong> Entrena cada model i visualitza el seu rendiment durant l'entrenament.</p>\n",
    "</div>\n",
    "\n",
    "\n"
   ]
  },
  {
   "cell_type": "code",
   "execution_count": 23,
   "metadata": {
    "execution": {
     "iopub.execute_input": "2025-04-20T08:39:31.790893Z",
     "iopub.status.busy": "2025-04-20T08:39:31.790714Z",
     "iopub.status.idle": "2025-04-20T08:41:18.013017Z",
     "shell.execute_reply": "2025-04-20T08:41:18.012220Z",
     "shell.execute_reply.started": "2025-04-20T08:39:31.790874Z"
    },
    "id": "Ofjbb9eaVfLU"
   },
   "outputs": [
    {
     "name": "stderr",
     "output_type": "stream",
     "text": [
      "WARNING: All log messages before absl::InitializeLog() is called are written to STDERR\n",
      "I0000 00:00:1745138373.581297      88 service.cc:148] XLA service 0x7ca344006a50 initialized for platform CUDA (this does not guarantee that XLA will be used). Devices:\n",
      "I0000 00:00:1745138373.582001      88 service.cc:156]   StreamExecutor device (0): Tesla T4, Compute Capability 7.5\n",
      "I0000 00:00:1745138373.582027      88 service.cc:156]   StreamExecutor device (1): Tesla T4, Compute Capability 7.5\n",
      "I0000 00:00:1745138373.796047      88 cuda_dnn.cc:529] Loaded cuDNN version 90300\n",
      "I0000 00:00:1745138374.475837      88 device_compiler.h:188] Compiled cluster using XLA!  This line is logged at most once for the lifetime of the process.\n"
     ]
    },
    {
     "data": {
      "image/png": "[encoded data removed]",
      "text/plain": [
       "<Figure size 640x480 with 1 Axes>"
      ]
     },
     "metadata": {},
     "output_type": "display_data"
    },
    {
     "data": {
      "image/png": "[encoded data removed]",
      "text/plain": [
       "<Figure size 640x480 with 1 Axes>"
      ]
     },
     "metadata": {},
     "output_type": "display_data"
    },
    {
     "data": {
      "image/png": "[encoded data removed]",
      "text/plain": [
       "<Figure size 640x480 with 1 Axes>"
      ]
     },
     "metadata": {},
     "output_type": "display_data"
    }
   ],
   "source": [
    "import matplotlib.pyplot as plt\n",
    "\n",
    "# Completa l'exercici\n",
    "history_rnn = rnn_model.fit(\n",
    "    X_train, y_train,\n",
    "    epochs=20,\n",
    "    batch_size=256,\n",
    "    validation_data=(X_test, y_test),\n",
    "    verbose=0\n",
    ")\n",
    "\n",
    "history_gru = gru_model.fit(\n",
    "    X_train, y_train,\n",
    "    epochs=20,\n",
    "    batch_size=256,\n",
    "    validation_data=(X_test, y_test),\n",
    "    verbose=0\n",
    ")\n",
    "\n",
    "history_lstm = lstm_model.fit(\n",
    "    X_train, y_train,\n",
    "    epochs=20,\n",
    "    batch_size=256,\n",
    "    validation_data=(X_test, y_test),\n",
    "    verbose=0\n",
    ")\n",
    "\n",
    "def plot_history(hist, title):\n",
    "    plt.figure()\n",
    "    plt.plot(hist.history['loss'],      label='Entrenament')\n",
    "    plt.plot(hist.history['val_loss'],  label='Validació')\n",
    "    plt.xlabel('Època')\n",
    "    plt.ylabel('MSE')\n",
    "    plt.title(title)\n",
    "    plt.legend()\n",
    "    plt.show()\n",
    "\n",
    "plot_history(history_rnn,  'SimpleRNN – Pèrdua entrenament vs validació')\n",
    "plot_history(history_gru,  'GRU – Pèrdua entrenament vs validació')\n",
    "plot_history(history_lstm, 'LSTM – Pèrdua entrenament vs validació')"
   ]
  },
  {
   "cell_type": "markdown",
   "metadata": {},
   "source": [
    "El model SimpleRNN redueix de manera constant la pèrdua d’entrenament però s'observen pics en la pèrdua de validació, això pot voler dir una certa dificultat per aprendre tota la variabilitat de la sèrie.\n",
    "\n",
    "El model GRU convergeix molt ràpidament amb corbes d’entrenament i validació gairebé superposades, això ens indica una bona estabilitat i capacitat de generalització des de les primeres èpoques.\n",
    "\n",
    "El model LSTM aconsegueix la caiguda més pronunciada de la MSE en les primeres èpoques i manté les corbes molt planes, demostrant la seva eficiència i robustesa en la regressió de la sèrie temporal."
   ]
  },
  {
   "cell_type": "markdown",
   "metadata": {
    "id": "7SAAVH3AVfLU"
   },
   "source": [
    "## 4.5. Fer Prediccions Futures i Comparar Rendiment\n",
    "\n",
    "<div style=\"background-color: #EDF7FF; border-color: #7C9DBF; border-left: 5px solid #7C9DBF; padding: 0.5em;\">\n",
    "<p><strong>Exercici [0.5 pts.]:</strong> Prediu valors futurs utilitzant el conjunt de prova i compara el rendiment.</p>\n",
    "</div>\n",
    "\n",
    "\n"
   ]
  },
  {
   "cell_type": "code",
   "execution_count": 24,
   "metadata": {
    "execution": {
     "iopub.execute_input": "2025-04-20T08:41:18.014183Z",
     "iopub.status.busy": "2025-04-20T08:41:18.013849Z",
     "iopub.status.idle": "2025-04-20T08:41:24.273544Z",
     "shell.execute_reply": "2025-04-20T08:41:24.272944Z",
     "shell.execute_reply.started": "2025-04-20T08:41:18.014160Z"
    },
    "id": "l5b8XJS6VfLU"
   },
   "outputs": [
    {
     "name": "stdout",
     "output_type": "stream",
     "text": [
      "\u001b[1m909/909\u001b[0m \u001b[32m━━━━━━━━━━━━━━━━━━━━\u001b[0m\u001b[37m\u001b[0m \u001b[1m2s\u001b[0m 1ms/step\n",
      "\u001b[1m909/909\u001b[0m \u001b[32m━━━━━━━━━━━━━━━━━━━━\u001b[0m\u001b[37m\u001b[0m \u001b[1m1s\u001b[0m 1ms/step\n",
      "\u001b[1m909/909\u001b[0m \u001b[32m━━━━━━━━━━━━━━━━━━━━\u001b[0m\u001b[37m\u001b[0m \u001b[1m2s\u001b[0m 2ms/step\n",
      "MSE RNN Simple: 0.000293\n",
      "MSE GRU: 0.000333\n",
      "MSE LSTM: 0.000398\n"
     ]
    }
   ],
   "source": [
    "from sklearn.metrics import mean_squared_error\n",
    "\n",
    "# Completa l'exercici\n",
    "\n",
    "rnn_preds  = rnn_model.predict(X_test)\n",
    "gru_preds  = gru_model.predict(X_test)\n",
    "lstm_preds = lstm_model.predict(X_test)\n",
    "\n",
    "rnn_mse   = mean_squared_error(y_test, rnn_preds)\n",
    "gru_mse   = mean_squared_error(y_test, gru_preds)\n",
    "lstm_mse  = mean_squared_error(y_test, lstm_preds)\n",
    "\n",
    "print(f\"MSE RNN Simple: {rnn_mse:.6f}\")\n",
    "print(f\"MSE GRU: {gru_mse:.6f}\")\n",
    "print(f\"MSE LSTM: {lstm_mse:.6f}\")"
   ]
  },
  {
   "cell_type": "markdown",
   "metadata": {
    "id": "LYaK2FT_VfLU"
   },
   "source": [
    "## 4.6. Experimentar amb la Mida de Finestra\n",
    "\n",
    "<div style=\"background-color: #EDF7FF; border-color: #7C9DBF; border-left: 5px solid #7C9DBF; padding: 0.5em;\">\n",
    "<p><strong>Exercici [0.5 pts.]:</strong> Canvia el window_size per explorar com depèn la predicció de l'interval de temps. Prova per exemple amb una mida de finestra de 48 hores.</p>\n",
    "</div>\n",
    "\n",
    "\n"
   ]
  },
  {
   "cell_type": "code",
   "execution_count": 25,
   "metadata": {
    "execution": {
     "iopub.execute_input": "2025-04-20T08:41:24.274641Z",
     "iopub.status.busy": "2025-04-20T08:41:24.274376Z",
     "iopub.status.idle": "2025-04-20T08:41:24.515898Z",
     "shell.execute_reply": "2025-04-20T08:41:24.515282Z",
     "shell.execute_reply.started": "2025-04-20T08:41:24.274617Z"
    },
    "id": "Nm7HVzxHVfLU"
   },
   "outputs": [
    {
     "name": "stdout",
     "output_type": "stream",
     "text": [
      "X_train: (116254, 48, 1), y_train: (116254, 1)\n",
      "X_test:  (29064, 48, 1),  y_test:  (29064, 1)\n"
     ]
    }
   ],
   "source": [
    "# Completa l'exercici\n",
    "window_size = 48  # finestres de 48 hores\n",
    "\n",
    "X_all, y_all = create_sequences(scaled_values, window_size)\n",
    "\n",
    "# 80% train 20% test\n",
    "train_size = int(len(X_all) * 0.8)\n",
    "X_train, X_test = X_all[:train_size], X_all[train_size:]\n",
    "y_train, y_test = y_all[:train_size], y_all[train_size:]\n",
    "\n",
    "print(f\"X_train: {X_train.shape}, y_train: {y_train.shape}\")\n",
    "print(f\"X_test:  {X_test.shape},  y_test:  {y_test.shape}\")"
   ]
  },
  {
   "cell_type": "code",
   "execution_count": 26,
   "metadata": {
    "execution": {
     "iopub.execute_input": "2025-04-20T08:41:24.516921Z",
     "iopub.status.busy": "2025-04-20T08:41:24.516640Z",
     "iopub.status.idle": "2025-04-20T08:41:24.595547Z",
     "shell.execute_reply": "2025-04-20T08:41:24.594864Z",
     "shell.execute_reply.started": "2025-04-20T08:41:24.516896Z"
    }
   },
   "outputs": [
    {
     "name": "stderr",
     "output_type": "stream",
     "text": [
      "/usr/local/lib/python3.11/dist-packages/keras/src/layers/rnn/rnn.py:204: UserWarning: Do not pass an `input_shape`/`input_dim` argument to a layer. When using Sequential models, prefer using an `Input(shape)` object as the first layer in the model instead.\n",
      "  super().__init__(**kwargs)\n"
     ]
    }
   ],
   "source": [
    "from tensorflow.keras.models import Sequential\n",
    "from tensorflow.keras.layers import SimpleRNN, GRU, LSTM, Dense\n",
    "\n",
    "\n",
    "# Completa l'exercici\n",
    "\n",
    "n_features = 1\n",
    "\n",
    "# RNN\n",
    "rnn_model = Sequential([\n",
    "    SimpleRNN(50, input_shape=(window_size, n_features)),\n",
    "    Dense(1)\n",
    "])\n",
    "rnn_model.compile(loss='mean_squared_error', optimizer='adam')\n",
    "\n",
    "# GRU\n",
    "gru_model = Sequential([\n",
    "    GRU(50, input_shape=(window_size, n_features)),\n",
    "    Dense(1)\n",
    "])\n",
    "gru_model.compile(loss='mean_squared_error', optimizer='adam')\n",
    "\n",
    "# LSTM\n",
    "lstm_model = Sequential([\n",
    "    LSTM(50, input_shape=(window_size, n_features)),\n",
    "    Dense(1)\n",
    "])\n",
    "lstm_model.compile(loss='mean_squared_error', optimizer='adam')"
   ]
  },
  {
   "cell_type": "code",
   "execution_count": 27,
   "metadata": {
    "execution": {
     "iopub.execute_input": "2025-04-20T08:41:24.596411Z",
     "iopub.status.busy": "2025-04-20T08:41:24.596211Z",
     "iopub.status.idle": "2025-04-20T08:43:33.259177Z",
     "shell.execute_reply": "2025-04-20T08:43:33.258539Z",
     "shell.execute_reply.started": "2025-04-20T08:41:24.596386Z"
    }
   },
   "outputs": [
    {
     "data": {
      "image/png": "[encoded data removed]",
      "text/plain": [
       "<Figure size 640x480 with 1 Axes>"
      ]
     },
     "metadata": {},
     "output_type": "display_data"
    },
    {
     "data": {
      "image/png": "[encoded data removed]",
      "text/plain": [
       "<Figure size 640x480 with 1 Axes>"
      ]
     },
     "metadata": {},
     "output_type": "display_data"
    },
    {
     "data": {
      "image/png": "[encoded data removed]",
      "text/plain": [
       "<Figure size 640x480 with 1 Axes>"
      ]
     },
     "metadata": {},
     "output_type": "display_data"
    }
   ],
   "source": [
    "import matplotlib.pyplot as plt\n",
    "\n",
    "# Completa l'exercici\n",
    "history_rnn = rnn_model.fit(\n",
    "    X_train, y_train,\n",
    "    epochs=20,\n",
    "    batch_size=256,\n",
    "    validation_data=(X_test, y_test),\n",
    "    verbose=0\n",
    ")\n",
    "\n",
    "history_gru = gru_model.fit(\n",
    "    X_train, y_train,\n",
    "    epochs=20,\n",
    "    batch_size=256,\n",
    "    validation_data=(X_test, y_test),\n",
    "    verbose=0\n",
    ")\n",
    "\n",
    "history_lstm = lstm_model.fit(\n",
    "    X_train, y_train,\n",
    "    epochs=20,\n",
    "    batch_size=256,\n",
    "    validation_data=(X_test, y_test),\n",
    "    verbose=0\n",
    ")\n",
    "\n",
    "def plot_history(hist, title):\n",
    "    plt.figure()\n",
    "    plt.plot(hist.history['loss'],      label='Entrenament')\n",
    "    plt.plot(hist.history['val_loss'],  label='Validació')\n",
    "    plt.xlabel('Època')\n",
    "    plt.ylabel('MSE')\n",
    "    plt.title(title)\n",
    "    plt.legend()\n",
    "    plt.show()\n",
    "\n",
    "plot_history(history_rnn,  'SimpleRNN – Pèrdua entrenament vs validació')\n",
    "plot_history(history_gru,  'GRU – Pèrdua entrenament vs validació')\n",
    "plot_history(history_lstm, 'LSTM – Pèrdua entrenament vs validació')"
   ]
  },
  {
   "cell_type": "markdown",
   "metadata": {
    "id": "6tN5k8dxVfLU"
   },
   "source": [
    "```python\n",
    "T = tf.shape(inputs)[0]\n",
    "        batch_size = tf.shape(inputs)[1]\n",
    "\n",
    "        # Inicialitza estat si no se n'ha passat cap\n",
    "        if state is None:\n",
    "            h = tf.zeros((batch_size, self.num_hiddens), dtype=inputs.dtype)\n",
    "            c = tf.zeros((batch_size, self.num_hiddens), dtype=inputs.dtype)\n",
    "        else:\n",
    "            h, c = state\n",
    "\n",
    "        outputs = []\n",
    "        for t in range(T):\n",
    "            X_t = inputs[t]\n",
    "\n",
    "            # Porta d'oblit\n",
    "            f_t = tf.sigmoid(\n",
    "                tf.matmul(X_t, self.W_xf) +\n",
    "                tf.matmul(h, self.W_hf) +\n",
    "                self.b_f\n",
    "            )\n",
    "            # Porta d'entrada\n",
    "            i_t = tf.sigmoid(\n",
    "                tf.matmul(X_t, self.W_xi) +\n",
    "                tf.matmul(h, self.W_hi) +\n",
    "                self.b_i\n",
    "            )\n",
    "            # Cel·la candidata\n",
    "            c_tilde = tf.tanh(\n",
    "                tf.matmul(X_t, self.W_xc) +\n",
    "                tf.matmul(h, self.W_hc) +\n",
    "                self.b_c\n",
    "            )\n",
    "            # Actualitza c\n",
    "            c = f_t * c + i_t * c_tilde\n",
    "\n",
    "            # Porta de sortida\n",
    "            o_t = tf.sigmoid(\n",
    "                tf.matmul(X_t, self.W_xo) +\n",
    "                tf.matmul(h, self.W_ho) +\n",
    "                self.b_o\n",
    "            )\n",
    "            # Estat ocult\n",
    "            h = o_t * tf.tanh(c)\n",
    "\n",
    "            outputs.append(h)\n",
    "\n",
    "        return outputs, (h, c)        for t in range(T):\n",
    "            X_t = inputs[t]  # (batch_size, num_inputs)\n",
    "            state = tf.tanh(tf.matmul(X_t, self.W_xh) + tf.matmul(state, self.W_hh) + self.b_h)\n",
    "            outputs.append(state)4.7.\n",
    "```\n",
    "\n",
    "## Model LSTM Profund amb Optimització d'Hiperparàmetres utilitzant Optuna\n",
    "\n",
    "Construir un model LSTM més profund (amb més capes) i utilitzar Optuna per optimitzar hiperparàmetres clau. A continuació, comparar el seu rendiment amb els models anteriors (RNN, GRU i LSTM bàsic)\n",
    "\n",
    "<div style=\"background-color: #EDF7FF; border-color: #7C9DBF; border-left: 5px solid #7C9DBF; padding: 0.5em;\">\n",
    "<p><strong>Exercici [1.75 pts.]:</strong> Definició del Model LSTM Profund. Crearem un model amb:\n",
    "\n",
    "<ul>\n",
    " <li>2 capes LSTM (amb return_sequences=True a la primera per apilar-les).</li>\n",
    " <li>Capa Densa final.</li>\n",
    " <li>Dropout per a regularització (evitar overfitting).</li>\n",
    " </ul>\n",
    "\n",
    "Després toca definir hiperparàmetres a Optimitzar amb Optuna. Optuna buscarà la millor combinació de:\n",
    "\n",
    " <ul>\n",
    "  <li>Nombre de neurones a cada capa LSTM: Entre 32 i 128.</li>\n",
    "  <li>Taxa de Dropout: Entre 0.1 i 0.5.</li>\n",
    "  <li>Taxa d'aprenentatge (learning rate): Entre 1e-4 i 1e-2 (log scale).</li>\n",
    "  <li>Batch size: 32, 64 o 128.</li>\n",
    " </ul>\n",
    "\n",
    "\n",
    " Finalment, avalua i compara amb els models anteriors. Per fer-ho et proporcionem el codi per a una millor llegibilitat.\n",
    "\n",
    " </p>\n",
    "\n",
    "</div>\n",
    "\n",
    "\n",
    "\n"
   ]
  },
  {
   "cell_type": "code",
   "execution_count": 28,
   "metadata": {
    "execution": {
     "iopub.execute_input": "2025-04-20T08:43:33.259987Z",
     "iopub.status.busy": "2025-04-20T08:43:33.259807Z",
     "iopub.status.idle": "2025-04-20T08:43:37.179358Z",
     "shell.execute_reply": "2025-04-20T08:43:37.178467Z",
     "shell.execute_reply.started": "2025-04-20T08:43:33.259973Z"
    },
    "id": "wOUZ9RchFQCF"
   },
   "outputs": [
    {
     "name": "stdout",
     "output_type": "stream",
     "text": [
      "Requirement already satisfied: optuna in /usr/local/lib/python3.11/dist-packages (4.2.1)\n",
      "Requirement already satisfied: alembic>=1.5.0 in /usr/local/lib/python3.11/dist-packages (from optuna) (1.15.2)\n",
      "Requirement already satisfied: colorlog in /usr/local/lib/python3.11/dist-packages (from optuna) (6.9.0)\n",
      "Requirement already satisfied: numpy in /usr/local/lib/python3.11/dist-packages (from optuna) (1.26.4)\n",
      "Requirement already satisfied: packaging>=20.0 in /usr/local/lib/python3.11/dist-packages (from optuna) (24.2)\n",
      "Requirement already satisfied: sqlalchemy>=1.4.2 in /usr/local/lib/python3.11/dist-packages (from optuna) (2.0.38)\n",
      "Requirement already satisfied: tqdm in /usr/local/lib/python3.11/dist-packages (from optuna) (4.67.1)\n",
      "Requirement already satisfied: PyYAML in /usr/local/lib/python3.11/dist-packages (from optuna) (6.0.2)\n",
      "Requirement already satisfied: Mako in /usr/local/lib/python3.11/dist-packages (from alembic>=1.5.0->optuna) (1.3.9)\n",
      "Requirement already satisfied: typing-extensions>=4.12 in /usr/local/lib/python3.11/dist-packages (from alembic>=1.5.0->optuna) (4.13.1)\n",
      "Requirement already satisfied: greenlet!=0.4.17 in /usr/local/lib/python3.11/dist-packages (from sqlalchemy>=1.4.2->optuna) (3.1.1)\n",
      "Requirement already satisfied: mkl_fft in /usr/local/lib/python3.11/dist-packages (from numpy->optuna) (1.3.8)\n",
      "Requirement already satisfied: mkl_random in /usr/local/lib/python3.11/dist-packages (from numpy->optuna) (1.2.4)\n",
      "Requirement already satisfied: mkl_umath in /usr/local/lib/python3.11/dist-packages (from numpy->optuna) (0.1.1)\n",
      "Requirement already satisfied: mkl in /usr/local/lib/python3.11/dist-packages (from numpy->optuna) (2025.1.0)\n",
      "Requirement already satisfied: tbb4py in /usr/local/lib/python3.11/dist-packages (from numpy->optuna) (2022.1.0)\n",
      "Requirement already satisfied: mkl-service in /usr/local/lib/python3.11/dist-packages (from numpy->optuna) (2.4.1)\n",
      "Requirement already satisfied: MarkupSafe>=0.9.2 in /usr/local/lib/python3.11/dist-packages (from Mako->alembic>=1.5.0->optuna) (3.0.2)\n",
      "Requirement already satisfied: intel-openmp<2026,>=2024 in /usr/local/lib/python3.11/dist-packages (from mkl->numpy->optuna) (2024.2.0)\n",
      "Requirement already satisfied: tbb==2022.* in /usr/local/lib/python3.11/dist-packages (from mkl->numpy->optuna) (2022.1.0)\n",
      "Requirement already satisfied: tcmlib==1.* in /usr/local/lib/python3.11/dist-packages (from tbb==2022.*->mkl->numpy->optuna) (1.2.0)\n",
      "Requirement already satisfied: intel-cmplr-lib-rt in /usr/local/lib/python3.11/dist-packages (from mkl_umath->numpy->optuna) (2024.2.0)\n",
      "Requirement already satisfied: intel-cmplr-lib-ur==2024.2.0 in /usr/local/lib/python3.11/dist-packages (from intel-openmp<2026,>=2024->mkl->numpy->optuna) (2024.2.0)\n"
     ]
    }
   ],
   "source": [
    "!pip install optuna # Recorda instal·lar en cas de no tenir-lo"
   ]
  },
  {
   "cell_type": "code",
   "execution_count": 29,
   "metadata": {
    "execution": {
     "iopub.execute_input": "2025-04-20T08:43:37.180827Z",
     "iopub.status.busy": "2025-04-20T08:43:37.180548Z",
     "iopub.status.idle": "2025-04-20T09:01:09.423283Z",
     "shell.execute_reply": "2025-04-20T09:01:09.422667Z",
     "shell.execute_reply.started": "2025-04-20T08:43:37.180804Z"
    },
    "id": "_WijUaEMFNYh"
   },
   "outputs": [
    {
     "name": "stderr",
     "output_type": "stream",
     "text": [
      "[I 2025-04-20 08:43:37,791] A new study created in memory with name: no-name-cb942c1d-182b-4bd7-8090-201d545f0c9e\n",
      "/usr/local/lib/python3.11/dist-packages/keras/src/layers/rnn/rnn.py:204: UserWarning: Do not pass an `input_shape`/`input_dim` argument to a layer. When using Sequential models, prefer using an `Input(shape)` object as the first layer in the model instead.\n",
      "  super().__init__(**kwargs)\n",
      "[I 2025-04-20 08:44:19,633] Trial 0 finished with value: 0.00046120735350996256 and parameters: {'n_units1': 62, 'n_units2': 57, 'dropout_rate': 0.49557768967609195, 'lr': 0.005607330612115701, 'batch_size': 128}. Best is trial 0 with value: 0.00046120735350996256.\n",
      "[I 2025-04-20 08:46:12,072] Trial 1 finished with value: 0.0003134425787720829 and parameters: {'n_units1': 87, 'n_units2': 99, 'dropout_rate': 0.13973895916636625, 'lr': 0.0003142988001307005, 'batch_size': 64}. Best is trial 1 with value: 0.0003134425787720829.\n",
      "[I 2025-04-20 08:47:18,831] Trial 2 finished with value: 0.0006151217967271805 and parameters: {'n_units1': 76, 'n_units2': 62, 'dropout_rate': 0.3833850019752022, 'lr': 0.007639363896858997, 'batch_size': 64}. Best is trial 1 with value: 0.0003134425787720829.\n",
      "[I 2025-04-20 08:49:09,756] Trial 3 finished with value: 0.0003053852415177971 and parameters: {'n_units1': 49, 'n_units2': 94, 'dropout_rate': 0.27947393042712343, 'lr': 0.0009804476079459464, 'batch_size': 64}. Best is trial 3 with value: 0.0003053852415177971.\n",
      "[I 2025-04-20 08:50:59,291] Trial 4 finished with value: 0.00024378417583648115 and parameters: {'n_units1': 42, 'n_units2': 127, 'dropout_rate': 0.3505654932838743, 'lr': 0.009810156387275046, 'batch_size': 64}. Best is trial 4 with value: 0.00024378417583648115.\n",
      "[I 2025-04-20 08:52:48,426] Trial 5 finished with value: 0.00022082460054662079 and parameters: {'n_units1': 79, 'n_units2': 62, 'dropout_rate': 0.2389212464845193, 'lr': 0.005190432488527139, 'batch_size': 64}. Best is trial 5 with value: 0.00022082460054662079.\n",
      "[I 2025-04-20 08:53:47,366] Trial 6 finished with value: 0.00031841357122175395 and parameters: {'n_units1': 121, 'n_units2': 71, 'dropout_rate': 0.3974978958378719, 'lr': 0.00683449225495416, 'batch_size': 128}. Best is trial 5 with value: 0.00022082460054662079.\n",
      "[I 2025-04-20 08:54:45,666] Trial 7 finished with value: 0.0005125346942804754 and parameters: {'n_units1': 57, 'n_units2': 100, 'dropout_rate': 0.10577180944356585, 'lr': 0.00011545717644513314, 'batch_size': 128}. Best is trial 5 with value: 0.00022082460054662079.\n",
      "[I 2025-04-20 08:57:36,762] Trial 8 finished with value: 0.000326484878314659 and parameters: {'n_units1': 75, 'n_units2': 117, 'dropout_rate': 0.4719224447788921, 'lr': 0.006467379888337453, 'batch_size': 32}. Best is trial 5 with value: 0.00022082460054662079.\n",
      "[I 2025-04-20 09:01:09,419] Trial 9 finished with value: 0.0003131033154204488 and parameters: {'n_units1': 65, 'n_units2': 50, 'dropout_rate': 0.34074504185695775, 'lr': 0.0005720164326677193, 'batch_size': 32}. Best is trial 5 with value: 0.00022082460054662079.\n"
     ]
    },
    {
     "name": "stdout",
     "output_type": "stream",
     "text": [
      "Millors hiperparàmetres:\n",
      "  n_units1: 79\n",
      "  n_units2: 62\n",
      "  dropout_rate: 0.2389212464845193\n",
      "  lr: 0.005190432488527139\n",
      "  batch_size: 64\n"
     ]
    }
   ],
   "source": [
    "# Completa l'exercici\n",
    "import optuna\n",
    "from tensorflow.keras.layers import LSTM, Dropout, Dense\n",
    "from tensorflow.keras.optimizers import Adam\n",
    "from tensorflow.keras.callbacks import EarlyStopping\n",
    "\n",
    "window_size = 24  # Utilitzant les últimes 24 hores per predir la següent hora\n",
    "X, y = [], []\n",
    "\n",
    "for i in range(len(scaled_values) - window_size):\n",
    "    X.append(scaled_values[i:i + window_size])\n",
    "    y.append(scaled_values[i + window_size])\n",
    "\n",
    "X, y = np.array(X), np.array(y)\n",
    "\n",
    "split_index = int(len(X) * 0.8)\n",
    "X_train, X_test = X[:split_index], X[split_index:]\n",
    "y_train, y_test = y[:split_index], y[split_index:]\n",
    "\n",
    "# Model optuna\n",
    "def build_deep_lstm(trial):\n",
    "    # Hiperparàmetres a optimitzar\n",
    "    n_units1 = trial.suggest_int('n_units1', 32, 128)\n",
    "    n_units2 = trial.suggest_int('n_units2', 32, 128)\n",
    "    dropout_rate = trial.suggest_float('dropout_rate', 0.1, 0.5)\n",
    "    lr = trial.suggest_float('lr', 1e-4, 1e-2, log=True)\n",
    "    \n",
    "    model = Sequential([\n",
    "        LSTM(n_units1, return_sequences=True, input_shape=(window_size, 1)),\n",
    "        Dropout(dropout_rate),\n",
    "        LSTM(n_units2),\n",
    "        Dropout(dropout_rate),\n",
    "        Dense(1)\n",
    "    ])\n",
    "    optimizer = Adam(learning_rate=lr)\n",
    "    model.compile(loss='mean_squared_error', optimizer=optimizer)\n",
    "    return model\n",
    "\n",
    "def objective(trial):\n",
    "    model = build_deep_lstm(trial)\n",
    "    batch_size = trial.suggest_categorical('batch_size', [32, 64, 128])\n",
    "\n",
    "    # afegeixo early stopping perquè triga molt\n",
    "    early_stopping = EarlyStopping(monitor='val_loss', patience=3, restore_best_weights=True)\n",
    "    \n",
    "    history = model.fit(\n",
    "        X_train, y_train,\n",
    "        validation_data=(X_test, y_test),\n",
    "        epochs=10,\n",
    "        callbacks=[early_stopping],        \n",
    "        batch_size=batch_size,\n",
    "        verbose=0\n",
    "    )\n",
    "    \n",
    "    return history.history['val_loss'][-1]\n",
    "\n",
    "study = optuna.create_study(direction='minimize')\n",
    "study.optimize(objective, n_trials=10)\n",
    "\n",
    "best_params = study.best_trial.params\n",
    "print(\"Millors hiperparàmetres:\")\n",
    "for k, v in best_params.items():\n",
    "    print(f\"  {k}: {v}\")"
   ]
  },
  {
   "cell_type": "code",
   "execution_count": 34,
   "metadata": {
    "execution": {
     "iopub.execute_input": "2025-04-20T09:07:44.468282Z",
     "iopub.status.busy": "2025-04-20T09:07:44.467823Z",
     "iopub.status.idle": "2025-04-20T09:10:45.168209Z",
     "shell.execute_reply": "2025-04-20T09:10:45.167580Z",
     "shell.execute_reply.started": "2025-04-20T09:07:44.468260Z"
    }
   },
   "outputs": [
    {
     "name": "stdout",
     "output_type": "stream",
     "text": [
      "Epoch 1/50\n",
      "\u001b[1m1817/1817\u001b[0m \u001b[32m━━━━━━━━━━━━━━━━━━━━\u001b[0m\u001b[37m\u001b[0m \u001b[1m15s\u001b[0m 6ms/step - loss: 0.0054 - val_loss: 3.6250e-04\n",
      "Epoch 2/50\n",
      "\u001b[1m1817/1817\u001b[0m \u001b[32m━━━━━━━━━━━━━━━━━━━━\u001b[0m\u001b[37m\u001b[0m \u001b[1m11s\u001b[0m 6ms/step - loss: 5.9408e-04 - val_loss: 4.1682e-04\n",
      "Epoch 3/50\n",
      "\u001b[1m1817/1817\u001b[0m \u001b[32m━━━━━━━━━━━━━━━━━━━━\u001b[0m\u001b[37m\u001b[0m \u001b[1m11s\u001b[0m 6ms/step - loss: 5.4085e-04 - val_loss: 3.0994e-04\n",
      "Epoch 4/50\n",
      "\u001b[1m1817/1817\u001b[0m \u001b[32m━━━━━━━━━━━━━━━━━━━━\u001b[0m\u001b[37m\u001b[0m \u001b[1m11s\u001b[0m 6ms/step - loss: 4.9917e-04 - val_loss: 3.3407e-04\n",
      "Epoch 5/50\n",
      "\u001b[1m1817/1817\u001b[0m \u001b[32m━━━━━━━━━━━━━━━━━━━━\u001b[0m\u001b[37m\u001b[0m \u001b[1m11s\u001b[0m 6ms/step - loss: 4.4348e-04 - val_loss: 2.7985e-04\n",
      "Epoch 6/50\n",
      "\u001b[1m1817/1817\u001b[0m \u001b[32m━━━━━━━━━━━━━━━━━━━━\u001b[0m\u001b[37m\u001b[0m \u001b[1m11s\u001b[0m 6ms/step - loss: 4.1709e-04 - val_loss: 2.4940e-04\n",
      "Epoch 7/50\n",
      "\u001b[1m1817/1817\u001b[0m \u001b[32m━━━━━━━━━━━━━━━━━━━━\u001b[0m\u001b[37m\u001b[0m \u001b[1m11s\u001b[0m 6ms/step - loss: 4.0701e-04 - val_loss: 2.3729e-04\n",
      "Epoch 8/50\n",
      "\u001b[1m1817/1817\u001b[0m \u001b[32m━━━━━━━━━━━━━━━━━━━━\u001b[0m\u001b[37m\u001b[0m \u001b[1m11s\u001b[0m 6ms/step - loss: 3.7894e-04 - val_loss: 2.3214e-04\n",
      "Epoch 9/50\n",
      "\u001b[1m1817/1817\u001b[0m \u001b[32m━━━━━━━━━━━━━━━━━━━━\u001b[0m\u001b[37m\u001b[0m \u001b[1m11s\u001b[0m 6ms/step - loss: 3.6368e-04 - val_loss: 2.3394e-04\n",
      "Epoch 10/50\n",
      "\u001b[1m1817/1817\u001b[0m \u001b[32m━━━━━━━━━━━━━━━━━━━━\u001b[0m\u001b[37m\u001b[0m \u001b[1m11s\u001b[0m 6ms/step - loss: 3.5800e-04 - val_loss: 2.1926e-04\n",
      "Epoch 11/50\n",
      "\u001b[1m1817/1817\u001b[0m \u001b[32m━━━━━━━━━━━━━━━━━━━━\u001b[0m\u001b[37m\u001b[0m \u001b[1m11s\u001b[0m 6ms/step - loss: 3.4938e-04 - val_loss: 2.0763e-04\n",
      "Epoch 12/50\n",
      "\u001b[1m1817/1817\u001b[0m \u001b[32m━━━━━━━━━━━━━━━━━━━━\u001b[0m\u001b[37m\u001b[0m \u001b[1m11s\u001b[0m 6ms/step - loss: 3.3876e-04 - val_loss: 2.5530e-04\n",
      "Epoch 13/50\n",
      "\u001b[1m1817/1817\u001b[0m \u001b[32m━━━━━━━━━━━━━━━━━━━━\u001b[0m\u001b[37m\u001b[0m \u001b[1m11s\u001b[0m 6ms/step - loss: 3.2676e-04 - val_loss: 2.1958e-04\n",
      "Epoch 14/50\n",
      "\u001b[1m1817/1817\u001b[0m \u001b[32m━━━━━━━━━━━━━━━━━━━━\u001b[0m\u001b[37m\u001b[0m \u001b[1m11s\u001b[0m 6ms/step - loss: 3.2629e-04 - val_loss: 2.3096e-04\n",
      "Epoch 15/50\n",
      "\u001b[1m1817/1817\u001b[0m \u001b[32m━━━━━━━━━━━━━━━━━━━━\u001b[0m\u001b[37m\u001b[0m \u001b[1m11s\u001b[0m 6ms/step - loss: 3.2442e-04 - val_loss: 2.1882e-04\n",
      "Epoch 16/50\n",
      "\u001b[1m1817/1817\u001b[0m \u001b[32m━━━━━━━━━━━━━━━━━━━━\u001b[0m\u001b[37m\u001b[0m \u001b[1m11s\u001b[0m 6ms/step - loss: 3.1100e-04 - val_loss: 2.1458e-04\n"
     ]
    },
    {
     "data": {
      "text/plain": [
       "<keras.src.callbacks.history.History at 0x7ca4283dc210>"
      ]
     },
     "execution_count": 34,
     "metadata": {},
     "output_type": "execute_result"
    }
   ],
   "source": [
    "# contruir model lstm\n",
    "model_deep_lstm = build_deep_lstm(study.best_trial)\n",
    "\n",
    "# early stopping\n",
    "early_stopping = EarlyStopping(monitor='val_loss', patience=5, restore_best_weights=True)\n",
    "\n",
    "# entrenar\n",
    "model_deep_lstm.fit(\n",
    "    X_train, y_train,\n",
    "    validation_data=(X_test, y_test),\n",
    "    epochs=50,\n",
    "    batch_size=best_params['batch_size'],\n",
    "    callbacks=[early_stopping],\n",
    "    verbose=1\n",
    ")"
   ]
  },
  {
   "cell_type": "code",
   "execution_count": 37,
   "metadata": {
    "execution": {
     "iopub.execute_input": "2025-04-20T09:13:22.335429Z",
     "iopub.status.busy": "2025-04-20T09:13:22.334812Z",
     "iopub.status.idle": "2025-04-20T09:13:29.704355Z",
     "shell.execute_reply": "2025-04-20T09:13:29.703656Z",
     "shell.execute_reply.started": "2025-04-20T09:13:22.335399Z"
    },
    "id": "B781DcwCVfLV"
   },
   "outputs": [
    {
     "name": "stdout",
     "output_type": "stream",
     "text": [
      "\u001b[1m909/909\u001b[0m \u001b[32m━━━━━━━━━━━━━━━━━━━━\u001b[0m\u001b[37m\u001b[0m \u001b[1m2s\u001b[0m 2ms/step\n",
      "MSE (Deep LSTM + Optuna): 0.000208\n",
      "Comparació de MSE:\n",
      "\u001b[1m909/909\u001b[0m \u001b[32m━━━━━━━━━━━━━━━━━━━━\u001b[0m\u001b[37m\u001b[0m \u001b[1m1s\u001b[0m 1ms/step\n",
      "- RNN: 0.020038\n",
      "\u001b[1m909/909\u001b[0m \u001b[32m━━━━━━━━━━━━━━━━━━━━\u001b[0m\u001b[37m\u001b[0m \u001b[1m1s\u001b[0m 1ms/step\n",
      "- GRU: 0.001508\n",
      "\u001b[1m909/909\u001b[0m \u001b[32m━━━━━━━━━━━━━━━━━━━━\u001b[0m\u001b[37m\u001b[0m \u001b[1m1s\u001b[0m 2ms/step\n",
      "- LSTM bàsic: 0.001114\n",
      "- LSTM profund + Optuna: 0.000208\n",
      "\u001b[1m7/7\u001b[0m \u001b[32m━━━━━━━━━━━━━━━━━━━━\u001b[0m\u001b[37m\u001b[0m \u001b[1m0s\u001b[0m 2ms/step \n",
      "\u001b[1m7/7\u001b[0m \u001b[32m━━━━━━━━━━━━━━━━━━━━\u001b[0m\u001b[37m\u001b[0m \u001b[1m0s\u001b[0m 2ms/step \n"
     ]
    },
    {
     "data": {
      "image/png": "[encoded data removed]",
      "text/plain": [
       "<Figure size 1200x600 with 1 Axes>"
      ]
     },
     "metadata": {},
     "output_type": "display_data"
    }
   ],
   "source": [
    "# Avaluar el model profund\n",
    "deep_lstm_mse = mean_squared_error(y_test, model_deep_lstm.predict(X_test))\n",
    "print(f\"MSE (Deep LSTM + Optuna): {deep_lstm_mse:.6f}\")\n",
    "\n",
    "# Comparar amb models anteriors (exercici 5)\n",
    "print(\"Comparació de MSE:\")\n",
    "print(f\"- RNN: {mean_squared_error(y_test, rnn_model.predict(X_test)):.6f}\")\n",
    "print(f\"- GRU: {mean_squared_error(y_test, gru_model.predict(X_test)):.6f}\")\n",
    "print(f\"- LSTM bàsic: {mean_squared_error(y_test, lstm_model.predict(X_test)):.6f}\")\n",
    "print(f\"- LSTM profund + Optuna: {deep_lstm_mse:.6f}\")\n",
    "\n",
    "# Gràfica comparativa de prediccions (primeres 200 mostres)\n",
    "plt.figure(figsize=(12, 6))\n",
    "plt.plot(y_test[:200], label='Real', color='black', linestyle='--')\n",
    "plt.plot(model_deep_lstm.predict(X_test[:200]), label='Deep LSTM + Optuna', color='red')\n",
    "plt.plot(lstm_model.predict(X_test[:200]), label='LSTM bàsic', color='blue', alpha=0.7)\n",
    "plt.legend()\n",
    "plt.title(\"Comparació: Deep LSTM vs LSTM bàsic\")\n",
    "plt.show()"
   ]
  }
 ],
 "metadata": {
  "colab": {
   "provenance": []
  },
  "kaggle": {
   "accelerator": "nvidiaTeslaT4",
   "dataSources": [],
   "dockerImageVersionId": 31011,
   "isGpuEnabled": true,
   "isInternetEnabled": true,
   "language": "python",
   "sourceType": "notebook"
  },
  "kernelspec": {
   "display_name": "Python 3 (ipykernel)",
   "language": "python",
   "name": "python3"
  },
  "language_info": {
   "codemirror_mode": {
    "name": "ipython",
    "version": 3
   },
   "file_extension": ".py",
   "mimetype": "text/x-python",
   "name": "python",
   "nbconvert_exporter": "python",
   "pygments_lexer": "ipython3",
   "version": "3.10.9"
  },
  "toc": {
   "base_numbering": 1,
   "nav_menu": {},
   "number_sections": true,
   "sideBar": true,
   "skip_h1_title": true,
   "title_cell": "Table of Contents",
   "title_sidebar": "Contents",
   "toc_cell": false,
   "toc_position": {},
   "toc_section_display": true,
   "toc_window_display": false
  }
 },
 "nbformat": 4,
 "nbformat_minor": 4
}
