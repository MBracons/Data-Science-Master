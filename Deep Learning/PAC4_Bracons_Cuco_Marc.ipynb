{
 "cells": [
  {
   "cell_type": "markdown",
   "metadata": {
    "id": "m9izPPFuEem5"
   },
   "source": [
    "<!-- Cabecera con logo y datos UOC -->\n",
    "<div style=\"display: flex; align-items: flex-start; justify-content: space-between; width: 100%; margin-bottom: 30px;\">\n",
    "  <div style=\"width: 40%;\">\n",
    "    <img src=\"https://www.uoc.edu/content/dam/news/images/noticies/2016/202-nova-marca-uoc.jpg/_jcr_content/renditions/cq5dam.web.1280.1280.jpeg\" style=\"width: 100%;\">\n",
    "  </div>\n",
    "  <div style=\"width: 60%; text-align: right; padding-left: 20px;\">\n",
    "    <p style=\"color: #00007d; margin: 0; padding-top: 22px;\">M2.975 · Deep Learning · PAC4</p>\n",
    "    <p style=\"color: #00007d; margin: 0;\">2024-2 · Màster universitari en Ciència de dades (Data science)</p>\n",
    "    <p style=\"color: #00007d; margin: 0;\">Estudis d'Informàtica, Multimèdia i Telecomunicació</p>\n",
    "  </div>\n",
    "</div>\n",
    "\n",
    "<!-- Título principal -->\n",
    "<h2 style=\"margin-top: 0; text-align: center; color: #00007d;\">PAC 4: Models generatius</h2>\n",
    "\n",
    "<!-- Contenido de la PEC -->\n",
    "<div style=\"max-width: 900px;\">\n",
    "\n",
    "<u>Consideracions generals</u>:\n",
    "\n",
    "- Aquesta PAC s'ha de realitzar de forma **estrictament individual**. Qualsevol indicatiu de còpia serà penalitzat amb un suspens (D) per a totes les parts implicades i la possible avaluació negativa de l'assignatura de manera íntegra.\n",
    "- És necessari que l'estudiant indiqui **totes les fonts** que ha utilitzat per a la realització de la PAC. De no ser així, es considerarà que l'estudiant ha comès plagi, sent penalitzat amb un suspens (D) i la possible avaluació negativa de l'assignatura de manera íntegra.\n",
    "\n",
    "<u>Format de l'entrega</u>:\n",
    "\n",
    "- Alguns exercicis poden suposar diversos minuts d'execució, per la qual cosa l'entrega s'ha de fer en **format notebook** i en **format html**, on es vegi el codi, els resultats i comentaris de cada exercici. Es pot exportar el notebook a HTML des del menú File $\\to$ Download as $\\to$ HTML.\n",
    "- Existeix un tipus de cel·la especial per allotjar text. Aquest tipus de cel·la us serà molt útil per respondre a les diferents preguntes teòriques plantejades al llarg de l'activitat. Per canviar el tipus de cel·la a aquest tipus, en el menú: Cell $\\to$ Cell Type $\\to$ Markdown.\n",
    "\n",
    "</div>\n",
    "\n",
    "<h3><u>Informació de la pràctica</u></h3>\n",
    "<p style=\"text-align: justify;\">\n",
    "    Les <strong>xarxes generatives adversàries (GANs)</strong> ens permeten generar dades como imatges, vídeos o àudio a partir d'una entrada aleatòria. Normalment, aquesta entrada es mostreja d'una distribució normal abans de passar per una sèrie de transformacions que la converteixen en quelcom plausible, com una imatge, un so o un clip de vídeo.\n",
    "  </p>\n",
    "\n",
    "  <p style=\"text-align: justify;\">\n",
    "    Tot i això, una <em>DCGAN</em> senzilla no ens permet controlar l'aparença (per exemple, la classe) de les mostres generades. Per exemple, si una GAN genera dígits manuscrits, no podríem triar quin número volem que aparegui: els resultats serien aleatoris.\n",
    "  </p>\n",
    "\n",
    "  <p style=\"text-align: justify;\">\n",
    "    Per poder controlar allò que es genera, necessitem <strong>condicionar la sortida</strong> de la GAN a una entrada semàntica, com la classe d'una imatge.\n",
    "  </p>\n",
    "\n",
    "  <p style=\"text-align: justify;\">\n",
    "    En aquesta pràctica (PAC), construirem una <strong>GAN Condicional</strong> que sigui capaç de generar dígits manuscrits condicionats a una classe concreta.\n",
    "  </p>\n",
    "\n",
    " <table style=\"width: 100%; border-collapse: collapse; font-size: 14px;\">\n",
    "  <thead style=\"background-color: #f0f0f0;\">\n",
    "    <tr>\n",
    "      <th style=\"border: 1px solid #ccc; padding: 6px;\">1</th>\n",
    "      <th style=\"border: 1px solid #ccc; padding: 6px;\">2</th>\n",
    "      <th style=\"border: 1px solid #ccc; padding: 6px;\">2.8</th>\n",
    "      <th style=\"border: 1px solid #ccc; padding: 6px;\">3</th>\n",
    "      <th style=\"border: 1px solid #ccc; padding: 6px;\">4.1</th>\n",
    "      <th style=\"border: 1px solid #ccc; padding: 6px;\">4.2</th>\n",
    "      <th style=\"border: 1px solid #ccc; padding: 6px;\">5.1</th>\n",
    "      <th style=\"border: 1px solid #ccc; padding: 6px;\">5.2</th>\n",
    "      <th style=\"border: 1px solid #ccc; padding: 6px;\">5.3</th>\n",
    "      <th style=\"border: 1px solid #ccc; padding: 6px;\">6.1</th>\n",
    "      <th style=\"border: 1px solid #ccc; padding: 6px;\">6.2</th>\n",
    "      <th style=\"border: 1px solid #ccc; padding: 6px;\">6.3</th>\n",
    "      <th style=\"border: 1px solid #ccc; padding: 6px;\">6.4</th>\n",
    "      <th style=\"border: 1px solid #ccc; padding: 6px;\">7.1</th>\n",
    "      <th style=\"border: 1px solid #ccc; padding: 6px;\">7.2</th>\n",
    "      <th style=\"border: 1px solid #ccc; padding: 6px;\">7.3</th>\n",
    "      <th style=\"border: 1px solid #ccc; padding: 6px;\">7.4</th>\n",
    "      <th style=\"border: 1px solid #ccc; padding: 6px; background-color: #e0ffe0;\"><strong>Total</strong></th>\n",
    "    </tr>\n",
    "  </thead>\n",
    "  <tbody>\n",
    "    <tr>\n",
    "      <td style=\"border: 1px solid #ccc; padding: 6px;\">0,5</td>\n",
    "      <td style=\"border: 1px solid #ccc; padding: 6px;\">1,25</td>\n",
    "      <td style=\"border: 1px solid #ccc; padding: 6px;\">0,25</td>\n",
    "      <td style=\"border: 1px solid #ccc; padding: 6px;\">0,25</td>\n",
    "      <td style=\"border: 1px solid #ccc; padding: 6px;\">3</td>\n",
    "      <td style=\"border: 1px solid #ccc; padding: 6px;\">0,5</td>\n",
    "      <td style=\"border: 1px solid #ccc; padding: 6px;\">0,5</td>\n",
    "      <td style=\"border: 1px solid #ccc; padding: 6px;\">0,5</td>\n",
    "      <td style=\"border: 1px solid #ccc; padding: 6px;\">0,5</td>\n",
    "      <td style=\"border: 1px solid #ccc; padding: 6px;\">0,5</td>\n",
    "      <td style=\"border: 1px solid #ccc; padding: 6px;\">0,5</td>\n",
    "      <td style=\"border: 1px solid #ccc; padding: 6px;\">0,5</td>\n",
    "      <td style=\"border: 1px solid #ccc; padding: 6px;\">0,25</td>\n",
    "      <td style=\"border: 1px solid #ccc; padding: 6px;\">0,25</td>\n",
    "      <td style=\"border: 1px solid #ccc; padding: 6px;\">0,25</td>\n",
    "      <td style=\"border: 1px solid #ccc; padding: 6px;\">0,25</td>\n",
    "      <td style=\"border: 1px solid #ccc; padding: 6px;\">0,25</td>\n",
    "      <td style=\"border: 1px solid #ccc; padding: 6px; background-color: #e0ffe0;\"><strong>10</strong></td>\n",
    "    </tr>\n",
    "  </tbody>\n",
    "</table>\n",
    "\n",
    "  <p style=\"margin-top: 0; text-align: center;color: #cc0000;\"><strong>Data de lliurament: 10 de juny</strong></p>"
   ]
  },
  {
   "cell_type": "markdown",
   "metadata": {
    "id": "Tw7iV4QWEa5Y"
   },
   "source": [
    "<!-- Bloque para nombre del estudiante -->\n",
    "<div style=\"background-color: #fcf2f2; border-left: 5px solid #dfb5b4; padding: 0.5em;\">\n",
    "  <strong>Cognoms i nom de l'estudiant:</strong> <em> Marc Bracons Cucó</em>\n",
    "</div>\n"
   ]
  },
  {
   "cell_type": "markdown",
   "metadata": {
    "id": "1f1gVY9gEem8"
   },
   "source": [
    "## 0. Importacions necessàries"
   ]
  },
  {
   "cell_type": "markdown",
   "metadata": {
    "id": "AzcDe5BTEa5Z"
   },
   "source": [
    "<p style=\"color: #00007d;\">\n",
    "  <strong>Algunes consideracions abans de començar amb la PAC:</strong>\n",
    "</p>\n",
    "\n",
    "<ol style=\"color: #00007d;\">\n",
    "  <li>\n",
    "    És possible que en executar el notebook apareguin missatges relacionats amb <code>cuFFT</code>, <code>cuDNN</code> o <code>cuBLAS</code>.\n",
    "    <strong>No es tracta d'errors</strong>, sinó d'avisos que emet TensorFlow en inicialitzar l'entorn de GPU.\n",
    "    <strong>Pots ignorar-los sense problemes</strong>, ja que no afecten el funcionament del codi.\n",
    "  </li>\n",
    "\n",
    "  <li>\n",
    "    Si prefereixes no veure aquests missatges, pots córrer una línia de configuració que oculta tots els avisos (consideració 2) i mostra només errors crítics. Tot i córrer aquesta línia, és possible que alguns missatges tècnics segueixin apareixent. <strong>No afecten en absolut el desenvolupament de la pràctica</strong>.\n",
    "\n",
    "  </li>\n",
    "\n",
    "  <li>\n",
    "    <strong>Recomanem utilitzar una GPU P100</strong> com a accelerador. Aquest tipus de GPU permet entrenar models generatius de manera eficient.\n",
    "    Podeu seleccionar-la als paràmetres d'entorn si esteu treballant en plataformes com Kaggle o Google Colab.\n",
    "  </li>\n",
    "\n",
    "  <li>\n",
    "    Aquest notebook utilitza la llibreria <code>tensorflow_docs</code> per mostrar animacions i resultats generats (com imatges o GIFs) directament a l'entorn.\n",
    "    <strong>Aquesta llibreria s'instal·larà automàticament si no és present</strong>, per la qual cosa heu d'executar la línia de codi corresponent (consideració 4).\n",
    "  </li>\n",
    "</ol>\n"
   ]
  },
  {
   "cell_type": "code",
   "execution_count": 1,
   "metadata": {
    "execution": {
     "iopub.execute_input": "2025-05-23T07:34:15.104332Z",
     "iopub.status.busy": "2025-05-23T07:34:15.103725Z",
     "iopub.status.idle": "2025-05-23T07:34:15.110696Z",
     "shell.execute_reply": "2025-05-23T07:34:15.109981Z",
     "shell.execute_reply.started": "2025-05-23T07:34:15.104304Z"
    },
    "id": "oC_dhPdoEa5Z"
   },
   "outputs": [],
   "source": [
    "# (Consideració 2) Suprimir missatges de baix nivell de TensorFlow\n",
    "import os\n",
    "os.environ['TF_CPP_MIN_LOG_LEVEL'] = '3'  # Només errors (no info ni warnings)"
   ]
  },
  {
   "cell_type": "code",
   "execution_count": 2,
   "metadata": {
    "execution": {
     "iopub.execute_input": "2025-05-23T07:34:15.111631Z",
     "iopub.status.busy": "2025-05-23T07:34:15.111411Z",
     "iopub.status.idle": "2025-05-23T07:34:24.822651Z",
     "shell.execute_reply": "2025-05-23T07:34:24.821616Z",
     "shell.execute_reply.started": "2025-05-23T07:34:15.111611Z"
    },
    "id": "M6oR5r16Ea5a"
   },
   "outputs": [
    {
     "name": "stdout",
     "output_type": "stream",
     "text": [
      "Mòdul 'tensorflow_docs' no trobat. Es procedeix a instal·lar-lo...\n",
      "  Preparing metadata (setup.py) ... \u001b[?25l\u001b[?25hdone\n",
      "  Building wheel for tensorflow-docs (setup.py) ... \u001b[?25l\u001b[?25hdone\n"
     ]
    }
   ],
   "source": [
    "# (Consideració 4) Instal·lar docs de TensorFlow\n",
    "try:\n",
    "    import tensorflow_docs as tfdocs\n",
    "    print(\"Mòdul 'tensorflow_docs' ja està instal·lat.\")\n",
    "except ImportError:\n",
    "    print(\"Mòdul 'tensorflow_docs' no trobat. Es procedeix a instal·lar-lo...\")\n",
    "    !pip install -q git+https://github.com/tensorflow/docs"
   ]
  },
  {
   "cell_type": "code",
   "execution_count": 3,
   "metadata": {
    "execution": {
     "iopub.execute_input": "2025-05-23T07:34:24.825147Z",
     "iopub.status.busy": "2025-05-23T07:34:24.824837Z",
     "iopub.status.idle": "2025-05-23T07:34:38.227217Z",
     "shell.execute_reply": "2025-05-23T07:34:38.226647Z",
     "shell.execute_reply.started": "2025-05-23T07:34:24.825115Z"
    },
    "id": "XwOPatumEem9"
   },
   "outputs": [
    {
     "name": "stderr",
     "output_type": "stream",
     "text": [
      "WARNING: All log messages before absl::InitializeLog() is called are written to STDERR\n",
      "E0000 00:00:1747985666.563117      35 cuda_dnn.cc:8310] Unable to register cuDNN factory: Attempting to register factory for plugin cuDNN when one has already been registered\n",
      "E0000 00:00:1747985666.619246      35 cuda_blas.cc:1418] Unable to register cuBLAS factory: Attempting to register factory for plugin cuBLAS when one has already been registered\n"
     ]
    }
   ],
   "source": [
    "import keras\n",
    "from keras import layers\n",
    "from keras import ops\n",
    "from tensorflow_docs.vis import embed\n",
    "import tensorflow as tf\n",
    "import numpy as np\n",
    "import imageio\n",
    "from sklearn.preprocessing import OneHotEncoder"
   ]
  },
  {
   "cell_type": "markdown",
   "metadata": {
    "id": "hipaHfcPEa5a"
   },
   "source": [
    "## 1. Definició de constants i hiperparàmetres\n",
    "\n",
    "<p>\n",
    "Utilitzarem el conjunt de dades <strong>MNIST</strong>, que és una col·lecció d'imatges a escala de grisos de <strong>dígits manuscrits</strong> del 0 al 9.\n",
    "Està àmpliament utilitzat en l'àmbit de l'aprenentatge automàtic per a tasques de classificació i generació d'imatges.\n",
    "</p>\n",
    "\n",
    "<ul>\n",
    "  <li>Conté un total de <strong>70.000 imatges</strong>, dividides en <strong>60.000 per a entrenament</strong> i <strong>10.000 per a validació/test</strong>.</li>\n",
    "  <li>Cada imatge té una mida de <strong>28x28 píxels</strong> i són imatges en blanc i negre (escala de grisos).</li>\n",
    "  <li>Les etiquetes associades a cada imatge representen el <strong>dígit corresponent</strong>, és a dir, una classe entre 0 i 9.</li>\n",
    "</ul>\n",
    "\n",
    "<p>\n",
    "Per a aquesta pràctica, treballarem únicament amb el conjunt d'entrenament, ja que l'objectiu és <strong>generar imatges noves</strong> a partir de soroll aleatori i una classe com a condició.\n",
    "Abans de continuar, defineix les variables següents per configurar la teva xarxa generativa:\n",
    "</p>\n",
    "\n",
    "<ul>\n",
    "  <li><code>batch_size</code>: Quantes imatges processaràs per lot durant l'entrenament?</li>\n",
    "  <li><code>num_channels</code>: Quants canals té cada imatge en aquest conjunt?</li>\n",
    "  <li><code>num_classes</code>: Quantes classes diferents conté el dataset?</li>\n",
    "  <li><code>image_size</code>: Quin és l'alt (i ample) de les imatges?</li>\n",
    "  <li><code>latent_dim</code>: Quina mida tindrà el vector aleatori (soroll) que s'usarà com a entrada per generar imatges?</li>\n",
    "</ul>"
   ]
  },
  {
   "cell_type": "code",
   "execution_count": 4,
   "metadata": {
    "execution": {
     "iopub.execute_input": "2025-05-23T07:35:57.784760Z",
     "iopub.status.busy": "2025-05-23T07:35:57.784475Z",
     "iopub.status.idle": "2025-05-23T07:35:57.788596Z",
     "shell.execute_reply": "2025-05-23T07:35:57.788053Z",
     "shell.execute_reply.started": "2025-05-23T07:35:57.784738Z"
    },
    "id": "Ro4S6kLOEem9"
   },
   "outputs": [],
   "source": [
    "batch_size = 64        # Nombre de mostres que es processen en cada batch durant l'entrenament\n",
    "num_channels = 1       # Estem fent servir escala de grisos\n",
    "num_classes = 10       # Del 0 al 9\n",
    "image_size = 28        # 28x28 píxels\n",
    "latent_dim = 128       # Dimensió del vector latent"
   ]
  },
  {
   "cell_type": "markdown",
   "metadata": {
    "id": "ZC_gU0o6YS60"
   },
   "source": [
    "<div style=\"background-color: #EDF7FF; border-color: #7C9DBF; border-left: 5px solid #7C9DBF; padding: 0.5em;\">\n",
    "<strong>Pregunta 1 [0,5 pts.]:</strong>\n",
    "<ul>\n",
    "  <li><code>[0,1 pts.] num_channels</code>: Quants canals té cada imatge en aquest conjunt?</li>\n",
    "  <li><code>[0,1 pts.] num_classes</code>: Quantes classes diferents conté el dataset?</li>\n",
    "  <li><code>[0,1 pts.] image_size</code>: Quina és la dimensió (alt i ample) de les imatges quadrades del conjunt MNIST? (és un únic número, no un vector)</li>\n",
    "  <li><code>[0,2 pts.] latent_dim</code>: Per què serveix el vector aleatori (soroll) en una xarxa generativa i què representa la seva dimensió?</li>\n",
    "\n",
    "</ul>\n",
    "    \n",
    "</div>"
   ]
  },
  {
   "cell_type": "markdown",
   "metadata": {
    "id": "xpvhNUpzEa5b"
   },
   "source": [
    "<!-- Bloque para nombre del estudiante -->\n",
    "<div style=\"background-color: #fcf2f2; border-left: 5px solid #dfb5b4; padding: 0.5em;\">\n",
    "  <strong>Resposta a la pregunta 1:</strong>\n",
    "     \n",
    "\n",
    "<ul>\n",
    "    <li><code>num_channels</code>:<em> Al treballar amb escala de grisos només tenim 1 canal.</em></li>\n",
    "    <li><code>num_classes</code>:<em> Tantes com números del 0 al 9, per tant, 10.</em></li>\n",
    "    <li><code>image_size</code>:<em> 28, ja que les imatges són de 28x28 píxels</em></li>\n",
    "    <li><code>latent_dim</code>:<em> Aquest valor introdueix variabilitat, permetent que el generador creï imatges diferents cada vegada. La seva dimensió ens indica com de complexes poden ser els patrons generats.</em> </li>\n",
    "  </ul>\n",
    "</div>"
   ]
  },
  {
   "cell_type": "markdown",
   "metadata": {
    "id": "Pxv9-UatEem-"
   },
   "source": [
    "## 2. Càrrega del dataset i pre-processament"
   ]
  },
  {
   "cell_type": "markdown",
   "metadata": {
    "id": "0N9A6BN1Ea5b"
   },
   "source": [
    "<div style=\"background-color: #EDF7FF; border-left: 5px solid #7C9DBF; padding: 0.5em;\">\n",
    "  <strong>Pregunta 2 [1,25 pts.]:</strong> Completar el següent codi\n",
    "\n",
    "\n",
    "<ul>\n",
    "  <li><strong>2.1</strong> Carrega el conjunt de dades <code>MNIST</code> directament des de <code>tensorflow.keras.datasets</code>.\n",
    "  Pots fer-ho amb <code>tf.keras.datasets.mnist.load_data()</code>, que torna dues tuples: una per a entrenament i una altra per a test.</li>\n",
    "\n",
    "  <li><strong>2.2</strong> L'objectiu és aplicar una codificació one-hot, que requereix que les etiquetes tinguin forma de columna.\n",
    "  Per fer-ho, utilitza <code>reshape(-1, 1)</code> sobre l'array d'etiquetes.</li>\n",
    "\n",
    "  <li><strong>2.3</strong> Les imatges es carreguen amb valors sencers entre 0 i 255.\n",
    "  Per treballar amb xarxes neuronals, normalitza-les dividint per 255.0 i converteix-les a tipus <code>float32</code>.</li>\n",
    "\n",
    "  <li><strong>2.4</strong> Fes servir <code>OneHotEncoder</code> de <code>sklearn.preprocessing</code> per transformar les etiquetes numèriques en vectors one-hot.\n",
    "  Recorda establir <code>sparse=False</code> perquè torni un array dens.</li>\n",
    "\n",
    "  <li><strong>2.5</strong> Com que les imatges vénen amb forma (28, 28), afegeix una dimensió al final per indicar que tenen un sol canal.\n",
    "  Pots utilitzar <code>np.expand_dims(..., axis=-1)</code> per passar de (28, 28) a (28, 28, 1).</li>\n",
    "\n",
    "  <li><strong>2.6</strong> Fes servir <code>tf.data.Dataset.from_tensor_slices</code> per crear un dataset a partir de les imatges i etiquetes ja processades.\n",
    "  Afegeix <code>.shuffle(...)</code> i <code>.batch(...)</code> per preparar les dades per a l'entrenament.</li>\n",
    "\n",
    "  <li><strong>2.7</strong> Imprimeix les formes de les variables <code>images</code> i <code>labels_onehot</code> per assegurar-te que coincideixen amb allò esperat.</li>\n",
    "</ul>\n",
    "\n",
    "<p>\n",
    "S'espera com a resultat una variable anomenada <code>dataset</code> del tipus <code>tf.data.Dataset</code>, amb les dimensions següents:\n",
    "</p>\n",
    "\n",
    "<ul>\n",
    "  <li><strong>Shape of images:</strong> (60000, 28, 28, 1)</li>\n",
    "  <li><strong>Shape of labels:</strong> (60000, 10)</li>\n",
    "</ul>\n",
    "\n",
    "</div>"
   ]
  },
  {
   "cell_type": "code",
   "execution_count": 5,
   "metadata": {
    "execution": {
     "iopub.execute_input": "2025-05-23T07:41:40.956435Z",
     "iopub.status.busy": "2025-05-23T07:41:40.956176Z",
     "iopub.status.idle": "2025-05-23T07:41:43.099819Z",
     "shell.execute_reply": "2025-05-23T07:41:43.099186Z",
     "shell.execute_reply.started": "2025-05-23T07:41:40.956418Z"
    },
    "id": "Txtk0fDuEa5b"
   },
   "outputs": [
    {
     "name": "stdout",
     "output_type": "stream",
     "text": [
      "Downloading data from https://storage.googleapis.com/tensorflow/tf-keras-datasets/mnist.npz\n",
      "\u001b[1m11490434/11490434\u001b[0m \u001b[32m━━━━━━━━━━━━━━━━━━━━\u001b[0m\u001b[37m\u001b[0m \u001b[1m0s\u001b[0m 0us/step\n"
     ]
    },
    {
     "name": "stderr",
     "output_type": "stream",
     "text": [
      "/usr/local/lib/python3.11/dist-packages/sklearn/preprocessing/_encoders.py:868: FutureWarning: `sparse` was renamed to `sparse_output` in version 1.2 and will be removed in 1.4. `sparse_output` is ignored unless you leave `sparse` to its default value.\n",
      "  warnings.warn(\n"
     ]
    },
    {
     "name": "stdout",
     "output_type": "stream",
     "text": [
      "Shape of images: (60000, 28, 28, 1)\n",
      "Shape of labels: (60000, 10)\n"
     ]
    },
    {
     "name": "stderr",
     "output_type": "stream",
     "text": [
      "I0000 00:00:1747986102.652968      35 gpu_device.cc:2022] Created device /job:localhost/replica:0/task:0/device:GPU:0 with 15513 MB memory:  -> device: 0, name: Tesla P100-PCIE-16GB, pci bus id: 0000:00:04.0, compute capability: 6.0\n"
     ]
    }
   ],
   "source": [
    "# 2.1 Carregar el conjunt de dades MNIST des de keras.datasets\n",
    "(images, labels), _ = tf.keras.datasets.mnist.load_data()\n",
    "\n",
    "# 2.2 Preparar etiquetes per utilitzar OneHotEncoder (convertir a columna)\n",
    "labels = labels.reshape(-1, 1)\n",
    "\n",
    "# 2.3 Normalitzar imatges: escalar valors de píxels al rang [0, 1]\n",
    "images = images.astype(np.float32) / 255.0\n",
    "\n",
    "# 2.4 Vectoritzar etiquetes amb OneHotEncoder\n",
    "encoder = OneHotEncoder(sparse=False)\n",
    "labels_onehot = encoder.fit_transform(labels)\n",
    "\n",
    "# 2.5 Afegir la dimensió del canal (per a convolucionals → (28, 28, 1))\n",
    "images = np.expand_dims(images, axis=-1)\n",
    "\n",
    "# 2.6 Crear l'objecte tf.data.Dataset i aplicar shuffle i batching\n",
    "dataset = tf.data.Dataset.from_tensor_slices((images, labels_onehot))\n",
    "dataset = dataset.shuffle(buffer_size=60000).batch(128)\n",
    "\n",
    "# 2.7 Mostrar les formes resultants\n",
    "print(f\"Shape of images: {images.shape}\")\n",
    "print(f\"Shape of labels: {labels_onehot.shape}\")"
   ]
  },
  {
   "cell_type": "markdown",
   "metadata": {
    "id": "4h0aieibEa5b"
   },
   "source": [
    "<div style=\"background-color: #EDF7FF; border-left: 5px solid #7C9DBF; padding: 0.5em;\">\n",
    "  <strong>Pregunta 2.8 [0,25 pts.]:</strong>\n",
    "  Per què cal normalitzar les imatges i afegir-hi la dimensió del canal abans d'entrenar una xarxa neuronal convolucional?\n",
    "</div>\n"
   ]
  },
  {
   "cell_type": "markdown",
   "metadata": {
    "id": "ic27cO_1Ea5b"
   },
   "source": [
    "<div style=\"background-color: #fcf2f2; border-left: 5px solid #dfb5b4; padding: 0.5em;\">\n",
    "  <strong>Resposta a la pregunta 2.8:</strong>\n",
    "      <p><em>Al normalitzar les imatges es millora l'estabilitat i eficiència durant l'entrenament. S'afegeix la dimensió del canal perquè les CNN fan servir entrades en format (alçada, amplada, canals)</em></p>\n",
    "</div>"
   ]
  },
  {
   "cell_type": "markdown",
   "metadata": {
    "id": "KWxxKgY5Eem-"
   },
   "source": [
    "## 3. Càlcul del nombre de canals d'entrada per al generador i el discriminador\n",
    "\n",
    "En una GAN estàndard (no condicional), el generador rep com a entrada un vector de soroll mostrejat d'una distribució normal, amb una dimensió fixa (`latent_dim`).\n",
    "\n",
    "En aquesta pràctica, treballarem amb una GAN condicional. Això vol dir que, a més del soroll, també inclourem informació sobre la classe que volem generar o avaluar. Aquesta informació ha de ser present tant al generador com al discriminador.\n",
    "\n",
    "Abans de calcular quants canals d'entrada tindrà cadascun, reflexiona sobre com es pot incorporar aquesta informació de classe i quin efecte té a l'entrenament.\n",
    "\n"
   ]
  },
  {
   "cell_type": "code",
   "execution_count": 6,
   "metadata": {
    "execution": {
     "iopub.execute_input": "2025-05-23T07:45:01.880951Z",
     "iopub.status.busy": "2025-05-23T07:45:01.880651Z",
     "iopub.status.idle": "2025-05-23T07:45:01.885411Z",
     "shell.execute_reply": "2025-05-23T07:45:01.884676Z",
     "shell.execute_reply.started": "2025-05-23T07:45:01.880930Z"
    },
    "id": "fvyQLXq4Eem_"
   },
   "outputs": [
    {
     "name": "stdout",
     "output_type": "stream",
     "text": [
      "138 11\n"
     ]
    }
   ],
   "source": [
    "# Calcular el nombre de canals d'entrada del generador\n",
    "# En aquest cas, se suma la dimensió del vector latent i el nombre de classes\n",
    "generator_in_channels = latent_dim + num_classes\n",
    "\n",
    "# Calculeu el nombre de canals d'entrada del discriminador\n",
    "# Se suma el nombre de canals d'imatge (1 a MNIST) amb el nombre de classes\n",
    "discriminator_in_channels = num_channels + num_classes\n",
    "\n",
    "# Mostrar els valors resultants\n",
    "print(generator_in_channels, discriminator_in_channels)"
   ]
  },
  {
   "cell_type": "markdown",
   "metadata": {
    "id": "Y9-rSnZyYS60"
   },
   "source": [
    "<div style=\"background-color: #EDF7FF; border-left: 5px solid #7C9DBF; padding: 0.5em;\">\n",
    "  <strong>Pregunta 3 [0,25 pts.]:</strong>\n",
    "  Per què cal afegir la informació de classe al vector d'entrada del generador i les imatges que rep el discriminador en una GAN condicional?\n",
    "</div>\n"
   ]
  },
  {
   "cell_type": "markdown",
   "metadata": {
    "id": "hhij324gEa5c"
   },
   "source": [
    "<div style=\"background-color: #fcf2f2; border-left: 5px solid #dfb5b4; padding: 0.5em;\">\n",
    "  <strong>Resposta a la pregunta 3:</strong>\n",
    "  <p><em>Al afegir la classe com a part de l'entrada s'aconsegueix que el generador aprengui a transformar el soroll en imatges corresponents a una etiqueta concreta, i a la vegada, permet al discriminador jutjar no només si una imatge sembla real, sinó també si coincideix amb la classe indicada. Amb això es fa que la GAN generi exemples controlats i coherents amb l'etiqueta.</em></p>\n",
    "</div>\n"
   ]
  },
  {
   "cell_type": "markdown",
   "metadata": {
    "id": "gibFoN0cEem_"
   },
   "source": [
    "## 4. Implementació del Generador i del Discriminador\n",
    "\n",
    "<div style=\"background-color: #EDF7FF; border-color: #7C9DBF; border-left: 5px solid #7C9DBF; padding: 0.5em;\">\n",
    "<strong>Pregunta 4.1 [3 pts.]:</strong><br>\n",
    "Implementa el model de Deep Learning utilitzant la llibreria <code>tensorflow.keras</code>. L'objectiu és construir un <strong>discriminador</strong> i un <strong>generador</strong> que formen part d'una CGAN.\n",
    "\n",
    "El discriminador ha de ser capaç de distingir entre imatges reals i generades, mentre que el generador ha de crear imatges prou realistes per confondre el discriminador.\n",
    "\n",
    "Utilitzeu capes convolucionals, denses i funcions d'activació apropiades. Assegureu-vos que la mida d'entrada i de sortida sigui coherent amb la mida de les imatges (28x28x1) i amb el vector d'entrada del generador (`latent_dim + num_classes`).\n",
    "\n",
    "Perquè la resta del codi funcioni correctament, els models s'han de desar en variables anomenades <code>generator</code> i <code>discriminator</code>.\n",
    "\n",
    "\n",
    "### Instruccions per construir els models:\n",
    "\n",
    "<ul>\n",
    "  <li>Utilitza <code>Sequential()</code> de <code>keras</code> per definir ambdós models pas a pas, de forma clara i ordenada.</li>\n",
    "\n",
    "  <li><strong>Discriminador</strong> (aproximadament 5–6 capes):\n",
    "    <ul>\n",
    "      <li>L'entrada ha de tenir forma <code>(28, 28, discriminator_in_channels)</code>, és a dir, la imatge original a escala de grisos més la informació de classe afegida com a canals.</li>\n",
    "      <li>Inclou diverses capes <code>Conv2D</code> amb filtres progressius per extreure característiques espacials rellevants.</li>\n",
    "      <li>Després d'algunes convolucions, afegeix <code>BatchNormalization</code> per estabilitzar l'aprenentatge i <code>LeakyReLU</code> com a funció d'activació.</li>\n",
    "      <li>Es recomana afegir almenys una capa <code>Dropout</code> per introduir regularització i evitar sobreajustament.</li>\n",
    "      <li>Al final, utilitza una capa de <code>pooling global</code> per reduir el mapa a un vector i una capa <code>Dense</code> que torni un únic valor (real o fals).</li>\n",
    "    </ul>\n",
    "  </li>\n",
    "\n",
    "  <li><strong>Generador</strong> (aproximadament 6 capes):\n",
    "    <ul>\n",
    "      <li>L'entrada ha de tenir forma <code>(generator_in_channels,)</code>, és a dir, el vector latent concatenat amb la classe codificada.</li>\n",
    "      <li>Comença amb una capa <code>Dense</code> que converteixi aquest vector en un volum inicial (per exemple, 7×7×canals).</li>\n",
    "      <li>Utilitza <code>Reshape</code> per transformar el vector pla en un mapa 2D amb profunditat.</li>\n",
    "      <li>Aplica diverses capes <code>Conv2DTranspose</code> (transposades) per anar ampliant la mida de la imatge de forma progressiva.</li>\n",
    "      <li>Després de cada transposició, utilitza <code>BatchNormalization</code> i <code>LeakyReLU</code> per millorar l'estabilitat i la qualitat de la imatge.</li>\n",
    "      <li>Finalitza amb una <code>Conv2D</code> amb activació <code>sigmoid</code> per produir una imatge en escala de grisos amb valors al rang [0, 1].</li>\n",
    "    </ul>\n",
    "  </li>\n",
    "\n",
    "  <li>Recorda utilitzar les variables <code>generator_in_channels</code> i <code>discriminator_in_channels</code> definides anteriorment perquè les dimensions d'entrada siguin correctes.</li>\n",
    "</ul>\n",
    "\n",
    "</div>"
   ]
  },
  {
   "cell_type": "code",
   "execution_count": 7,
   "metadata": {
    "execution": {
     "iopub.execute_input": "2025-05-23T07:51:57.469297Z",
     "iopub.status.busy": "2025-05-23T07:51:57.468593Z",
     "iopub.status.idle": "2025-05-23T07:51:58.696036Z",
     "shell.execute_reply": "2025-05-23T07:51:58.695237Z",
     "shell.execute_reply.started": "2025-05-23T07:51:57.469273Z"
    },
    "id": "-ZQYnYjYEa5c"
   },
   "outputs": [
    {
     "name": "stderr",
     "output_type": "stream",
     "text": [
      "/usr/local/lib/python3.11/dist-packages/keras/src/layers/convolutional/base_conv.py:107: UserWarning: Do not pass an `input_shape`/`input_dim` argument to a layer. When using Sequential models, prefer using an `Input(shape)` object as the first layer in the model instead.\n",
      "  super().__init__(activity_regularizer=activity_regularizer, **kwargs)\n",
      "/usr/local/lib/python3.11/dist-packages/keras/src/layers/activations/leaky_relu.py:41: UserWarning: Argument `alpha` is deprecated. Use `negative_slope` instead.\n",
      "  warnings.warn(\n"
     ]
    }
   ],
   "source": [
    "# Crear el discriminador.\n",
    "# Entrada: imatge de 28x28 i 1 canal, més els mapes de classes concatenats (num_classes).\n",
    "discriminator = keras.Sequential(\n",
    "    [\n",
    "        # Entrada del discriminador amb 28x28 píxels i canals = imatge + classes\n",
    "        layers.Conv2D(\n",
    "            64,\n",
    "            kernel_size=(3, 3),\n",
    "            strides=2,\n",
    "            padding=\"same\",\n",
    "            input_shape=(28, 28, discriminator_in_channels),\n",
    "        ),\n",
    "\n",
    "        # Primera capa convolucional amb activació LeakyReLU\n",
    "        layers.LeakyReLU(alpha=0.2),\n",
    "\n",
    "        # Segona capa convolucional amb normalització i activació\n",
    "        layers.Conv2D(128, kernel_size=(3, 3), strides=2, padding=\"same\"),\n",
    "        layers.BatchNormalization(),\n",
    "        layers.LeakyReLU(alpha=0.2),\n",
    "\n",
    "        # Tercera capa addicional amb més filtres i regularització\n",
    "        layers.Conv2D(256, kernel_size=(3, 3), strides=2, padding=\"same\"),\n",
    "        layers.LeakyReLU(alpha=0.2),\n",
    "        layers.Dropout(0.3),\n",
    "\n",
    "        # Pooling global i sortida final binària (real/fals)\n",
    "        layers.GlobalMaxPooling2D(),\n",
    "        layers.Dense(1),\n",
    "    ],\n",
    "    name=\"discriminator\",\n",
    ")"
   ]
  },
  {
   "cell_type": "code",
   "execution_count": 10,
   "metadata": {
    "execution": {
     "iopub.execute_input": "2025-05-23T07:52:57.179825Z",
     "iopub.status.busy": "2025-05-23T07:52:57.179304Z",
     "iopub.status.idle": "2025-05-23T07:52:57.235644Z",
     "shell.execute_reply": "2025-05-23T07:52:57.234877Z",
     "shell.execute_reply.started": "2025-05-23T07:52:57.179800Z"
    },
    "id": "7YXTAPDNEa5c"
   },
   "outputs": [
    {
     "name": "stderr",
     "output_type": "stream",
     "text": [
      "/usr/local/lib/python3.11/dist-packages/keras/src/layers/core/input_layer.py:27: UserWarning: Argument `input_shape` is deprecated. Use `shape` instead.\n",
      "  warnings.warn(\n"
     ]
    }
   ],
   "source": [
    "# Crear el generador.\n",
    "# Entrada: vector latent + codificació de classe (concatenats).\n",
    "generator = keras.Sequential(\n",
    "    [\n",
    "        # Entrada del generador: vector latent + classe codificada\n",
    "        layers.InputLayer(input_shape=(generator_in_channels,)),\n",
    "\n",
    "        # Primera capa totalment connectada per mapejar a 7x7xC\n",
    "        layers.Dense(7 * 7 * 128),\n",
    "        layers.LeakyReLU(alpha=0.2),\n",
    "\n",
    "        # Reorganitzar a mapa 7x7 amb canals\n",
    "        layers.Reshape((7, 7, 128)),\n",
    "\n",
    "        # Primera capa de transposició convolucional (upsample a 14x14)\n",
    "        layers.Conv2DTranspose(128, kernel_size=(3, 3), strides=2, padding=\"same\"),\n",
    "        layers.BatchNormalization(),\n",
    "        layers.LeakyReLU(alpha=0.2),\n",
    "\n",
    "        # Segona capa de transposició convolucional (upsample a 28x28)\n",
    "        layers.Conv2DTranspose(64, kernel_size=(3, 3), strides=2, padding=\"same\"),\n",
    "        layers.BatchNormalization(),\n",
    "        layers.LeakyReLU(alpha=0.2),\n",
    "\n",
    "        # Capa final: 1 canal de sortida (imatge), amb activació sigmoide\n",
    "        layers.Conv2DTranspose(\n",
    "            1, kernel_size=(3, 3), strides=1, padding=\"same\", activation=\"sigmoid\"\n",
    "        ),\n",
    "    ],\n",
    "    name=\"generator\",\n",
    ")"
   ]
  },
  {
   "cell_type": "markdown",
   "metadata": {
    "id": "L87MlZpREa5c"
   },
   "source": [
    "<div style=\"background-color: #EDF7FF; border-left: 5px solid #7C9DBF; padding: 0.5em;\">\n",
    "  <strong>Pregunta 4.2 [0,5 pts.]:</strong>\n",
    "  Per què el generador acaba amb una capa <code>Conv2D</code> amb activació <code>sigmoid</code>?\n",
    "  Què passaria si s'utilitzés una activació <code>relu</code> o <code>tanh</code> en aquesta capa de sortida?\n",
    "</div>\n"
   ]
  },
  {
   "cell_type": "markdown",
   "metadata": {
    "id": "S6MH5qieEa5c"
   },
   "source": [
    "<div style=\"background-color: #fcf2f2; border-left: 5px solid #dfb5b4; padding: 0.5em;\">\n",
    "  <strong>Resposta a la pregunta 4.2:</strong>\n",
    "  <p><em>Fem servir \"sigmoid\" perquè volem que els valors dels píxels estiguin normalitzats dintre de [0,1] (com hem fet amb les d'entrenament), així el discriminador les pot comparar directament. Si fem servir \"ReL\", els píxels serien no negatius, però sense límit superior, poden tenir així valors molt grans. Si fem servir \"tanh\", els valors estarien a l'interval [-1,1], i s'haurien de reescalar després a [0,1].</em></p>\n",
    "</div>\n"
   ]
  },
  {
   "cell_type": "markdown",
   "metadata": {
    "id": "GR1tkz-_Eem_"
   },
   "source": [
    "## 5. Implementació de la classe ConditionalGAN\n",
    "\n",
    "En aquesta secció es defineix una classe personalitzada que estén keras.Model, i permet controlar manualment el procés d'entrenament d'una GAN condicional.\n",
    "\n",
    "A diferència dels models estàndard, una GAN requereix dues xarxes entrenades de forma alternada:\n",
    "- El **discriminador**, que intenta distingir entre imatges reals i generades.\n",
    "- El **generador**, que intenta crear imatges prou realistes per “enganyar” el discriminador.\n",
    "\n",
    "El mètode train_step està estructurat per blocs numerats (apartats) per entendre cada etapa de l'entrenament, des de la preparació de dades fins a l'actualització de pesos.\n",
    "\n",
    "Una GAN condicional hi afegeix una capa de complexitat: s'entrena amb imatges i també amb etiquetes que indiquen la classe desitjada.\n",
    "\n",
    "Llegeix atentament el codi i respon les preguntes següents:\n"
   ]
  },
  {
   "cell_type": "code",
   "execution_count": 11,
   "metadata": {
    "execution": {
     "iopub.execute_input": "2025-05-23T07:58:40.302780Z",
     "iopub.status.busy": "2025-05-23T07:58:40.302058Z",
     "iopub.status.idle": "2025-05-23T07:58:40.313591Z",
     "shell.execute_reply": "2025-05-23T07:58:40.312856Z",
     "shell.execute_reply.started": "2025-05-23T07:58:40.302758Z"
    },
    "id": "NxTDqB-HEem_"
   },
   "outputs": [],
   "source": [
    "class ConditionalGAN(keras.Model):\n",
    "    def __init__(self, discriminator, generator, latent_dim):\n",
    "        super().__init__()\n",
    "        # Assignar discriminador i generador\n",
    "        self.discriminator = discriminator\n",
    "        self.generator = generator\n",
    "\n",
    "        # Dimensió del vector d'entrada aleatori (soroll)\n",
    "        self.latent_dim = latent_dim\n",
    "\n",
    "        # Generador de llavors per a la reproducibilitat\n",
    "        self.seed_generator = keras.random.SeedGenerator(1337)\n",
    "\n",
    "        # Mètriques per al seguiment de les pèrdues del generador i del discriminador\n",
    "        self.gen_loss_tracker = keras.metrics.Mean(name=\"generator_loss\")\n",
    "        self.disc_loss_tracker = keras.metrics.Mean(name=\"discriminator_loss\")\n",
    "\n",
    "    @property\n",
    "    def metrics(self):\n",
    "        # Llista de mètricas que es reportaran durant l'entrenament\n",
    "        return [self.gen_loss_tracker, self.disc_loss_tracker]\n",
    "\n",
    "    def compile(self, d_optimizer, g_optimizer, loss_fn):\n",
    "        # Configurar optimizadors i funció de pèrdua\n",
    "        super().compile()\n",
    "        self.d_optimizer = d_optimizer\n",
    "        self.g_optimizer = g_optimizer\n",
    "        self.loss_fn = loss_fn\n",
    "\n",
    "    def train_step(self, data):\n",
    "        # Desempaquetar les dades reals (imatges i etiquetes one-hot)\n",
    "        real_images, one_hot_labels = data\n",
    "\n",
    "        # apartat 1: Expandir i repetir etiquetes\n",
    "        image_one_hot_labels = one_hot_labels[:, :, None, None]\n",
    "        image_one_hot_labels = ops.repeat(\n",
    "            image_one_hot_labels, repeats=[image_size * image_size]\n",
    "        )\n",
    "        image_one_hot_labels = ops.reshape(\n",
    "            image_one_hot_labels, (-1, image_size, image_size, num_classes)\n",
    "        )\n",
    "\n",
    "        # apartat 2: Generar vectors latents aleatoris i concatenar-los amb etiquetes\n",
    "        batch_size = ops.shape(real_images)[0]\n",
    "        random_latent_vectors = keras.random.normal(\n",
    "            shape=(batch_size, self.latent_dim), seed=self.seed_generator\n",
    "        )\n",
    "        random_vector_labels = ops.concatenate(\n",
    "            [random_latent_vectors, one_hot_labels], axis=1\n",
    "        )\n",
    "\n",
    "        # apartat 3: Generar imatges falses a partir del generador\n",
    "        generated_images = self.generator(random_vector_labels)\n",
    "\n",
    "        # apartat 4: Concatenar imatges falses amb les seves etiquetes\n",
    "        fake_image_and_labels = ops.concatenate(\n",
    "            [generated_images, image_one_hot_labels], -1\n",
    "        )\n",
    "\n",
    "        # apartat 5: Concatenar imatges reals amb les seves etiquetes\n",
    "        real_image_and_labels = ops.concatenate([real_images, image_one_hot_labels], -1)\n",
    "\n",
    "        # apartat 6: Unir el batch d'imatges reals i falses\n",
    "        combined_images = ops.concatenate(\n",
    "            [fake_image_and_labels, real_image_and_labels], axis=0\n",
    "        )\n",
    "\n",
    "        # apartat 7: Crear etiquetes: 1 per a falses, 0 per a reals\n",
    "        labels = ops.concatenate(\n",
    "            [ops.ones((batch_size, 1)), ops.zeros((batch_size, 1))], axis=0\n",
    "        )\n",
    "\n",
    "        # apartat 8: Entrenament del discriminador\n",
    "        with tf.GradientTape() as tape:\n",
    "            predictions = self.discriminator(combined_images)\n",
    "            d_loss = self.loss_fn(labels, predictions)\n",
    "        grads = tape.gradient(d_loss, self.discriminator.trainable_weights)\n",
    "        self.d_optimizer.apply_gradients(\n",
    "            zip(grads, self.discriminator.trainable_weights)\n",
    "        )\n",
    "\n",
    "        # apartat 9: Generar nou batch de soroll + etiquetes\n",
    "        random_latent_vectors = keras.random.normal(\n",
    "            shape=(batch_size, self.latent_dim), seed=self.seed_generator\n",
    "        )\n",
    "        random_vector_labels = ops.concatenate(\n",
    "            [random_latent_vectors, one_hot_labels], axis=1\n",
    "        )\n",
    "\n",
    "        # apartat 10: Etiquetes falses\n",
    "        misleading_labels = ops.zeros((batch_size, 1))\n",
    "\n",
    "        # apartat 11: Entrenament del generador\n",
    "        with tf.GradientTape() as tape:\n",
    "            fake_images = self.generator(random_vector_labels)\n",
    "            fake_image_and_labels = ops.concatenate(\n",
    "                [fake_images, image_one_hot_labels], -1\n",
    "            )\n",
    "            predictions = self.discriminator(fake_image_and_labels)\n",
    "            g_loss = self.loss_fn(misleading_labels, predictions)\n",
    "        grads = tape.gradient(g_loss, self.generator.trainable_weights)\n",
    "        self.g_optimizer.apply_gradients(zip(grads, self.generator.trainable_weights))\n",
    "\n",
    "        # apartat 12: Actualitzar mètriques de pèrdua\n",
    "        self.gen_loss_tracker.update_state(g_loss)\n",
    "        self.disc_loss_tracker.update_state(d_loss)\n",
    "\n",
    "        # Retornar les mètriques\n",
    "        return {\n",
    "            \"g_loss\": self.gen_loss_tracker.result(),\n",
    "            \"d_loss\": self.disc_loss_tracker.result(),\n",
    "        }\n"
   ]
  },
  {
   "cell_type": "markdown",
   "metadata": {
    "id": "Lvq2K5cnYS61"
   },
   "source": [
    "<div style=\"background-color: #EDF7FF; border-left: 5px solid #7C9DBF; padding: 0.5em;\">\n",
    "  <strong>Pregunta 5.1 [0,5 pts.]:</strong>\n",
    "  A l'apartat 1 del mètode train_step, per què cal expandir i repetir la codificació one-hot de les classes abans de concatenar-les amb les imatges?\n",
    "</div>\n"
   ]
  },
  {
   "cell_type": "markdown",
   "metadata": {
    "id": "tBlsKqhUEa5d"
   },
   "source": [
    "<div style=\"background-color: #fcf2f2; border-left: 5px solid #dfb5b4; padding: 0.5em;\">\n",
    "  <strong>Resposta a la pregunta 5.1:</strong>\n",
    "  <p><em>Es fa perquè passi de tenir forma (batch_size, num classes) a (batch_size, height, widht, num classes), de manera que cada mapa de classes tingui la mateixa resolució espacial que les imatges i es pugui concatenar com a canals addicionals, fent que el discriminador rebi informació de classe per a cadascun dels píxels.</em></p>\n",
    "</div>\n"
   ]
  },
  {
   "cell_type": "markdown",
   "metadata": {
    "id": "DWjMyfv6Ea5d"
   },
   "source": [
    "<div style=\"background-color: #EDF7FF; border-left: 5px solid #7C9DBF; padding: 0.5em;\">\n",
    "  <strong>Pregunta 5.2 [0,5 pts.]:</strong>\n",
    "  Què passaria si no tornessis a generar un nou batch de soroll a l'apartat 9 i reutilitzessis el mateix que vas fer servir per entrenar el discriminador a l'apartat 2?\n",
    "</div>\n"
   ]
  },
  {
   "cell_type": "markdown",
   "metadata": {
    "id": "eoodPCm-Ea5d"
   },
   "source": [
    "<div style=\"background-color: #fcf2f2; border-left: 5px solid #dfb5b4; padding: 0.5em;\">\n",
    "  <strong>Resposta a la pregunta 5.2:</strong>\n",
    "  <p><em>Si reutilitzem el mateix soroll per als dos passos d'entrenament, el generador simplement aprendria a ajustar-se a aquells vectors concrets de soroll que el discriminador ja ha vist. Això faria que es redueixi la diversitat de mostres generades i fa que el discriminador ho tingui més fàcil per identificar-les com a sintètiques. En canvi, soroll nou, ens assegura que cada actualització del generador sigui sobre entrades fresques i promou una major varietat i estabilitat en l'entrenament.</em></p>\n",
    "</div>"
   ]
  },
  {
   "cell_type": "markdown",
   "metadata": {
    "id": "3EEkIk8aEa5d"
   },
   "source": [
    "<div style=\"background-color: #EDF7FF; border-left: 5px solid #7C9DBF; padding: 0.5em;\">\n",
    "  <strong>Pregunta 5.3 [0,5 pts.]:</strong>\n",
    "  Per què a l'apartat 10 s'assigna l'etiqueta 0 a les imatges falses en entrenar el generador, si l'objectiu és que el discriminador les reconegui com a reals?\n",
    "</div>\n"
   ]
  },
  {
   "cell_type": "markdown",
   "metadata": {
    "id": "9bOHErLLEa5d"
   },
   "source": [
    "<div style=\"background-color: #fcf2f2; border-left: 5px solid #dfb5b4; padding: 0.5em;\">\n",
    "  <strong>Resposta a la pregunta 5.3:</strong>\n",
    "  <p><em>Al calcular la pèrdua del generador, volem que es minimitzi la distància entre la predicció del discriminador i el valor \"real\". Així forcem al generador a produir imatges que el discriminador classifiqui com a reals.</em></p>\n",
    "</div>"
   ]
  },
  {
   "cell_type": "markdown",
   "metadata": {
    "id": "h96JVMHJEenA"
   },
   "source": [
    "## 6. Entrenament de la GAN condicional\n",
    "\n",
    "Un cop definits el generador, el discriminador i la classe personalitzada ConditionalGAN, és moment de compilar i entrenar el model complet.\n",
    "\n",
    "En aquesta secció:\n",
    "- Es crea una instància del model `ConditionalGAN`, passant com a arguments el generador, el discriminador i la dimensió del vector latent.\n",
    "- Es compilen els components amb els seus respectius optimitzadors (`Adam`) i una funció de pèrdua binària (`BinaryCrossentropy`), adequada per a tasques de classificació binària (real vs. fals).\n",
    "- S'entrena el model durant diverses èpoques i s'emmagatzemen les pèrdues del generador i del discriminador per analitzar-ne l'evolució.\n",
    "\n",
    "Observa com evoluciona el valor de les pèrdues i reflexiona sobre com es podrien modificar diferents elements de l'entrenament.\n"
   ]
  },
  {
   "cell_type": "code",
   "execution_count": 12,
   "metadata": {
    "execution": {
     "iopub.execute_input": "2025-05-23T08:07:41.659964Z",
     "iopub.status.busy": "2025-05-23T08:07:41.659363Z",
     "iopub.status.idle": "2025-05-23T08:07:41.688737Z",
     "shell.execute_reply": "2025-05-23T08:07:41.688237Z",
     "shell.execute_reply.started": "2025-05-23T08:07:41.659941Z"
    },
    "id": "VsZ0_9B0Ea5d"
   },
   "outputs": [],
   "source": [
    "# Instanciar el model ConditionalGAN amb els components definits\n",
    "cgan_model = ConditionalGAN(\n",
    "    discriminator=discriminator,\n",
    "    generator=generator,\n",
    "    latent_dim=latent_dim  # Dimensió del vector d'entrada aleatòria (soroll)\n",
    ")\n",
    "\n",
    "# Compilar el model: definim els optimitzadors per a D i G i la funció de pèrdua\n",
    "cgan_model.compile(\n",
    "    d_optimizer=keras.optimizers.Adam(learning_rate=0.0003),  # Optimitzador del discriminador\n",
    "    g_optimizer=keras.optimizers.Adam(learning_rate=0.0003),  # Optimitzador del generador\n",
    "    loss_fn=keras.losses.BinaryCrossentropy(from_logits=True)  # Funció de pèrdua binària\n",
    ")"
   ]
  },
  {
   "cell_type": "code",
   "execution_count": 13,
   "metadata": {
    "execution": {
     "iopub.execute_input": "2025-05-23T08:07:44.982387Z",
     "iopub.status.busy": "2025-05-23T08:07:44.982123Z",
     "iopub.status.idle": "2025-05-23T08:10:20.497554Z",
     "shell.execute_reply": "2025-05-23T08:10:20.496984Z",
     "shell.execute_reply.started": "2025-05-23T08:07:44.982370Z"
    },
    "id": "bO_gCxSjEa5d"
   },
   "outputs": [
    {
     "name": "stdout",
     "output_type": "stream",
     "text": [
      "Epoch 1/20\n"
     ]
    },
    {
     "name": "stderr",
     "output_type": "stream",
     "text": [
      "WARNING: All log messages before absl::InitializeLog() is called are written to STDERR\n",
      "I0000 00:00:1747987670.282306     132 service.cc:148] XLA service 0x7aef800044f0 initialized for platform CUDA (this does not guarantee that XLA will be used). Devices:\n",
      "I0000 00:00:1747987670.283047     132 service.cc:156]   StreamExecutor device (0): Tesla P100-PCIE-16GB, Compute Capability 6.0\n",
      "I0000 00:00:1747987670.864499     132 cuda_dnn.cc:529] Loaded cuDNN version 90300\n"
     ]
    },
    {
     "name": "stdout",
     "output_type": "stream",
     "text": [
      "\u001b[1m  8/469\u001b[0m \u001b[37m━━━━━━━━━━━━━━━━━━━━\u001b[0m \u001b[1m7s\u001b[0m 17ms/step - d_loss: 0.6649 - g_loss: 0.8026   "
     ]
    },
    {
     "name": "stderr",
     "output_type": "stream",
     "text": [
      "I0000 00:00:1747987675.499833     132 device_compiler.h:188] Compiled cluster using XLA!  This line is logged at most once for the lifetime of the process.\n"
     ]
    },
    {
     "name": "stdout",
     "output_type": "stream",
     "text": [
      "\u001b[1m469/469\u001b[0m \u001b[32m━━━━━━━━━━━━━━━━━━━━\u001b[0m\u001b[37m\u001b[0m \u001b[1m22s\u001b[0m 24ms/step - d_loss: 0.2325 - g_loss: 4.2357\n",
      "Epoch 2/20\n",
      "\u001b[1m469/469\u001b[0m \u001b[32m━━━━━━━━━━━━━━━━━━━━\u001b[0m\u001b[37m\u001b[0m \u001b[1m7s\u001b[0m 15ms/step - d_loss: 0.2809 - g_loss: 2.8793\n",
      "Epoch 3/20\n",
      "\u001b[1m469/469\u001b[0m \u001b[32m━━━━━━━━━━━━━━━━━━━━\u001b[0m\u001b[37m\u001b[0m \u001b[1m7s\u001b[0m 15ms/step - d_loss: 0.3738 - g_loss: 1.9190\n",
      "Epoch 4/20\n",
      "\u001b[1m469/469\u001b[0m \u001b[32m━━━━━━━━━━━━━━━━━━━━\u001b[0m\u001b[37m\u001b[0m \u001b[1m7s\u001b[0m 15ms/step - d_loss: 0.4183 - g_loss: 1.9154\n",
      "Epoch 5/20\n",
      "\u001b[1m469/469\u001b[0m \u001b[32m━━━━━━━━━━━━━━━━━━━━\u001b[0m\u001b[37m\u001b[0m \u001b[1m7s\u001b[0m 15ms/step - d_loss: 0.3612 - g_loss: 1.8704\n",
      "Epoch 6/20\n",
      "\u001b[1m469/469\u001b[0m \u001b[32m━━━━━━━━━━━━━━━━━━━━\u001b[0m\u001b[37m\u001b[0m \u001b[1m7s\u001b[0m 15ms/step - d_loss: 0.3706 - g_loss: 1.9266\n",
      "Epoch 7/20\n",
      "\u001b[1m469/469\u001b[0m \u001b[32m━━━━━━━━━━━━━━━━━━━━\u001b[0m\u001b[37m\u001b[0m \u001b[1m7s\u001b[0m 15ms/step - d_loss: 0.4173 - g_loss: 1.9202\n",
      "Epoch 8/20\n",
      "\u001b[1m469/469\u001b[0m \u001b[32m━━━━━━━━━━━━━━━━━━━━\u001b[0m\u001b[37m\u001b[0m \u001b[1m7s\u001b[0m 15ms/step - d_loss: 0.4340 - g_loss: 1.5773\n",
      "Epoch 9/20\n",
      "\u001b[1m469/469\u001b[0m \u001b[32m━━━━━━━━━━━━━━━━━━━━\u001b[0m\u001b[37m\u001b[0m \u001b[1m7s\u001b[0m 15ms/step - d_loss: 0.4855 - g_loss: 1.5476\n",
      "Epoch 10/20\n",
      "\u001b[1m469/469\u001b[0m \u001b[32m━━━━━━━━━━━━━━━━━━━━\u001b[0m\u001b[37m\u001b[0m \u001b[1m7s\u001b[0m 15ms/step - d_loss: 0.4978 - g_loss: 1.3664\n",
      "Epoch 11/20\n",
      "\u001b[1m469/469\u001b[0m \u001b[32m━━━━━━━━━━━━━━━━━━━━\u001b[0m\u001b[37m\u001b[0m \u001b[1m7s\u001b[0m 15ms/step - d_loss: 0.5375 - g_loss: 1.2478\n",
      "Epoch 12/20\n",
      "\u001b[1m469/469\u001b[0m \u001b[32m━━━━━━━━━━━━━━━━━━━━\u001b[0m\u001b[37m\u001b[0m \u001b[1m7s\u001b[0m 15ms/step - d_loss: 0.5500 - g_loss: 1.1753\n",
      "Epoch 13/20\n",
      "\u001b[1m469/469\u001b[0m \u001b[32m━━━━━━━━━━━━━━━━━━━━\u001b[0m\u001b[37m\u001b[0m \u001b[1m7s\u001b[0m 15ms/step - d_loss: 0.5531 - g_loss: 1.1621\n",
      "Epoch 14/20\n",
      "\u001b[1m469/469\u001b[0m \u001b[32m━━━━━━━━━━━━━━━━━━━━\u001b[0m\u001b[37m\u001b[0m \u001b[1m7s\u001b[0m 15ms/step - d_loss: 0.5664 - g_loss: 1.1829\n",
      "Epoch 15/20\n",
      "\u001b[1m469/469\u001b[0m \u001b[32m━━━━━━━━━━━━━━━━━━━━\u001b[0m\u001b[37m\u001b[0m \u001b[1m7s\u001b[0m 15ms/step - d_loss: 0.5683 - g_loss: 1.0789\n",
      "Epoch 16/20\n",
      "\u001b[1m469/469\u001b[0m \u001b[32m━━━━━━━━━━━━━━━━━━━━\u001b[0m\u001b[37m\u001b[0m \u001b[1m7s\u001b[0m 15ms/step - d_loss: 0.5779 - g_loss: 1.0896\n",
      "Epoch 17/20\n",
      "\u001b[1m469/469\u001b[0m \u001b[32m━━━━━━━━━━━━━━━━━━━━\u001b[0m\u001b[37m\u001b[0m \u001b[1m7s\u001b[0m 15ms/step - d_loss: 0.5756 - g_loss: 1.0792\n",
      "Epoch 18/20\n",
      "\u001b[1m469/469\u001b[0m \u001b[32m━━━━━━━━━━━━━━━━━━━━\u001b[0m\u001b[37m\u001b[0m \u001b[1m7s\u001b[0m 15ms/step - d_loss: 0.5880 - g_loss: 1.0407\n",
      "Epoch 19/20\n",
      "\u001b[1m469/469\u001b[0m \u001b[32m━━━━━━━━━━━━━━━━━━━━\u001b[0m\u001b[37m\u001b[0m \u001b[1m7s\u001b[0m 15ms/step - d_loss: 0.5955 - g_loss: 1.0624\n",
      "Epoch 20/20\n",
      "\u001b[1m469/469\u001b[0m \u001b[32m━━━━━━━━━━━━━━━━━━━━\u001b[0m\u001b[37m\u001b[0m \u001b[1m7s\u001b[0m 15ms/step - d_loss: 0.5914 - g_loss: 1.0576\n",
      "Epoch 1/20 → g_loss: 4.6360 - d_loss: 0.1605\n",
      "Epoch 2/20 → g_loss: 2.5489 - d_loss: 0.2880\n",
      "Epoch 3/20 → g_loss: 2.0038 - d_loss: 0.3964\n",
      "Epoch 4/20 → g_loss: 1.8507 - d_loss: 0.3979\n",
      "Epoch 5/20 → g_loss: 1.8914 - d_loss: 0.3688\n",
      "Epoch 6/20 → g_loss: 1.9391 - d_loss: 0.3837\n",
      "Epoch 7/20 → g_loss: 1.7836 - d_loss: 0.4248\n",
      "Epoch 8/20 → g_loss: 1.5764 - d_loss: 0.4498\n",
      "Epoch 9/20 → g_loss: 1.4695 - d_loss: 0.4966\n",
      "Epoch 10/20 → g_loss: 1.3386 - d_loss: 0.5127\n",
      "Epoch 11/20 → g_loss: 1.2336 - d_loss: 0.5414\n",
      "Epoch 12/20 → g_loss: 1.1593 - d_loss: 0.5516\n",
      "Epoch 13/20 → g_loss: 1.1602 - d_loss: 0.5574\n",
      "Epoch 14/20 → g_loss: 1.1588 - d_loss: 0.5689\n",
      "Epoch 15/20 → g_loss: 1.0721 - d_loss: 0.5705\n",
      "Epoch 16/20 → g_loss: 1.0798 - d_loss: 0.5803\n",
      "Epoch 17/20 → g_loss: 1.0774 - d_loss: 0.5792\n",
      "Epoch 18/20 → g_loss: 1.0344 - d_loss: 0.5843\n",
      "Epoch 19/20 → g_loss: 1.0603 - d_loss: 0.5968\n",
      "Epoch 20/20 → g_loss: 1.0391 - d_loss: 0.5941\n"
     ]
    }
   ],
   "source": [
    "# Entrenament complet (sense bucle manual) i emmagatzament de les pèrdues per època\n",
    "history = cgan_model.fit(dataset, epochs=20, verbose=1)\n",
    "\n",
    "# Extraure les pèrdues de cada època des de l'historial\n",
    "g_losses = history.history[\"g_loss\"]\n",
    "d_losses = history.history[\"d_loss\"]\n",
    "\n",
    "# Mostrar pèrdues per època\n",
    "for epoch, (g_loss, d_loss) in enumerate(zip(g_losses, d_losses), start=1):\n",
    "    print(f\"Epoch {epoch}/20 → g_loss: {g_loss:.4f} - d_loss: {d_loss:.4f}\")"
   ]
  },
  {
   "cell_type": "markdown",
   "metadata": {
    "id": "jrZPgSLrEa5d"
   },
   "source": [
    "<div style=\"background-color: #EDF7FF; border-left: 5px solid #7C9DBF; padding: 0.5em;\">\n",
    "  <strong>Pregunta 6.1 [0,5 pts.]:</strong>\n",
    "  Què passaria si s'utilitzés BinaryCrossentropy(from_logits=False) en lloc de from_logits=True? Com afectaria això l'entrenament?\n",
    "</div>\n"
   ]
  },
  {
   "cell_type": "markdown",
   "metadata": {
    "id": "bUD6lK5sEa5d"
   },
   "source": [
    "<div style=\"background-color: #fcf2f2; border-left: 5px solid #dfb5b4; padding: 0.5em;\">\n",
    "  <strong>Resposta a la pregunta 6.1:</strong>\n",
    "  <p><em>La diferència està en si la funció de pèrdua aplica internament la sigmoid als logits abans de calcular la cross-entropy. En el cas \"True\", el model retorna valors sense activació. En el cas \"False\", la pèrdua espera a rebre les probabilitats (sortides que ja han passat per la sigmoid).\n",
    "  \n",
    "  Per tant, si es fa servir \"False\", el càlcul de la pèrdua probablement serà divergent o donarà resultats erronis.</em></p>\n",
    "</div>"
   ]
  },
  {
   "cell_type": "markdown",
   "metadata": {
    "id": "ikkm1MrnEa5d"
   },
   "source": [
    "<div style=\"background-color: #EDF7FF; border-left: 5px solid #7C9DBF; padding: 0.5em;\">\n",
    "  <strong>Pregunta 6.2 [0,5 pts.]:</strong>\n",
    "  Quin efecte tindria reduir o augmentar la taxa d'aprenentatge (learning_rate) dels optimitzadors Adam durant l'entrenament? Per què podria ser útil fer servir taxes diferents per al generador i el discriminador?\n",
    "</div>\n"
   ]
  },
  {
   "cell_type": "markdown",
   "metadata": {
    "id": "-D0OcLu9Ea5o"
   },
   "source": [
    "<div style=\"background-color: #fcf2f2; border-left: 5px solid #dfb5b4; padding: 0.5em;\">\n",
    "  <strong>Resposta a la pregunta 6.2:</strong>\n",
    "  <p><em>Reduir el lr fa que cada pas sigui més estable perè més lent. Augmentar-lo accelera la convergència inicial, però pot implicar oscil·lacions o fins i tot que el model divergeixi si el lr és massa gran.\n",
    "  Normalment el discriminador aprèn molt més ràpid, ja que és una tasca més fàcil que la del generador, per tant, es pot donar el cas en que el discriminador aprengui molt ràpid i el generador no trobi gradients útils. Assignar al generador un lr una mica més baix (o al discriminador un més baix) ajuda a equilibrar els ritmes d'aprenentatge i evita que un dels dos superi en gran mesura a l'altre.\n",
    "  </em></p>\n",
    "</div>"
   ]
  },
  {
   "cell_type": "markdown",
   "metadata": {
    "id": "4k9-kobSEa5o"
   },
   "source": [
    "<div style=\"background-color: #EDF7FF; border-left: 5px solid #7C9DBF; padding: 0.5em;\">\n",
    "  <strong>Pregunta 6.3 [0,5 pts.]:</strong>\n",
    "  Si durant l'entrenament observes que la pèrdua del discriminador disminueix molt ràpidament i la del generador no millora, quines estratègies podries provar per millorar l'equilibri entre tots dos models?\n",
    "</div>\n"
   ]
  },
  {
   "cell_type": "markdown",
   "metadata": {
    "id": "OSyKbHC2Ea5o"
   },
   "source": [
    "<div style=\"background-color: #fcf2f2; border-left: 5px solid #dfb5b4; padding: 0.5em;\">\n",
    "  <strong>Resposta a la pregunta 6.3:</strong>\n",
    "    \n",
    "  <p><em>\n",
    "      <ul> \n",
    "        <li>canviar els lr: baixar el del discriminador o pujar el del generador.</li>\n",
    "        <li>modificar la freqüència d'acutlització: Per exemple, entrenar el generador dues vegades per a cada pas del discriminador.</li>\n",
    "        <li>afegir regularització: augmentar el droput, batch normalization més agressiva, etc.</li>\n",
    "        <li>modificar aqruitectura del discriminador: reduïr la profunditat o el nombre de filtres per a que no s'imposi tan ràpidament</li>\n",
    "        <li>Fer servir esquemes de lr adaptats (source arXiv:1704.00028)</li>\n",
    "      </ul>\n",
    "  </em></p>\n",
    "</div>"
   ]
  },
  {
   "cell_type": "markdown",
   "metadata": {
    "id": "I1APh3xxEa5o"
   },
   "source": [
    "A continuació es representa l'evolució de la pèrdua del generador i del discriminador durant l'entrenament."
   ]
  },
  {
   "cell_type": "code",
   "execution_count": 14,
   "metadata": {
    "execution": {
     "iopub.execute_input": "2025-05-23T08:22:17.300289Z",
     "iopub.status.busy": "2025-05-23T08:22:17.299548Z",
     "iopub.status.idle": "2025-05-23T08:22:17.555953Z",
     "shell.execute_reply": "2025-05-23T08:22:17.555254Z",
     "shell.execute_reply.started": "2025-05-23T08:22:17.300266Z"
    },
    "id": "fENUen0-Ea5o"
   },
   "outputs": [
    {
     "data": {
      "image/png": "[encoded data removed]",
      "text/plain": [
       "<Figure size 1000x500 with 1 Axes>"
      ]
     },
     "metadata": {},
     "output_type": "display_data"
    }
   ],
   "source": [
    "import matplotlib.pyplot as plt\n",
    "\n",
    "# Crear la figura\n",
    "plt.figure(figsize=(10, 5))\n",
    "\n",
    "# Crear rang d'èpoques des de 1 fins nombre d'èpoques\n",
    "epochs_range = range(1, len(g_losses) + 1)\n",
    "\n",
    "# Representar la pèrdua del generador\n",
    "plt.plot(epochs_range, g_losses, label=\"Generador\", color=\"blue\", linewidth=2)\n",
    "\n",
    "# Representar la pèrdua del discriminador\n",
    "plt.plot(epochs_range, d_losses, label=\"Discriminador\", color=\"red\", linewidth=2)\n",
    "\n",
    "# Afegir títol i etiquetes\n",
    "plt.title(\"Evolución de la pérdida durante el entrenamiento\")\n",
    "plt.xlabel(\"Época\")\n",
    "plt.ylabel(\"Pérdida\")\n",
    "plt.legend()\n",
    "plt.grid(True)\n",
    "\n",
    "# Guardar la figura com a imatge\n",
    "# plt.savefig(\"training_losses.png\") # Opcional guardar la figura\n",
    "\n",
    "# Mostrar la figura\n",
    "plt.show()"
   ]
  },
  {
   "cell_type": "markdown",
   "metadata": {
    "id": "BhP5cWPvEa5o"
   },
   "source": [
    "<div style=\"background-color: #EDF7FF; border-left: 5px solid #7C9DBF; padding: 0.5em;\">\n",
    "  <strong>Pregunta 6.4 [0,25 pts.]:</strong>\n",
    "  Observa el gràfic generat de l'evolució de la pèrdua. A partir de quina època aproximada diries que les dues pèrdues comencen a estabilitzar-se (explica-ho per al generador i el discriminador)? Justifica breument la teva resposta segons la forma de les corbes.\n",
    "</div>"
   ]
  },
  {
   "cell_type": "markdown",
   "metadata": {
    "id": "eVs9WwDbEa5o"
   },
   "source": [
    "<div style=\"background-color: #fcf2f2; border-left: 5px solid #dfb5b4; padding: 0.5em;\">\n",
    "  <strong>Resposta a la pregunta 6.4:</strong>\n",
    "  <p><em>El generador comença a estabilitzar-se cap a les èpoques 8-10, quan la pèrdua oscil·la suaument al voltant de 1.2. En canvi, el discriminador, s'estabilitza ja a partir de lèpoca 6, quan la corba es queda al voltant del 0.5 i després va pujant lentament.</em></p>\n",
    "</div>\n"
   ]
  },
  {
   "cell_type": "markdown",
   "metadata": {
    "id": "DDEak3VFEenA"
   },
   "source": [
    "## 7. Interpolació entre classes utilitzant el generador entrenat\n",
    "\n",
    "En aquesta activitat analitzarem com el generador respon a entrades que representen classes intermèdies (no estrictament definides com un únic dígit), cosa que ens permet explorar la continuïtat de l'espai latent i semàntic après.\n",
    "\n",
    "Es fan dos exercicis:\n",
    "\n",
    "- **Interpolació entre dues classes**: se seleccionen dos dígits (per exemple, 1 i 9) i es generen etiquetes que van des d'una codificació one-hot de la primera classe fins a la segona. Aquestes etiquetes interpolades es combinen amb el mateix vector de soroll per produir imatges intermèdies. El resultat és una transició visual entre les dues classes.\n",
    "\n",
    "- **Generació controlada per classe**: es genera una imatge per a cada dígit (del 0 al 9) amb soroll aleatori diferent, i s'observa si el generador ha après a produir exemples coherents per a cada classe concreta.\n",
    "\n",
    "El resultat es visualitza com:\n",
    "- Un GIF animat per a la interpolació entre classes.\n",
    "- Una figura amb 10 imatges generades en una sola fila, una per classe.\n"
   ]
  },
  {
   "cell_type": "code",
   "execution_count": 15,
   "metadata": {
    "execution": {
     "iopub.execute_input": "2025-05-23T08:26:46.180576Z",
     "iopub.status.busy": "2025-05-23T08:26:46.179995Z",
     "iopub.status.idle": "2025-05-23T08:26:46.228941Z",
     "shell.execute_reply": "2025-05-23T08:26:46.228188Z",
     "shell.execute_reply.started": "2025-05-23T08:26:46.180557Z"
    },
    "id": "Wglg10MLEa5o"
   },
   "outputs": [],
   "source": [
    "# Extraiem el generador entrenat de la nostra CGAN\n",
    "trained_gen = cgan_model.generator  # Canviat al nou nom del model\n",
    "\n",
    "# Nombre total d'imatges interpolades entre dues classes (inclou inici i fi)\n",
    "num_interpolation = 9\n",
    "\n",
    "# Generem soroll aleatori per a cada punt intermedi de la interpolació\n",
    "interpolation_noise = keras.random.normal(shape=(1, latent_dim))\n",
    "interpolation_noise = ops.repeat(interpolation_noise, repeats=num_interpolation)\n",
    "interpolation_noise = ops.reshape(interpolation_noise, (num_interpolation, latent_dim))"
   ]
  },
  {
   "cell_type": "code",
   "execution_count": 16,
   "metadata": {
    "execution": {
     "iopub.execute_input": "2025-05-23T08:26:49.255111Z",
     "iopub.status.busy": "2025-05-23T08:26:49.254800Z",
     "iopub.status.idle": "2025-05-23T08:26:50.530709Z",
     "shell.execute_reply": "2025-05-23T08:26:50.529960Z",
     "shell.execute_reply.started": "2025-05-23T08:26:49.255089Z"
    },
    "id": "Fy2TPvnaEenA"
   },
   "outputs": [
    {
     "name": "stdout",
     "output_type": "stream",
     "text": [
      "\u001b[1m1/1\u001b[0m \u001b[32m━━━━━━━━━━━━━━━━━━━━\u001b[0m\u001b[37m\u001b[0m \u001b[1m0s\u001b[0m 422ms/step\n"
     ]
    }
   ],
   "source": [
    "# Funció que genera imatges interpoladas entre dues classes\n",
    "def interpolate_class(first_number, second_number):\n",
    "    # Convertim les classes inicial i final a codificació one-hot\n",
    "    first_label = keras.utils.to_categorical([first_number], num_classes)\n",
    "    second_label = keras.utils.to_categorical([second_number], num_classes)\n",
    "    first_label = ops.cast(first_label, \"float32\")\n",
    "    second_label = ops.cast(second_label, \"float32\")\n",
    "\n",
    "    # Interpolem entre les dues etiquetes (línea recta en l'espai de classes)\n",
    "    percent_second_label = ops.linspace(0, 1, num_interpolation)[:, None]\n",
    "    percent_second_label = ops.cast(percent_second_label, \"float32\")\n",
    "    interpolation_labels = (\n",
    "        first_label * (1 - percent_second_label) + second_label * percent_second_label\n",
    "    )\n",
    "\n",
    "    # Concatenem soroll + etiquetes interpolades i generem imatges\n",
    "    noise_and_labels = ops.concatenate([interpolation_noise, interpolation_labels], 1)\n",
    "    fake = trained_gen.predict(noise_and_labels)\n",
    "    return fake\n",
    "\n",
    "# Especifiquem les classes entre les que volem interpolar\n",
    "start_class = 1  # Classe inicial\n",
    "end_class = 9    # Classe final\n",
    "\n",
    "# Generem les imatges falses corresponents a la interpolació\n",
    "fake_images = interpolate_class(start_class, end_class)"
   ]
  },
  {
   "cell_type": "markdown",
   "metadata": {
    "id": "cDAMRH7YEenA"
   },
   "source": [
    "Mostrem soroll d'una distribució normal i després ho repetim per num_interpolation vegades i donem forma al resultat en conseqüència. A continuació ho distribuïm uniformement per a num_interpolation amb les etiquetes presents proporcionalment."
   ]
  },
  {
   "cell_type": "code",
   "execution_count": 17,
   "metadata": {
    "execution": {
     "iopub.execute_input": "2025-05-23T08:26:53.828374Z",
     "iopub.status.busy": "2025-05-23T08:26:53.827569Z",
     "iopub.status.idle": "2025-05-23T08:26:54.761036Z",
     "shell.execute_reply": "2025-05-23T08:26:54.760301Z",
     "shell.execute_reply.started": "2025-05-23T08:26:53.828343Z"
    },
    "id": "KgkFBC2QEenA"
   },
   "outputs": [
    {
     "data": {
      "text/html": [
       "<img src=\"data:image/gif;base64,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\"/>"
      ],
      "text/plain": [
       "<IPython.core.display.HTML object>"
      ]
     },
     "execution_count": 17,
     "metadata": {},
     "output_type": "execute_result"
    }
   ],
   "source": [
    "# Escalem les imatges generades al rang [0, 255] i les convertim a uint8\n",
    "fake_images *= 255.0\n",
    "converted_images = fake_images.astype(np.uint8)\n",
    "\n",
    "# Redimensionem les imatges a 144x144 píxels\n",
    "converted_images = ops.image.resize(converted_images, (144, 144)).numpy().astype(np.uint8)\n",
    "\n",
    "# Guardem les imatges en un arxiu GIF amb una imatge per segon\n",
    "imageio.mimsave(\"animation.gif\", converted_images[:, :, :, 0], fps=1)\n",
    "\n",
    "# Mostrem el GIF directament en el notebook\n",
    "embed.embed_file(\"animation.gif\")\n"
   ]
  },
  {
   "cell_type": "markdown",
   "metadata": {
    "id": "juiGXLyZYS61"
   },
   "source": [
    "<div style=\"background-color: #EDF7FF; border-left: 5px solid #7C9DBF; padding: 0.5em;\">\n",
    "  <strong>Pregunta 7.1 [0,25 pts.]:</strong>\n",
    "  Per què a la funció interpolate_class() es manté fix el vector de soroll per a totes les imatges generades durant la interpolació? Quin avantatge té això per a l'anàlisi visual?\n",
    "</div>\n"
   ]
  },
  {
   "cell_type": "markdown",
   "metadata": {
    "id": "ABwXG4XlEa5p"
   },
   "source": [
    "<div style=\"background-color: #fcf2f2; border-left: 5px solid #dfb5b4; padding: 0.5em;\">\n",
    "  <strong>Resposta a la pregunta 7.1:</strong>\n",
    "  <p><em>Això fa que l'únic factor que canvia sigui la codificació de la classe, de manera que podem aïllar l'efecte del canvi d'etiqueta en la imatge generada i veure com el model es va transformant d'una classe a l'altre.</em></p>\n",
    "</div>"
   ]
  },
  {
   "cell_type": "markdown",
   "metadata": {
    "id": "rmZbW0kqEa5p"
   },
   "source": [
    "<div style=\"background-color: #EDF7FF; border-left: 5px solid #7C9DBF; padding: 0.5em;\">\n",
    "  <strong>Pregunta 7.2 [0,25 pts.]:</strong>\n",
    "  Què representa exactament la interpolació entre els vectors one-hot de dues classes diferents? Té sentit que el generador produeixi imatges realistes amb etiquetes “a mig camí” entre dues classes?\n",
    "</div>"
   ]
  },
  {
   "cell_type": "markdown",
   "metadata": {
    "id": "Hwf5ys0qEa5p"
   },
   "source": [
    "<div style=\"background-color: #fcf2f2; border-left: 5px solid #dfb5b4; padding: 0.5em;\">\n",
    "  <strong>Resposta a la pregunta 7.2:</strong>\n",
    "  <p><em>La interpolació consisteix en fer una combinació pas a pas de la codificació d'una classe cap a l'altre, de manera que cada etiqueta intermitja és un pes que dona més importància a una classe que a l'altre. Encara que no existeixen digitns que siguin \"mig 1, mig 9\", aquesta interpolació ens permet veure com el generador fa un canvi suau, encara que les imatges del mig no siguin clarament cap de les dos.  </em></p>\n",
    "</div>"
   ]
  },
  {
   "cell_type": "code",
   "execution_count": 18,
   "metadata": {
    "execution": {
     "iopub.execute_input": "2025-05-23T08:50:24.141915Z",
     "iopub.status.busy": "2025-05-23T08:50:24.141197Z",
     "iopub.status.idle": "2025-05-23T08:50:25.105281Z",
     "shell.execute_reply": "2025-05-23T08:50:25.104547Z",
     "shell.execute_reply.started": "2025-05-23T08:50:24.141887Z"
    },
    "id": "FRos1JmKEa5p"
   },
   "outputs": [
    {
     "name": "stdout",
     "output_type": "stream",
     "text": [
      "\u001b[1m1/1\u001b[0m \u001b[32m━━━━━━━━━━━━━━━━━━━━\u001b[0m\u001b[37m\u001b[0m \u001b[1m0s\u001b[0m 456ms/step\n"
     ]
    },
    {
     "data": {
      "image/png": "[encoded data removed]",
      "text/plain": [
       "<Figure size 1500x300 with 10 Axes>"
      ]
     },
     "metadata": {},
     "output_type": "display_data"
    }
   ],
   "source": [
    "import matplotlib.pyplot as plt\n",
    "\n",
    "# Generar soroll aleatori per a cada classe\n",
    "num_samples = 10  # Per exemple, una imatge per a cada classe del 0 al 9\n",
    "random_latent_vectors = keras.random.normal(shape=(num_samples, latent_dim))\n",
    "\n",
    "# Crear etiquetes one-hot per a les classes del 0 al 9\n",
    "one_hot_labels = keras.utils.to_categorical(np.arange(num_samples), num_classes)\n",
    "\n",
    "# Concatenar soroll + etiquetes i generar imatges\n",
    "noise_and_labels = ops.concatenate([random_latent_vectors, one_hot_labels], axis=1)\n",
    "generated_images = trained_gen.predict(noise_and_labels)\n",
    "\n",
    "# Escalar les imatges al rang [0, 255] per a la visualització\n",
    "generated_images *= 255.0\n",
    "generated_images = generated_images.astype(np.uint8)\n",
    "\n",
    "# Redimensionar a 144x144 si es vol visualització gran\n",
    "generated_images_resized = ops.image.resize(generated_images, (144, 144)).numpy().astype(np.uint8)\n",
    "\n",
    "# Mostrar les imatges en una sola fila\n",
    "plt.figure(figsize=(15, 3))\n",
    "for i in range(num_samples):\n",
    "    plt.subplot(1, num_samples, i + 1)\n",
    "    plt.imshow(generated_images_resized[i, :, :, 0], cmap=\"gray\")\n",
    "    plt.axis(\"off\")\n",
    "    plt.title(f\"Clase {i}\")\n",
    "plt.tight_layout()\n",
    "plt.show()\n"
   ]
  },
  {
   "cell_type": "markdown",
   "metadata": {
    "id": "-jR70OOkEa5p"
   },
   "source": [
    "<div style=\"background-color: #EDF7FF; border-left: 5px solid #7C9DBF; padding: 0.5em;\">\n",
    "  <strong>Pregunta 7.3 [0,25 pts.]:</strong>\n",
    "  Al bloc de codi anterior es generen imatges per a cada classe del 0 al 9. Si observes que algunes imatges no semblen correspondre bé amb la seva classe, quines possibles causes podries identificar relacionades amb l'entrenament?\n",
    "</div>"
   ]
  },
  {
   "cell_type": "markdown",
   "metadata": {
    "id": "Rl82BrChEa5p"
   },
   "source": [
    "<div style=\"background-color: #fcf2f2; border-left: 5px solid #dfb5b4; padding: 0.5em;\">\n",
    "  <strong>Resposta a la pregunta 7.3:</strong>\n",
    "  <p><em>Totes semblen prou correctes menys la Classe 2. Això pot ser degut a:\n",
    "      <ul>\n",
    "          <li>Desequilibri de models: Si el discriminador aprèn massa ràpid o el generador es veu superat, aquest no rebrà senyals de gradient útils i produirà imatges borroses.</li>\n",
    "          <li>Taxa d'aprenentatge inapropiada: un lr massa alt, fa que el generador \"salti\" i no refini prou bé cada classe. Massa baix el pot deixar estancat.</li>\n",
    "          <li>Capacitat insuficient: Si el model generador no te prous filtres o capes, pot ser que no sigui capa´de captar totes les característiques de cada dígit.</li>\n",
    "          <li>Entrenament insuficient: Pot ser que no hagin estat suficients èpoques perquè el generador aprengui a generar formes nítides per a totes les classes</li>\n",
    "      </ul>\n",
    "  </em></p>\n",
    "</div>"
   ]
  },
  {
   "cell_type": "markdown",
   "metadata": {
    "id": "14Sf0x21Ea5p"
   },
   "source": [
    "<div style=\"background-color: #EDF7FF; border-left: 5px solid #7C9DBF; padding: 0.5em;\">\n",
    "  <strong>Pregunta 7.4 [0,25 pts.]:</strong>\n",
    "  Quins avantatges té visualitzar la interpolació entre classes mitjançant un GIF animat pel que fa a mostrar directament les imatges en una quadrícula estàtica?\n",
    "</div>"
   ]
  },
  {
   "cell_type": "markdown",
   "metadata": {
    "id": "QQSKFOexEa5p"
   },
   "source": [
    "<div style=\"background-color: #fcf2f2; border-left: 5px solid #dfb5b4; padding: 0.5em;\">\n",
    "  <strong>Resposta a la pregunta 7.4:</strong>\n",
    "  <p><em>Ens ofereix continuïtat visual, que permet veure el canvi suau i progressiu de forma clara. També ens permet veure amb més facilitat en quin moment poden apareixer certes característiques típiques d'un dígit (per exemple la corba del 8). A més també hi ha un factor estètic, ja que crida més l'atenció i resulta més intuïtiu veure com l'espai evoluciona entre classes.</em></p>\n",
    "</div>"
   ]
  },
  {
   "cell_type": "markdown",
   "metadata": {
    "id": "VqGNivXbEa5p"
   },
   "source": [
    "#         layers.Conv2DTranspose(128, kernel_size=(3, 3), strides=2, padding=\"same\"),\n",
    "        layers.BatchNormalization(),\n",
    "        layers.LeakyReLU(alpha=0.2)        layers.LeakyReLU(alpha=0.2),images = np.expand_dims(images, axis=-1)images = images.astype(np.float32) / 255.0Guardar treball en format HTML en Kaggle"
   ]
  },
  {
   "cell_type": "code",
   "execution_count": 19,
   "metadata": {
    "execution": {
     "iopub.execute_input": "2025-05-23T08:59:04.333715Z",
     "iopub.status.busy": "2025-05-23T08:59:04.333200Z",
     "iopub.status.idle": "2025-05-23T08:59:07.376255Z",
     "shell.execute_reply": "2025-05-23T08:59:07.375493Z",
     "shell.execute_reply.started": "2025-05-23T08:59:04.333693Z"
    },
    "id": "fXC8NoCEYS61"
   },
   "outputs": [
    {
     "name": "stdout",
     "output_type": "stream",
     "text": [
      "[NbConvertApp] Converting notebook PAC4_Bracons_Cuco_Marc.ipynb to html\n",
      "[NbConvertApp] Writing 905263 bytes to PAC4_Bracons_Cuco_Marc.html\n"
     ]
    }
   ],
   "source": [
    "import kaggle_session\n",
    "\n",
    "client = kaggle_session.UserSessionClient()\n",
    "notebook = client.get_exportable_ipynb()['source']\n",
    "\n",
    "with open(\"/kaggle/working/PAC4_Bracons_Cuco_Marc.ipynb\", \"w\") as f:\n",
    "    f.write(notebook)\n",
    "\n",
    "!jupyter nbconvert --to html --template lab PAC4_Bracons_Cuco_Marc.ipynb"
   ]
  }
 ],
 "metadata": {
  "accelerator": "GPU",
  "colab": {
   "provenance": []
  },
  "kaggle": {
   "accelerator": "gpu",
   "dataSources": [],
   "dockerImageVersionId": 31041,
   "isGpuEnabled": true,
   "isInternetEnabled": true,
   "language": "python",
   "sourceType": "notebook"
  },
  "kernelspec": {
   "display_name": "Python 3 (ipykernel)",
   "language": "python",
   "name": "python3"
  },
  "language_info": {
   "codemirror_mode": {
    "name": "ipython",
    "version": 3
   },
   "file_extension": ".py",
   "mimetype": "text/x-python",
   "name": "python",
   "nbconvert_exporter": "python",
   "pygments_lexer": "ipython3",
   "version": "3.10.9"
  }
 },
 "nbformat": 4,
 "nbformat_minor": 4
}
